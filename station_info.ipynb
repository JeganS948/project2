{
 "cells": [
  {
   "cell_type": "code",
   "execution_count": 1,
   "metadata": {},
   "outputs": [],
   "source": [
    "# import dependencies\n",
    "import requests\n",
    "import json\n",
    "import pandas as pd\n",
    "from sqlalchemy import create_engine\n",
    "from config import conn_string"
   ]
  },
  {
   "cell_type": "code",
   "execution_count": 2,
   "metadata": {},
   "outputs": [],
   "source": [
    "# URL for Get requets to retireve stations data \n",
    "# toronto url = \"https://toronto-us.publicbikesystem.net/ube/gbfs/v1/en/station_information\"\n",
    "# vancouver url = \"https://vancouver-gbfs.smoove.pro/gbfs/en/station_information.json\"\n",
    "# newyork url = \"https://gbfs.citibikenyc.com/gbfs/en/station_information.json\"\n",
    "# boston url = \"https://gbfs.bluebikes.com/gbfs/en/station_information.json\"\n",
    "urls = [\"https://toronto-us.publicbikesystem.net/ube/gbfs/v1/en/station_information\",\n",
    "        \"https://vancouver-gbfs.smoove.pro/gbfs/en/station_information.json\",\n",
    "        \"https://gbfs.bluebikes.com/gbfs/en/station_information.json\",\n",
    "        \"https://gbfs.citibikenyc.com/gbfs/en/station_information.json\"\n",
    "       ]"
   ]
  },
  {
   "cell_type": "code",
   "execution_count": 3,
   "metadata": {},
   "outputs": [
    {
     "name": "stdout",
     "output_type": "stream",
     "text": [
      "<Response [200]>\n",
      "<Response [200]>\n",
      "<Response [200]>\n",
      "<Response [200]>\n"
     ]
    }
   ],
   "source": [
    "# print the response object to the console\n",
    "for url in urls:\n",
    "    print(requests.get(url))"
   ]
  },
  {
   "cell_type": "code",
   "execution_count": 4,
   "metadata": {},
   "outputs": [],
   "source": [
    "# create a list of stations\n",
    "city_stations = []\n",
    "for url in urls:\n",
    "    x = requests.get(url).json()\n",
    "#     print(json.dumps(x, indent=4, sort_keys=True))\n",
    "    city_stations.append(x[\"data\"][\"stations\"])"
   ]
  },
  {
   "cell_type": "code",
   "execution_count": 5,
   "metadata": {},
   "outputs": [],
   "source": [
    "# Lists to hold response data \n",
    "station_id = []\n",
    "name = []\n",
    "lat = []\n",
    "lon = []\n",
    "location_id = []\n",
    "loc = 0\n",
    "\n",
    "for i in range(len(city_stations)):\n",
    "    station = city_stations[i]\n",
    "    loc += 1\n",
    "    \n",
    "    for j in station:        \n",
    "        station_id.append(j[\"station_id\"])\n",
    "        name.append(j[\"name\"])\n",
    "        lat.append(j[\"lat\"])\n",
    "        lon.append(j[\"lon\"])\n",
    "        location_id.append(loc)"
   ]
  },
  {
   "cell_type": "code",
   "execution_count": 6,
   "metadata": {},
   "outputs": [
    {
     "data": {
      "text/html": [
       "<div>\n",
       "<style scoped>\n",
       "    .dataframe tbody tr th:only-of-type {\n",
       "        vertical-align: middle;\n",
       "    }\n",
       "\n",
       "    .dataframe tbody tr th {\n",
       "        vertical-align: top;\n",
       "    }\n",
       "\n",
       "    .dataframe thead th {\n",
       "        text-align: right;\n",
       "    }\n",
       "</style>\n",
       "<table border=\"1\" class=\"dataframe\">\n",
       "  <thead>\n",
       "    <tr style=\"text-align: right;\">\n",
       "      <th></th>\n",
       "      <th>station_id</th>\n",
       "      <th>station_name</th>\n",
       "      <th>latitude</th>\n",
       "      <th>longitude</th>\n",
       "      <th>location_id</th>\n",
       "    </tr>\n",
       "  </thead>\n",
       "  <tbody>\n",
       "    <tr>\n",
       "      <th>0</th>\n",
       "      <td>7000</td>\n",
       "      <td>Fort York  Blvd / Capreol Ct</td>\n",
       "      <td>43.639832</td>\n",
       "      <td>-79.395954</td>\n",
       "      <td>1</td>\n",
       "    </tr>\n",
       "    <tr>\n",
       "      <th>1</th>\n",
       "      <td>7001</td>\n",
       "      <td>Lower Jarvis St / The Esplanade</td>\n",
       "      <td>43.647830</td>\n",
       "      <td>-79.370698</td>\n",
       "      <td>1</td>\n",
       "    </tr>\n",
       "    <tr>\n",
       "      <th>2</th>\n",
       "      <td>7002</td>\n",
       "      <td>St. George St / Bloor St W</td>\n",
       "      <td>43.667333</td>\n",
       "      <td>-79.399429</td>\n",
       "      <td>1</td>\n",
       "    </tr>\n",
       "    <tr>\n",
       "      <th>3</th>\n",
       "      <td>7003</td>\n",
       "      <td>Madison Ave / Bloor St W</td>\n",
       "      <td>43.667158</td>\n",
       "      <td>-79.402761</td>\n",
       "      <td>1</td>\n",
       "    </tr>\n",
       "    <tr>\n",
       "      <th>4</th>\n",
       "      <td>7004</td>\n",
       "      <td>University Ave / Elm St</td>\n",
       "      <td>43.656518</td>\n",
       "      <td>-79.389099</td>\n",
       "      <td>1</td>\n",
       "    </tr>\n",
       "    <tr>\n",
       "      <th>...</th>\n",
       "      <td>...</td>\n",
       "      <td>...</td>\n",
       "      <td>...</td>\n",
       "      <td>...</td>\n",
       "      <td>...</td>\n",
       "    </tr>\n",
       "    <tr>\n",
       "      <th>2398</th>\n",
       "      <td>4248</td>\n",
       "      <td>Old Slip &amp; South St</td>\n",
       "      <td>40.703367</td>\n",
       "      <td>-74.007868</td>\n",
       "      <td>4</td>\n",
       "    </tr>\n",
       "    <tr>\n",
       "      <th>2399</th>\n",
       "      <td>4249</td>\n",
       "      <td>E 170 St &amp; Webster Ave</td>\n",
       "      <td>40.836179</td>\n",
       "      <td>-73.907301</td>\n",
       "      <td>4</td>\n",
       "    </tr>\n",
       "    <tr>\n",
       "      <th>2400</th>\n",
       "      <td>4250</td>\n",
       "      <td>Seneca Ave &amp; Irvine St</td>\n",
       "      <td>40.818726</td>\n",
       "      <td>-73.888625</td>\n",
       "      <td>4</td>\n",
       "    </tr>\n",
       "    <tr>\n",
       "      <th>2401</th>\n",
       "      <td>4252</td>\n",
       "      <td>Home St &amp; Westchester Ave</td>\n",
       "      <td>40.827629</td>\n",
       "      <td>-73.886659</td>\n",
       "      <td>4</td>\n",
       "    </tr>\n",
       "    <tr>\n",
       "      <th>2402</th>\n",
       "      <td>4253</td>\n",
       "      <td>Rogers Pl &amp; E 165 St</td>\n",
       "      <td>40.823926</td>\n",
       "      <td>-73.897366</td>\n",
       "      <td>4</td>\n",
       "    </tr>\n",
       "  </tbody>\n",
       "</table>\n",
       "<p>2403 rows × 5 columns</p>\n",
       "</div>"
      ],
      "text/plain": [
       "     station_id                     station_name   latitude  longitude  \\\n",
       "0          7000     Fort York  Blvd / Capreol Ct  43.639832 -79.395954   \n",
       "1          7001  Lower Jarvis St / The Esplanade  43.647830 -79.370698   \n",
       "2          7002       St. George St / Bloor St W  43.667333 -79.399429   \n",
       "3          7003         Madison Ave / Bloor St W  43.667158 -79.402761   \n",
       "4          7004          University Ave / Elm St  43.656518 -79.389099   \n",
       "...         ...                              ...        ...        ...   \n",
       "2398       4248              Old Slip & South St  40.703367 -74.007868   \n",
       "2399       4249           E 170 St & Webster Ave  40.836179 -73.907301   \n",
       "2400       4250           Seneca Ave & Irvine St  40.818726 -73.888625   \n",
       "2401       4252        Home St & Westchester Ave  40.827629 -73.886659   \n",
       "2402       4253             Rogers Pl & E 165 St  40.823926 -73.897366   \n",
       "\n",
       "      location_id  \n",
       "0               1  \n",
       "1               1  \n",
       "2               1  \n",
       "3               1  \n",
       "4               1  \n",
       "...           ...  \n",
       "2398            4  \n",
       "2399            4  \n",
       "2400            4  \n",
       "2401            4  \n",
       "2402            4  \n",
       "\n",
       "[2403 rows x 5 columns]"
      ]
     },
     "execution_count": 6,
     "metadata": {},
     "output_type": "execute_result"
    }
   ],
   "source": [
    "# build a dataframe\n",
    "station_info = pd.DataFrame({\n",
    "    \"station_id\": station_id,\n",
    "    \"station_name\": name,\n",
    "    \"latitude\": lat,\n",
    "    \"longitude\": lon,\n",
    "    \"location_id\": location_id})\n",
    "station_info"
   ]
  },
  {
   "cell_type": "code",
   "execution_count": 7,
   "metadata": {},
   "outputs": [
    {
     "data": {
      "text/plain": [
       "station_id     2249\n",
       "location_id       4\n",
       "dtype: int64"
      ]
     },
     "execution_count": 7,
     "metadata": {},
     "output_type": "execute_result"
    }
   ],
   "source": [
    "station_info[['station_id','location_id']].nunique()"
   ]
  },
  {
   "cell_type": "code",
   "execution_count": 8,
   "metadata": {},
   "outputs": [],
   "source": [
    "tor = station_info.loc[station_info['location_id'] == 1]"
   ]
  },
  {
   "cell_type": "code",
   "execution_count": 9,
   "metadata": {},
   "outputs": [
    {
     "data": {
      "text/plain": [
       "607"
      ]
     },
     "execution_count": 9,
     "metadata": {},
     "output_type": "execute_result"
    }
   ],
   "source": [
    "tor['station_id'].nunique()"
   ]
  },
  {
   "cell_type": "code",
   "execution_count": 10,
   "metadata": {},
   "outputs": [],
   "source": [
    "van = station_info.loc[station_info['location_id'] == 2]"
   ]
  },
  {
   "cell_type": "code",
   "execution_count": 11,
   "metadata": {},
   "outputs": [
    {
     "data": {
      "text/plain": [
       "202"
      ]
     },
     "execution_count": 11,
     "metadata": {},
     "output_type": "execute_result"
    }
   ],
   "source": [
    "van['station_id'].nunique()"
   ]
  },
  {
   "cell_type": "code",
   "execution_count": 12,
   "metadata": {},
   "outputs": [],
   "source": [
    "bos = station_info.loc[station_info['location_id'] == 3]"
   ]
  },
  {
   "cell_type": "code",
   "execution_count": 13,
   "metadata": {},
   "outputs": [
    {
     "data": {
      "text/plain": [
       "378"
      ]
     },
     "execution_count": 13,
     "metadata": {},
     "output_type": "execute_result"
    }
   ],
   "source": [
    "bos['station_id'].nunique()"
   ]
  },
  {
   "cell_type": "code",
   "execution_count": 14,
   "metadata": {},
   "outputs": [],
   "source": [
    "nyc = station_info.loc[station_info['location_id'] == 4]"
   ]
  },
  {
   "cell_type": "code",
   "execution_count": 15,
   "metadata": {},
   "outputs": [
    {
     "data": {
      "text/plain": [
       "1216"
      ]
     },
     "execution_count": 15,
     "metadata": {},
     "output_type": "execute_result"
    }
   ],
   "source": [
    "nyc['station_id'].nunique()"
   ]
  },
  {
   "cell_type": "code",
   "execution_count": 16,
   "metadata": {},
   "outputs": [],
   "source": [
    "station_info.to_csv('station_info.csv', index=False)"
   ]
  },
  {
   "cell_type": "code",
   "execution_count": 30,
   "metadata": {},
   "outputs": [],
   "source": [
    "# connect to database\n",
    "cnx = f'postgresql://{conn_string}'\n",
    "engine = create_engine(cnx)"
   ]
  },
  {
   "cell_type": "code",
   "execution_count": 31,
   "metadata": {},
   "outputs": [
    {
     "data": {
      "text/plain": [
       "['locations', 'membertypes', 'pricing', 'stations', 'bikes', 'ridership']"
      ]
     },
     "execution_count": 31,
     "metadata": {},
     "output_type": "execute_result"
    }
   ],
   "source": [
    "# confirm tables\n",
    "engine.table_names()"
   ]
  },
  {
   "cell_type": "code",
   "execution_count": 33,
   "metadata": {},
   "outputs": [],
   "source": [
    "# load bikes info to Bikes table\n",
    "# load dataframe into database\n",
    "station_info.to_sql(name='stations', con=engine, if_exists='append', index=False)"
   ]
  },
  {
   "cell_type": "code",
   "execution_count": null,
   "metadata": {},
   "outputs": [],
   "source": []
  }
 ],
 "metadata": {
  "kernelspec": {
   "display_name": "Python 3",
   "language": "python",
   "name": "python3"
  },
  "language_info": {
   "codemirror_mode": {
    "name": "ipython",
    "version": 3
   },
   "file_extension": ".py",
   "mimetype": "text/x-python",
   "name": "python",
   "nbconvert_exporter": "python",
   "pygments_lexer": "ipython3",
   "version": "3.8.3"
  }
 },
 "nbformat": 4,
 "nbformat_minor": 4
}
