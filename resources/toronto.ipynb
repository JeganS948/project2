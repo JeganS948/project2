{
 "cells": [
  {
   "cell_type": "markdown",
   "metadata": {},
   "source": [
    "Import dependencies"
   ]
  },
  {
   "cell_type": "code",
   "execution_count": 3,
   "metadata": {
    "scrolled": true
   },
   "outputs": [],
   "source": [
    "import os\n",
    "import pandas as pd\n",
    "import numpy as np"
   ]
  },
  {
   "cell_type": "markdown",
   "metadata": {},
   "source": [
    "Study data files: Toronto files:"
   ]
  },
  {
   "cell_type": "code",
   "execution_count": 4,
   "metadata": {
    "scrolled": true
   },
   "outputs": [],
   "source": [
    "toronto_Q1_path = os.path.join(\"../resources/1_toronto_canada\",\"2019-Q1.csv\")\n",
    "toronto_Q2_path = os.path.join(\"../resources/1_toronto_canada\", \"2019-Q2.csv\")\n",
    "toronto_Q3_path = os.path.join(\"../resources/1_toronto_canada\", \"2019-Q3.csv\")\n",
    "toronto_Q4_path = os.path.join(\"../resources/1_toronto_canada\", \"2019-Q4.csv\")"
   ]
  },
  {
   "cell_type": "markdown",
   "metadata": {},
   "source": [
    "Read the data and study the results:"
   ]
  },
  {
   "cell_type": "code",
   "execution_count": 5,
   "metadata": {
    "scrolled": true
   },
   "outputs": [],
   "source": [
    "q1 = pd.read_csv(toronto_Q1_path, encoding=\"utf=8\")\n",
    "q2 = pd.read_csv(toronto_Q2_path, encoding=\"utf=8\")\n",
    "q3 = pd.read_csv(toronto_Q3_path, encoding=\"utf=8\")\n",
    "q4 = pd.read_csv(toronto_Q4_path, encoding=\"utf=8\")"
   ]
  },
  {
   "cell_type": "markdown",
   "metadata": {},
   "source": [
    "Renaming the columns:"
   ]
  },
  {
   "cell_type": "code",
   "execution_count": 6,
   "metadata": {
    "scrolled": true
   },
   "outputs": [],
   "source": [
    "q1 = q1.rename(columns={\"Trip  Duration\": \"Trip Duration\"})\n",
    "q2 = q2.rename(columns={\"Trip  Duration\": \"Trip Duration\"})\n",
    "q3 = q3.rename(columns={\"Trip  Duration\": \"Trip Duration\"})\n",
    "q4 = q4.rename(columns={\"Trip  Duration\": \"Trip Duration\"})"
   ]
  },
  {
   "cell_type": "markdown",
   "metadata": {},
   "source": [
    "Creating DataFrame:"
   ]
  },
  {
   "cell_type": "code",
   "execution_count": 7,
   "metadata": {
    "scrolled": true
   },
   "outputs": [
    {
     "data": {
      "text/html": [
       "<div>\n",
       "<style scoped>\n",
       "    .dataframe tbody tr th:only-of-type {\n",
       "        vertical-align: middle;\n",
       "    }\n",
       "\n",
       "    .dataframe tbody tr th {\n",
       "        vertical-align: top;\n",
       "    }\n",
       "\n",
       "    .dataframe thead th {\n",
       "        text-align: right;\n",
       "    }\n",
       "</style>\n",
       "<table border=\"1\" class=\"dataframe\">\n",
       "  <thead>\n",
       "    <tr style=\"text-align: right;\">\n",
       "      <th></th>\n",
       "      <th>Trip Id</th>\n",
       "      <th>Subscription Id</th>\n",
       "      <th>Trip Duration</th>\n",
       "      <th>Start Station Id</th>\n",
       "      <th>Start Time</th>\n",
       "      <th>Start Station Name</th>\n",
       "      <th>End Station Id</th>\n",
       "      <th>End Time</th>\n",
       "      <th>End Station Name</th>\n",
       "      <th>Bike Id</th>\n",
       "      <th>User Type</th>\n",
       "    </tr>\n",
       "  </thead>\n",
       "  <tbody>\n",
       "    <tr>\n",
       "      <th>0</th>\n",
       "      <td>4581278</td>\n",
       "      <td>199751</td>\n",
       "      <td>1547</td>\n",
       "      <td>7021</td>\n",
       "      <td>01/01/2019 00:08</td>\n",
       "      <td>Bay St / Albert St</td>\n",
       "      <td>7233.0</td>\n",
       "      <td>01/01/2019 00:33</td>\n",
       "      <td>King / Cowan Ave - SMART</td>\n",
       "      <td>1296</td>\n",
       "      <td>Annual Member</td>\n",
       "    </tr>\n",
       "    <tr>\n",
       "      <th>1</th>\n",
       "      <td>4581279</td>\n",
       "      <td>294730</td>\n",
       "      <td>1112</td>\n",
       "      <td>7160</td>\n",
       "      <td>01/01/2019 00:10</td>\n",
       "      <td>King St W / Tecumseth St</td>\n",
       "      <td>7051.0</td>\n",
       "      <td>01/01/2019 00:29</td>\n",
       "      <td>Wellesley St E / Yonge St (Green P)</td>\n",
       "      <td>2947</td>\n",
       "      <td>Annual Member</td>\n",
       "    </tr>\n",
       "    <tr>\n",
       "      <th>2</th>\n",
       "      <td>4581280</td>\n",
       "      <td>197252</td>\n",
       "      <td>589</td>\n",
       "      <td>7055</td>\n",
       "      <td>01/01/2019 00:15</td>\n",
       "      <td>Jarvis St / Carlton St</td>\n",
       "      <td>7013.0</td>\n",
       "      <td>01/01/2019 00:25</td>\n",
       "      <td>Scott St / The Esplanade</td>\n",
       "      <td>2293</td>\n",
       "      <td>Annual Member</td>\n",
       "    </tr>\n",
       "    <tr>\n",
       "      <th>3</th>\n",
       "      <td>4581281</td>\n",
       "      <td>171700</td>\n",
       "      <td>259</td>\n",
       "      <td>7012</td>\n",
       "      <td>01/01/2019 00:16</td>\n",
       "      <td>Elizabeth St / Edward St (Bus Terminal)</td>\n",
       "      <td>7235.0</td>\n",
       "      <td>01/01/2019 00:20</td>\n",
       "      <td>Bay St / College St (West Side) - SMART</td>\n",
       "      <td>283</td>\n",
       "      <td>Annual Member</td>\n",
       "    </tr>\n",
       "    <tr>\n",
       "      <th>4</th>\n",
       "      <td>4581282</td>\n",
       "      <td>306314</td>\n",
       "      <td>281</td>\n",
       "      <td>7041</td>\n",
       "      <td>01/01/2019 00:19</td>\n",
       "      <td>Edward St / Yonge St</td>\n",
       "      <td>7257.0</td>\n",
       "      <td>01/01/2019 00:24</td>\n",
       "      <td>Dundas St W / St. Patrick St</td>\n",
       "      <td>1799</td>\n",
       "      <td>Annual Member</td>\n",
       "    </tr>\n",
       "  </tbody>\n",
       "</table>\n",
       "</div>"
      ],
      "text/plain": [
       "   Trip Id  Subscription Id  Trip Duration  Start Station Id  \\\n",
       "0  4581278           199751           1547              7021   \n",
       "1  4581279           294730           1112              7160   \n",
       "2  4581280           197252            589              7055   \n",
       "3  4581281           171700            259              7012   \n",
       "4  4581282           306314            281              7041   \n",
       "\n",
       "         Start Time                       Start Station Name  End Station Id  \\\n",
       "0  01/01/2019 00:08                       Bay St / Albert St          7233.0   \n",
       "1  01/01/2019 00:10                 King St W / Tecumseth St          7051.0   \n",
       "2  01/01/2019 00:15                   Jarvis St / Carlton St          7013.0   \n",
       "3  01/01/2019 00:16  Elizabeth St / Edward St (Bus Terminal)          7235.0   \n",
       "4  01/01/2019 00:19                     Edward St / Yonge St          7257.0   \n",
       "\n",
       "           End Time                         End Station Name  Bike Id  \\\n",
       "0  01/01/2019 00:33                 King / Cowan Ave - SMART     1296   \n",
       "1  01/01/2019 00:29      Wellesley St E / Yonge St (Green P)     2947   \n",
       "2  01/01/2019 00:25                 Scott St / The Esplanade     2293   \n",
       "3  01/01/2019 00:20  Bay St / College St (West Side) - SMART      283   \n",
       "4  01/01/2019 00:24             Dundas St W / St. Patrick St     1799   \n",
       "\n",
       "       User Type  \n",
       "0  Annual Member  \n",
       "1  Annual Member  \n",
       "2  Annual Member  \n",
       "3  Annual Member  \n",
       "4  Annual Member  "
      ]
     },
     "execution_count": 7,
     "metadata": {},
     "output_type": "execute_result"
    }
   ],
   "source": [
    "Toronto = [q1, q2, q3, q4]\n",
    "bike_share = pd.concat(Toronto)\n",
    "bike_share.head()"
   ]
  },
  {
   "cell_type": "markdown",
   "metadata": {},
   "source": [
    "Deleting column \"Trip Duration,Subscription Id,Start Station Name, End Station Name\""
   ]
  },
  {
   "cell_type": "code",
   "execution_count": 8,
   "metadata": {
    "scrolled": true
   },
   "outputs": [
    {
     "data": {
      "text/html": [
       "<div>\n",
       "<style scoped>\n",
       "    .dataframe tbody tr th:only-of-type {\n",
       "        vertical-align: middle;\n",
       "    }\n",
       "\n",
       "    .dataframe tbody tr th {\n",
       "        vertical-align: top;\n",
       "    }\n",
       "\n",
       "    .dataframe thead th {\n",
       "        text-align: right;\n",
       "    }\n",
       "</style>\n",
       "<table border=\"1\" class=\"dataframe\">\n",
       "  <thead>\n",
       "    <tr style=\"text-align: right;\">\n",
       "      <th></th>\n",
       "      <th>Trip Duration</th>\n",
       "      <th>Start Station Id</th>\n",
       "      <th>Start Time</th>\n",
       "      <th>End Station Id</th>\n",
       "      <th>End Time</th>\n",
       "      <th>Bike Id</th>\n",
       "      <th>User Type</th>\n",
       "    </tr>\n",
       "  </thead>\n",
       "  <tbody>\n",
       "    <tr>\n",
       "      <th>0</th>\n",
       "      <td>1547</td>\n",
       "      <td>7021</td>\n",
       "      <td>01/01/2019 00:08</td>\n",
       "      <td>7233.0</td>\n",
       "      <td>01/01/2019 00:33</td>\n",
       "      <td>1296</td>\n",
       "      <td>Annual Member</td>\n",
       "    </tr>\n",
       "    <tr>\n",
       "      <th>1</th>\n",
       "      <td>1112</td>\n",
       "      <td>7160</td>\n",
       "      <td>01/01/2019 00:10</td>\n",
       "      <td>7051.0</td>\n",
       "      <td>01/01/2019 00:29</td>\n",
       "      <td>2947</td>\n",
       "      <td>Annual Member</td>\n",
       "    </tr>\n",
       "    <tr>\n",
       "      <th>2</th>\n",
       "      <td>589</td>\n",
       "      <td>7055</td>\n",
       "      <td>01/01/2019 00:15</td>\n",
       "      <td>7013.0</td>\n",
       "      <td>01/01/2019 00:25</td>\n",
       "      <td>2293</td>\n",
       "      <td>Annual Member</td>\n",
       "    </tr>\n",
       "    <tr>\n",
       "      <th>3</th>\n",
       "      <td>259</td>\n",
       "      <td>7012</td>\n",
       "      <td>01/01/2019 00:16</td>\n",
       "      <td>7235.0</td>\n",
       "      <td>01/01/2019 00:20</td>\n",
       "      <td>283</td>\n",
       "      <td>Annual Member</td>\n",
       "    </tr>\n",
       "    <tr>\n",
       "      <th>4</th>\n",
       "      <td>281</td>\n",
       "      <td>7041</td>\n",
       "      <td>01/01/2019 00:19</td>\n",
       "      <td>7257.0</td>\n",
       "      <td>01/01/2019 00:24</td>\n",
       "      <td>1799</td>\n",
       "      <td>Annual Member</td>\n",
       "    </tr>\n",
       "  </tbody>\n",
       "</table>\n",
       "</div>"
      ],
      "text/plain": [
       "   Trip Duration  Start Station Id        Start Time  End Station Id  \\\n",
       "0           1547              7021  01/01/2019 00:08          7233.0   \n",
       "1           1112              7160  01/01/2019 00:10          7051.0   \n",
       "2            589              7055  01/01/2019 00:15          7013.0   \n",
       "3            259              7012  01/01/2019 00:16          7235.0   \n",
       "4            281              7041  01/01/2019 00:19          7257.0   \n",
       "\n",
       "           End Time  Bike Id      User Type  \n",
       "0  01/01/2019 00:33     1296  Annual Member  \n",
       "1  01/01/2019 00:29     2947  Annual Member  \n",
       "2  01/01/2019 00:25     2293  Annual Member  \n",
       "3  01/01/2019 00:20      283  Annual Member  \n",
       "4  01/01/2019 00:24     1799  Annual Member  "
      ]
     },
     "execution_count": 8,
     "metadata": {},
     "output_type": "execute_result"
    }
   ],
   "source": [
    "del bike_share['Trip Id']\n",
    "del bike_share['Subscription Id']\n",
    "del bike_share['Start Station Name']\n",
    "del bike_share['End Station Name']\n",
    "bike_share.head()"
   ]
  },
  {
   "cell_type": "markdown",
   "metadata": {},
   "source": [
    "Renaming columns in the created dataframe"
   ]
  },
  {
   "cell_type": "code",
   "execution_count": 9,
   "metadata": {
    "scrolled": true
   },
   "outputs": [
    {
     "data": {
      "text/html": [
       "<div>\n",
       "<style scoped>\n",
       "    .dataframe tbody tr th:only-of-type {\n",
       "        vertical-align: middle;\n",
       "    }\n",
       "\n",
       "    .dataframe tbody tr th {\n",
       "        vertical-align: top;\n",
       "    }\n",
       "\n",
       "    .dataframe thead th {\n",
       "        text-align: right;\n",
       "    }\n",
       "</style>\n",
       "<table border=\"1\" class=\"dataframe\">\n",
       "  <thead>\n",
       "    <tr style=\"text-align: right;\">\n",
       "      <th></th>\n",
       "      <th>tripDuration</th>\n",
       "      <th>start_station_id</th>\n",
       "      <th>start_date</th>\n",
       "      <th>end_station_id</th>\n",
       "      <th>end_date</th>\n",
       "      <th>bikeID</th>\n",
       "      <th>memberType</th>\n",
       "    </tr>\n",
       "  </thead>\n",
       "  <tbody>\n",
       "    <tr>\n",
       "      <th>0</th>\n",
       "      <td>1547</td>\n",
       "      <td>7021</td>\n",
       "      <td>01/01/2019 00:08</td>\n",
       "      <td>7233.0</td>\n",
       "      <td>01/01/2019 00:33</td>\n",
       "      <td>1296</td>\n",
       "      <td>Annual Member</td>\n",
       "    </tr>\n",
       "    <tr>\n",
       "      <th>1</th>\n",
       "      <td>1112</td>\n",
       "      <td>7160</td>\n",
       "      <td>01/01/2019 00:10</td>\n",
       "      <td>7051.0</td>\n",
       "      <td>01/01/2019 00:29</td>\n",
       "      <td>2947</td>\n",
       "      <td>Annual Member</td>\n",
       "    </tr>\n",
       "    <tr>\n",
       "      <th>2</th>\n",
       "      <td>589</td>\n",
       "      <td>7055</td>\n",
       "      <td>01/01/2019 00:15</td>\n",
       "      <td>7013.0</td>\n",
       "      <td>01/01/2019 00:25</td>\n",
       "      <td>2293</td>\n",
       "      <td>Annual Member</td>\n",
       "    </tr>\n",
       "    <tr>\n",
       "      <th>3</th>\n",
       "      <td>259</td>\n",
       "      <td>7012</td>\n",
       "      <td>01/01/2019 00:16</td>\n",
       "      <td>7235.0</td>\n",
       "      <td>01/01/2019 00:20</td>\n",
       "      <td>283</td>\n",
       "      <td>Annual Member</td>\n",
       "    </tr>\n",
       "    <tr>\n",
       "      <th>4</th>\n",
       "      <td>281</td>\n",
       "      <td>7041</td>\n",
       "      <td>01/01/2019 00:19</td>\n",
       "      <td>7257.0</td>\n",
       "      <td>01/01/2019 00:24</td>\n",
       "      <td>1799</td>\n",
       "      <td>Annual Member</td>\n",
       "    </tr>\n",
       "  </tbody>\n",
       "</table>\n",
       "</div>"
      ],
      "text/plain": [
       "   tripDuration  start_station_id        start_date  end_station_id  \\\n",
       "0          1547              7021  01/01/2019 00:08          7233.0   \n",
       "1          1112              7160  01/01/2019 00:10          7051.0   \n",
       "2           589              7055  01/01/2019 00:15          7013.0   \n",
       "3           259              7012  01/01/2019 00:16          7235.0   \n",
       "4           281              7041  01/01/2019 00:19          7257.0   \n",
       "\n",
       "           end_date  bikeID     memberType  \n",
       "0  01/01/2019 00:33    1296  Annual Member  \n",
       "1  01/01/2019 00:29    2947  Annual Member  \n",
       "2  01/01/2019 00:25    2293  Annual Member  \n",
       "3  01/01/2019 00:20     283  Annual Member  \n",
       "4  01/01/2019 00:24    1799  Annual Member  "
      ]
     },
     "execution_count": 9,
     "metadata": {},
     "output_type": "execute_result"
    }
   ],
   "source": [
    "bike_share = bike_share.rename(columns={\"Start Time\": \"start_date\",\n",
    "                                        \"Trip Duration\": \"tripDuration\",\n",
    "                                        \"Start Station Id\":\"start_station_id\",\n",
    "                                        \"End Station Id\":\"end_station_id\",\n",
    "                                        \"Start Time\":\"start_date\",\n",
    "                                        \"End Time\":\"end_date\",\n",
    "                                        \"Bike Id\":\"bikeID\",\n",
    "                                        \"User Type\":\"memberType\"\n",
    "                                       })\n",
    "bike_share.head()"
   ]
  },
  {
   "cell_type": "markdown",
   "metadata": {},
   "source": [
    "Identifying incomplete rows and Drop all rows with missing information"
   ]
  },
  {
   "cell_type": "code",
   "execution_count": 10,
   "metadata": {
    "scrolled": true
   },
   "outputs": [
    {
     "data": {
      "text/plain": [
       "tripDuration        2439517\n",
       "start_station_id    2439517\n",
       "start_date          2439517\n",
       "end_station_id      2439063\n",
       "end_date            2439517\n",
       "bikeID              2439517\n",
       "memberType          2439517\n",
       "dtype: int64"
      ]
     },
     "execution_count": 10,
     "metadata": {},
     "output_type": "execute_result"
    }
   ],
   "source": [
    "bike_share.count()"
   ]
  },
  {
   "cell_type": "code",
   "execution_count": 11,
   "metadata": {
    "scrolled": true
   },
   "outputs": [],
   "source": [
    "bike_share = bike_share.dropna()"
   ]
  },
  {
   "cell_type": "code",
   "execution_count": 12,
   "metadata": {
    "scrolled": true
   },
   "outputs": [
    {
     "data": {
      "text/plain": [
       "tripDuration        2439063\n",
       "start_station_id    2439063\n",
       "start_date          2439063\n",
       "end_station_id      2439063\n",
       "end_date            2439063\n",
       "bikeID              2439063\n",
       "memberType          2439063\n",
       "dtype: int64"
      ]
     },
     "execution_count": 12,
     "metadata": {},
     "output_type": "execute_result"
    }
   ],
   "source": [
    "bike_share.count()"
   ]
  },
  {
   "cell_type": "markdown",
   "metadata": {},
   "source": [
    "Adding new column:location_id"
   ]
  },
  {
   "cell_type": "code",
   "execution_count": 13,
   "metadata": {
    "scrolled": true
   },
   "outputs": [
    {
     "data": {
      "text/html": [
       "<div>\n",
       "<style scoped>\n",
       "    .dataframe tbody tr th:only-of-type {\n",
       "        vertical-align: middle;\n",
       "    }\n",
       "\n",
       "    .dataframe tbody tr th {\n",
       "        vertical-align: top;\n",
       "    }\n",
       "\n",
       "    .dataframe thead th {\n",
       "        text-align: right;\n",
       "    }\n",
       "</style>\n",
       "<table border=\"1\" class=\"dataframe\">\n",
       "  <thead>\n",
       "    <tr style=\"text-align: right;\">\n",
       "      <th></th>\n",
       "      <th>tripDuration</th>\n",
       "      <th>start_station_id</th>\n",
       "      <th>start_date</th>\n",
       "      <th>end_station_id</th>\n",
       "      <th>end_date</th>\n",
       "      <th>bikeID</th>\n",
       "      <th>memberType</th>\n",
       "      <th>location_id</th>\n",
       "    </tr>\n",
       "  </thead>\n",
       "  <tbody>\n",
       "    <tr>\n",
       "      <th>0</th>\n",
       "      <td>1547</td>\n",
       "      <td>7021</td>\n",
       "      <td>01/01/2019 00:08</td>\n",
       "      <td>7233.0</td>\n",
       "      <td>01/01/2019 00:33</td>\n",
       "      <td>1296</td>\n",
       "      <td>Annual Member</td>\n",
       "      <td>1</td>\n",
       "    </tr>\n",
       "    <tr>\n",
       "      <th>1</th>\n",
       "      <td>1112</td>\n",
       "      <td>7160</td>\n",
       "      <td>01/01/2019 00:10</td>\n",
       "      <td>7051.0</td>\n",
       "      <td>01/01/2019 00:29</td>\n",
       "      <td>2947</td>\n",
       "      <td>Annual Member</td>\n",
       "      <td>1</td>\n",
       "    </tr>\n",
       "    <tr>\n",
       "      <th>2</th>\n",
       "      <td>589</td>\n",
       "      <td>7055</td>\n",
       "      <td>01/01/2019 00:15</td>\n",
       "      <td>7013.0</td>\n",
       "      <td>01/01/2019 00:25</td>\n",
       "      <td>2293</td>\n",
       "      <td>Annual Member</td>\n",
       "      <td>1</td>\n",
       "    </tr>\n",
       "    <tr>\n",
       "      <th>3</th>\n",
       "      <td>259</td>\n",
       "      <td>7012</td>\n",
       "      <td>01/01/2019 00:16</td>\n",
       "      <td>7235.0</td>\n",
       "      <td>01/01/2019 00:20</td>\n",
       "      <td>283</td>\n",
       "      <td>Annual Member</td>\n",
       "      <td>1</td>\n",
       "    </tr>\n",
       "    <tr>\n",
       "      <th>4</th>\n",
       "      <td>281</td>\n",
       "      <td>7041</td>\n",
       "      <td>01/01/2019 00:19</td>\n",
       "      <td>7257.0</td>\n",
       "      <td>01/01/2019 00:24</td>\n",
       "      <td>1799</td>\n",
       "      <td>Annual Member</td>\n",
       "      <td>1</td>\n",
       "    </tr>\n",
       "  </tbody>\n",
       "</table>\n",
       "</div>"
      ],
      "text/plain": [
       "   tripDuration  start_station_id        start_date  end_station_id  \\\n",
       "0          1547              7021  01/01/2019 00:08          7233.0   \n",
       "1          1112              7160  01/01/2019 00:10          7051.0   \n",
       "2           589              7055  01/01/2019 00:15          7013.0   \n",
       "3           259              7012  01/01/2019 00:16          7235.0   \n",
       "4           281              7041  01/01/2019 00:19          7257.0   \n",
       "\n",
       "           end_date  bikeID     memberType  location_id  \n",
       "0  01/01/2019 00:33    1296  Annual Member            1  \n",
       "1  01/01/2019 00:29    2947  Annual Member            1  \n",
       "2  01/01/2019 00:25    2293  Annual Member            1  \n",
       "3  01/01/2019 00:20     283  Annual Member            1  \n",
       "4  01/01/2019 00:24    1799  Annual Member            1  "
      ]
     },
     "execution_count": 13,
     "metadata": {},
     "output_type": "execute_result"
    }
   ],
   "source": [
    "bike_share = bike_share.assign(location_id=1)\n",
    "bike_share.head()"
   ]
  },
  {
   "cell_type": "markdown",
   "metadata": {},
   "source": [
    "Rearrange columns"
   ]
  },
  {
   "cell_type": "code",
   "execution_count": 15,
   "metadata": {},
   "outputs": [
    {
     "ename": "KeyError",
     "evalue": "\"['station_station_id'] not in index\"",
     "output_type": "error",
     "traceback": [
      "\u001b[0;31m---------------------------------------------------------------------------\u001b[0m",
      "\u001b[0;31mKeyError\u001b[0m                                  Traceback (most recent call last)",
      "\u001b[0;32m<ipython-input-15-8c94ac2ddbb8>\u001b[0m in \u001b[0;36m<module>\u001b[0;34m\u001b[0m\n\u001b[0;32m----> 1\u001b[0;31m bike_share = bike_share[[\"tripDuration\",\"start_date\",\"end_date\",\n\u001b[0m\u001b[1;32m      2\u001b[0m                          \u001b[0;34m\"station_station_id\"\u001b[0m\u001b[0;34m,\u001b[0m\u001b[0;34m\"end_station_id\"\u001b[0m\u001b[0;34m,\u001b[0m\u001b[0;34m\"bikeID\"\u001b[0m\u001b[0;34m,\u001b[0m\u001b[0;34m\u001b[0m\u001b[0;34m\u001b[0m\u001b[0m\n\u001b[1;32m      3\u001b[0m                          \"memberType\",\"location_id\"]]\n\u001b[1;32m      4\u001b[0m \u001b[0mbike_share\u001b[0m\u001b[0;34m\u001b[0m\u001b[0;34m\u001b[0m\u001b[0m\n",
      "\u001b[0;32m~/opt/anaconda3/lib/python3.8/site-packages/pandas/core/frame.py\u001b[0m in \u001b[0;36m__getitem__\u001b[0;34m(self, key)\u001b[0m\n\u001b[1;32m   2804\u001b[0m             \u001b[0;32mif\u001b[0m \u001b[0mis_iterator\u001b[0m\u001b[0;34m(\u001b[0m\u001b[0mkey\u001b[0m\u001b[0;34m)\u001b[0m\u001b[0;34m:\u001b[0m\u001b[0;34m\u001b[0m\u001b[0;34m\u001b[0m\u001b[0m\n\u001b[1;32m   2805\u001b[0m                 \u001b[0mkey\u001b[0m \u001b[0;34m=\u001b[0m \u001b[0mlist\u001b[0m\u001b[0;34m(\u001b[0m\u001b[0mkey\u001b[0m\u001b[0;34m)\u001b[0m\u001b[0;34m\u001b[0m\u001b[0;34m\u001b[0m\u001b[0m\n\u001b[0;32m-> 2806\u001b[0;31m             \u001b[0mindexer\u001b[0m \u001b[0;34m=\u001b[0m \u001b[0mself\u001b[0m\u001b[0;34m.\u001b[0m\u001b[0mloc\u001b[0m\u001b[0;34m.\u001b[0m\u001b[0m_get_listlike_indexer\u001b[0m\u001b[0;34m(\u001b[0m\u001b[0mkey\u001b[0m\u001b[0;34m,\u001b[0m \u001b[0maxis\u001b[0m\u001b[0;34m=\u001b[0m\u001b[0;36m1\u001b[0m\u001b[0;34m,\u001b[0m \u001b[0mraise_missing\u001b[0m\u001b[0;34m=\u001b[0m\u001b[0;32mTrue\u001b[0m\u001b[0;34m)\u001b[0m\u001b[0;34m[\u001b[0m\u001b[0;36m1\u001b[0m\u001b[0;34m]\u001b[0m\u001b[0;34m\u001b[0m\u001b[0;34m\u001b[0m\u001b[0m\n\u001b[0m\u001b[1;32m   2807\u001b[0m \u001b[0;34m\u001b[0m\u001b[0m\n\u001b[1;32m   2808\u001b[0m         \u001b[0;31m# take() does not accept boolean indexers\u001b[0m\u001b[0;34m\u001b[0m\u001b[0;34m\u001b[0m\u001b[0;34m\u001b[0m\u001b[0m\n",
      "\u001b[0;32m~/opt/anaconda3/lib/python3.8/site-packages/pandas/core/indexing.py\u001b[0m in \u001b[0;36m_get_listlike_indexer\u001b[0;34m(self, key, axis, raise_missing)\u001b[0m\n\u001b[1;32m   1550\u001b[0m             \u001b[0mkeyarr\u001b[0m\u001b[0;34m,\u001b[0m \u001b[0mindexer\u001b[0m\u001b[0;34m,\u001b[0m \u001b[0mnew_indexer\u001b[0m \u001b[0;34m=\u001b[0m \u001b[0max\u001b[0m\u001b[0;34m.\u001b[0m\u001b[0m_reindex_non_unique\u001b[0m\u001b[0;34m(\u001b[0m\u001b[0mkeyarr\u001b[0m\u001b[0;34m)\u001b[0m\u001b[0;34m\u001b[0m\u001b[0;34m\u001b[0m\u001b[0m\n\u001b[1;32m   1551\u001b[0m \u001b[0;34m\u001b[0m\u001b[0m\n\u001b[0;32m-> 1552\u001b[0;31m         self._validate_read_indexer(\n\u001b[0m\u001b[1;32m   1553\u001b[0m             \u001b[0mkeyarr\u001b[0m\u001b[0;34m,\u001b[0m \u001b[0mindexer\u001b[0m\u001b[0;34m,\u001b[0m \u001b[0mo\u001b[0m\u001b[0;34m.\u001b[0m\u001b[0m_get_axis_number\u001b[0m\u001b[0;34m(\u001b[0m\u001b[0maxis\u001b[0m\u001b[0;34m)\u001b[0m\u001b[0;34m,\u001b[0m \u001b[0mraise_missing\u001b[0m\u001b[0;34m=\u001b[0m\u001b[0mraise_missing\u001b[0m\u001b[0;34m\u001b[0m\u001b[0;34m\u001b[0m\u001b[0m\n\u001b[1;32m   1554\u001b[0m         )\n",
      "\u001b[0;32m~/opt/anaconda3/lib/python3.8/site-packages/pandas/core/indexing.py\u001b[0m in \u001b[0;36m_validate_read_indexer\u001b[0;34m(self, key, indexer, axis, raise_missing)\u001b[0m\n\u001b[1;32m   1644\u001b[0m             \u001b[0;32mif\u001b[0m \u001b[0;32mnot\u001b[0m \u001b[0;34m(\u001b[0m\u001b[0mself\u001b[0m\u001b[0;34m.\u001b[0m\u001b[0mname\u001b[0m \u001b[0;34m==\u001b[0m \u001b[0;34m\"loc\"\u001b[0m \u001b[0;32mand\u001b[0m \u001b[0;32mnot\u001b[0m \u001b[0mraise_missing\u001b[0m\u001b[0;34m)\u001b[0m\u001b[0;34m:\u001b[0m\u001b[0;34m\u001b[0m\u001b[0;34m\u001b[0m\u001b[0m\n\u001b[1;32m   1645\u001b[0m                 \u001b[0mnot_found\u001b[0m \u001b[0;34m=\u001b[0m \u001b[0mlist\u001b[0m\u001b[0;34m(\u001b[0m\u001b[0mset\u001b[0m\u001b[0;34m(\u001b[0m\u001b[0mkey\u001b[0m\u001b[0;34m)\u001b[0m \u001b[0;34m-\u001b[0m \u001b[0mset\u001b[0m\u001b[0;34m(\u001b[0m\u001b[0max\u001b[0m\u001b[0;34m)\u001b[0m\u001b[0;34m)\u001b[0m\u001b[0;34m\u001b[0m\u001b[0;34m\u001b[0m\u001b[0m\n\u001b[0;32m-> 1646\u001b[0;31m                 \u001b[0;32mraise\u001b[0m \u001b[0mKeyError\u001b[0m\u001b[0;34m(\u001b[0m\u001b[0;34mf\"{not_found} not in index\"\u001b[0m\u001b[0;34m)\u001b[0m\u001b[0;34m\u001b[0m\u001b[0;34m\u001b[0m\u001b[0m\n\u001b[0m\u001b[1;32m   1647\u001b[0m \u001b[0;34m\u001b[0m\u001b[0m\n\u001b[1;32m   1648\u001b[0m             \u001b[0;31m# we skip the warning on Categorical/Interval\u001b[0m\u001b[0;34m\u001b[0m\u001b[0;34m\u001b[0m\u001b[0;34m\u001b[0m\u001b[0m\n",
      "\u001b[0;31mKeyError\u001b[0m: \"['station_station_id'] not in index\""
     ]
    }
   ],
   "source": [
    "bike_share = bike_share[[\"tripDuration\",\"start_date\",\"end_date\",\n",
    "                         \"statio_station_id\",\"end_station_id\",\"bikeID\",\n",
    "                         \"memberType\",\"location_id\"]]\n",
    "bike_share"
   ]
  },
  {
   "cell_type": "markdown",
   "metadata": {},
   "source": [
    "Creating Bikes dataframe with the following columns: BikeID & location_id"
   ]
  },
  {
   "cell_type": "code",
   "execution_count": 14,
   "metadata": {
    "scrolled": true
   },
   "outputs": [
    {
     "data": {
      "text/html": [
       "<div>\n",
       "<style scoped>\n",
       "    .dataframe tbody tr th:only-of-type {\n",
       "        vertical-align: middle;\n",
       "    }\n",
       "\n",
       "    .dataframe tbody tr th {\n",
       "        vertical-align: top;\n",
       "    }\n",
       "\n",
       "    .dataframe thead th {\n",
       "        text-align: right;\n",
       "    }\n",
       "</style>\n",
       "<table border=\"1\" class=\"dataframe\">\n",
       "  <thead>\n",
       "    <tr style=\"text-align: right;\">\n",
       "      <th></th>\n",
       "      <th>BikeID</th>\n",
       "      <th>LocationID</th>\n",
       "    </tr>\n",
       "  </thead>\n",
       "  <tbody>\n",
       "    <tr>\n",
       "      <th>0</th>\n",
       "      <td>1296</td>\n",
       "      <td>1</td>\n",
       "    </tr>\n",
       "    <tr>\n",
       "      <th>1</th>\n",
       "      <td>2947</td>\n",
       "      <td>1</td>\n",
       "    </tr>\n",
       "    <tr>\n",
       "      <th>2</th>\n",
       "      <td>2293</td>\n",
       "      <td>1</td>\n",
       "    </tr>\n",
       "    <tr>\n",
       "      <th>3</th>\n",
       "      <td>283</td>\n",
       "      <td>1</td>\n",
       "    </tr>\n",
       "    <tr>\n",
       "      <th>4</th>\n",
       "      <td>1799</td>\n",
       "      <td>1</td>\n",
       "    </tr>\n",
       "  </tbody>\n",
       "</table>\n",
       "</div>"
      ],
      "text/plain": [
       "   BikeID  LocationID\n",
       "0    1296           1\n",
       "1    2947           1\n",
       "2    2293           1\n",
       "3     283           1\n",
       "4    1799           1"
      ]
     },
     "execution_count": 14,
     "metadata": {},
     "output_type": "execute_result"
    }
   ],
   "source": [
    "bikes = pd.DataFrame(bike_share[[\"bikeID\",\"location_id\"]])\n",
    "bikes = bikes.drop_duplicates().reset_index(drop=True)\n",
    "bikes.columns=[\"BikeID\", \"LocationID\"]\n",
    "bikes.head()"
   ]
  },
  {
   "cell_type": "markdown",
   "metadata": {},
   "source": [
    "Creating MemberType dataframe with the following columns: id,type & location_id"
   ]
  },
  {
   "cell_type": "code",
   "execution_count": 13,
   "metadata": {
    "scrolled": true
   },
   "outputs": [
    {
     "data": {
      "text/html": [
       "<div>\n",
       "<style scoped>\n",
       "    .dataframe tbody tr th:only-of-type {\n",
       "        vertical-align: middle;\n",
       "    }\n",
       "\n",
       "    .dataframe tbody tr th {\n",
       "        vertical-align: top;\n",
       "    }\n",
       "\n",
       "    .dataframe thead th {\n",
       "        text-align: right;\n",
       "    }\n",
       "</style>\n",
       "<table border=\"1\" class=\"dataframe\">\n",
       "  <thead>\n",
       "    <tr style=\"text-align: right;\">\n",
       "      <th></th>\n",
       "      <th>Type</th>\n",
       "      <th>LocationID</th>\n",
       "    </tr>\n",
       "  </thead>\n",
       "  <tbody>\n",
       "    <tr>\n",
       "      <th>1</th>\n",
       "      <td>Annual Member</td>\n",
       "      <td>1</td>\n",
       "    </tr>\n",
       "    <tr>\n",
       "      <th>2</th>\n",
       "      <td>Casual Member</td>\n",
       "      <td>1</td>\n",
       "    </tr>\n",
       "  </tbody>\n",
       "</table>\n",
       "</div>"
      ],
      "text/plain": [
       "            Type  LocationID\n",
       "1  Annual Member           1\n",
       "2  Casual Member           1"
      ]
     },
     "execution_count": 13,
     "metadata": {},
     "output_type": "execute_result"
    }
   ],
   "source": [
    "MemberType = pd.DataFrame(bike_share[[\"memberType\",\"location_id\"]])\n",
    "MemberType = MemberType.drop_duplicates().reset_index(drop=True)\n",
    "MemberType.columns=[\"Type\",\"LocationID\"]\n",
    "MemberType.index = MemberType.index + 1\n",
    "MemberType.rename_axis('ID')\n",
    "MemberType"
   ]
  },
  {
   "cell_type": "code",
   "execution_count": null,
   "metadata": {},
   "outputs": [],
   "source": []
  }
 ],
 "metadata": {
  "kernelspec": {
   "display_name": "Python 3",
   "language": "python",
   "name": "python3"
  },
  "language_info": {
   "codemirror_mode": {
    "name": "ipython",
    "version": 3
   },
   "file_extension": ".py",
   "mimetype": "text/x-python",
   "name": "python",
   "nbconvert_exporter": "python",
   "pygments_lexer": "ipython3",
   "version": "3.8.3"
  }
 },
 "nbformat": 4,
 "nbformat_minor": 4
}
