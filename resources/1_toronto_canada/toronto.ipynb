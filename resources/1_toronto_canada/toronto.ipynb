{
 "cells": [
  {
   "cell_type": "markdown",
   "metadata": {},
   "source": [
    "# Import dependencies"
   ]
  },
  {
   "cell_type": "code",
   "execution_count": 1,
   "metadata": {
    "scrolled": true
   },
   "outputs": [],
   "source": [
    "import os\n",
    "import pandas as pd\n",
    "import numpy as np"
   ]
  },
  {
   "cell_type": "markdown",
   "metadata": {},
   "source": [
    "# Study data files: Toronto files:"
   ]
  },
  {
   "cell_type": "code",
   "execution_count": 2,
   "metadata": {
    "scrolled": true
   },
   "outputs": [],
   "source": [
    "toronto_Q1_path = os.path.join(\"Resources\",\"2019-Q1.csv\")\n",
    "toronto_Q2_path = os.path.join(\"Resources\", \"2019-Q2.csv\")\n",
    "toronto_Q3_path = os.path.join(\"Resources\", \"2019-Q3.csv\")\n",
    "toronto_Q4_path = os.path.join(\"Resources\", \"2019-Q4.csv\")"
   ]
  },
  {
   "cell_type": "markdown",
   "metadata": {},
   "source": [
    "# Read the data and study the results:"
   ]
  },
  {
   "cell_type": "code",
   "execution_count": 3,
   "metadata": {
    "scrolled": true
   },
   "outputs": [],
   "source": [
    "q1 = pd.read_csv(toronto_Q1_path, encoding=\"utf=8\")\n",
    "q2 = pd.read_csv(toronto_Q2_path, encoding=\"utf=8\")\n",
    "q3 = pd.read_csv(toronto_Q3_path, encoding=\"utf=8\")\n",
    "q4 = pd.read_csv(toronto_Q4_path, encoding=\"utf=8\")"
   ]
  },
  {
   "cell_type": "markdown",
   "metadata": {},
   "source": [
    "Renaming the columns:"
   ]
  },
  {
   "cell_type": "code",
   "execution_count": 4,
   "metadata": {
    "scrolled": true
   },
   "outputs": [],
   "source": [
    "q1 = q1.rename(columns={\"Trip  Duration\": \"Trip Duration\"})\n",
    "q2 = q2.rename(columns={\"Trip  Duration\": \"Trip Duration\"})\n",
    "q3 = q3.rename(columns={\"Trip  Duration\": \"Trip Duration\"})\n",
    "q4 = q4.rename(columns={\"Trip  Duration\": \"Trip Duration\"})"
   ]
  },
  {
   "cell_type": "markdown",
   "metadata": {},
   "source": [
    "Creating DataFrame:"
   ]
  },
  {
   "cell_type": "code",
   "execution_count": 5,
   "metadata": {
    "scrolled": true
   },
   "outputs": [
    {
     "data": {
      "text/html": [
       "<div>\n",
       "<style scoped>\n",
       "    .dataframe tbody tr th:only-of-type {\n",
       "        vertical-align: middle;\n",
       "    }\n",
       "\n",
       "    .dataframe tbody tr th {\n",
       "        vertical-align: top;\n",
       "    }\n",
       "\n",
       "    .dataframe thead th {\n",
       "        text-align: right;\n",
       "    }\n",
       "</style>\n",
       "<table border=\"1\" class=\"dataframe\">\n",
       "  <thead>\n",
       "    <tr style=\"text-align: right;\">\n",
       "      <th></th>\n",
       "      <th>Trip Id</th>\n",
       "      <th>Subscription Id</th>\n",
       "      <th>Trip Duration</th>\n",
       "      <th>Start Station Id</th>\n",
       "      <th>Start Time</th>\n",
       "      <th>Start Station Name</th>\n",
       "      <th>End Station Id</th>\n",
       "      <th>End Time</th>\n",
       "      <th>End Station Name</th>\n",
       "      <th>Bike Id</th>\n",
       "      <th>User Type</th>\n",
       "    </tr>\n",
       "  </thead>\n",
       "  <tbody>\n",
       "    <tr>\n",
       "      <th>0</th>\n",
       "      <td>4581278</td>\n",
       "      <td>199751</td>\n",
       "      <td>1547</td>\n",
       "      <td>7021</td>\n",
       "      <td>01/01/2019 00:08</td>\n",
       "      <td>Bay St / Albert St</td>\n",
       "      <td>7233.0</td>\n",
       "      <td>01/01/2019 00:33</td>\n",
       "      <td>King / Cowan Ave - SMART</td>\n",
       "      <td>1296</td>\n",
       "      <td>Annual Member</td>\n",
       "    </tr>\n",
       "    <tr>\n",
       "      <th>1</th>\n",
       "      <td>4581279</td>\n",
       "      <td>294730</td>\n",
       "      <td>1112</td>\n",
       "      <td>7160</td>\n",
       "      <td>01/01/2019 00:10</td>\n",
       "      <td>King St W / Tecumseth St</td>\n",
       "      <td>7051.0</td>\n",
       "      <td>01/01/2019 00:29</td>\n",
       "      <td>Wellesley St E / Yonge St (Green P)</td>\n",
       "      <td>2947</td>\n",
       "      <td>Annual Member</td>\n",
       "    </tr>\n",
       "    <tr>\n",
       "      <th>2</th>\n",
       "      <td>4581280</td>\n",
       "      <td>197252</td>\n",
       "      <td>589</td>\n",
       "      <td>7055</td>\n",
       "      <td>01/01/2019 00:15</td>\n",
       "      <td>Jarvis St / Carlton St</td>\n",
       "      <td>7013.0</td>\n",
       "      <td>01/01/2019 00:25</td>\n",
       "      <td>Scott St / The Esplanade</td>\n",
       "      <td>2293</td>\n",
       "      <td>Annual Member</td>\n",
       "    </tr>\n",
       "    <tr>\n",
       "      <th>3</th>\n",
       "      <td>4581281</td>\n",
       "      <td>171700</td>\n",
       "      <td>259</td>\n",
       "      <td>7012</td>\n",
       "      <td>01/01/2019 00:16</td>\n",
       "      <td>Elizabeth St / Edward St (Bus Terminal)</td>\n",
       "      <td>7235.0</td>\n",
       "      <td>01/01/2019 00:20</td>\n",
       "      <td>Bay St / College St (West Side) - SMART</td>\n",
       "      <td>283</td>\n",
       "      <td>Annual Member</td>\n",
       "    </tr>\n",
       "    <tr>\n",
       "      <th>4</th>\n",
       "      <td>4581282</td>\n",
       "      <td>306314</td>\n",
       "      <td>281</td>\n",
       "      <td>7041</td>\n",
       "      <td>01/01/2019 00:19</td>\n",
       "      <td>Edward St / Yonge St</td>\n",
       "      <td>7257.0</td>\n",
       "      <td>01/01/2019 00:24</td>\n",
       "      <td>Dundas St W / St. Patrick St</td>\n",
       "      <td>1799</td>\n",
       "      <td>Annual Member</td>\n",
       "    </tr>\n",
       "  </tbody>\n",
       "</table>\n",
       "</div>"
      ],
      "text/plain": [
       "   Trip Id  Subscription Id  Trip Duration  Start Station Id  \\\n",
       "0  4581278           199751           1547              7021   \n",
       "1  4581279           294730           1112              7160   \n",
       "2  4581280           197252            589              7055   \n",
       "3  4581281           171700            259              7012   \n",
       "4  4581282           306314            281              7041   \n",
       "\n",
       "         Start Time                       Start Station Name  End Station Id  \\\n",
       "0  01/01/2019 00:08                       Bay St / Albert St          7233.0   \n",
       "1  01/01/2019 00:10                 King St W / Tecumseth St          7051.0   \n",
       "2  01/01/2019 00:15                   Jarvis St / Carlton St          7013.0   \n",
       "3  01/01/2019 00:16  Elizabeth St / Edward St (Bus Terminal)          7235.0   \n",
       "4  01/01/2019 00:19                     Edward St / Yonge St          7257.0   \n",
       "\n",
       "           End Time                         End Station Name  Bike Id  \\\n",
       "0  01/01/2019 00:33                 King / Cowan Ave - SMART     1296   \n",
       "1  01/01/2019 00:29      Wellesley St E / Yonge St (Green P)     2947   \n",
       "2  01/01/2019 00:25                 Scott St / The Esplanade     2293   \n",
       "3  01/01/2019 00:20  Bay St / College St (West Side) - SMART      283   \n",
       "4  01/01/2019 00:24             Dundas St W / St. Patrick St     1799   \n",
       "\n",
       "       User Type  \n",
       "0  Annual Member  \n",
       "1  Annual Member  \n",
       "2  Annual Member  \n",
       "3  Annual Member  \n",
       "4  Annual Member  "
      ]
     },
     "execution_count": 5,
     "metadata": {},
     "output_type": "execute_result"
    }
   ],
   "source": [
    "Toronto = [q1, q2, q3, q4]\n",
    "bike_share = pd.concat(Toronto)\n",
    "bike_share.head()"
   ]
  },
  {
   "cell_type": "markdown",
   "metadata": {},
   "source": [
    "Deleting column \"Trip Duration,Subscription Id,Start Station Name, End Station Name\""
   ]
  },
  {
   "cell_type": "code",
   "execution_count": 6,
   "metadata": {
    "scrolled": true
   },
   "outputs": [
    {
     "data": {
      "text/html": [
       "<div>\n",
       "<style scoped>\n",
       "    .dataframe tbody tr th:only-of-type {\n",
       "        vertical-align: middle;\n",
       "    }\n",
       "\n",
       "    .dataframe tbody tr th {\n",
       "        vertical-align: top;\n",
       "    }\n",
       "\n",
       "    .dataframe thead th {\n",
       "        text-align: right;\n",
       "    }\n",
       "</style>\n",
       "<table border=\"1\" class=\"dataframe\">\n",
       "  <thead>\n",
       "    <tr style=\"text-align: right;\">\n",
       "      <th></th>\n",
       "      <th>Trip Duration</th>\n",
       "      <th>Start Station Id</th>\n",
       "      <th>Start Time</th>\n",
       "      <th>End Station Id</th>\n",
       "      <th>End Time</th>\n",
       "      <th>Bike Id</th>\n",
       "      <th>User Type</th>\n",
       "    </tr>\n",
       "  </thead>\n",
       "  <tbody>\n",
       "    <tr>\n",
       "      <th>0</th>\n",
       "      <td>1547</td>\n",
       "      <td>7021</td>\n",
       "      <td>01/01/2019 00:08</td>\n",
       "      <td>7233.0</td>\n",
       "      <td>01/01/2019 00:33</td>\n",
       "      <td>1296</td>\n",
       "      <td>Annual Member</td>\n",
       "    </tr>\n",
       "    <tr>\n",
       "      <th>1</th>\n",
       "      <td>1112</td>\n",
       "      <td>7160</td>\n",
       "      <td>01/01/2019 00:10</td>\n",
       "      <td>7051.0</td>\n",
       "      <td>01/01/2019 00:29</td>\n",
       "      <td>2947</td>\n",
       "      <td>Annual Member</td>\n",
       "    </tr>\n",
       "    <tr>\n",
       "      <th>2</th>\n",
       "      <td>589</td>\n",
       "      <td>7055</td>\n",
       "      <td>01/01/2019 00:15</td>\n",
       "      <td>7013.0</td>\n",
       "      <td>01/01/2019 00:25</td>\n",
       "      <td>2293</td>\n",
       "      <td>Annual Member</td>\n",
       "    </tr>\n",
       "    <tr>\n",
       "      <th>3</th>\n",
       "      <td>259</td>\n",
       "      <td>7012</td>\n",
       "      <td>01/01/2019 00:16</td>\n",
       "      <td>7235.0</td>\n",
       "      <td>01/01/2019 00:20</td>\n",
       "      <td>283</td>\n",
       "      <td>Annual Member</td>\n",
       "    </tr>\n",
       "    <tr>\n",
       "      <th>4</th>\n",
       "      <td>281</td>\n",
       "      <td>7041</td>\n",
       "      <td>01/01/2019 00:19</td>\n",
       "      <td>7257.0</td>\n",
       "      <td>01/01/2019 00:24</td>\n",
       "      <td>1799</td>\n",
       "      <td>Annual Member</td>\n",
       "    </tr>\n",
       "  </tbody>\n",
       "</table>\n",
       "</div>"
      ],
      "text/plain": [
       "   Trip Duration  Start Station Id        Start Time  End Station Id  \\\n",
       "0           1547              7021  01/01/2019 00:08          7233.0   \n",
       "1           1112              7160  01/01/2019 00:10          7051.0   \n",
       "2            589              7055  01/01/2019 00:15          7013.0   \n",
       "3            259              7012  01/01/2019 00:16          7235.0   \n",
       "4            281              7041  01/01/2019 00:19          7257.0   \n",
       "\n",
       "           End Time  Bike Id      User Type  \n",
       "0  01/01/2019 00:33     1296  Annual Member  \n",
       "1  01/01/2019 00:29     2947  Annual Member  \n",
       "2  01/01/2019 00:25     2293  Annual Member  \n",
       "3  01/01/2019 00:20      283  Annual Member  \n",
       "4  01/01/2019 00:24     1799  Annual Member  "
      ]
     },
     "execution_count": 6,
     "metadata": {},
     "output_type": "execute_result"
    }
   ],
   "source": [
    "del bike_share['Trip Id']\n",
    "del bike_share['Subscription Id']\n",
    "del bike_share['Start Station Name']\n",
    "del bike_share['End Station Name']\n",
    "bike_share.head()"
   ]
  },
  {
   "cell_type": "markdown",
   "metadata": {},
   "source": [
    "Renaming columns in the created dataframe"
   ]
  },
  {
   "cell_type": "code",
   "execution_count": 64,
   "metadata": {
    "scrolled": true
   },
   "outputs": [
    {
     "data": {
      "text/html": [
       "<div>\n",
       "<style scoped>\n",
       "    .dataframe tbody tr th:only-of-type {\n",
       "        vertical-align: middle;\n",
       "    }\n",
       "\n",
       "    .dataframe tbody tr th {\n",
       "        vertical-align: top;\n",
       "    }\n",
       "\n",
       "    .dataframe thead th {\n",
       "        text-align: right;\n",
       "    }\n",
       "</style>\n",
       "<table border=\"1\" class=\"dataframe\">\n",
       "  <thead>\n",
       "    <tr style=\"text-align: right;\">\n",
       "      <th></th>\n",
       "      <th>trip_duration</th>\n",
       "      <th>start_date</th>\n",
       "      <th>end_date</th>\n",
       "      <th>start_station_id</th>\n",
       "      <th>end_station_id</th>\n",
       "      <th>bike_id</th>\n",
       "      <th>member_type</th>\n",
       "      <th>location_id</th>\n",
       "    </tr>\n",
       "  </thead>\n",
       "  <tbody>\n",
       "    <tr>\n",
       "      <th>0</th>\n",
       "      <td>1547</td>\n",
       "      <td>01/01/2019 00:08</td>\n",
       "      <td>01/01/2019 00:33</td>\n",
       "      <td>7021</td>\n",
       "      <td>7233.0</td>\n",
       "      <td>1296</td>\n",
       "      <td>Annual Member</td>\n",
       "      <td>1</td>\n",
       "    </tr>\n",
       "    <tr>\n",
       "      <th>1</th>\n",
       "      <td>1112</td>\n",
       "      <td>01/01/2019 00:10</td>\n",
       "      <td>01/01/2019 00:29</td>\n",
       "      <td>7160</td>\n",
       "      <td>7051.0</td>\n",
       "      <td>2947</td>\n",
       "      <td>Annual Member</td>\n",
       "      <td>1</td>\n",
       "    </tr>\n",
       "    <tr>\n",
       "      <th>2</th>\n",
       "      <td>589</td>\n",
       "      <td>01/01/2019 00:15</td>\n",
       "      <td>01/01/2019 00:25</td>\n",
       "      <td>7055</td>\n",
       "      <td>7013.0</td>\n",
       "      <td>2293</td>\n",
       "      <td>Annual Member</td>\n",
       "      <td>1</td>\n",
       "    </tr>\n",
       "    <tr>\n",
       "      <th>3</th>\n",
       "      <td>259</td>\n",
       "      <td>01/01/2019 00:16</td>\n",
       "      <td>01/01/2019 00:20</td>\n",
       "      <td>7012</td>\n",
       "      <td>7235.0</td>\n",
       "      <td>283</td>\n",
       "      <td>Annual Member</td>\n",
       "      <td>1</td>\n",
       "    </tr>\n",
       "    <tr>\n",
       "      <th>4</th>\n",
       "      <td>281</td>\n",
       "      <td>01/01/2019 00:19</td>\n",
       "      <td>01/01/2019 00:24</td>\n",
       "      <td>7041</td>\n",
       "      <td>7257.0</td>\n",
       "      <td>1799</td>\n",
       "      <td>Annual Member</td>\n",
       "      <td>1</td>\n",
       "    </tr>\n",
       "  </tbody>\n",
       "</table>\n",
       "</div>"
      ],
      "text/plain": [
       "   trip_duration        start_date          end_date  start_station_id  \\\n",
       "0           1547  01/01/2019 00:08  01/01/2019 00:33              7021   \n",
       "1           1112  01/01/2019 00:10  01/01/2019 00:29              7160   \n",
       "2            589  01/01/2019 00:15  01/01/2019 00:25              7055   \n",
       "3            259  01/01/2019 00:16  01/01/2019 00:20              7012   \n",
       "4            281  01/01/2019 00:19  01/01/2019 00:24              7041   \n",
       "\n",
       "   end_station_id  bike_id    member_type  location_id  \n",
       "0          7233.0     1296  Annual Member            1  \n",
       "1          7051.0     2947  Annual Member            1  \n",
       "2          7013.0     2293  Annual Member            1  \n",
       "3          7235.0      283  Annual Member            1  \n",
       "4          7257.0     1799  Annual Member            1  "
      ]
     },
     "execution_count": 64,
     "metadata": {},
     "output_type": "execute_result"
    }
   ],
   "source": [
    "bike_share = bike_share.rename(columns={\"Trip Duration\": \"trip_duration\",\n",
    "                                        \"Start Station Id\":\"start_station_id\",\n",
    "                                        \"End Station Id\":\"end_station_id\",\n",
    "                                        \"Start Time\":\"start_date\",\n",
    "                                        \"End Time\":\"end_date\",\n",
    "                                        \"Bike Id\":\"bike_id\",\n",
    "                                        \"User Type\":\"member_type\"\n",
    "                                       })\n",
    "bike_share.head()"
   ]
  },
  {
   "cell_type": "markdown",
   "metadata": {},
   "source": [
    "Identifying incomplete rows and Drop all rows with missing information"
   ]
  },
  {
   "cell_type": "code",
   "execution_count": 65,
   "metadata": {
    "scrolled": true
   },
   "outputs": [
    {
     "data": {
      "text/plain": [
       "trip_duration       2439063\n",
       "start_date          2439063\n",
       "end_date            2439063\n",
       "start_station_id    2439063\n",
       "end_station_id      2439063\n",
       "bike_id             2439063\n",
       "member_type         2439063\n",
       "location_id         2439063\n",
       "dtype: int64"
      ]
     },
     "execution_count": 65,
     "metadata": {},
     "output_type": "execute_result"
    }
   ],
   "source": [
    "bike_share.count()"
   ]
  },
  {
   "cell_type": "code",
   "execution_count": 66,
   "metadata": {
    "scrolled": true
   },
   "outputs": [],
   "source": [
    "bike_share = bike_share.dropna()"
   ]
  },
  {
   "cell_type": "code",
   "execution_count": 67,
   "metadata": {
    "scrolled": true
   },
   "outputs": [
    {
     "data": {
      "text/plain": [
       "trip_duration       2439063\n",
       "start_date          2439063\n",
       "end_date            2439063\n",
       "start_station_id    2439063\n",
       "end_station_id      2439063\n",
       "bike_id             2439063\n",
       "member_type         2439063\n",
       "location_id         2439063\n",
       "dtype: int64"
      ]
     },
     "execution_count": 67,
     "metadata": {},
     "output_type": "execute_result"
    }
   ],
   "source": [
    "bike_share.count()"
   ]
  },
  {
   "cell_type": "markdown",
   "metadata": {},
   "source": [
    "Adding new column:location_id"
   ]
  },
  {
   "cell_type": "code",
   "execution_count": 68,
   "metadata": {
    "scrolled": true
   },
   "outputs": [
    {
     "data": {
      "text/html": [
       "<div>\n",
       "<style scoped>\n",
       "    .dataframe tbody tr th:only-of-type {\n",
       "        vertical-align: middle;\n",
       "    }\n",
       "\n",
       "    .dataframe tbody tr th {\n",
       "        vertical-align: top;\n",
       "    }\n",
       "\n",
       "    .dataframe thead th {\n",
       "        text-align: right;\n",
       "    }\n",
       "</style>\n",
       "<table border=\"1\" class=\"dataframe\">\n",
       "  <thead>\n",
       "    <tr style=\"text-align: right;\">\n",
       "      <th></th>\n",
       "      <th>trip_duration</th>\n",
       "      <th>start_date</th>\n",
       "      <th>end_date</th>\n",
       "      <th>start_station_id</th>\n",
       "      <th>end_station_id</th>\n",
       "      <th>bike_id</th>\n",
       "      <th>member_type</th>\n",
       "      <th>location_id</th>\n",
       "    </tr>\n",
       "  </thead>\n",
       "  <tbody>\n",
       "    <tr>\n",
       "      <th>0</th>\n",
       "      <td>1547</td>\n",
       "      <td>01/01/2019 00:08</td>\n",
       "      <td>01/01/2019 00:33</td>\n",
       "      <td>7021</td>\n",
       "      <td>7233.0</td>\n",
       "      <td>1296</td>\n",
       "      <td>Annual Member</td>\n",
       "      <td>1</td>\n",
       "    </tr>\n",
       "    <tr>\n",
       "      <th>1</th>\n",
       "      <td>1112</td>\n",
       "      <td>01/01/2019 00:10</td>\n",
       "      <td>01/01/2019 00:29</td>\n",
       "      <td>7160</td>\n",
       "      <td>7051.0</td>\n",
       "      <td>2947</td>\n",
       "      <td>Annual Member</td>\n",
       "      <td>1</td>\n",
       "    </tr>\n",
       "    <tr>\n",
       "      <th>2</th>\n",
       "      <td>589</td>\n",
       "      <td>01/01/2019 00:15</td>\n",
       "      <td>01/01/2019 00:25</td>\n",
       "      <td>7055</td>\n",
       "      <td>7013.0</td>\n",
       "      <td>2293</td>\n",
       "      <td>Annual Member</td>\n",
       "      <td>1</td>\n",
       "    </tr>\n",
       "    <tr>\n",
       "      <th>3</th>\n",
       "      <td>259</td>\n",
       "      <td>01/01/2019 00:16</td>\n",
       "      <td>01/01/2019 00:20</td>\n",
       "      <td>7012</td>\n",
       "      <td>7235.0</td>\n",
       "      <td>283</td>\n",
       "      <td>Annual Member</td>\n",
       "      <td>1</td>\n",
       "    </tr>\n",
       "    <tr>\n",
       "      <th>4</th>\n",
       "      <td>281</td>\n",
       "      <td>01/01/2019 00:19</td>\n",
       "      <td>01/01/2019 00:24</td>\n",
       "      <td>7041</td>\n",
       "      <td>7257.0</td>\n",
       "      <td>1799</td>\n",
       "      <td>Annual Member</td>\n",
       "      <td>1</td>\n",
       "    </tr>\n",
       "  </tbody>\n",
       "</table>\n",
       "</div>"
      ],
      "text/plain": [
       "   trip_duration        start_date          end_date  start_station_id  \\\n",
       "0           1547  01/01/2019 00:08  01/01/2019 00:33              7021   \n",
       "1           1112  01/01/2019 00:10  01/01/2019 00:29              7160   \n",
       "2            589  01/01/2019 00:15  01/01/2019 00:25              7055   \n",
       "3            259  01/01/2019 00:16  01/01/2019 00:20              7012   \n",
       "4            281  01/01/2019 00:19  01/01/2019 00:24              7041   \n",
       "\n",
       "   end_station_id  bike_id    member_type  location_id  \n",
       "0          7233.0     1296  Annual Member            1  \n",
       "1          7051.0     2947  Annual Member            1  \n",
       "2          7013.0     2293  Annual Member            1  \n",
       "3          7235.0      283  Annual Member            1  \n",
       "4          7257.0     1799  Annual Member            1  "
      ]
     },
     "execution_count": 68,
     "metadata": {},
     "output_type": "execute_result"
    }
   ],
   "source": [
    "bike_share = bike_share.assign(location_id=1)\n",
    "bike_share.head()"
   ]
  },
  {
   "cell_type": "markdown",
   "metadata": {},
   "source": [
    "Rearrange columns"
   ]
  },
  {
   "cell_type": "code",
   "execution_count": 70,
   "metadata": {},
   "outputs": [
    {
     "data": {
      "text/html": [
       "<div>\n",
       "<style scoped>\n",
       "    .dataframe tbody tr th:only-of-type {\n",
       "        vertical-align: middle;\n",
       "    }\n",
       "\n",
       "    .dataframe tbody tr th {\n",
       "        vertical-align: top;\n",
       "    }\n",
       "\n",
       "    .dataframe thead th {\n",
       "        text-align: right;\n",
       "    }\n",
       "</style>\n",
       "<table border=\"1\" class=\"dataframe\">\n",
       "  <thead>\n",
       "    <tr style=\"text-align: right;\">\n",
       "      <th></th>\n",
       "      <th>trip_duration</th>\n",
       "      <th>start_date</th>\n",
       "      <th>end_date</th>\n",
       "      <th>start_station_id</th>\n",
       "      <th>end_station_id</th>\n",
       "      <th>bike_id</th>\n",
       "      <th>member_type</th>\n",
       "      <th>location_id</th>\n",
       "    </tr>\n",
       "  </thead>\n",
       "  <tbody>\n",
       "    <tr>\n",
       "      <th>0</th>\n",
       "      <td>1547</td>\n",
       "      <td>01/01/2019 00:08</td>\n",
       "      <td>01/01/2019 00:33</td>\n",
       "      <td>7021</td>\n",
       "      <td>7233.0</td>\n",
       "      <td>1296</td>\n",
       "      <td>Annual Member</td>\n",
       "      <td>1</td>\n",
       "    </tr>\n",
       "    <tr>\n",
       "      <th>1</th>\n",
       "      <td>1112</td>\n",
       "      <td>01/01/2019 00:10</td>\n",
       "      <td>01/01/2019 00:29</td>\n",
       "      <td>7160</td>\n",
       "      <td>7051.0</td>\n",
       "      <td>2947</td>\n",
       "      <td>Annual Member</td>\n",
       "      <td>1</td>\n",
       "    </tr>\n",
       "    <tr>\n",
       "      <th>2</th>\n",
       "      <td>589</td>\n",
       "      <td>01/01/2019 00:15</td>\n",
       "      <td>01/01/2019 00:25</td>\n",
       "      <td>7055</td>\n",
       "      <td>7013.0</td>\n",
       "      <td>2293</td>\n",
       "      <td>Annual Member</td>\n",
       "      <td>1</td>\n",
       "    </tr>\n",
       "    <tr>\n",
       "      <th>3</th>\n",
       "      <td>259</td>\n",
       "      <td>01/01/2019 00:16</td>\n",
       "      <td>01/01/2019 00:20</td>\n",
       "      <td>7012</td>\n",
       "      <td>7235.0</td>\n",
       "      <td>283</td>\n",
       "      <td>Annual Member</td>\n",
       "      <td>1</td>\n",
       "    </tr>\n",
       "    <tr>\n",
       "      <th>4</th>\n",
       "      <td>281</td>\n",
       "      <td>01/01/2019 00:19</td>\n",
       "      <td>01/01/2019 00:24</td>\n",
       "      <td>7041</td>\n",
       "      <td>7257.0</td>\n",
       "      <td>1799</td>\n",
       "      <td>Annual Member</td>\n",
       "      <td>1</td>\n",
       "    </tr>\n",
       "  </tbody>\n",
       "</table>\n",
       "</div>"
      ],
      "text/plain": [
       "   trip_duration        start_date          end_date  start_station_id  \\\n",
       "0           1547  01/01/2019 00:08  01/01/2019 00:33              7021   \n",
       "1           1112  01/01/2019 00:10  01/01/2019 00:29              7160   \n",
       "2            589  01/01/2019 00:15  01/01/2019 00:25              7055   \n",
       "3            259  01/01/2019 00:16  01/01/2019 00:20              7012   \n",
       "4            281  01/01/2019 00:19  01/01/2019 00:24              7041   \n",
       "\n",
       "   end_station_id  bike_id    member_type  location_id  \n",
       "0          7233.0     1296  Annual Member            1  \n",
       "1          7051.0     2947  Annual Member            1  \n",
       "2          7013.0     2293  Annual Member            1  \n",
       "3          7235.0      283  Annual Member            1  \n",
       "4          7257.0     1799  Annual Member            1  "
      ]
     },
     "execution_count": 70,
     "metadata": {},
     "output_type": "execute_result"
    }
   ],
   "source": [
    "bike_share = bike_share[[\"trip_duration\",\"start_date\",\"end_date\",\n",
    "                         \"start_station_id\",\"end_station_id\",\"bike_id\",\n",
    "                         \"member_type\",\"location_id\"]]\n",
    "bike_share.head()"
   ]
  },
  {
   "cell_type": "markdown",
   "metadata": {},
   "source": [
    "Creating Bikes dataframe with the following columns: BikeID & location_id"
   ]
  },
  {
   "cell_type": "code",
   "execution_count": 71,
   "metadata": {
    "scrolled": true
   },
   "outputs": [
    {
     "data": {
      "text/html": [
       "<div>\n",
       "<style scoped>\n",
       "    .dataframe tbody tr th:only-of-type {\n",
       "        vertical-align: middle;\n",
       "    }\n",
       "\n",
       "    .dataframe tbody tr th {\n",
       "        vertical-align: top;\n",
       "    }\n",
       "\n",
       "    .dataframe thead th {\n",
       "        text-align: right;\n",
       "    }\n",
       "</style>\n",
       "<table border=\"1\" class=\"dataframe\">\n",
       "  <thead>\n",
       "    <tr style=\"text-align: right;\">\n",
       "      <th></th>\n",
       "      <th>bike_id</th>\n",
       "      <th>location_id</th>\n",
       "    </tr>\n",
       "  </thead>\n",
       "  <tbody>\n",
       "    <tr>\n",
       "      <th>0</th>\n",
       "      <td>1296</td>\n",
       "      <td>1</td>\n",
       "    </tr>\n",
       "    <tr>\n",
       "      <th>1</th>\n",
       "      <td>2947</td>\n",
       "      <td>1</td>\n",
       "    </tr>\n",
       "    <tr>\n",
       "      <th>2</th>\n",
       "      <td>2293</td>\n",
       "      <td>1</td>\n",
       "    </tr>\n",
       "    <tr>\n",
       "      <th>3</th>\n",
       "      <td>283</td>\n",
       "      <td>1</td>\n",
       "    </tr>\n",
       "    <tr>\n",
       "      <th>4</th>\n",
       "      <td>1799</td>\n",
       "      <td>1</td>\n",
       "    </tr>\n",
       "  </tbody>\n",
       "</table>\n",
       "</div>"
      ],
      "text/plain": [
       "   bike_id  location_id\n",
       "0     1296            1\n",
       "1     2947            1\n",
       "2     2293            1\n",
       "3      283            1\n",
       "4     1799            1"
      ]
     },
     "execution_count": 71,
     "metadata": {},
     "output_type": "execute_result"
    }
   ],
   "source": [
    "bikes = pd.DataFrame(bike_share[[\"bike_id\",\"location_id\"]])\n",
    "bikes = bikes.drop_duplicates().reset_index(drop=True)\n",
    "bikes.head()"
   ]
  },
  {
   "cell_type": "markdown",
   "metadata": {},
   "source": [
    "Creating MemberType dataframe with the following columns: id,type & location_id"
   ]
  },
  {
   "cell_type": "code",
   "execution_count": 72,
   "metadata": {
    "scrolled": true
   },
   "outputs": [
    {
     "data": {
      "text/html": [
       "<div>\n",
       "<style scoped>\n",
       "    .dataframe tbody tr th:only-of-type {\n",
       "        vertical-align: middle;\n",
       "    }\n",
       "\n",
       "    .dataframe tbody tr th {\n",
       "        vertical-align: top;\n",
       "    }\n",
       "\n",
       "    .dataframe thead th {\n",
       "        text-align: right;\n",
       "    }\n",
       "</style>\n",
       "<table border=\"1\" class=\"dataframe\">\n",
       "  <thead>\n",
       "    <tr style=\"text-align: right;\">\n",
       "      <th></th>\n",
       "      <th>member_type</th>\n",
       "      <th>location_id</th>\n",
       "    </tr>\n",
       "  </thead>\n",
       "  <tbody>\n",
       "    <tr>\n",
       "      <th>0</th>\n",
       "      <td>Annual Member</td>\n",
       "      <td>1</td>\n",
       "    </tr>\n",
       "    <tr>\n",
       "      <th>1</th>\n",
       "      <td>Casual Member</td>\n",
       "      <td>1</td>\n",
       "    </tr>\n",
       "  </tbody>\n",
       "</table>\n",
       "</div>"
      ],
      "text/plain": [
       "     member_type  location_id\n",
       "0  Annual Member            1\n",
       "1  Casual Member            1"
      ]
     },
     "execution_count": 72,
     "metadata": {},
     "output_type": "execute_result"
    }
   ],
   "source": [
    "MemberType = pd.DataFrame(bike_share[[\"member_type\",\"location_id\"]])\n",
    "MemberType = MemberType.drop_duplicates().reset_index(drop=True)\n",
    "MemberType.rename_axis('ID')\n",
    "MemberType"
   ]
  },
  {
   "cell_type": "code",
   "execution_count": 73,
   "metadata": {},
   "outputs": [
    {
     "data": {
      "text/html": [
       "<div>\n",
       "<style scoped>\n",
       "    .dataframe tbody tr th:only-of-type {\n",
       "        vertical-align: middle;\n",
       "    }\n",
       "\n",
       "    .dataframe tbody tr th {\n",
       "        vertical-align: top;\n",
       "    }\n",
       "\n",
       "    .dataframe thead th {\n",
       "        text-align: right;\n",
       "    }\n",
       "</style>\n",
       "<table border=\"1\" class=\"dataframe\">\n",
       "  <thead>\n",
       "    <tr style=\"text-align: right;\">\n",
       "      <th></th>\n",
       "      <th>trip_duration</th>\n",
       "      <th>start_date</th>\n",
       "      <th>end_date</th>\n",
       "      <th>start_station_id</th>\n",
       "      <th>end_station_id</th>\n",
       "      <th>bike_id</th>\n",
       "      <th>member_type</th>\n",
       "      <th>location_id</th>\n",
       "    </tr>\n",
       "  </thead>\n",
       "  <tbody>\n",
       "    <tr>\n",
       "      <th>0</th>\n",
       "      <td>1547</td>\n",
       "      <td>01/01/2019 00:08</td>\n",
       "      <td>01/01/2019 00:33</td>\n",
       "      <td>7021</td>\n",
       "      <td>7233.0</td>\n",
       "      <td>1296</td>\n",
       "      <td>Annual Member</td>\n",
       "      <td>1</td>\n",
       "    </tr>\n",
       "    <tr>\n",
       "      <th>1</th>\n",
       "      <td>1112</td>\n",
       "      <td>01/01/2019 00:10</td>\n",
       "      <td>01/01/2019 00:29</td>\n",
       "      <td>7160</td>\n",
       "      <td>7051.0</td>\n",
       "      <td>2947</td>\n",
       "      <td>Annual Member</td>\n",
       "      <td>1</td>\n",
       "    </tr>\n",
       "    <tr>\n",
       "      <th>2</th>\n",
       "      <td>589</td>\n",
       "      <td>01/01/2019 00:15</td>\n",
       "      <td>01/01/2019 00:25</td>\n",
       "      <td>7055</td>\n",
       "      <td>7013.0</td>\n",
       "      <td>2293</td>\n",
       "      <td>Annual Member</td>\n",
       "      <td>1</td>\n",
       "    </tr>\n",
       "    <tr>\n",
       "      <th>3</th>\n",
       "      <td>259</td>\n",
       "      <td>01/01/2019 00:16</td>\n",
       "      <td>01/01/2019 00:20</td>\n",
       "      <td>7012</td>\n",
       "      <td>7235.0</td>\n",
       "      <td>283</td>\n",
       "      <td>Annual Member</td>\n",
       "      <td>1</td>\n",
       "    </tr>\n",
       "    <tr>\n",
       "      <th>4</th>\n",
       "      <td>281</td>\n",
       "      <td>01/01/2019 00:19</td>\n",
       "      <td>01/01/2019 00:24</td>\n",
       "      <td>7041</td>\n",
       "      <td>7257.0</td>\n",
       "      <td>1799</td>\n",
       "      <td>Annual Member</td>\n",
       "      <td>1</td>\n",
       "    </tr>\n",
       "  </tbody>\n",
       "</table>\n",
       "</div>"
      ],
      "text/plain": [
       "   trip_duration        start_date          end_date  start_station_id  \\\n",
       "0           1547  01/01/2019 00:08  01/01/2019 00:33              7021   \n",
       "1           1112  01/01/2019 00:10  01/01/2019 00:29              7160   \n",
       "2            589  01/01/2019 00:15  01/01/2019 00:25              7055   \n",
       "3            259  01/01/2019 00:16  01/01/2019 00:20              7012   \n",
       "4            281  01/01/2019 00:19  01/01/2019 00:24              7041   \n",
       "\n",
       "   end_station_id  bike_id    member_type  location_id  \n",
       "0          7233.0     1296  Annual Member            1  \n",
       "1          7051.0     2947  Annual Member            1  \n",
       "2          7013.0     2293  Annual Member            1  \n",
       "3          7235.0      283  Annual Member            1  \n",
       "4          7257.0     1799  Annual Member            1  "
      ]
     },
     "execution_count": 73,
     "metadata": {},
     "output_type": "execute_result"
    }
   ],
   "source": [
    "bike_share.head()"
   ]
  },
  {
   "cell_type": "code",
   "execution_count": 74,
   "metadata": {},
   "outputs": [],
   "source": [
    "# Save Combined DataFrames to CSV\n",
    "bike_share.to_csv(\"Toronto_bikeshare.csv\", index=False, header=True)"
   ]
  },
  {
   "cell_type": "code",
   "execution_count": 75,
   "metadata": {},
   "outputs": [],
   "source": [
    "bikes.to_csv(\"toronto_bikes.csv\", index=False, header=True)"
   ]
  },
  {
   "cell_type": "code",
   "execution_count": 76,
   "metadata": {},
   "outputs": [],
   "source": [
    "MemberType.to_csv(\"toronto_MemberType.csv\", index=False, header=True)"
   ]
  },
  {
   "cell_type": "markdown",
   "metadata": {},
   "source": [
    "## Load to BikeShareDB"
   ]
  },
  {
   "cell_type": "code",
   "execution_count": 79,
   "metadata": {},
   "outputs": [],
   "source": [
    "import sqlalchemy\n",
    "from sqlalchemy import create_engine, func\n",
    "from sqlalchemy.ext.automap import automap_base\n",
    "from sqlalchemy.orm import Session\n",
    "from config import conn_string"
   ]
  },
  {
   "cell_type": "code",
   "execution_count": 80,
   "metadata": {},
   "outputs": [],
   "source": [
    "# connect to database\n",
    "cnx = f'postgresql://{conn_string}'\n",
    "engine = create_engine(cnx)"
   ]
  },
  {
   "cell_type": "code",
   "execution_count": 81,
   "metadata": {},
   "outputs": [
    {
     "data": {
      "text/plain": [
       "['locations', 'membertypes', 'stations', 'bikes', 'ridership', 'pricing']"
      ]
     },
     "execution_count": 81,
     "metadata": {},
     "output_type": "execute_result"
    }
   ],
   "source": [
    "engine.table_names()"
   ]
  },
  {
   "cell_type": "code",
   "execution_count": 82,
   "metadata": {},
   "outputs": [
    {
     "data": {
      "text/plain": [
       "['locations', 'membertypes', 'stations', 'bikes', 'ridership', 'pricing']"
      ]
     },
     "execution_count": 82,
     "metadata": {},
     "output_type": "execute_result"
    }
   ],
   "source": [
    "# reflect database into ORM classes\n",
    "Base = automap_base()\n",
    "Base.prepare(engine, reflect=True)\n",
    "Base.classes.keys()"
   ]
  },
  {
   "cell_type": "code",
   "execution_count": 83,
   "metadata": {},
   "outputs": [],
   "source": [
    "# Save a reference to stations and bikes tables\n",
    "Stations = Base.classes.stations\n",
    "Bikes = Base.classes.bikes"
   ]
  },
  {
   "cell_type": "code",
   "execution_count": 84,
   "metadata": {},
   "outputs": [],
   "source": [
    "# create session\n",
    "session = Session(engine)"
   ]
  },
  {
   "cell_type": "code",
   "execution_count": 97,
   "metadata": {},
   "outputs": [
    {
     "data": {
      "text/html": [
       "<div>\n",
       "<style scoped>\n",
       "    .dataframe tbody tr th:only-of-type {\n",
       "        vertical-align: middle;\n",
       "    }\n",
       "\n",
       "    .dataframe tbody tr th {\n",
       "        vertical-align: top;\n",
       "    }\n",
       "\n",
       "    .dataframe thead th {\n",
       "        text-align: right;\n",
       "    }\n",
       "</style>\n",
       "<table border=\"1\" class=\"dataframe\">\n",
       "  <thead>\n",
       "    <tr style=\"text-align: right;\">\n",
       "      <th></th>\n",
       "      <th>station_id</th>\n",
       "    </tr>\n",
       "  </thead>\n",
       "  <tbody>\n",
       "    <tr>\n",
       "      <th>0</th>\n",
       "      <td>7021</td>\n",
       "    </tr>\n",
       "  </tbody>\n",
       "</table>\n",
       "</div>"
      ],
      "text/plain": [
       "   station_id\n",
       "0        7021"
      ]
     },
     "execution_count": 97,
     "metadata": {},
     "output_type": "execute_result"
    }
   ],
   "source": [
    "# check refential integrity for station ids on start_station_id and end_station_id\n",
    "# 1. query stations table\n",
    "stns = session.query(Stations.station_id).filter(Stations.location_id == 1).filter(Stations.station_id==7021).all()\n",
    "stns_df = pd.DataFrame(stns)\n",
    "stns_df"
   ]
  },
  {
   "cell_type": "code",
   "execution_count": 93,
   "metadata": {},
   "outputs": [
    {
     "data": {
      "text/html": [
       "<div>\n",
       "<style scoped>\n",
       "    .dataframe tbody tr th:only-of-type {\n",
       "        vertical-align: middle;\n",
       "    }\n",
       "\n",
       "    .dataframe tbody tr th {\n",
       "        vertical-align: top;\n",
       "    }\n",
       "\n",
       "    .dataframe thead th {\n",
       "        text-align: right;\n",
       "    }\n",
       "</style>\n",
       "<table border=\"1\" class=\"dataframe\">\n",
       "  <thead>\n",
       "    <tr style=\"text-align: right;\">\n",
       "      <th></th>\n",
       "      <th>start_station_id</th>\n",
       "    </tr>\n",
       "  </thead>\n",
       "  <tbody>\n",
       "    <tr>\n",
       "      <th>0</th>\n",
       "      <td>7021</td>\n",
       "    </tr>\n",
       "    <tr>\n",
       "      <th>1</th>\n",
       "      <td>7160</td>\n",
       "    </tr>\n",
       "    <tr>\n",
       "      <th>2</th>\n",
       "      <td>7055</td>\n",
       "    </tr>\n",
       "    <tr>\n",
       "      <th>3</th>\n",
       "      <td>7012</td>\n",
       "    </tr>\n",
       "    <tr>\n",
       "      <th>4</th>\n",
       "      <td>7041</td>\n",
       "    </tr>\n",
       "    <tr>\n",
       "      <th>...</th>\n",
       "      <td>...</td>\n",
       "    </tr>\n",
       "    <tr>\n",
       "      <th>464</th>\n",
       "      <td>7485</td>\n",
       "    </tr>\n",
       "    <tr>\n",
       "      <th>465</th>\n",
       "      <td>7506</td>\n",
       "    </tr>\n",
       "    <tr>\n",
       "      <th>466</th>\n",
       "      <td>7510</td>\n",
       "    </tr>\n",
       "    <tr>\n",
       "      <th>467</th>\n",
       "      <td>7394</td>\n",
       "    </tr>\n",
       "    <tr>\n",
       "      <th>468</th>\n",
       "      <td>7511</td>\n",
       "    </tr>\n",
       "  </tbody>\n",
       "</table>\n",
       "<p>469 rows × 1 columns</p>\n",
       "</div>"
      ],
      "text/plain": [
       "     start_station_id\n",
       "0                7021\n",
       "1                7160\n",
       "2                7055\n",
       "3                7012\n",
       "4                7041\n",
       "..                ...\n",
       "464              7485\n",
       "465              7506\n",
       "466              7510\n",
       "467              7394\n",
       "468              7511\n",
       "\n",
       "[469 rows x 1 columns]"
      ]
     },
     "execution_count": 93,
     "metadata": {},
     "output_type": "execute_result"
    }
   ],
   "source": [
    "# 2. check that all start_station_id and end_station_id in bike_share exists in stations table\n",
    "start_stn = pd.DataFrame(bike_share[[\"start_station_id\"]])\n",
    "start_stn = start_stn.drop_duplicates().reset_index(drop=True)\n",
    "start_stn\n",
    "\n",
    "missing = start_stn.loc[~start_stn[\"start_station_id\"].isin(stns_df)]\n",
    "missing"
   ]
  },
  {
   "cell_type": "code",
   "execution_count": 27,
   "metadata": {},
   "outputs": [],
   "source": [
    "# load bikes to Bikes table\n",
    "bikes.to_sql(name='bikes', con=engine, if_exists='append', index=False)"
   ]
  },
  {
   "cell_type": "code",
   "execution_count": 28,
   "metadata": {},
   "outputs": [],
   "source": [
    "MemberType.to_sql(name='membertypes', con=engine, if_exists='append', index=False)"
   ]
  },
  {
   "cell_type": "code",
   "execution_count": null,
   "metadata": {},
   "outputs": [],
   "source": [
    "bike_share.to_sql(name='ridership', con=engine, if_exists='append', index)"
   ]
  }
 ],
 "metadata": {
  "kernelspec": {
   "display_name": "Python 3",
   "language": "python",
   "name": "python3"
  },
  "language_info": {
   "codemirror_mode": {
    "name": "ipython",
    "version": 3
   },
   "file_extension": ".py",
   "mimetype": "text/x-python",
   "name": "python",
   "nbconvert_exporter": "python",
   "pygments_lexer": "ipython3",
   "version": "3.8.3"
  }
 },
 "nbformat": 4,
 "nbformat_minor": 4
}
