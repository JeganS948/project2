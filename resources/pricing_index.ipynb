{
 "cells": [
  {
   "cell_type": "markdown",
   "metadata": {},
   "source": [
    "<b>Initial Setup<b>"
   ]
  },
  {
   "cell_type": "code",
   "execution_count": 1,
   "metadata": {},
   "outputs": [],
   "source": [
    "# import dependencies\n",
    "import pandas as pd\n",
    "from urllib.request import urlopen\n",
    "from bs4 import BeautifulSoup as bs\n",
    "from webdriver_manager.chrome import ChromeDriverManager\n",
    "import time"
   ]
  },
  {
   "cell_type": "markdown",
   "metadata": {},
   "source": [
    "<b>Get URL<b>"
   ]
  },
  {
   "cell_type": "code",
   "execution_count": 2,
   "metadata": {},
   "outputs": [],
   "source": [
    "url = \"https://bikesharetoronto.com/pricing/\"\n",
    "html = urlopen(url)\n",
    "\n",
    "# VANCOUVER -> https://www.mobibikes.ca/en/offers-subscription\n",
    "# BOSTON    -> https://www.bluebikes.com/pricing\n",
    "# NEEW YORK -> https://www.citibikenyc.com/pricing"
   ]
  },
  {
   "cell_type": "code",
   "execution_count": 3,
   "metadata": {},
   "outputs": [
    {
     "data": {
      "text/plain": [
       "bs4.BeautifulSoup"
      ]
     },
     "execution_count": 3,
     "metadata": {},
     "output_type": "execute_result"
    }
   ],
   "source": [
    "soup = bs(html,'lxml')\n",
    "type(soup)"
   ]
  },
  {
   "cell_type": "markdown",
   "metadata": {},
   "source": [
    "<b>Parse Data<b>"
   ]
  },
  {
   "cell_type": "code",
   "execution_count": 4,
   "metadata": {},
   "outputs": [
    {
     "name": "stdout",
     "output_type": "stream",
     "text": [
      "<title>Get a Pass and Ride - Pricing Details: Bike Share Toronto | Bike Share Toronto    </title>\n"
     ]
    }
   ],
   "source": [
    "# Get the title\n",
    "title = soup.title\n",
    "print(title)"
   ]
  },
  {
   "cell_type": "code",
   "execution_count": 6,
   "metadata": {},
   "outputs": [],
   "source": [
    "# Print out the text\n",
    "    # text = soup.get_text()\n",
    "    # print(soup.title)"
   ]
  },
  {
   "cell_type": "code",
   "execution_count": 9,
   "metadata": {},
   "outputs": [],
   "source": [
    "# soup.find_all('a')"
   ]
  },
  {
   "cell_type": "code",
   "execution_count": 8,
   "metadata": {},
   "outputs": [
    {
     "name": "stdout",
     "output_type": "stream",
     "text": [
      "https://play.google.com/store/apps/details?id=pbsc.bikes&hl=en\n",
      "https://itunes.apple.com/us/app/cyclefinder/id557237724?mt=8\n",
      "https://twitter.com/bikeshareTO\n",
      "https://www.facebook.com/bikesharetoronto\n",
      "http://instagram.com/bikeshareto\n",
      "https://bikesharetoronto.com\n",
      "https://bikesharetoronto.com/members/login\n",
      "https://bikesharetoronto.com/members/register\n",
      "https://bikesharetoronto.com/how-it-works/\n",
      "https://bikesharetoronto.com/how-it-works/\n",
      "https://bikesharetoronto.com/bikes/\n",
      "https://bikesharetoronto.com/e-bikes/\n",
      "https://bikesharetoronto.com/app/\n",
      "https://bikesharetoronto.com/faq/\n",
      "https://bikesharetoronto.com/app/\n",
      "https://bikesharetoronto.com/pricing/\n",
      "https://bikesharetoronto.com/system-map/\n",
      "https://bikesharetoronto.com/how-can-we-help/\n",
      "https://bikesharetoronto.com/ride-toronto/\n",
      "https://bikesharetoronto.com/ride-toronto/#news\n",
      "https://bikesharetoronto.com/member-perks/\n",
      "https://bikesharetoronto.com/popular-routes/\n",
      "https://bikesharetoronto.com/ride-toronto/#stations\n",
      "https://bikesharetoronto.com/ride-toronto/#members\n",
      "https://bikesharetoronto.com/how-it-works/\n",
      "https://bikesharetoronto.com/how-it-works/\n",
      "https://bikesharetoronto.com/bikes/\n",
      "https://bikesharetoronto.com/e-bikes/\n",
      "https://bikesharetoronto.com/app/\n",
      "https://bikesharetoronto.com/faq/\n",
      "https://bikesharetoronto.com/app/\n",
      "https://bikesharetoronto.com/pricing/\n",
      "https://bikesharetoronto.com/system-map/\n",
      "https://bikesharetoronto.com/how-can-we-help/\n",
      "https://bikesharetoronto.com/ride-toronto/\n",
      "https://bikesharetoronto.com/ride-toronto/#news\n",
      "https://bikesharetoronto.com/member-perks/\n",
      "https://bikesharetoronto.com/popular-routes/\n",
      "https://bikesharetoronto.com/ride-toronto/#stations\n",
      "https://bikesharetoronto.com/ride-toronto/#members\n",
      "https://bikesharetoronto.com/members/login\n",
      "https://bikesharetoronto.com/members/register\n",
      "https://twitter.com/bikeshareTO\n",
      "https://www.facebook.com/bikesharetoronto\n",
      "http://instagram.com/bikeshareto\n",
      "https://bikesharetoronto.com/annual-membership/\n",
      "https://bikesharetoronto.com/day-passes/\n",
      "https://bikesharetoronto.com/day-passes/\n",
      "https://bikesharetoronto.com/day-passes/\n",
      "https://bikesharetoronto.com/wp-content/uploads/2020/06/Screen_Shot_2020-06-29_at_4-removebg-preview-1.png\n",
      "https://itunes.apple.com/us/app/cyclefinder/id557237724?mt=8\n",
      "https://play.google.com/store/apps/details?id=pbsc.bikes&hl=en\n",
      "https://bikesharetoronto.com\n",
      "https://bikesharetoronto.com/\n",
      "https://bikesharetoronto.com/faq/\n",
      "https://bikesharetoronto.com/how-can-we-help/\n",
      "https://bikesharetoronto.com/careers/\n",
      "https://bikesharetoronto.com/moneris-update/\n",
      "https://bikesharetoronto.com/road-safety/\n",
      "https://bikesharetoronto.com/presto/\n",
      "https://bikesharetoronto.com/partners/\n",
      "https://bikesharetoronto.com/user-agreement/\n",
      "https://bikesharetoronto.com/privacy-statement/\n",
      "https://twitter.com/bikeshareTO\n",
      "https://www.facebook.com/bikesharetoronto\n",
      "http://instagram.com/bikeshareto\n"
     ]
    }
   ],
   "source": [
    "all_links = soup.find_all(\"a\")\n",
    "for link in all_links:\n",
    "    print(link.get(\"href\"))"
   ]
  },
  {
   "cell_type": "code",
   "execution_count": null,
   "metadata": {},
   "outputs": [],
   "source": []
  }
 ],
 "metadata": {
  "kernelspec": {
   "display_name": "Python 3",
   "language": "python",
   "name": "python3"
  },
  "language_info": {
   "codemirror_mode": {
    "name": "ipython",
    "version": 3
   },
   "file_extension": ".py",
   "mimetype": "text/x-python",
   "name": "python",
   "nbconvert_exporter": "python",
   "pygments_lexer": "ipython3",
   "version": "3.8.3"
  }
 },
 "nbformat": 4,
 "nbformat_minor": 4
}
