{
 "cells": [
  {
   "cell_type": "markdown",
   "metadata": {},
   "source": [
    "# Import dependencies"
   ]
  },
  {
   "cell_type": "code",
   "execution_count": 1,
   "metadata": {},
   "outputs": [],
   "source": [
    "import os\n",
    "import pandas as pd\n",
    "import datetime as dt"
   ]
  },
  {
   "cell_type": "markdown",
   "metadata": {},
   "source": [
    "# Study data files"
   ]
  },
  {
   "cell_type": "code",
   "execution_count": 2,
   "metadata": {},
   "outputs": [],
   "source": [
    "# ny files\n",
    "ny_01_path = os.path.join(\"Resources\",\"201901-citibike-tripdata.csv\")\n",
    "# ny_02_path = os.path.join(\"Resources\",\"201902-citibike-tripdata.csv\")\n",
    "# ny_03_path = os.path.join(\"Resources\",\"201903-citibike-tripdata.csv\")\n",
    "# ny_04_path = os.path.join(\"Resources\",\"201904-citibike-tripdata.csv\")\n",
    "# ny_05_path = os.path.join(\"Resources\",\"201905-citibike-tripdata.csv\")\n",
    "# ny_06_path = os.path.join(\"Resources\",\"201906-citibike-tripdata.csv\")\n",
    "# ny_07_path = os.path.join(\"Resources\",\"201907-citibike-tripdata.csv\")\n",
    "# ny_08_path = os.path.join(\"Resources\",\"201908-citibike-tripdata.csv\")\n",
    "# ny_09_path = os.path.join(\"Resources\",\"201909-citibike-tripdata.csv\")\n",
    "# ny_10_path = os.path.join(\"Resources\",\"201910-citibike-tripdata.csv\")\n",
    "# ny_11_path = os.path.join(\"Resources\",\"201911-citibike-tripdata.csv\")\n",
    "# ny_12_path = os.path.join(\"Resources\",\"201912-citibike-tripdata.csv\")"
   ]
  },
  {
   "cell_type": "markdown",
   "metadata": {},
   "source": [
    "# Read the data and study the results"
   ]
  },
  {
   "cell_type": "code",
   "execution_count": 3,
   "metadata": {},
   "outputs": [],
   "source": [
    "ny_01 = pd.read_csv(ny_01_path, encoding=\"utf=8\")\n",
    "# ny_02 = pd.read_csv(ny_02_path, encoding=\"utf=8\")\n",
    "# ny_03 = pd.read_csv(ny_03_path, encoding=\"utf=8\")\n",
    "# ny_04 = pd.read_csv(ny_04_path, encoding=\"utf=8\")\n",
    "# ny_05 = pd.read_csv(ny_05_path, encoding=\"utf=8\")\n",
    "# ny_06 = pd.read_csv(ny_06_path, encoding=\"utf=8\")\n",
    "# ny_07 = pd.read_csv(ny_07_path, encoding=\"utf=8\")\n",
    "# ny_08 = pd.read_csv(ny_08_path, encoding=\"utf=8\")\n",
    "# ny_09 = pd.read_csv(ny_09_path, encoding=\"utf=8\")\n",
    "# ny_10 = pd.read_csv(ny_10_path, encoding=\"utf=8\")\n",
    "# ny_11 = pd.read_csv(ny_11_path, encoding=\"utf=8\")\n",
    "# ny_12 = pd.read_csv(ny_12_path, encoding=\"utf=8\")"
   ]
  },
  {
   "cell_type": "code",
   "execution_count": 4,
   "metadata": {},
   "outputs": [],
   "source": [
    "# cap at 500\n",
    "ny_01 = ny_01.head(500)"
   ]
  },
  {
   "cell_type": "code",
   "execution_count": 5,
   "metadata": {},
   "outputs": [],
   "source": [
    "# drop columns\n",
    "i =[\"birth year\",\"gender\",\"start station latitude\",\"start station longitude\",\"end station latitude\",\n",
    "    \"end station longitude\",\"end station name\",\"start station name\"]\n",
    "\n",
    "ny_01=ny_01.drop(columns=i)\n",
    "# ny_02=ny_02.drop(columns=i)\n",
    "# ny_03=ny_03.drop(columns=i)\n",
    "# ny_04=ny_04.drop(columns=i)\n",
    "# ny_05=ny_05.drop(columns=i)\n",
    "# ny_06=ny_06.drop(columns=i)\n",
    "# ny_07=ny_07.drop(columns=i)\n",
    "# ny_08=ny_08.drop(columns=i)\n",
    "# ny_09=ny_09.drop(columns=i)\n",
    "# ny_10=ny_10.drop(columns=i)\n",
    "# ny_11=ny_11.drop(columns=i)\n",
    "# ny_12=ny_12.drop(columns=i)\n"
   ]
  },
  {
   "cell_type": "code",
   "execution_count": 6,
   "metadata": {},
   "outputs": [
    {
     "data": {
      "text/html": [
       "<div>\n",
       "<style scoped>\n",
       "    .dataframe tbody tr th:only-of-type {\n",
       "        vertical-align: middle;\n",
       "    }\n",
       "\n",
       "    .dataframe tbody tr th {\n",
       "        vertical-align: top;\n",
       "    }\n",
       "\n",
       "    .dataframe thead th {\n",
       "        text-align: right;\n",
       "    }\n",
       "</style>\n",
       "<table border=\"1\" class=\"dataframe\">\n",
       "  <thead>\n",
       "    <tr style=\"text-align: right;\">\n",
       "      <th></th>\n",
       "      <th>tripduration</th>\n",
       "      <th>starttime</th>\n",
       "      <th>stoptime</th>\n",
       "      <th>start station id</th>\n",
       "      <th>end station id</th>\n",
       "      <th>bikeid</th>\n",
       "      <th>usertype</th>\n",
       "    </tr>\n",
       "  </thead>\n",
       "  <tbody>\n",
       "    <tr>\n",
       "      <th>0</th>\n",
       "      <td>320</td>\n",
       "      <td>2019-01-01 00:01:47.4010</td>\n",
       "      <td>2019-01-01 00:07:07.5810</td>\n",
       "      <td>3160.0</td>\n",
       "      <td>3283.0</td>\n",
       "      <td>15839</td>\n",
       "      <td>Subscriber</td>\n",
       "    </tr>\n",
       "    <tr>\n",
       "      <th>1</th>\n",
       "      <td>316</td>\n",
       "      <td>2019-01-01 00:04:43.7360</td>\n",
       "      <td>2019-01-01 00:10:00.6080</td>\n",
       "      <td>519.0</td>\n",
       "      <td>518.0</td>\n",
       "      <td>32723</td>\n",
       "      <td>Subscriber</td>\n",
       "    </tr>\n",
       "    <tr>\n",
       "      <th>2</th>\n",
       "      <td>591</td>\n",
       "      <td>2019-01-01 00:06:03.9970</td>\n",
       "      <td>2019-01-01 00:15:55.4380</td>\n",
       "      <td>3171.0</td>\n",
       "      <td>3154.0</td>\n",
       "      <td>27451</td>\n",
       "      <td>Subscriber</td>\n",
       "    </tr>\n",
       "    <tr>\n",
       "      <th>3</th>\n",
       "      <td>2719</td>\n",
       "      <td>2019-01-01 00:07:03.5450</td>\n",
       "      <td>2019-01-01 00:52:22.6500</td>\n",
       "      <td>504.0</td>\n",
       "      <td>3709.0</td>\n",
       "      <td>21579</td>\n",
       "      <td>Subscriber</td>\n",
       "    </tr>\n",
       "    <tr>\n",
       "      <th>4</th>\n",
       "      <td>303</td>\n",
       "      <td>2019-01-01 00:07:35.9450</td>\n",
       "      <td>2019-01-01 00:12:39.5020</td>\n",
       "      <td>229.0</td>\n",
       "      <td>503.0</td>\n",
       "      <td>35379</td>\n",
       "      <td>Subscriber</td>\n",
       "    </tr>\n",
       "  </tbody>\n",
       "</table>\n",
       "</div>"
      ],
      "text/plain": [
       "   tripduration                 starttime                  stoptime  \\\n",
       "0           320  2019-01-01 00:01:47.4010  2019-01-01 00:07:07.5810   \n",
       "1           316  2019-01-01 00:04:43.7360  2019-01-01 00:10:00.6080   \n",
       "2           591  2019-01-01 00:06:03.9970  2019-01-01 00:15:55.4380   \n",
       "3          2719  2019-01-01 00:07:03.5450  2019-01-01 00:52:22.6500   \n",
       "4           303  2019-01-01 00:07:35.9450  2019-01-01 00:12:39.5020   \n",
       "\n",
       "   start station id  end station id  bikeid    usertype  \n",
       "0            3160.0          3283.0   15839  Subscriber  \n",
       "1             519.0           518.0   32723  Subscriber  \n",
       "2            3171.0          3154.0   27451  Subscriber  \n",
       "3             504.0          3709.0   21579  Subscriber  \n",
       "4             229.0           503.0   35379  Subscriber  "
      ]
     },
     "execution_count": 6,
     "metadata": {},
     "output_type": "execute_result"
    }
   ],
   "source": [
    "ny_01.head()"
   ]
  },
  {
   "cell_type": "code",
   "execution_count": 7,
   "metadata": {},
   "outputs": [],
   "source": [
    "#performing concatenation\n",
    "# new_york = [ny_01,ny_02,ny_03,ny_03,ny_03,ny_04,ny_05,ny_06,ny_06,ny_07,ny_08,ny_09,ny_10,ny_11,ny_12]\n",
    "# bike_share = pd.concat(new_york).drop_duplicates().reset_index(drop=True)\n",
    "bike_share = ny_01\n"
   ]
  },
  {
   "cell_type": "code",
   "execution_count": 8,
   "metadata": {},
   "outputs": [],
   "source": [
    "# remove rows with null values\n",
    "bike_share = bike_share.dropna()"
   ]
  },
  {
   "cell_type": "code",
   "execution_count": 9,
   "metadata": {},
   "outputs": [],
   "source": [
    "#Add new column:location_id\n",
    "bike_share = bike_share.assign(location_id=4)\n"
   ]
  },
  {
   "cell_type": "code",
   "execution_count": 10,
   "metadata": {},
   "outputs": [
    {
     "data": {
      "text/html": [
       "<div>\n",
       "<style scoped>\n",
       "    .dataframe tbody tr th:only-of-type {\n",
       "        vertical-align: middle;\n",
       "    }\n",
       "\n",
       "    .dataframe tbody tr th {\n",
       "        vertical-align: top;\n",
       "    }\n",
       "\n",
       "    .dataframe thead th {\n",
       "        text-align: right;\n",
       "    }\n",
       "</style>\n",
       "<table border=\"1\" class=\"dataframe\">\n",
       "  <thead>\n",
       "    <tr style=\"text-align: right;\">\n",
       "      <th></th>\n",
       "      <th>tripduration</th>\n",
       "      <th>starttime</th>\n",
       "      <th>stoptime</th>\n",
       "      <th>start station id</th>\n",
       "      <th>end station id</th>\n",
       "      <th>bikeid</th>\n",
       "      <th>usertype</th>\n",
       "      <th>location_id</th>\n",
       "    </tr>\n",
       "  </thead>\n",
       "  <tbody>\n",
       "    <tr>\n",
       "      <th>0</th>\n",
       "      <td>320</td>\n",
       "      <td>2019-01-01 00:01:47.4010</td>\n",
       "      <td>2019-01-01 00:07:07.5810</td>\n",
       "      <td>3160.0</td>\n",
       "      <td>3283.0</td>\n",
       "      <td>15839</td>\n",
       "      <td>Subscriber</td>\n",
       "      <td>4</td>\n",
       "    </tr>\n",
       "    <tr>\n",
       "      <th>1</th>\n",
       "      <td>316</td>\n",
       "      <td>2019-01-01 00:04:43.7360</td>\n",
       "      <td>2019-01-01 00:10:00.6080</td>\n",
       "      <td>519.0</td>\n",
       "      <td>518.0</td>\n",
       "      <td>32723</td>\n",
       "      <td>Subscriber</td>\n",
       "      <td>4</td>\n",
       "    </tr>\n",
       "    <tr>\n",
       "      <th>2</th>\n",
       "      <td>591</td>\n",
       "      <td>2019-01-01 00:06:03.9970</td>\n",
       "      <td>2019-01-01 00:15:55.4380</td>\n",
       "      <td>3171.0</td>\n",
       "      <td>3154.0</td>\n",
       "      <td>27451</td>\n",
       "      <td>Subscriber</td>\n",
       "      <td>4</td>\n",
       "    </tr>\n",
       "    <tr>\n",
       "      <th>3</th>\n",
       "      <td>2719</td>\n",
       "      <td>2019-01-01 00:07:03.5450</td>\n",
       "      <td>2019-01-01 00:52:22.6500</td>\n",
       "      <td>504.0</td>\n",
       "      <td>3709.0</td>\n",
       "      <td>21579</td>\n",
       "      <td>Subscriber</td>\n",
       "      <td>4</td>\n",
       "    </tr>\n",
       "    <tr>\n",
       "      <th>4</th>\n",
       "      <td>303</td>\n",
       "      <td>2019-01-01 00:07:35.9450</td>\n",
       "      <td>2019-01-01 00:12:39.5020</td>\n",
       "      <td>229.0</td>\n",
       "      <td>503.0</td>\n",
       "      <td>35379</td>\n",
       "      <td>Subscriber</td>\n",
       "      <td>4</td>\n",
       "    </tr>\n",
       "  </tbody>\n",
       "</table>\n",
       "</div>"
      ],
      "text/plain": [
       "   tripduration                 starttime                  stoptime  \\\n",
       "0           320  2019-01-01 00:01:47.4010  2019-01-01 00:07:07.5810   \n",
       "1           316  2019-01-01 00:04:43.7360  2019-01-01 00:10:00.6080   \n",
       "2           591  2019-01-01 00:06:03.9970  2019-01-01 00:15:55.4380   \n",
       "3          2719  2019-01-01 00:07:03.5450  2019-01-01 00:52:22.6500   \n",
       "4           303  2019-01-01 00:07:35.9450  2019-01-01 00:12:39.5020   \n",
       "\n",
       "   start station id  end station id  bikeid    usertype  location_id  \n",
       "0            3160.0          3283.0   15839  Subscriber            4  \n",
       "1             519.0           518.0   32723  Subscriber            4  \n",
       "2            3171.0          3154.0   27451  Subscriber            4  \n",
       "3             504.0          3709.0   21579  Subscriber            4  \n",
       "4             229.0           503.0   35379  Subscriber            4  "
      ]
     },
     "execution_count": 10,
     "metadata": {},
     "output_type": "execute_result"
    }
   ],
   "source": [
    "bike_share.head()"
   ]
  },
  {
   "cell_type": "code",
   "execution_count": 11,
   "metadata": {},
   "outputs": [],
   "source": [
    "# rename columns\n",
    "bike_share = bike_share.rename(columns={\"tripduration\": \"trip_duration\",\n",
    "                                        \"starttime\": \"start_date\",\n",
    "                                        \"stoptime\": \"end_date\",\n",
    "                                        \"start station id\": \"start_station_id\",\n",
    "                                        \"end station id\": \"end_station_id\",\n",
    "                                        \"bikeid\": \"bike_id\",\n",
    "                                        \"usertype\": \"member_type\"\n",
    "                                       })"
   ]
  },
  {
   "cell_type": "code",
   "execution_count": 12,
   "metadata": {},
   "outputs": [
    {
     "data": {
      "text/html": [
       "<div>\n",
       "<style scoped>\n",
       "    .dataframe tbody tr th:only-of-type {\n",
       "        vertical-align: middle;\n",
       "    }\n",
       "\n",
       "    .dataframe tbody tr th {\n",
       "        vertical-align: top;\n",
       "    }\n",
       "\n",
       "    .dataframe thead th {\n",
       "        text-align: right;\n",
       "    }\n",
       "</style>\n",
       "<table border=\"1\" class=\"dataframe\">\n",
       "  <thead>\n",
       "    <tr style=\"text-align: right;\">\n",
       "      <th></th>\n",
       "      <th>trip_duration</th>\n",
       "      <th>start_date</th>\n",
       "      <th>end_date</th>\n",
       "      <th>start_station_id</th>\n",
       "      <th>end_station_id</th>\n",
       "      <th>bike_id</th>\n",
       "      <th>member_type</th>\n",
       "      <th>location_id</th>\n",
       "    </tr>\n",
       "  </thead>\n",
       "  <tbody>\n",
       "    <tr>\n",
       "      <th>0</th>\n",
       "      <td>320</td>\n",
       "      <td>2019-01-01 00:01:47.4010</td>\n",
       "      <td>2019-01-01 00:07:07.5810</td>\n",
       "      <td>3160.0</td>\n",
       "      <td>3283.0</td>\n",
       "      <td>15839</td>\n",
       "      <td>Subscriber</td>\n",
       "      <td>4</td>\n",
       "    </tr>\n",
       "    <tr>\n",
       "      <th>1</th>\n",
       "      <td>316</td>\n",
       "      <td>2019-01-01 00:04:43.7360</td>\n",
       "      <td>2019-01-01 00:10:00.6080</td>\n",
       "      <td>519.0</td>\n",
       "      <td>518.0</td>\n",
       "      <td>32723</td>\n",
       "      <td>Subscriber</td>\n",
       "      <td>4</td>\n",
       "    </tr>\n",
       "    <tr>\n",
       "      <th>2</th>\n",
       "      <td>591</td>\n",
       "      <td>2019-01-01 00:06:03.9970</td>\n",
       "      <td>2019-01-01 00:15:55.4380</td>\n",
       "      <td>3171.0</td>\n",
       "      <td>3154.0</td>\n",
       "      <td>27451</td>\n",
       "      <td>Subscriber</td>\n",
       "      <td>4</td>\n",
       "    </tr>\n",
       "    <tr>\n",
       "      <th>3</th>\n",
       "      <td>2719</td>\n",
       "      <td>2019-01-01 00:07:03.5450</td>\n",
       "      <td>2019-01-01 00:52:22.6500</td>\n",
       "      <td>504.0</td>\n",
       "      <td>3709.0</td>\n",
       "      <td>21579</td>\n",
       "      <td>Subscriber</td>\n",
       "      <td>4</td>\n",
       "    </tr>\n",
       "    <tr>\n",
       "      <th>4</th>\n",
       "      <td>303</td>\n",
       "      <td>2019-01-01 00:07:35.9450</td>\n",
       "      <td>2019-01-01 00:12:39.5020</td>\n",
       "      <td>229.0</td>\n",
       "      <td>503.0</td>\n",
       "      <td>35379</td>\n",
       "      <td>Subscriber</td>\n",
       "      <td>4</td>\n",
       "    </tr>\n",
       "  </tbody>\n",
       "</table>\n",
       "</div>"
      ],
      "text/plain": [
       "   trip_duration                start_date                  end_date  \\\n",
       "0            320  2019-01-01 00:01:47.4010  2019-01-01 00:07:07.5810   \n",
       "1            316  2019-01-01 00:04:43.7360  2019-01-01 00:10:00.6080   \n",
       "2            591  2019-01-01 00:06:03.9970  2019-01-01 00:15:55.4380   \n",
       "3           2719  2019-01-01 00:07:03.5450  2019-01-01 00:52:22.6500   \n",
       "4            303  2019-01-01 00:07:35.9450  2019-01-01 00:12:39.5020   \n",
       "\n",
       "   start_station_id  end_station_id  bike_id member_type  location_id  \n",
       "0            3160.0          3283.0    15839  Subscriber            4  \n",
       "1             519.0           518.0    32723  Subscriber            4  \n",
       "2            3171.0          3154.0    27451  Subscriber            4  \n",
       "3             504.0          3709.0    21579  Subscriber            4  \n",
       "4             229.0           503.0    35379  Subscriber            4  "
      ]
     },
     "execution_count": 12,
     "metadata": {},
     "output_type": "execute_result"
    }
   ],
   "source": [
    "# rearrange columns\n",
    "bike_share = bike_share[[\"trip_duration\", \"start_date\", \"end_date\",\n",
    "                         \"start_station_id\", \"end_station_id\", \"bike_id\",\n",
    "                         \"member_type\", \"location_id\"]]\n",
    "bike_share.head()"
   ]
  },
  {
   "cell_type": "code",
   "execution_count": 13,
   "metadata": {},
   "outputs": [],
   "source": [
    "#Bike ID\n",
    "bikes = pd.DataFrame(bike_share[[\"bike_id\",\"location_id\"]])"
   ]
  },
  {
   "cell_type": "code",
   "execution_count": 14,
   "metadata": {},
   "outputs": [
    {
     "data": {
      "text/html": [
       "<div>\n",
       "<style scoped>\n",
       "    .dataframe tbody tr th:only-of-type {\n",
       "        vertical-align: middle;\n",
       "    }\n",
       "\n",
       "    .dataframe tbody tr th {\n",
       "        vertical-align: top;\n",
       "    }\n",
       "\n",
       "    .dataframe thead th {\n",
       "        text-align: right;\n",
       "    }\n",
       "</style>\n",
       "<table border=\"1\" class=\"dataframe\">\n",
       "  <thead>\n",
       "    <tr style=\"text-align: right;\">\n",
       "      <th></th>\n",
       "      <th>bike_id</th>\n",
       "      <th>location_id</th>\n",
       "    </tr>\n",
       "  </thead>\n",
       "  <tbody>\n",
       "    <tr>\n",
       "      <th>0</th>\n",
       "      <td>15839</td>\n",
       "      <td>4</td>\n",
       "    </tr>\n",
       "    <tr>\n",
       "      <th>1</th>\n",
       "      <td>32723</td>\n",
       "      <td>4</td>\n",
       "    </tr>\n",
       "    <tr>\n",
       "      <th>2</th>\n",
       "      <td>27451</td>\n",
       "      <td>4</td>\n",
       "    </tr>\n",
       "    <tr>\n",
       "      <th>3</th>\n",
       "      <td>21579</td>\n",
       "      <td>4</td>\n",
       "    </tr>\n",
       "    <tr>\n",
       "      <th>4</th>\n",
       "      <td>35379</td>\n",
       "      <td>4</td>\n",
       "    </tr>\n",
       "    <tr>\n",
       "      <th>...</th>\n",
       "      <td>...</td>\n",
       "      <td>...</td>\n",
       "    </tr>\n",
       "    <tr>\n",
       "      <th>439</th>\n",
       "      <td>32116</td>\n",
       "      <td>4</td>\n",
       "    </tr>\n",
       "    <tr>\n",
       "      <th>440</th>\n",
       "      <td>32830</td>\n",
       "      <td>4</td>\n",
       "    </tr>\n",
       "    <tr>\n",
       "      <th>441</th>\n",
       "      <td>16647</td>\n",
       "      <td>4</td>\n",
       "    </tr>\n",
       "    <tr>\n",
       "      <th>442</th>\n",
       "      <td>35532</td>\n",
       "      <td>4</td>\n",
       "    </tr>\n",
       "    <tr>\n",
       "      <th>443</th>\n",
       "      <td>32140</td>\n",
       "      <td>4</td>\n",
       "    </tr>\n",
       "  </tbody>\n",
       "</table>\n",
       "<p>444 rows × 2 columns</p>\n",
       "</div>"
      ],
      "text/plain": [
       "     bike_id  location_id\n",
       "0      15839            4\n",
       "1      32723            4\n",
       "2      27451            4\n",
       "3      21579            4\n",
       "4      35379            4\n",
       "..       ...          ...\n",
       "439    32116            4\n",
       "440    32830            4\n",
       "441    16647            4\n",
       "442    35532            4\n",
       "443    32140            4\n",
       "\n",
       "[444 rows x 2 columns]"
      ]
     },
     "execution_count": 14,
     "metadata": {},
     "output_type": "execute_result"
    }
   ],
   "source": [
    "bikes = bikes.drop_duplicates().reset_index(drop=True)\n",
    "bikes"
   ]
  },
  {
   "cell_type": "code",
   "execution_count": 15,
   "metadata": {},
   "outputs": [],
   "source": [
    "#User type\n",
    "usertype = pd.DataFrame(bike_share[[\"member_type\",\"location_id\"]])\n",
    "usertype = usertype.drop_duplicates().reset_index(drop=True)"
   ]
  },
  {
   "cell_type": "code",
   "execution_count": 16,
   "metadata": {},
   "outputs": [
    {
     "data": {
      "text/html": [
       "<div>\n",
       "<style scoped>\n",
       "    .dataframe tbody tr th:only-of-type {\n",
       "        vertical-align: middle;\n",
       "    }\n",
       "\n",
       "    .dataframe tbody tr th {\n",
       "        vertical-align: top;\n",
       "    }\n",
       "\n",
       "    .dataframe thead th {\n",
       "        text-align: right;\n",
       "    }\n",
       "</style>\n",
       "<table border=\"1\" class=\"dataframe\">\n",
       "  <thead>\n",
       "    <tr style=\"text-align: right;\">\n",
       "      <th></th>\n",
       "      <th>member_type</th>\n",
       "      <th>location_id</th>\n",
       "    </tr>\n",
       "  </thead>\n",
       "  <tbody>\n",
       "    <tr>\n",
       "      <th>0</th>\n",
       "      <td>Subscriber</td>\n",
       "      <td>4</td>\n",
       "    </tr>\n",
       "    <tr>\n",
       "      <th>1</th>\n",
       "      <td>Customer</td>\n",
       "      <td>4</td>\n",
       "    </tr>\n",
       "  </tbody>\n",
       "</table>\n",
       "</div>"
      ],
      "text/plain": [
       "  member_type  location_id\n",
       "0  Subscriber            4\n",
       "1    Customer            4"
      ]
     },
     "execution_count": 16,
     "metadata": {},
     "output_type": "execute_result"
    }
   ],
   "source": [
    "usertype"
   ]
  },
  {
   "cell_type": "code",
   "execution_count": 17,
   "metadata": {},
   "outputs": [],
   "source": [
    "# cap to 5,000 records\n",
    "bike_share = bike_share.head(5000)"
   ]
  },
  {
   "cell_type": "code",
   "execution_count": 18,
   "metadata": {},
   "outputs": [],
   "source": [
    "# create csv files\n",
    "bike_share.to_csv(\"nyc_bikeshare.csv\", index=False, header=True)"
   ]
  },
  {
   "cell_type": "code",
   "execution_count": 19,
   "metadata": {},
   "outputs": [],
   "source": [
    "bikes.to_csv(\"nyc_bikes.csv\", index=False, header=True)"
   ]
  },
  {
   "cell_type": "code",
   "execution_count": 20,
   "metadata": {},
   "outputs": [],
   "source": [
    "usertype.to_csv(\"nyc_membertypes.csv\", index=False, header=True)"
   ]
  },
  {
   "cell_type": "code",
   "execution_count": 21,
   "metadata": {},
   "outputs": [
    {
     "data": {
      "text/plain": [
       "trip_duration       500\n",
       "start_date          500\n",
       "end_date            500\n",
       "start_station_id    500\n",
       "end_station_id      500\n",
       "bike_id             500\n",
       "member_type         500\n",
       "location_id         500\n",
       "dtype: int64"
      ]
     },
     "execution_count": 21,
     "metadata": {},
     "output_type": "execute_result"
    }
   ],
   "source": [
    "bike_share.count()"
   ]
  },
  {
   "cell_type": "code",
   "execution_count": null,
   "metadata": {},
   "outputs": [],
   "source": []
  }
 ],
 "metadata": {
  "kernelspec": {
   "display_name": "Python 3",
   "language": "python",
   "name": "python3"
  },
  "language_info": {
   "codemirror_mode": {
    "name": "ipython",
    "version": 3
   },
   "file_extension": ".py",
   "mimetype": "text/x-python",
   "name": "python",
   "nbconvert_exporter": "python",
   "pygments_lexer": "ipython3",
   "version": "3.8.3"
  }
 },
 "nbformat": 4,
 "nbformat_minor": 4
}
