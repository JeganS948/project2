{
 "cells": [
  {
   "cell_type": "markdown",
   "metadata": {},
   "source": [
    "<b>Initial Setup<b>"
   ]
  },
  {
   "cell_type": "code",
   "execution_count": 18,
   "metadata": {},
   "outputs": [],
   "source": [
    "# import dependencies\n",
    "import pandas as pd\n",
    "from urllib.request import urlopen\n",
    "from bs4 import BeautifulSoup as bs\n",
    "from webdriver_manager.chrome import ChromeDriverManager\n",
    "import time\n",
    "import requests"
   ]
  },
  {
   "cell_type": "code",
   "execution_count": 19,
   "metadata": {},
   "outputs": [],
   "source": [
    "# import dependencies\n",
    "import pandas as pd\n",
    "from splinter import Browser\n",
    "from bs4 import BeautifulSoup as bs\n",
    "from webdriver_manager.chrome import ChromeDriverManager\n",
    "import time"
   ]
  },
  {
   "cell_type": "code",
   "execution_count": 41,
   "metadata": {},
   "outputs": [],
   "source": [
    "url='https://bikesharetoronto.com/pricing/'\n",
    "response=requests.get(url)\n",
    "soup=bs(response.content, 'lxml')\n",
    "divs=soup.find_all('div', class_='fl-module-content fl-node-content')"
   ]
  },
  {
   "cell_type": "code",
   "execution_count": 42,
   "metadata": {},
   "outputs": [
    {
     "data": {
      "text/plain": [
       "[<div class=\"fl-module-content fl-node-content\">\n",
       " <div class=\"fl-rich-text\">\n",
       " <h1 style=\"text-align: center;\"><span style=\"color: #ffffff; font-size: 36px;\">Pricing</span></h1>\n",
       " </div>\n",
       " </div>,\n",
       " <div class=\"fl-module-content fl-node-content\">\n",
       " <div class=\"fl-rich-text\">\n",
       " <h1><span style=\"font-size: 26px; color: #008000;\">Annual Membership $99 </span></h1>\n",
       " <h1><span style=\"color: #000000; font-size: 18px;\"><strong>Best Deal for Toronto Locals</strong></span></h1>\n",
       " <p> </p>\n",
       " <p><span style=\"font-size: 18px;\">Join as an Annual Member for only $99 per year. Enjoy unlimited 30 minute, station-to-station trips all year round for less than $10 a month or as little as 30¢ a day!</span></p>\n",
       " <p> </p>\n",
       " <p><span style=\"font-size: 14px;\">After 30 minutes extra usage fees apply, see Overage Fees below.</span></p>\n",
       " </div>\n",
       " </div>,\n",
       " <div class=\"fl-module-content fl-node-content\">\n",
       " <div class=\"fl-button-wrap fl-button-width-auto fl-button-left\">\n",
       " <a class=\"fl-button\" href=\"https://bikesharetoronto.com/annual-membership/\" role=\"button\" target=\"_self\">\n",
       " <span class=\"fl-button-text\">Join now</span>\n",
       " </a>\n",
       " </div>\n",
       " </div>,\n",
       " <div class=\"fl-module-content fl-node-content\">\n",
       " <div class=\"fl-photo fl-photo-crop-landscape fl-photo-align-right\" itemscope=\"\" itemtype=\"https://schema.org/ImageObject\">\n",
       " <div class=\"fl-photo-content fl-photo-img-jpg\">\n",
       " <img alt=\"Commuting with Bike Share Toronto\" class=\"fl-photo-img wp-image-2504 size-full\" height=\"2001\" itemprop=\"image\" src=\"https://bikesharetoronto.com/wp-content/uploads/bb-plugin/cache/Shift_Toronto0109-landscape.jpg\" title=\"Commuting\" width=\"2000\"/>\n",
       " </div>\n",
       " </div>\n",
       " </div>,\n",
       " <div class=\"fl-module-content fl-node-content\">\n",
       " <div class=\"fl-rich-text\">\n",
       " <h1><span style=\"font-size: 26px; color: #008000;\">72 HOUR ACCESS PASS $15</span></h1>\n",
       " <h1><span style=\"font-size: 18px; color: #000000;\"><strong>Visitors and City Explorers</strong></span></h1>\n",
       " <p> </p>\n",
       " <p><span style=\"font-size: 18px;\">Purchase a 3-Day Pass for $15 for 72-hour access to unlimited 30-minute rides.</span></p>\n",
       " <p> </p>\n",
       " <p><span style=\"font-size: 14px;\">The first 30 minutes of each ride are included in the base price of the pass. After 30 minutes extra usage fees apply, see Overage Fees below.</span></p>\n",
       " </div>\n",
       " </div>,\n",
       " <div class=\"fl-module-content fl-node-content\">\n",
       " <div class=\"fl-button-wrap fl-button-width-auto fl-button-left\">\n",
       " <a class=\"fl-button\" href=\"https://bikesharetoronto.com/day-passes/\" role=\"button\" target=\"_self\">\n",
       " <span class=\"fl-button-text\">Get a pass</span>\n",
       " </a>\n",
       " </div>\n",
       " </div>,\n",
       " <div class=\"fl-module-content fl-node-content\">\n",
       " <div class=\"fl-photo fl-photo-crop-landscape fl-photo-align-center\" itemscope=\"\" itemtype=\"https://schema.org/ImageObject\">\n",
       " <div class=\"fl-photo-content fl-photo-img-jpg\">\n",
       " <img alt=\"Explore the city with bike share toronto\" class=\"fl-photo-img wp-image-2503 size-full\" height=\"993\" itemprop=\"image\" src=\"https://bikesharetoronto.com/wp-content/uploads/bb-plugin/cache/Shift_Toronto0468-landscape.jpg\" title=\"Toronto activities with Bike Share\" width=\"2000\"/>\n",
       " </div>\n",
       " </div>\n",
       " </div>,\n",
       " <div class=\"fl-module-content fl-node-content\">\n",
       " <div class=\"fl-rich-text\">\n",
       " <h1><span style=\"font-size: 26px; color: #008000;\">24 HOUR ACCESS PASS $7</span></h1>\n",
       " <h1><span style=\"font-size: 18px; color: #000000;\"><strong>Short Stays and Occasional Riders</strong></span></h1>\n",
       " <p> </p>\n",
       " <p><span style=\"font-size: 18px;\">Purchase a Day Pass for $7 for 24-hour access to unlimited 30-minute rides.</span></p>\n",
       " <p> </p>\n",
       " <p><span style=\"font-size: 14px;\">The first 30 minutes of each ride are included in the base price of the pass. After 30 minutes extra usage fees apply, see Overage Fees below.</span></p>\n",
       " </div>\n",
       " </div>,\n",
       " <div class=\"fl-module-content fl-node-content\">\n",
       " <div class=\"fl-button-wrap fl-button-width-auto fl-button-left\">\n",
       " <a class=\"fl-button\" href=\"https://bikesharetoronto.com/day-passes/\" role=\"button\" target=\"_self\">\n",
       " <span class=\"fl-button-text\">Get a pass</span>\n",
       " </a>\n",
       " </div>\n",
       " </div>,\n",
       " <div class=\"fl-module-content fl-node-content\">\n",
       " <div class=\"fl-photo fl-photo-crop-landscape fl-photo-align-right\" itemscope=\"\" itemtype=\"https://schema.org/ImageObject\">\n",
       " <div class=\"fl-photo-content fl-photo-img-jpg\">\n",
       " <img alt=\"Toronto transportation bike\" class=\"fl-photo-img wp-image-5427 size-full\" height=\"667\" itemprop=\"image\" src=\"https://bikesharetoronto.com/wp-content/uploads/bb-plugin/cache/DSC09118-landscape.jpg\" title=\"Biking downtown\" width=\"1000\"/>\n",
       " </div>\n",
       " </div>\n",
       " </div>,\n",
       " <div class=\"fl-module-content fl-node-content\">\n",
       " <div class=\"fl-rich-text\">\n",
       " <h1><span style=\"font-size: 26px; color: #008000;\">Single Trip For $3.25</span></h1>\n",
       " <h1><span style=\"color: #000000; font-size: 18px;\"><span style=\"color: #000000;\">Quick and efficient one-way trip</span></span></h1>\n",
       " <p><span style=\"font-size: 18px;\">Purchase a Single Trip for $3.25 for a one-way trip up to 30 minutes in length.</span></p>\n",
       " <p> </p>\n",
       " <p><span style=\"font-size: 14px;\">The first 30 minutes of each ride are included in the base price of the pass. After 30 minutes extra usage fees apply, see Overage Fees below.</span></p>\n",
       " </div>\n",
       " </div>,\n",
       " <div class=\"fl-module-content fl-node-content\">\n",
       " <div class=\"fl-button-wrap fl-button-width-auto fl-button-left\">\n",
       " <a class=\"fl-button\" href=\"https://bikesharetoronto.com/day-passes/\" role=\"button\" target=\"_self\">\n",
       " <span class=\"fl-button-text\">Get a pass</span>\n",
       " </a>\n",
       " </div>\n",
       " </div>,\n",
       " <div class=\"fl-module-content fl-node-content\">\n",
       " <div class=\"fl-photo fl-photo-crop-landscape fl-photo-align-right\" itemscope=\"\" itemtype=\"https://schema.org/ImageObject\">\n",
       " <div class=\"fl-photo-content fl-photo-img-jpg\">\n",
       " <img alt=\"Commuting with Bike Share Toronto\" class=\"fl-photo-img wp-image-5423 size-full\" height=\"1067\" itemprop=\"image\" src=\"https://bikesharetoronto.com/wp-content/uploads/bb-plugin/cache/DSC00736-45-landscape.jpg\" title=\"Toronto bike transit\" width=\"1600\"/>\n",
       " </div>\n",
       " </div>\n",
       " </div>,\n",
       " <div class=\"fl-module-content fl-node-content\">\n",
       " <div class=\"fl-rich-text\">\n",
       " <h1><span style=\"font-size: 26px; color: #008000;\">OVERAGE FEES: $4 for every extra 30 minutes.</span></h1>\n",
       " </div>\n",
       " </div>,\n",
       " <div class=\"fl-module-content fl-node-content\">\n",
       " <div class=\"fl-rich-text\">\n",
       " <p><span style=\"font-size: 18px;\">For every trip exceeding 30 minutes, overage fees will accumulate at a rate of $4 for each (up to) 30 minutes of additional trip time. To avoid an overage charge, before your 30 minute trip is up, dock the bike and unlock another to continue riding. </span></p>\n",
       " <p> </p>\n",
       " <table style=\"border-collapse: collapse; width: 41.1874%; height: 20px;\">\n",
       " <tbody>\n",
       " <tr style=\"height: 20px;\">\n",
       " <td style=\"width: 16.2162%; height: 20px; text-align: left;\">\n",
       " <p style=\"text-align: center;\"><span style=\"font-size: 18px;\">Trip Time</span></p>\n",
       " <p style=\"text-align: center;\"><span style=\"font-size: 14px;\">0:01 – 30:00 </span></p>\n",
       " <p style=\"text-align: center;\"><span style=\"font-size: 14px;\">30:01 – 60:00 </span></p>\n",
       " <p style=\"text-align: center;\"><span style=\"font-size: 14px;\">60:01 – 90:00 </span></p>\n",
       " <p style=\"text-align: center;\"><span style=\"font-size: 14px;\">90:01 – 120:00 </span></p>\n",
       " <p style=\"text-align: center;\"><span style=\"font-size: 14px;\">120:01 – 150:00 </span></p>\n",
       " <p style=\"text-align: center;\"><span style=\"font-size: 14px;\">150:01 – 180:00 </span></p>\n",
       " </td>\n",
       " <td style=\"width: 29.8826%; height: 20px; text-align: left;\">\n",
       " <p style=\"text-align: center;\"><span style=\"font-size: 18px;\">Overage Fees</span></p>\n",
       " <p style=\"text-align: center;\"><span style=\"font-size: 14px;\">$0.00</span></p>\n",
       " <p style=\"text-align: center;\"><span style=\"font-size: 14px;\">$4.00</span></p>\n",
       " <p style=\"text-align: center;\"><span style=\"font-size: 14px;\">$8.00</span></p>\n",
       " <p style=\"text-align: center;\"><span style=\"font-size: 14px;\">$12.00</span></p>\n",
       " <p style=\"text-align: center;\"><span style=\"font-size: 14px;\">$16.00</span></p>\n",
       " <p style=\"text-align: center;\"><span style=\"font-size: 14px;\">$20.00</span></p>\n",
       " </td>\n",
       " </tr>\n",
       " </tbody>\n",
       " </table>\n",
       " <p> </p>\n",
       " </div>\n",
       " </div>]"
      ]
     },
     "execution_count": 42,
     "metadata": {},
     "output_type": "execute_result"
    }
   ],
   "source": [
    "divs"
   ]
  },
  {
   "cell_type": "code",
   "execution_count": 43,
   "metadata": {},
   "outputs": [
    {
     "name": "stdout",
     "output_type": "stream",
     "text": [
      "Pricing\n",
      "Annual Membership $99 \n",
      "72 HOUR ACCESS PASS $15\n",
      "24 HOUR ACCESS PASS $7\n",
      "Single Trip For $3.25\n",
      "OVERAGE FEES: $4 for every extra 30 minutes.\n"
     ]
    }
   ],
   "source": [
    "for i in divs:\n",
    "    try:\n",
    "        print(i.find('h1').text)\n",
    "    except:\n",
    "        pass"
   ]
  },
  {
   "cell_type": "code",
   "execution_count": 30,
   "metadata": {},
   "outputs": [],
   "source": [
    "url='https://bikesharetoronto.com/pricing/'\n",
    "response=requests.get(url)\n",
    "soup=bs(response.content, 'lxml')\n",
    "divs=soup.find_all('div', class_='fl-rich-text')"
   ]
  },
  {
   "cell_type": "code",
   "execution_count": null,
   "metadata": {},
   "outputs": [],
   "source": []
  },
  {
   "cell_type": "code",
   "execution_count": null,
   "metadata": {},
   "outputs": [],
   "source": []
  },
  {
   "cell_type": "code",
   "execution_count": 40,
   "metadata": {},
   "outputs": [
    {
     "name": "stdout",
     "output_type": "stream",
     "text": [
      "Pricing\n",
      "Annual Membership $99 \n",
      "72 HOUR ACCESS PASS $15\n",
      "24 HOUR ACCESS PASS $7\n",
      "Single Trip For $3.25\n",
      "OVERAGE FEES: $4 for every extra 30 minutes.\n",
      "For every trip exceeding 30 minutes, overage fees will accumulate at a rate of $4 for each (up to) 30 minutes of additional trip time. To avoid an overage charge, before your 30 minute trip is up, dock the bike and unlock another to continue riding. \n"
     ]
    }
   ],
   "source": [
    "for i in divs:\n",
    "    try:\n",
    "        print(i.find('span').text)\n",
    "    except:\n",
    "        pass"
   ]
  },
  {
   "cell_type": "code",
   "execution_count": null,
   "metadata": {},
   "outputs": [],
   "source": []
  },
  {
   "cell_type": "code",
   "execution_count": 20,
   "metadata": {},
   "outputs": [],
   "source": [
    "# Set Executable Path & Initialize Chrome Browser (Windows path)\n",
    "executable_path = {\"executable_path\": \"./chromedriver.exe\"}\n",
    "browser = Browser(\"chrome\", **executable_path)"
   ]
  },
  {
   "cell_type": "code",
   "execution_count": 21,
   "metadata": {},
   "outputs": [],
   "source": [
    "url='https://bikesharetoronto.com/pricing/'\n",
    "browser.visit(url)"
   ]
  },
  {
   "cell_type": "code",
   "execution_count": 22,
   "metadata": {},
   "outputs": [],
   "source": [
    "html=browser.html\n",
    "soup=bs(html, 'lxml')"
   ]
  },
  {
   "cell_type": "code",
   "execution_count": 28,
   "metadata": {},
   "outputs": [],
   "source": [
    "divs=soup.find_all('div', class_='fl-rich-text')"
   ]
  },
  {
   "cell_type": "code",
   "execution_count": 29,
   "metadata": {},
   "outputs": [
    {
     "data": {
      "text/plain": [
       "[<div class=\"fl-rich-text\">\n",
       " <h1 style=\"text-align: center;\"><span style=\"color: #ffffff; font-size: 36px;\">Pricing</span></h1>\n",
       " </div>,\n",
       " <div class=\"fl-rich-text\">\n",
       " <h1><span style=\"font-size: 26px; color: #008000;\">Annual Membership $99 </span></h1>\n",
       " <h1><span style=\"color: #000000; font-size: 18px;\"><strong>Best Deal for Toronto Locals</strong></span></h1>\n",
       " <p> </p>\n",
       " <p><span style=\"font-size: 18px;\">Join as an Annual Member for only $99 per year. Enjoy unlimited 30 minute, station-to-station trips all year round for less than $10 a month or as little as 30¢ a day!</span></p>\n",
       " <p> </p>\n",
       " <p><span style=\"font-size: 14px;\">After 30 minutes extra usage fees apply, see Overage Fees below.</span></p>\n",
       " </div>,\n",
       " <div class=\"fl-rich-text\">\n",
       " <h1><span style=\"font-size: 26px; color: #008000;\">72 HOUR ACCESS PASS $15</span></h1>\n",
       " <h1><span style=\"font-size: 18px; color: #000000;\"><strong>Visitors and City Explorers</strong></span></h1>\n",
       " <p> </p>\n",
       " <p><span style=\"font-size: 18px;\">Purchase a 3-Day Pass for $15 for 72-hour access to unlimited 30-minute rides.</span></p>\n",
       " <p> </p>\n",
       " <p><span style=\"font-size: 14px;\">The first 30 minutes of each ride are included in the base price of the pass. After 30 minutes extra usage fees apply, see Overage Fees below.</span></p>\n",
       " </div>,\n",
       " <div class=\"fl-rich-text\">\n",
       " <h1><span style=\"font-size: 26px; color: #008000;\">24 HOUR ACCESS PASS $7</span></h1>\n",
       " <h1><span style=\"font-size: 18px; color: #000000;\"><strong>Short Stays and Occasional Riders</strong></span></h1>\n",
       " <p> </p>\n",
       " <p><span style=\"font-size: 18px;\">Purchase a Day Pass for $7 for 24-hour access to unlimited 30-minute rides.</span></p>\n",
       " <p> </p>\n",
       " <p><span style=\"font-size: 14px;\">The first 30 minutes of each ride are included in the base price of the pass. After 30 minutes extra usage fees apply, see Overage Fees below.</span></p>\n",
       " </div>,\n",
       " <div class=\"fl-rich-text\">\n",
       " <h1><span style=\"font-size: 26px; color: #008000;\">Single Trip For $3.25</span></h1>\n",
       " <h1><span style=\"color: #000000; font-size: 18px;\"><span style=\"color: #000000;\">Quick and efficient one-way trip</span></span></h1>\n",
       " <p><span style=\"font-size: 18px;\">Purchase a Single Trip for $3.25 for a one-way trip up to 30 minutes in length.</span></p>\n",
       " <p> </p>\n",
       " <p><span style=\"font-size: 14px;\">The first 30 minutes of each ride are included in the base price of the pass. After 30 minutes extra usage fees apply, see Overage Fees below.</span></p>\n",
       " </div>,\n",
       " <div class=\"fl-rich-text\">\n",
       " <h1><span style=\"font-size: 26px; color: #008000;\">OVERAGE FEES: $4 for every extra 30 minutes.</span></h1>\n",
       " </div>,\n",
       " <div class=\"fl-rich-text\">\n",
       " <p><span style=\"font-size: 18px;\">For every trip exceeding 30 minutes, overage fees will accumulate at a rate of $4 for each (up to) 30 minutes of additional trip time. To avoid an overage charge, before your 30 minute trip is up, dock the bike and unlock another to continue riding. </span></p>\n",
       " <p> </p>\n",
       " <table style=\"border-collapse: collapse; width: 41.1874%; height: 20px;\">\n",
       " <tbody>\n",
       " <tr style=\"height: 20px;\">\n",
       " <td style=\"width: 16.2162%; height: 20px; text-align: left;\">\n",
       " <p style=\"text-align: center;\"><span style=\"font-size: 18px;\">Trip Time</span></p>\n",
       " <p style=\"text-align: center;\"><span style=\"font-size: 14px;\">0:01 – 30:00 </span></p>\n",
       " <p style=\"text-align: center;\"><span style=\"font-size: 14px;\">30:01 – 60:00 </span></p>\n",
       " <p style=\"text-align: center;\"><span style=\"font-size: 14px;\">60:01 – 90:00 </span></p>\n",
       " <p style=\"text-align: center;\"><span style=\"font-size: 14px;\">90:01 – 120:00 </span></p>\n",
       " <p style=\"text-align: center;\"><span style=\"font-size: 14px;\">120:01 – 150:00 </span></p>\n",
       " <p style=\"text-align: center;\"><span style=\"font-size: 14px;\">150:01 – 180:00 </span></p>\n",
       " </td>\n",
       " <td style=\"width: 29.8826%; height: 20px; text-align: left;\">\n",
       " <p style=\"text-align: center;\"><span style=\"font-size: 18px;\">Overage Fees</span></p>\n",
       " <p style=\"text-align: center;\"><span style=\"font-size: 14px;\">$0.00</span></p>\n",
       " <p style=\"text-align: center;\"><span style=\"font-size: 14px;\">$4.00</span></p>\n",
       " <p style=\"text-align: center;\"><span style=\"font-size: 14px;\">$8.00</span></p>\n",
       " <p style=\"text-align: center;\"><span style=\"font-size: 14px;\">$12.00</span></p>\n",
       " <p style=\"text-align: center;\"><span style=\"font-size: 14px;\">$16.00</span></p>\n",
       " <p style=\"text-align: center;\"><span style=\"font-size: 14px;\">$20.00</span></p>\n",
       " </td>\n",
       " </tr>\n",
       " </tbody>\n",
       " </table>\n",
       " <p> </p>\n",
       " </div>]"
      ]
     },
     "execution_count": 29,
     "metadata": {},
     "output_type": "execute_result"
    }
   ],
   "source": [
    "divs"
   ]
  },
  {
   "cell_type": "code",
   "execution_count": null,
   "metadata": {},
   "outputs": [],
   "source": []
  },
  {
   "cell_type": "markdown",
   "metadata": {},
   "source": [
    "<b>Get URL<b>"
   ]
  },
  {
   "cell_type": "code",
   "execution_count": 16,
   "metadata": {},
   "outputs": [],
   "source": [
    "url = \"https://bikesharetoronto.com/pricing/\"\n",
    "html = urlopen(url)\n",
    "\n",
    "# VANCOUVER -> https://www.mobibikes.ca/en/offers-subscription\n",
    "# BOSTON    -> https://www.bluebikes.com/pricing\n",
    "# NEEW YORK -> https://www.citibikenyc.com/pricing"
   ]
  },
  {
   "cell_type": "code",
   "execution_count": 17,
   "metadata": {},
   "outputs": [
    {
     "data": {
      "text/plain": [
       "bs4.BeautifulSoup"
      ]
     },
     "execution_count": 17,
     "metadata": {},
     "output_type": "execute_result"
    }
   ],
   "source": [
    "soup = bs(html,'lxml')\n",
    "type(soup)"
   ]
  },
  {
   "cell_type": "markdown",
   "metadata": {},
   "source": [
    "<b>Parse Data<b>"
   ]
  },
  {
   "cell_type": "code",
   "execution_count": null,
   "metadata": {},
   "outputs": [],
   "source": [
    "# Get the title\n",
    "title = soup.title\n",
    "print(title)"
   ]
  },
  {
   "cell_type": "code",
   "execution_count": null,
   "metadata": {},
   "outputs": [],
   "source": [
    "# Print out the text\n",
    "    # text = soup.get_text()\n",
    "    # print(soup.title)"
   ]
  },
  {
   "cell_type": "code",
   "execution_count": null,
   "metadata": {},
   "outputs": [],
   "source": [
    "soup.find_all('a')"
   ]
  },
  {
   "cell_type": "code",
   "execution_count": null,
   "metadata": {},
   "outputs": [],
   "source": [
    "all_links = soup.find_all(\"a\")\n",
    "for link in all_links:\n",
    "    print(link.get(\"href\"))"
   ]
  },
  {
   "cell_type": "code",
   "execution_count": null,
   "metadata": {},
   "outputs": [],
   "source": [
    "title_results = soup.find_all('span', style_='font-size: 26px; color: #008000')\n",
    "title_results"
   ]
  },
  {
   "cell_type": "code",
   "execution_count": null,
   "metadata": {},
   "outputs": [],
   "source": []
  }
 ],
 "metadata": {
  "kernelspec": {
   "display_name": "Python 3",
   "language": "python",
   "name": "python3"
  },
  "language_info": {
   "codemirror_mode": {
    "name": "ipython",
    "version": 3
   },
   "file_extension": ".py",
   "mimetype": "text/x-python",
   "name": "python",
   "nbconvert_exporter": "python",
   "pygments_lexer": "ipython3",
   "version": "3.8.3"
  }
 },
 "nbformat": 4,
 "nbformat_minor": 4
}
