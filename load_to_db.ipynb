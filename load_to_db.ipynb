{
 "cells": [
  {
   "cell_type": "code",
   "execution_count": 4,
   "metadata": {},
   "outputs": [],
   "source": [
    "# import dependencies\n",
    "from config_testdb import conn_string\n",
    "# import SQLAlchemy\n",
    "from sqlalchemy import create_engine, inspect\n",
    "from sqlalchemy.ext.declarative import declarative_base\n",
    "from sqlalchemy.ext.automap import automap_base\n",
    "# import modules to declare columns and column data types\n",
    "from sqlalchemy import Column, Integer, String, Float, Date\n",
    "from sqlalchemy.orm import Session, relationship"
   ]
  },
  {
   "cell_type": "code",
   "execution_count": 2,
   "metadata": {},
   "outputs": [],
   "source": [
    "# declare a base using declarative_base\n",
    "Base = declarative_base()"
   ]
  },
  {
   "cell_type": "code",
   "execution_count": null,
   "metadata": {},
   "outputs": [],
   "source": [
    "# create Locations \n",
    "# ----------------------\n",
    "class Locations(Base):\n",
    "    __tablename__ = 'locations'\n",
    "    location_id = Column(Integer, primary_key=True)\n",
    "    city = Column(String(100))\n",
    "    country = Column(String(100))\n"
   ]
  },
  {
   "cell_type": "code",
   "execution_count": null,
   "metadata": {},
   "outputs": [],
   "source": [
    "# create Historical Weather\n",
    "# -------------------------\n",
    "class HistoricalWeather(Base):\n",
    "    __tablename__ = 'historicalweather'\n",
    "    location_id = Column(Integer, primary_key=True, ForeignKey(\"locations.location_id\"))\n",
    "    forecast_date = Column(Date, primary_key=True)\n",
    "    maxTempC = Column(Integer, nullable=False)\n",
    "    humidity = Column(Integer, nullable=False)\n",
    "    total_precip = Column(Float)\n",
    "    avg_cloudcover = Column(Float)\n",
    "    avg_windspeed = Column(Float)"
   ]
  },
  {
   "cell_type": "code",
   "execution_count": null,
   "metadata": {},
   "outputs": [],
   "source": [
    "# create MemberTypes\n",
    "# -------------------------\n",
    "class MemberTypes(Base):\n",
    "    __tablename__ = 'membertypes'\n",
    "    member_type = Column(String(50), primary_key=True)\n",
    "    location_id = Column(Integer, primary_key=True, ForeignKey(\"locations.location_id\"))"
   ]
  },
  {
   "cell_type": "code",
   "execution_count": null,
   "metadata": {},
   "outputs": [],
   "source": [
    "# create Stations\n",
    "# -------------------------\n",
    "class Stations(Base):\n",
    "    __tablename_ = 'stations'\n",
    "    station_id = Column(Integer, primary_key=True)\n",
    "    station_name = Column(String)\n",
    "    latitude = Column(Float)\n",
    "    longitude = Column(Float)\n",
    "    location_id = Column(Integer, primary_key=True, ForeignKey(\"locations.location_id\"))"
   ]
  },
  {
   "cell_type": "code",
   "execution_count": null,
   "metadata": {},
   "outputs": [],
   "source": [
    "# create Bikes\n",
    "# -------------------------\n",
    "class Bikes(Base):\n",
    "    __tablename_ = 'bikes'\n",
    "    bike_id = Column(Integer, primary_key=True)\n",
    "    location_id = Column(Integer, primary_key=True, ForeignKey(\"locations.location_id\"))\n"
   ]
  },
  {
   "cell_type": "code",
   "execution_count": null,
   "metadata": {},
   "outputs": [],
   "source": [
    "# create Pricing\n",
    "# -------------------------\n",
    "class Pricing(Base):\n",
    "    __tablename_ = 'pricing'\n",
    "    price_id = Column(Integer, primary_key=True)\n",
    "    location_id = Column(Integer, primary_key=True, ForeignKey(\"locations.location_id\"))\n",
    "    member_type = Column(String, ForeignKey(\"membertypes.member_type\"))\n",
    "    plan = Column(String)\n",
    "    amount = Column(Float)\n"
   ]
  },
  {
   "cell_type": "code",
   "execution_count": null,
   "metadata": {},
   "outputs": [],
   "source": [
    "# create Ridership\n",
    "# -------------------------\n",
    "class Ridership(Base):\n",
    "    __tablename_ = 'ridership'\n",
    "    id = Column(Integer, primary_key=True, autoincrement=True)\n",
    "    trip_duration = Column(Integer)\n",
    "    start_date = Column(Date)\n",
    "    end_date = Column(Date)\n",
    "    start_station_id = Column(Integer, ForeignKey(\"stations.station_id\", \"stations.location_id\"))\n",
    "    end_station_id = Column(Integer, ForeignKey(\"stations.station_id\", \"stations.location_id\"))\n",
    "    bike_id = Column(Integer, ForeignKey(\"bikes.bike_id\", \"bikes.location_id\"))\n",
    "    member_type = Column(String, ForeignKey(\"membertypes.member_type\", \"membertypes.location_id\"))\n",
    "    location_id = Column(Integer, primary_key=True, ForeignKey(\"locations.location_id\"))\n"
   ]
  },
  {
   "cell_type": "code",
   "execution_count": null,
   "metadata": {},
   "outputs": [],
   "source": [
    "# create a database connection\n",
    "# ----------------------------\n",
    "# establish connection\n",
    "cnx = f'postgresql://{conn_string}'\n",
    "engine = create_engine(cnx)\n",
    "conn = engine.connect()"
   ]
  },
  {
   "cell_type": "code",
   "execution_count": null,
   "metadata": {},
   "outputs": [],
   "source": [
    "# create Locations table\n",
    "Base.metadata.create_all(conn)"
   ]
  },
  {
   "cell_type": "code",
   "execution_count": null,
   "metadata": {},
   "outputs": [],
   "source": [
    "# check if table was created\n",
    "inspector = inspect(engine)\n",
    "print(inspector.get_table_names())"
   ]
  },
  {
   "cell_type": "code",
   "execution_count": null,
   "metadata": {},
   "outputs": [],
   "source": [
    "print(cnx)"
   ]
  },
  {
   "cell_type": "code",
   "execution_count": null,
   "metadata": {},
   "outputs": [],
   "source": [
    "# Save reference to database tables\n",
    "Locations = Base.classes.locations\n",
    "# HistoricalWeather = Base.classes.historicalweather\n",
    "# Stations = Base.classes.stations\n",
    "# Bikes = Base.classes.bikes\n",
    "# MemberTypes = Base.classes.membertypes\n",
    "# Pricing = Base.classes.pricing\n",
    "# Ridership = Base.classes.ridership"
   ]
  },
  {
   "cell_type": "code",
   "execution_count": null,
   "metadata": {},
   "outputs": [],
   "source": [
    "engine.table_names()"
   ]
  },
  {
   "cell_type": "code",
   "execution_count": null,
   "metadata": {},
   "outputs": [],
   "source": [
    "#"
   ]
  },
  {
   "cell_type": "code",
   "execution_count": null,
   "metadata": {},
   "outputs": [],
   "source": [
    "# create session\n",
    "session = Session(bind=engine)"
   ]
  },
  {
   "cell_type": "code",
   "execution_count": null,
   "metadata": {},
   "outputs": [],
   "source": [
    "# query the database\n",
    "cities = session.query()"
   ]
  },
  {
   "cell_type": "code",
   "execution_count": null,
   "metadata": {},
   "outputs": [],
   "source": []
  },
  {
   "cell_type": "code",
   "execution_count": null,
   "metadata": {},
   "outputs": [],
   "source": [
    "# check refential integrity for station ids on start_station_id and end_station_id\n",
    "# 1. query stations table\n",
    "stns = session.query(Stations.station_id).filter(Stations.location_id == 1).all()\n",
    "stns_df = pd.DataFrame(stns)\n",
    "stns_df\n"
   ]
  },
  {
   "cell_type": "code",
   "execution_count": null,
   "metadata": {},
   "outputs": [],
   "source": [
    "# 2. check that all start_station_id and end_station_id in bike_share exists in stations table\n",
    "start_stn = pd.DataFrame(bike_share[[\"start_station_id\"]])\n",
    "start_stn = start_stn.drop_duplicates().reset_index(drop=True)\n",
    "start_stn\n",
    "\n",
    "missing = start_stn.loc[~start_stn[\"start_station_id\"].isin(stns_df)]\n",
    "missing"
   ]
  },
  {
   "cell_type": "code",
   "execution_count": null,
   "metadata": {},
   "outputs": [],
   "source": []
  },
  {
   "cell_type": "code",
   "execution_count": null,
   "metadata": {},
   "outputs": [],
   "source": []
  },
  {
   "cell_type": "code",
   "execution_count": null,
   "metadata": {},
   "outputs": [],
   "source": [
    "# load bikes to Bikes table\n",
    "bikes.to_sql(name='bikes', con=engine, if_exists='append', index=False)"
   ]
  },
  {
   "cell_type": "code",
   "execution_count": null,
   "metadata": {},
   "outputs": [],
   "source": [
    "MemberType.to_sql(name='membertypes', con=engine, if_exists='append', index=False)"
   ]
  },
  {
   "cell_type": "code",
   "execution_count": null,
   "metadata": {},
   "outputs": [],
   "source": [
    "bike_share.to_sql(name='ridership', con=engine, if_exists='append', index)"
   ]
  }
 ],
 "metadata": {
  "kernelspec": {
   "display_name": "Python 3",
   "language": "python",
   "name": "python3"
  },
  "language_info": {
   "codemirror_mode": {
    "name": "ipython",
    "version": 3
   },
   "file_extension": ".py",
   "mimetype": "text/x-python",
   "name": "python",
   "nbconvert_exporter": "python",
   "pygments_lexer": "ipython3",
   "version": "3.8.3"
  }
 },
 "nbformat": 4,
 "nbformat_minor": 4
}
