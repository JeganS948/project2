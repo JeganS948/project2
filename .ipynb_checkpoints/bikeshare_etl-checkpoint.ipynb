{
 "cells": [
  {
   "cell_type": "code",
   "execution_count": 1,
   "metadata": {},
   "outputs": [],
   "source": [
    "# run scripts"
   ]
  },
  {
   "cell_type": "code",
   "execution_count": 2,
   "metadata": {},
   "outputs": [],
   "source": [
    "import os\n",
    "import time"
   ]
  },
  {
   "cell_type": "code",
   "execution_count": 3,
   "metadata": {},
   "outputs": [
    {
     "name": "stdout",
     "output_type": "stream",
     "text": [
      "1608362400.2790413\n"
     ]
    }
   ],
   "source": [
    "start =time.time()\n",
    "print(start)"
   ]
  },
  {
   "cell_type": "code",
   "execution_count": 4,
   "metadata": {},
   "outputs": [
    {
     "data": {
      "text/plain": [
       "'C:\\\\Users\\\\Sharanvika\\\\Documents\\\\GitHub\\\\project2'"
      ]
     },
     "execution_count": 4,
     "metadata": {},
     "output_type": "execute_result"
    }
   ],
   "source": [
    "cur_dir = os.getcwd()\n",
    "cur_dir"
   ]
  },
  {
   "cell_type": "code",
   "execution_count": 5,
   "metadata": {},
   "outputs": [],
   "source": [
    "%run historical_weather.ipynb"
   ]
  },
  {
   "cell_type": "code",
   "execution_count": 6,
   "metadata": {},
   "outputs": [
    {
     "name": "stdout",
     "output_type": "stream",
     "text": [
      "$12\n",
      "$25\n",
      "$129\n",
      "$159\n",
      "$\n",
      "$\n",
      " 24 Hour Pass \n",
      " 30 Day Pass \n",
      " 365 Day Pass Standard \n",
      " 365 Day Pass Plus \n",
      " 365 Day Corporate Pass Standard \n",
      " 365 Day Corporate Pass Plus \n",
      "20\n",
      "10\n",
      "8.25\n",
      "$15/day\n",
      "$15*/month\n",
      "Single Ride\n",
      "Day Pass\n",
      "Annual Membership\n",
      "More Options\n",
      "$3/trip\n",
      "$15/day\n"
     ]
    }
   ],
   "source": [
    "%run pricing_index.ipynb"
   ]
  },
  {
   "cell_type": "code",
   "execution_count": 7,
   "metadata": {},
   "outputs": [
    {
     "name": "stdout",
     "output_type": "stream",
     "text": [
      "<Response [200]>\n",
      "<Response [200]>\n",
      "<Response [200]>\n",
      "<Response [200]>\n"
     ]
    }
   ],
   "source": [
    "%run station_info.ipynb"
   ]
  },
  {
   "cell_type": "code",
   "execution_count": 8,
   "metadata": {},
   "outputs": [],
   "source": [
    "os.chdir(r'resources/1_toronto_canada')"
   ]
  },
  {
   "cell_type": "code",
   "execution_count": 9,
   "metadata": {},
   "outputs": [
    {
     "data": {
      "text/plain": [
       "'C:\\\\Users\\\\Sharanvika\\\\Documents\\\\GitHub\\\\project2\\\\resources\\\\1_toronto_canada'"
      ]
     },
     "execution_count": 9,
     "metadata": {},
     "output_type": "execute_result"
    }
   ],
   "source": [
    "cur_dir = os.getcwd()\n",
    "cur_dir"
   ]
  },
  {
   "cell_type": "code",
   "execution_count": 10,
   "metadata": {},
   "outputs": [],
   "source": [
    "%run toronto.ipynb"
   ]
  },
  {
   "cell_type": "code",
   "execution_count": 11,
   "metadata": {},
   "outputs": [],
   "source": [
    "os.chdir(r'..')"
   ]
  },
  {
   "cell_type": "code",
   "execution_count": 12,
   "metadata": {},
   "outputs": [
    {
     "data": {
      "text/plain": [
       "'C:\\\\Users\\\\Sharanvika\\\\Documents\\\\GitHub\\\\project2\\\\resources'"
      ]
     },
     "execution_count": 12,
     "metadata": {},
     "output_type": "execute_result"
    }
   ],
   "source": [
    "cur_dir = os.getcwd()\n",
    "cur_dir"
   ]
  },
  {
   "cell_type": "code",
   "execution_count": 13,
   "metadata": {},
   "outputs": [],
   "source": [
    "os.chdir(r'2_vancouver_canada')"
   ]
  },
  {
   "cell_type": "code",
   "execution_count": 14,
   "metadata": {},
   "outputs": [
    {
     "data": {
      "text/plain": [
       "'C:\\\\Users\\\\Sharanvika\\\\Documents\\\\GitHub\\\\project2\\\\resources\\\\2_vancouver_canada'"
      ]
     },
     "execution_count": 14,
     "metadata": {},
     "output_type": "execute_result"
    }
   ],
   "source": [
    "cur_dir = os.getcwd()\n",
    "cur_dir"
   ]
  },
  {
   "cell_type": "code",
   "execution_count": 15,
   "metadata": {},
   "outputs": [],
   "source": [
    "%run vancouver.ipynb"
   ]
  },
  {
   "cell_type": "code",
   "execution_count": 16,
   "metadata": {},
   "outputs": [],
   "source": [
    "os.chdir(r'..')"
   ]
  },
  {
   "cell_type": "code",
   "execution_count": 17,
   "metadata": {},
   "outputs": [
    {
     "data": {
      "text/plain": [
       "'C:\\\\Users\\\\Sharanvika\\\\Documents\\\\GitHub\\\\project2\\\\resources'"
      ]
     },
     "execution_count": 17,
     "metadata": {},
     "output_type": "execute_result"
    }
   ],
   "source": [
    "cur_dir = os.getcwd()\n",
    "cur_dir"
   ]
  },
  {
   "cell_type": "code",
   "execution_count": 18,
   "metadata": {},
   "outputs": [],
   "source": [
    "os.chdir(r'3_boston_us')"
   ]
  },
  {
   "cell_type": "code",
   "execution_count": 19,
   "metadata": {},
   "outputs": [
    {
     "data": {
      "text/plain": [
       "'C:\\\\Users\\\\Sharanvika\\\\Documents\\\\GitHub\\\\project2\\\\resources\\\\3_boston_us'"
      ]
     },
     "execution_count": 19,
     "metadata": {},
     "output_type": "execute_result"
    }
   ],
   "source": [
    "cur_dir = os.getcwd()\n",
    "cur_dir"
   ]
  },
  {
   "cell_type": "code",
   "execution_count": 20,
   "metadata": {},
   "outputs": [],
   "source": [
    "%run boston.ipynb"
   ]
  },
  {
   "cell_type": "code",
   "execution_count": 21,
   "metadata": {},
   "outputs": [],
   "source": [
    "os.chdir(r'..')"
   ]
  },
  {
   "cell_type": "code",
   "execution_count": 22,
   "metadata": {},
   "outputs": [
    {
     "data": {
      "text/plain": [
       "'C:\\\\Users\\\\Sharanvika\\\\Documents\\\\GitHub\\\\project2\\\\resources'"
      ]
     },
     "execution_count": 22,
     "metadata": {},
     "output_type": "execute_result"
    }
   ],
   "source": [
    "cur_dir = os.getcwd()\n",
    "cur_dir"
   ]
  },
  {
   "cell_type": "code",
   "execution_count": 23,
   "metadata": {},
   "outputs": [],
   "source": [
    "os.chdir(r'4_newyork_us')"
   ]
  },
  {
   "cell_type": "code",
   "execution_count": 24,
   "metadata": {},
   "outputs": [
    {
     "data": {
      "text/plain": [
       "'C:\\\\Users\\\\Sharanvika\\\\Documents\\\\GitHub\\\\project2\\\\resources\\\\4_newyork_us'"
      ]
     },
     "execution_count": 24,
     "metadata": {},
     "output_type": "execute_result"
    }
   ],
   "source": [
    "cur_dir = os.getcwd()\n",
    "cur_dir"
   ]
  },
  {
   "cell_type": "code",
   "execution_count": 25,
   "metadata": {},
   "outputs": [],
   "source": [
    "%run new_york.ipynb"
   ]
  },
  {
   "cell_type": "code",
   "execution_count": 26,
   "metadata": {},
   "outputs": [],
   "source": [
    "os.chdir(r'..')"
   ]
  },
  {
   "cell_type": "code",
   "execution_count": 27,
   "metadata": {},
   "outputs": [
    {
     "data": {
      "text/plain": [
       "'C:\\\\Users\\\\Sharanvika\\\\Documents\\\\GitHub\\\\project2\\\\resources'"
      ]
     },
     "execution_count": 27,
     "metadata": {},
     "output_type": "execute_result"
    }
   ],
   "source": [
    "cur_dir = os.getcwd()\n",
    "cur_dir"
   ]
  },
  {
   "cell_type": "code",
   "execution_count": 28,
   "metadata": {},
   "outputs": [],
   "source": [
    "os.chdir(r'..')"
   ]
  },
  {
   "cell_type": "code",
   "execution_count": 29,
   "metadata": {},
   "outputs": [
    {
     "data": {
      "text/plain": [
       "'C:\\\\Users\\\\Sharanvika\\\\Documents\\\\GitHub\\\\project2'"
      ]
     },
     "execution_count": 29,
     "metadata": {},
     "output_type": "execute_result"
    }
   ],
   "source": [
    "cur_dir = os.getcwd()\n",
    "cur_dir"
   ]
  },
  {
   "cell_type": "code",
   "execution_count": 30,
   "metadata": {},
   "outputs": [
    {
     "name": "stdout",
     "output_type": "stream",
     "text": [
      "locations\n",
      "stations\n",
      "weather\n",
      "tor_bikes\n",
      "van_bikes\n",
      "bos_bikes\n",
      "nyc_bikes\n",
      "tor_users\n",
      "van_users\n",
      "bos_users\n",
      "nyc_users\n",
      "pricing_index\n",
      "   trip_duration        start_date          end_date  start_station_id  \\\n",
      "0           1547  01/01/2019 00:08  01/01/2019 00:33              7021   \n",
      "1            453  01/01/2019 10:35  01/01/2019 10:42              7021   \n",
      "2            819  01/01/2019 13:26  01/01/2019 13:40              7002   \n",
      "3            632  01/01/2019 14:13  01/01/2019 14:24              7021   \n",
      "4           1112  01/01/2019 00:10  01/01/2019 00:29              7160   \n",
      "\n",
      "   end_station_id  bike_id    member_type  location_id  \n",
      "0            7233     1296  Annual Member            1  \n",
      "1            7253     1118  Annual Member            1  \n",
      "2            7253      762  Annual Member            1  \n",
      "3            7323      111  Annual Member            1  \n",
      "4            7051     2947  Annual Member            1  \n",
      "   trip_duration       start_date         end_date  start_station_id  \\\n",
      "0            177    2/1/2019 0:00    2/1/2019 0:00               198   \n",
      "1           1554  1/31/2019 19:00  1/31/2019 19:00               198   \n",
      "2           1032  1/31/2019 18:00  1/31/2019 19:00               198   \n",
      "3            171  1/31/2019 23:00  1/31/2019 23:00               125   \n",
      "4            555  1/31/2019 18:00  1/31/2019 18:00                98   \n",
      "\n",
      "   end_station_id  bike_id   member_type  location_id  \n",
      "0             298    388.0  365 Standard            2  \n",
      "1             198    388.0  365 Standard            2  \n",
      "2              57   1539.0           VIP            2  \n",
      "3              57   1057.0      365 Plus            2  \n",
      "4              57   2113.0  365 Standard            2  \n",
      "   trip_duration                start_date                  end_date  \\\n",
      "0            371  2019-01-01 00:09:13.7980  2019-01-01 00:15:25.3360   \n",
      "1            304  2019-01-01 00:54:48.9310  2019-01-01 00:59:53.5810   \n",
      "2            477  2019-01-01 12:53:02.1590  2019-01-01 13:00:59.9630   \n",
      "3            437  2019-01-01 12:54:31.4560  2019-01-01 13:01:48.9840   \n",
      "4           5207  2019-01-01 12:52:31.5770  2019-01-01 14:19:19.4340   \n",
      "\n",
      "   start_station_id  end_station_id  bike_id member_type  location_id  \n",
      "0                80             179     3689  Subscriber            3  \n",
      "1                80             179     3861  Subscriber            3  \n",
      "2                68             179     4530  Subscriber            3  \n",
      "3                91             179     3746  Subscriber            3  \n",
      "4               179             179     3435    Customer            3  \n",
      "   trip_duration                start_date                  end_date  \\\n",
      "0            320  2019-01-01 00:01:47.4010  2019-01-01 00:07:07.5810   \n",
      "1            442  2019-01-01 01:16:37.1430  2019-01-01 01:23:59.4410   \n",
      "2            591  2019-01-01 00:06:03.9970  2019-01-01 00:15:55.4380   \n",
      "3           3494  2019-01-01 00:18:57.5640  2019-01-01 01:17:11.5700   \n",
      "4            467  2019-01-01 01:56:03.5330  2019-01-01 02:03:50.7330   \n",
      "\n",
      "   start_station_id  end_station_id  bike_id member_type  location_id  \n",
      "0            3160.0          3283.0    15839  Subscriber            4  \n",
      "1            3160.0          3301.0    27775  Subscriber            4  \n",
      "2            3171.0          3154.0    27451  Subscriber            4  \n",
      "3            3171.0          3164.0    35785  Subscriber            4  \n",
      "4            3289.0          3164.0    32555  Subscriber            4  \n",
      "Load to Database Complete\n"
     ]
    }
   ],
   "source": [
    "%run Load_to_database.ipynb"
   ]
  },
  {
   "cell_type": "code",
   "execution_count": 31,
   "metadata": {},
   "outputs": [
    {
     "name": "stdout",
     "output_type": "stream",
     "text": [
      "451.1245684623718\n"
     ]
    }
   ],
   "source": [
    "end = time.time()\n",
    "print(end-start)"
   ]
  },
  {
   "cell_type": "code",
   "execution_count": 32,
   "metadata": {},
   "outputs": [
    {
     "name": "stdout",
     "output_type": "stream",
     "text": [
      "Load to database complete\n"
     ]
    }
   ],
   "source": [
    "print('Load to database complete')"
   ]
  },
  {
   "cell_type": "code",
   "execution_count": null,
   "metadata": {},
   "outputs": [],
   "source": []
  }
 ],
 "metadata": {
  "kernelspec": {
   "display_name": "Python 3",
   "language": "python",
   "name": "python3"
  },
  "language_info": {
   "codemirror_mode": {
    "name": "ipython",
    "version": 3
   },
   "file_extension": ".py",
   "mimetype": "text/x-python",
   "name": "python",
   "nbconvert_exporter": "python",
   "pygments_lexer": "ipython3",
   "version": "3.8.3"
  }
 },
 "nbformat": 4,
 "nbformat_minor": 4
}
