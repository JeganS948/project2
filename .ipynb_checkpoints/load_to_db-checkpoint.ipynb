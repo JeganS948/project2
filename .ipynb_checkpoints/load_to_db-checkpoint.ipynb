{
 "cells": [
  {
   "cell_type": "code",
   "execution_count": 1,
   "metadata": {},
   "outputs": [],
   "source": [
    "# import dependencies\n",
    "from config import conn_string\n",
    "# import SQLAlchemy\n",
    "from sqlalchemy import create_engine\n",
    "from sqlalchemy.ext.declarative import declarative_base\n",
    "from sqlalchemy.ext.automap import automap_base\n",
    "# import modules to declare columns and column data types\n",
    "from sqlalchemy import Column, Integer, String, Float\n",
    "from sqlalchemy.orm import Session"
   ]
  },
  {
   "cell_type": "code",
   "execution_count": 3,
   "metadata": {},
   "outputs": [],
   "source": [
    "# create a database connection\n",
    "# ----------------------------\n",
    "# establish connection\n",
    "cnx = f'postgresql://{conn_string}'\n",
    "engine = create_engine(cnx)\n",
    "conn = engine.connect()"
   ]
  },
  {
   "cell_type": "code",
   "execution_count": null,
   "metadata": {},
   "outputs": [],
   "source": [
    "engine.table_names()"
   ]
  },
  {
   "cell_type": "code",
   "execution_count": 4,
   "metadata": {},
   "outputs": [],
   "source": [
    "# declare a base using automap_base\n",
    "Base = automap_base()\n",
    "# use the Base class to reflect the database tables\n",
    "Base.prepare(engine, reflect=True)\n",
    "Base.classes.keys()"
   ]
  },
  {
   "cell_type": "code",
   "execution_count": 5,
   "metadata": {},
   "outputs": [],
   "source": [
    "# create Locations and MemberType classes\n",
    "# ----------------------\n",
    "# class Locations(Base):\n",
    "#     __tablename__ = 'Locations'\n",
    "#     location_id = Column(Integer, primary_key=True)\n",
    "#     city = Column(String(100))\n",
    "#     country = Column(String(100))\n",
    "\n",
    "# class MemberTypes(Base):\n",
    "#     __tablename__ = 'MemberTypes'\n",
    "#     member_type = Column(String(50), primary_key=True)\n",
    "#     location_id = Column(Integer, primary_key=True)"
   ]
  },
  {
   "cell_type": "code",
   "execution_count": null,
   "metadata": {},
   "outputs": [],
   "source": [
    "# Save reference to database tables\n",
    "Locations = Base.classes.locations\n",
    "HistoricalWeather = Base.classes.historicalweather\n",
    "Stations = Base.classes.stations\n",
    "Bikes = Base.classes.bikes\n",
    "MemberTypes = Base.classes.membertypes\n",
    "Pricing = Base.classes.pricing\n",
    "Ridership = Base.classes.ridership"
   ]
  },
  {
   "cell_type": "code",
   "execution_count": 8,
   "metadata": {},
   "outputs": [],
   "source": [
    "# create session\n",
    "session = Session(bind=engine)"
   ]
  },
  {
   "cell_type": "code",
   "execution_count": null,
   "metadata": {},
   "outputs": [],
   "source": [
    "# query the database\n",
    "cities = session.query()"
   ]
  },
  {
   "cell_type": "code",
   "execution_count": null,
   "metadata": {},
   "outputs": [],
   "source": []
  },
  {
   "cell_type": "code",
   "execution_count": null,
   "metadata": {},
   "outputs": [],
   "source": [
    "# check refential integrity for station ids on start_station_id and end_station_id\n",
    "# 1. query stations table\n",
    "stns = session.query(Stations.station_id).filter(Stations.location_id == 1).all()\n",
    "stns_df = pd.DataFrame(stns)\n",
    "stns_df\n"
   ]
  },
  {
   "cell_type": "code",
   "execution_count": null,
   "metadata": {},
   "outputs": [],
   "source": [
    "# 2. check that all start_station_id and end_station_id in bike_share exists in stations table\n",
    "start_stn = pd.DataFrame(bike_share[[\"start_station_id\"]])\n",
    "start_stn = start_stn.drop_duplicates().reset_index(drop=True)\n",
    "start_stn\n",
    "\n",
    "missing = start_stn.loc[~start_stn[\"start_station_id\"].isin(stns_df)]\n",
    "missing"
   ]
  },
  {
   "cell_type": "code",
   "execution_count": null,
   "metadata": {},
   "outputs": [],
   "source": []
  },
  {
   "cell_type": "code",
   "execution_count": null,
   "metadata": {},
   "outputs": [],
   "source": []
  },
  {
   "cell_type": "code",
   "execution_count": null,
   "metadata": {},
   "outputs": [],
   "source": [
    "# load bikes to Bikes table\n",
    "bikes.to_sql(name='bikes', con=engine, if_exists='append', index=False)"
   ]
  },
  {
   "cell_type": "code",
   "execution_count": null,
   "metadata": {},
   "outputs": [],
   "source": [
    "MemberType.to_sql(name='membertypes', con=engine, if_exists='append', index=False)"
   ]
  },
  {
   "cell_type": "code",
   "execution_count": null,
   "metadata": {},
   "outputs": [],
   "source": [
    "bike_share.to_sql(name='ridership', con=engine, if_exists='append', index)"
   ]
  }
 ],
 "metadata": {
  "kernelspec": {
   "display_name": "Python 3",
   "language": "python",
   "name": "python3"
  },
  "language_info": {
   "codemirror_mode": {
    "name": "ipython",
    "version": 3
   },
   "file_extension": ".py",
   "mimetype": "text/x-python",
   "name": "python",
   "nbconvert_exporter": "python",
   "pygments_lexer": "ipython3",
   "version": "3.8.3"
  }
 },
 "nbformat": 4,
 "nbformat_minor": 4
}
