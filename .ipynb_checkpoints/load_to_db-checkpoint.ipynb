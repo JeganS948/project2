{
 "cells": [
  {
   "cell_type": "code",
   "execution_count": 7,
   "metadata": {},
   "outputs": [],
   "source": [
    "# import SQLAlchemy\n",
    "from config import conn_string\n",
    "from sqlalchemy import create_engine"
   ]
  },
  {
   "cell_type": "code",
   "execution_count": 8,
   "metadata": {},
   "outputs": [],
   "source": [
    "# import and establish base for which classes will be constructed\n",
    "from sqlalchemy.ext.declarative import declarative_base\n",
    "Base = declarative_base()"
   ]
  },
  {
   "cell_type": "code",
   "execution_count": 9,
   "metadata": {},
   "outputs": [],
   "source": [
    "# import modules to declare columns and column data types\n",
    "from sqlalchemy import Column, Integer, String, Float"
   ]
  },
  {
   "cell_type": "code",
   "execution_count": 10,
   "metadata": {},
   "outputs": [],
   "source": [
    "# create Locations and MemberType classes\n",
    "# ----------------------\n",
    "class Locations(Base):\n",
    "    __tablename__ = 'Locations'\n",
    "    location_id = Column(Integer, primary_key=True)\n",
    "    city = Column(String(100))\n",
    "    country = Column(String(100))\n",
    "\n",
    "class MemberTypes(Base):\n",
    "    __tablename__ = 'MemberTypes'\n",
    "    member_type = Column(String(50), primary_key=True)\n",
    "    location_id = Column(Integer, primary_key=True)"
   ]
  },
  {
   "cell_type": "code",
   "execution_count": 12,
   "metadata": {},
   "outputs": [],
   "source": [
    "# create a database connection\n",
    "# ----------------------------\n",
    "# establish connection\n",
    "cnx = f'postgresql://{conn_string}'\n",
    "engine = create_engine(cnx)"
   ]
  },
  {
   "cell_type": "code",
   "execution_count": null,
   "metadata": {},
   "outputs": [],
   "source": []
  }
 ],
 "metadata": {
  "kernelspec": {
   "display_name": "Python 3",
   "language": "python",
   "name": "python3"
  },
  "language_info": {
   "codemirror_mode": {
    "name": "ipython",
    "version": 3
   },
   "file_extension": ".py",
   "mimetype": "text/x-python",
   "name": "python",
   "nbconvert_exporter": "python",
   "pygments_lexer": "ipython3",
   "version": "3.8.3"
  }
 },
 "nbformat": 4,
 "nbformat_minor": 4
}
