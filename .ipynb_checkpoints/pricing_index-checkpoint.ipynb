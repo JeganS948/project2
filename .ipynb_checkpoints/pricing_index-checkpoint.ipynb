{
 "cells": [
  {
   "cell_type": "markdown",
   "metadata": {},
   "source": [
    "<b>Initial Setup<b>"
   ]
  },
  {
   "cell_type": "code",
   "execution_count": 1,
   "metadata": {},
   "outputs": [],
   "source": [
    "# import dependencies\n",
    "import pandas as pd\n",
    "import requests\n",
    "from bs4 import BeautifulSoup as bs\n",
    "from webdriver_manager.chrome import ChromeDriverManager"
   ]
  },
  {
   "cell_type": "markdown",
   "metadata": {},
   "source": [
    "<b>Web Scrape From Each City Bike Share Program Site<b>"
   ]
  },
  {
   "cell_type": "markdown",
   "metadata": {},
   "source": [
    "*Toronto Price Index*"
   ]
  },
  {
   "cell_type": "code",
   "execution_count": 2,
   "metadata": {},
   "outputs": [],
   "source": [
    "# Get URL\n",
    "url = 'https://bikesharetoronto.com/pricing/'\n",
    "response1 = requests.get(url)"
   ]
  },
  {
   "cell_type": "code",
   "execution_count": 3,
   "metadata": {},
   "outputs": [],
   "source": [
    "# Parse Info with BeautifulSoup\n",
    "response1 = requests.get(url)\n",
    "soup = bs(response1.content, 'lxml')\n",
    "divs = soup.find_all('div', class_='fl-rich-text')"
   ]
  },
  {
   "cell_type": "code",
   "execution_count": 4,
   "metadata": {},
   "outputs": [
    {
     "name": "stdout",
     "output_type": "stream",
     "text": [
      "Pricing\n",
      "Annual Membership $99 \n",
      "72 HOUR ACCESS PASS $15\n",
      "24 HOUR ACCESS PASS $7\n",
      "Single Trip For $3.25\n",
      "OVERAGE FEES: $4 for every extra 30 minutes.\n"
     ]
    }
   ],
   "source": [
    "# Create loop to scrape pricing index\n",
    "for i in divs:\n",
    "    try:\n",
    "        print(i.find('h1').text)\n",
    "    except:\n",
    "        pass"
   ]
  },
  {
   "cell_type": "markdown",
   "metadata": {},
   "source": [
    "*Vancouver Price Index*"
   ]
  },
  {
   "cell_type": "code",
   "execution_count": 73,
   "metadata": {},
   "outputs": [],
   "source": [
    "# Get URL\n",
    "url = 'https://www.mobibikes.ca/en/offers-subscription'\n",
    "response2 = requests.get(url)"
   ]
  },
  {
   "cell_type": "code",
   "execution_count": 85,
   "metadata": {},
   "outputs": [],
   "source": [
    "# Parse Info with BeautifulSoup\n",
    "response2 = requests.get(url)\n",
    "soup = bs(response2.content, 'lxml')\n",
    "span1 = soup.find_all('span', class_='prix')"
   ]
  },
  {
   "cell_type": "code",
   "execution_count": 86,
   "metadata": {},
   "outputs": [
    {
     "data": {
      "text/plain": [
       "[<span class=\"prix\"><sup>$</sup>12</span>,\n",
       " <span class=\"prix\"><sup>$</sup>25</span>,\n",
       " <span class=\"prix\"><sup>$</sup>129</span>,\n",
       " <span class=\"prix\"><sup>$</sup>159</span>,\n",
       " <span class=\"prix\">$</span>,\n",
       " <span class=\"prix\">$</span>]"
      ]
     },
     "execution_count": 86,
     "metadata": {},
     "output_type": "execute_result"
    }
   ],
   "source": [
    "span1"
   ]
  },
  {
   "cell_type": "code",
   "execution_count": 87,
   "metadata": {},
   "outputs": [],
   "source": [
    "span2 = soup.find_all('span', class_='field-content')"
   ]
  },
  {
   "cell_type": "code",
   "execution_count": 91,
   "metadata": {},
   "outputs": [
    {
     "data": {
      "text/plain": [
       "[<span class=\"field-content\"><div class=\"bloc-circle-coul blue\">\n",
       " <div class=\"contain-bloc\">\n",
       " <span class=\"prix\"><sup>$</sup>12</span>\n",
       " <span class=\"accroche-prix\">+ overage fees</span>\n",
       " </div>\n",
       " </div></span>,\n",
       " <span class=\"field-content\">24 Hour Pass</span>,\n",
       " <span class=\"field-content\">\n",
       " <a data-href=\"/en/abonnement/Day/coupon\" data-pass=\"24 Hour Pass\" data-target=\"#confirm-action\" data-toggle=\"modal\" href=\"#\">Sign me up!</a>\n",
       " </span>,\n",
       " <span class=\"field-content\"><div class=\"bloc-circle-coul blue\">\n",
       " <div class=\"contain-bloc\">\n",
       " <span class=\"prix\"><sup>$</sup>25</span>\n",
       " <span class=\"accroche-prix\">+ overage fees</span>\n",
       " </div>\n",
       " </div></span>,\n",
       " <span class=\"field-content\">30 Day Pass</span>,\n",
       " <span class=\"field-content\">\n",
       " <a data-href=\"/en/abonnement/30_Day/coupon\" data-pass=\"30 Day Pass\" data-target=\"#confirm-action\" data-toggle=\"modal\" href=\"#\">Sign me up!</a>\n",
       " </span>,\n",
       " <span class=\"field-content\"><div class=\"bloc-circle-coul lightblue\">\n",
       " <div class=\"contain-bloc\">\n",
       " <span class=\"prix\"><sup>$</sup>129</span>\n",
       " <span class=\"accroche-prix\">+ overage fees</span>\n",
       " </div>\n",
       " </div></span>,\n",
       " <span class=\"field-content\">365 Day Pass Standard</span>,\n",
       " <span class=\"field-content\">\n",
       " <a data-href=\"/en/abonnement/Year_Standard/coupon\" data-pass=\"365 Day Pass Standard\" data-target=\"#confirm-action\" data-toggle=\"modal\" href=\"#\">Sign me up!</a>\n",
       " </span>,\n",
       " <span class=\"field-content\"><div class=\"bloc-circle-coul lightblue\">\n",
       " <div class=\"contain-bloc\">\n",
       " <span class=\"prix\"><sup>$</sup>159</span>\n",
       " <span class=\"accroche-prix\">+ overage fees</span>\n",
       " </div>\n",
       " </div></span>,\n",
       " <span class=\"field-content\">365 Day Pass Plus</span>,\n",
       " <span class=\"field-content\">\n",
       " <a data-href=\"/en/abonnement/Year_Plus/coupon\" data-pass=\"365 Day Pass Plus\" data-target=\"#confirm-action\" data-toggle=\"modal\" href=\"#\">Sign me up!</a>\n",
       " </span>,\n",
       " <span class=\"field-content\"><div class=\"bloc-circle-coul lightblue\">\n",
       " <div class=\"contain-bloc\">\n",
       " <span class=\"prix\">$</span>\n",
       " <span class=\"accroche-prix\"></span>\n",
       " </div>\n",
       " </div></span>,\n",
       " <span class=\"field-content\">365 Day Corporate Pass Standard</span>,\n",
       " <span class=\"field-content\">\n",
       " <a data-href=\"/en/abonnement/1_Year_Corporate_Standard/coupon\" data-pass=\"365 Day Corporate Pass Standard\" data-target=\"#confirm-action\" data-toggle=\"modal\" href=\"#\">Sign me up!</a>\n",
       " </span>,\n",
       " <span class=\"field-content\"><div class=\"bloc-circle-coul lightblue\">\n",
       " <div class=\"contain-bloc\">\n",
       " <span class=\"prix\">$</span>\n",
       " <span class=\"accroche-prix\"></span>\n",
       " </div>\n",
       " </div></span>,\n",
       " <span class=\"field-content\">365 Day Corporate Pass Plus</span>,\n",
       " <span class=\"field-content\">\n",
       " <a data-href=\"/en/abonnement/1_Year_Corporate_Plus/coupon\" data-pass=\"365 Day Corporate Pass Plus\" data-target=\"#confirm-action\" data-toggle=\"modal\" href=\"#\">Sign me up!</a>\n",
       " </span>]"
      ]
     },
     "execution_count": 91,
     "metadata": {},
     "output_type": "execute_result"
    }
   ],
   "source": [
    "span2"
   ]
  },
  {
   "cell_type": "code",
   "execution_count": 90,
   "metadata": {},
   "outputs": [
    {
     "name": "stdout",
     "output_type": "stream",
     "text": [
      "[<span class=\"prix\"><sup>$</sup>12</span>, <span class=\"prix\"><sup>$</sup>25</span>, <span class=\"prix\"><sup>$</sup>129</span>, <span class=\"prix\"><sup>$</sup>159</span>, <span class=\"prix\">$</span>, <span class=\"prix\">$</span>]\n",
      "[<span class=\"prix\"><sup>$</sup>12</span>, <span class=\"prix\"><sup>$</sup>25</span>, <span class=\"prix\"><sup>$</sup>129</span>, <span class=\"prix\"><sup>$</sup>159</span>, <span class=\"prix\">$</span>, <span class=\"prix\">$</span>]\n",
      "[<span class=\"prix\"><sup>$</sup>12</span>, <span class=\"prix\"><sup>$</sup>25</span>, <span class=\"prix\"><sup>$</sup>129</span>, <span class=\"prix\"><sup>$</sup>159</span>, <span class=\"prix\">$</span>, <span class=\"prix\">$</span>]\n",
      "[<span class=\"prix\"><sup>$</sup>12</span>, <span class=\"prix\"><sup>$</sup>25</span>, <span class=\"prix\"><sup>$</sup>129</span>, <span class=\"prix\"><sup>$</sup>159</span>, <span class=\"prix\">$</span>, <span class=\"prix\">$</span>]\n",
      "[<span class=\"prix\"><sup>$</sup>12</span>, <span class=\"prix\"><sup>$</sup>25</span>, <span class=\"prix\"><sup>$</sup>129</span>, <span class=\"prix\"><sup>$</sup>159</span>, <span class=\"prix\">$</span>, <span class=\"prix\">$</span>]\n",
      "[<span class=\"prix\"><sup>$</sup>12</span>, <span class=\"prix\"><sup>$</sup>25</span>, <span class=\"prix\"><sup>$</sup>129</span>, <span class=\"prix\"><sup>$</sup>159</span>, <span class=\"prix\">$</span>, <span class=\"prix\">$</span>]\n",
      "[<span class=\"prix\"><sup>$</sup>12</span>, <span class=\"prix\"><sup>$</sup>25</span>, <span class=\"prix\"><sup>$</sup>129</span>, <span class=\"prix\"><sup>$</sup>159</span>, <span class=\"prix\">$</span>, <span class=\"prix\">$</span>]\n",
      "[<span class=\"prix\"><sup>$</sup>12</span>, <span class=\"prix\"><sup>$</sup>25</span>, <span class=\"prix\"><sup>$</sup>129</span>, <span class=\"prix\"><sup>$</sup>159</span>, <span class=\"prix\">$</span>, <span class=\"prix\">$</span>]\n",
      "[<span class=\"prix\"><sup>$</sup>12</span>, <span class=\"prix\"><sup>$</sup>25</span>, <span class=\"prix\"><sup>$</sup>129</span>, <span class=\"prix\"><sup>$</sup>159</span>, <span class=\"prix\">$</span>, <span class=\"prix\">$</span>]\n",
      "[<span class=\"prix\"><sup>$</sup>12</span>, <span class=\"prix\"><sup>$</sup>25</span>, <span class=\"prix\"><sup>$</sup>129</span>, <span class=\"prix\"><sup>$</sup>159</span>, <span class=\"prix\">$</span>, <span class=\"prix\">$</span>]\n",
      "[<span class=\"prix\"><sup>$</sup>12</span>, <span class=\"prix\"><sup>$</sup>25</span>, <span class=\"prix\"><sup>$</sup>129</span>, <span class=\"prix\"><sup>$</sup>159</span>, <span class=\"prix\">$</span>, <span class=\"prix\">$</span>]\n",
      "[<span class=\"prix\"><sup>$</sup>12</span>, <span class=\"prix\"><sup>$</sup>25</span>, <span class=\"prix\"><sup>$</sup>129</span>, <span class=\"prix\"><sup>$</sup>159</span>, <span class=\"prix\">$</span>, <span class=\"prix\">$</span>]\n",
      "[<span class=\"prix\"><sup>$</sup>12</span>, <span class=\"prix\"><sup>$</sup>25</span>, <span class=\"prix\"><sup>$</sup>129</span>, <span class=\"prix\"><sup>$</sup>159</span>, <span class=\"prix\">$</span>, <span class=\"prix\">$</span>]\n",
      "[<span class=\"prix\"><sup>$</sup>12</span>, <span class=\"prix\"><sup>$</sup>25</span>, <span class=\"prix\"><sup>$</sup>129</span>, <span class=\"prix\"><sup>$</sup>159</span>, <span class=\"prix\">$</span>, <span class=\"prix\">$</span>]\n",
      "[<span class=\"prix\"><sup>$</sup>12</span>, <span class=\"prix\"><sup>$</sup>25</span>, <span class=\"prix\"><sup>$</sup>129</span>, <span class=\"prix\"><sup>$</sup>159</span>, <span class=\"prix\">$</span>, <span class=\"prix\">$</span>]\n",
      "[<span class=\"prix\"><sup>$</sup>12</span>, <span class=\"prix\"><sup>$</sup>25</span>, <span class=\"prix\"><sup>$</sup>129</span>, <span class=\"prix\"><sup>$</sup>159</span>, <span class=\"prix\">$</span>, <span class=\"prix\">$</span>]\n",
      "[<span class=\"prix\"><sup>$</sup>12</span>, <span class=\"prix\"><sup>$</sup>25</span>, <span class=\"prix\"><sup>$</sup>129</span>, <span class=\"prix\"><sup>$</sup>159</span>, <span class=\"prix\">$</span>, <span class=\"prix\">$</span>]\n",
      "[<span class=\"prix\"><sup>$</sup>12</span>, <span class=\"prix\"><sup>$</sup>25</span>, <span class=\"prix\"><sup>$</sup>129</span>, <span class=\"prix\"><sup>$</sup>159</span>, <span class=\"prix\">$</span>, <span class=\"prix\">$</span>]\n"
     ]
    }
   ],
   "source": [
    "\n",
    "\n",
    "for i in span2:\n",
    "    try:\n",
    "        span3=soup.find_all('span', class_='prix')\n",
    "        print(span3).text\n",
    "    except:\n",
    "        pass"
   ]
  },
  {
   "cell_type": "code",
   "execution_count": null,
   "metadata": {},
   "outputs": [],
   "source": [
    "price_info2 = divs[0].text\n",
    "price_info2"
   ]
  },
  {
   "cell_type": "code",
   "execution_count": 9,
   "metadata": {},
   "outputs": [],
   "source": [
    "# Create loop to scrape pricing index\n",
    "for i in divs:\n",
    "    try:\n",
    "        print(i.find('span').text)\n",
    "    except:\n",
    "        pass"
   ]
  },
  {
   "cell_type": "markdown",
   "metadata": {},
   "source": [
    "*Boston*"
   ]
  },
  {
   "cell_type": "code",
   "execution_count": 10,
   "metadata": {},
   "outputs": [],
   "source": [
    "# Get URL\n",
    "url = 'https://www.bluebikes.com/pricing'\n",
    "response3 = requests.get(url)"
   ]
  },
  {
   "cell_type": "code",
   "execution_count": 11,
   "metadata": {},
   "outputs": [],
   "source": [
    "# Parse Info with BeautifulSoup\n",
    "response3 = requests.get(url)\n",
    "soup = bs(response3.content, 'lxml')\n",
    "divs = soup.find_all('div', class_='spacing--one-and-half--above-xlarge')"
   ]
  },
  {
   "cell_type": "code",
   "execution_count": 12,
   "metadata": {},
   "outputs": [
    {
     "data": {
      "text/plain": [
       "[<div class=\"spacing--one-and-half--above-xlarge\">\n",
       " <div class=\"section__pricing-hero--spacediv\"></div>\n",
       " <h2 class=\"type-alpha--l text-color--white\">Monthly Membership</h2>\n",
       " <div class=\"spacing--half\">\n",
       " <p class=\"type-alpha--m text-color--white\">$20/month</p>\n",
       " <p class=\"type-alpha--s text-color--white\">Paid monthly, cancel any time</p>\n",
       " </div> <!-- /.spacing--half -->\n",
       " </div>,\n",
       " <div class=\"spacing--one-and-half--above-xlarge\">\n",
       " <div class=\"section__pricing-hero--spacediv\"></div>\n",
       " <h2 class=\"type-alpha--l text-color--white\">Annual Membership</h2>\n",
       " <div class=\"spacing--half\">\n",
       " <p class=\"type-alpha--m text-color--white\">$10/month</p>\n",
       " <p class=\"type-alpha--s text-color--white\">Paid monthly, 1 year commitment</p>\n",
       " </div> <!-- /.spacing--half -->\n",
       " </div>,\n",
       " <div class=\"spacing--one-and-half--above-xlarge\">\n",
       " <div class=\"section__pricing-hero--spacediv\"></div>\n",
       " <h2 class=\"type-alpha--l text-color--alpha\">Annual Membership</h2>\n",
       " <div class=\"spacing--half\">\n",
       " <p class=\"type-alpha--m text-color--alpha\">$8.25/month</p>\n",
       " <p class=\"type-alpha--s text-color--alpha\">Paid in full ($99)</p>\n",
       " </div> <!-- /.spacing--half -->\n",
       " </div>]"
      ]
     },
     "execution_count": 12,
     "metadata": {},
     "output_type": "execute_result"
    }
   ],
   "source": [
    "divs"
   ]
  },
  {
   "cell_type": "code",
   "execution_count": 54,
   "metadata": {},
   "outputs": [],
   "source": [
    "membership_type = soup.find_all('h2')"
   ]
  },
  {
   "cell_type": "code",
   "execution_count": 56,
   "metadata": {},
   "outputs": [
    {
     "data": {
      "text/plain": [
       "'Annual Membership'"
      ]
     },
     "execution_count": 56,
     "metadata": {},
     "output_type": "execute_result"
    }
   ],
   "source": [
    "membership_type[1].text"
   ]
  },
  {
   "cell_type": "code",
   "execution_count": 66,
   "metadata": {},
   "outputs": [],
   "source": [
    "pricing = soup.find_all('p', class_='type-alpha--m')"
   ]
  },
  {
   "cell_type": "code",
   "execution_count": 67,
   "metadata": {},
   "outputs": [
    {
     "data": {
      "text/plain": [
       "'$10/month'"
      ]
     },
     "execution_count": 67,
     "metadata": {},
     "output_type": "execute_result"
    }
   ],
   "source": [
    "pricing[1].text"
   ]
  },
  {
   "cell_type": "code",
   "execution_count": 68,
   "metadata": {},
   "outputs": [
    {
     "name": "stdout",
     "output_type": "stream",
     "text": [
      "Monthly Membership\n",
      "Annual Membership\n",
      "Annual Membership\n",
      "More Options\n"
     ]
    }
   ],
   "source": [
    "# Create loop to scrape pricing index\n",
    "for i in membership_type:\n",
    "    try:\n",
    "        print(i.text)\n",
    "    except:\n",
    "        pass\n"
   ]
  },
  {
   "cell_type": "code",
   "execution_count": 69,
   "metadata": {},
   "outputs": [
    {
     "name": "stdout",
     "output_type": "stream",
     "text": [
      "$20/month\n",
      "$10/month\n",
      "$8.25/month\n"
     ]
    }
   ],
   "source": [
    "for i in pricing:\n",
    "    try:\n",
    "        print(i.text)\n",
    "    except:\n",
    "        pass"
   ]
  },
  {
   "cell_type": "markdown",
   "metadata": {},
   "source": [
    "*New York*"
   ]
  },
  {
   "cell_type": "code",
   "execution_count": null,
   "metadata": {},
   "outputs": [],
   "source": [
    "# Get URL\n",
    "url = 'https://www.citibikenyc.com/pricing'\n",
    "response4 = requests.get(url)"
   ]
  },
  {
   "cell_type": "code",
   "execution_count": null,
   "metadata": {},
   "outputs": [],
   "source": [
    "# Parse Info with BeautifulSoup\n",
    "response4 = requests.get(url)\n",
    "soup = bs(response4.content, 'lxml')\n",
    "divs = soup.find_all('div', class_='fl-rich-text')"
   ]
  },
  {
   "cell_type": "code",
   "execution_count": null,
   "metadata": {},
   "outputs": [],
   "source": [
    "# Create loop to scrape pricing index\n",
    "for i in divs:\n",
    "    try:\n",
    "        print(i.find('h2').text)\n",
    "    except:\n",
    "        pass"
   ]
  },
  {
   "cell_type": "markdown",
   "metadata": {},
   "source": [
    "<b>Dataframe for each City Price Index<b>"
   ]
  },
  {
   "cell_type": "code",
   "execution_count": null,
   "metadata": {},
   "outputs": [],
   "source": [
    "price_index = pd.DataFrame"
   ]
  }
 ],
 "metadata": {
  "kernelspec": {
   "display_name": "Python 3",
   "language": "python",
   "name": "python3"
  },
  "language_info": {
   "codemirror_mode": {
    "name": "ipython",
    "version": 3
   },
   "file_extension": ".py",
   "mimetype": "text/x-python",
   "name": "python",
   "nbconvert_exporter": "python",
   "pygments_lexer": "ipython3",
   "version": "3.8.3"
  }
 },
 "nbformat": 4,
 "nbformat_minor": 4
}
