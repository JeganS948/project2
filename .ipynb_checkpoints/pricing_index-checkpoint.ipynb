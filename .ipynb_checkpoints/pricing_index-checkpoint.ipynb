{
 "cells": [
  {
   "cell_type": "markdown",
   "metadata": {},
   "source": [
    "<b>Initial Setup<b>"
   ]
  },
  {
   "cell_type": "code",
   "execution_count": 1,
   "metadata": {},
   "outputs": [],
   "source": [
    "# import dependencies\n",
    "import pandas as pd\n",
    "import requests\n",
    "from bs4 import BeautifulSoup as bs\n",
    "from webdriver_manager.chrome import ChromeDriverManager"
   ]
  },
  {
   "cell_type": "markdown",
   "metadata": {},
   "source": [
    "<b>Web Scrape From Each City Bike Share Program Site<b>"
   ]
  },
  {
   "cell_type": "markdown",
   "metadata": {},
   "source": [
    "*Toronto Price Index*"
   ]
  },
  {
   "cell_type": "code",
   "execution_count": 2,
   "metadata": {},
   "outputs": [],
   "source": [
    "# Get URL\n",
    "url = 'https://bikesharetoronto.com/pricing/'\n",
    "response1 = requests.get(url)"
   ]
  },
  {
   "cell_type": "code",
   "execution_count": 3,
   "metadata": {},
   "outputs": [],
   "source": [
    "# Parse Info with BeautifulSoup\n",
    "response1 = requests.get(url)\n",
    "soup = bs(response1.content, 'lxml')\n",
    "divs = soup.find_all('div', class_='fl-rich-text')"
   ]
  },
  {
   "cell_type": "code",
   "execution_count": 4,
   "metadata": {},
   "outputs": [
    {
     "name": "stdout",
     "output_type": "stream",
     "text": [
      "Pricing\n",
      "Annual Membership $99 \n",
      "72 HOUR ACCESS PASS $15\n",
      "24 HOUR ACCESS PASS $7\n",
      "Single Trip For $3.25\n",
      "OVERAGE FEES: $4 for every extra 30 minutes.\n"
     ]
    }
   ],
   "source": [
    "# Create loop to scrape pricing index\n",
    "for i in divs:\n",
    "    try:\n",
    "        print(i.find('h1').text)\n",
    "    except:\n",
    "        pass"
   ]
  },
  {
   "cell_type": "markdown",
   "metadata": {},
   "source": [
    "*Vancouver Price Index*"
   ]
  },
  {
   "cell_type": "code",
   "execution_count": 5,
   "metadata": {},
   "outputs": [],
   "source": [
    "# Get URL\n",
    "url = 'https://www.mobibikes.ca/en/offers-subscription'\n",
    "response2 = requests.get(url)"
   ]
  },
  {
   "cell_type": "code",
   "execution_count": 11,
   "metadata": {},
   "outputs": [],
   "source": [
    "# Parse Info with BeautifulSoup\n",
    "response2 = requests.get(url)\n",
    "soup = bs(response2.content, 'lxml')\n",
    "divs = soup.find_all('span', class_='prix')"
   ]
  },
  {
   "cell_type": "code",
   "execution_count": 18,
   "metadata": {},
   "outputs": [
    {
     "data": {
      "text/plain": [
       "[<span class=\"prix\"><sup>$</sup>12</span>,\n",
       " <span class=\"prix\"><sup>$</sup>25</span>,\n",
       " <span class=\"prix\"><sup>$</sup>129</span>,\n",
       " <span class=\"prix\"><sup>$</sup>159</span>,\n",
       " <span class=\"prix\">$</span>,\n",
       " <span class=\"prix\">$</span>]"
      ]
     },
     "execution_count": 18,
     "metadata": {},
     "output_type": "execute_result"
    }
   ],
   "source": [
    "divs"
   ]
  },
  {
   "cell_type": "code",
   "execution_count": 16,
   "metadata": {},
   "outputs": [],
   "source": [
    "# Create loop to scrape pricing index\n",
    "for i in divs:\n",
    "    try:\n",
    "        print(i.find(span).text)\n",
    "    except:\n",
    "        pass"
   ]
  },
  {
   "cell_type": "markdown",
   "metadata": {},
   "source": [
    "*Boston*"
   ]
  },
  {
   "cell_type": "code",
   "execution_count": 19,
   "metadata": {},
   "outputs": [],
   "source": [
    "# Get URL\n",
    "url = 'https://www.bluebikes.com/system-data'\n",
    "response3 = requests.get(url)"
   ]
  },
  {
   "cell_type": "code",
   "execution_count": 20,
   "metadata": {},
   "outputs": [],
   "source": [
    "# Parse Info with BeautifulSoup\n",
    "response3 = requests.get(url)\n",
    "soup = bs(response3.content, 'lxml')\n",
    "divs = soup.find_all('div', class_='fl-rich-text')"
   ]
  },
  {
   "cell_type": "code",
   "execution_count": 21,
   "metadata": {},
   "outputs": [],
   "source": [
    "# Create loop to scrape pricing index\n",
    "for i in divs:\n",
    "    try:\n",
    "        print(i.find('h1').text)\n",
    "    except:\n",
    "        pass"
   ]
  },
  {
   "cell_type": "markdown",
   "metadata": {},
   "source": [
    "*New York*"
   ]
  },
  {
   "cell_type": "code",
   "execution_count": null,
   "metadata": {},
   "outputs": [],
   "source": [
    "# Get URL\n",
    "url = 'https://www.mobibikes.ca/en/offers-subscription'\n",
    "response4 = requests.get(url)"
   ]
  },
  {
   "cell_type": "code",
   "execution_count": null,
   "metadata": {},
   "outputs": [],
   "source": [
    "# Parse Info with BeautifulSoup\n",
    "response4 = requests.get(url)\n",
    "soup = bs(response4.content, 'lxml')\n",
    "divs = soup.find_all('div', class_='fl-rich-text')"
   ]
  },
  {
   "cell_type": "code",
   "execution_count": null,
   "metadata": {},
   "outputs": [],
   "source": [
    "# Create loop to scrape pricing index\n",
    "for i in divs:\n",
    "    try:\n",
    "        print(i.find('h1').text)\n",
    "    except:\n",
    "        pass"
   ]
  },
  {
   "cell_type": "markdown",
   "metadata": {},
   "source": [
    "<b>Dataframe for each City Price Index<b>"
   ]
  },
  {
   "cell_type": "code",
   "execution_count": null,
   "metadata": {},
   "outputs": [],
   "source": [
    "price_index = pd.DataFrame"
   ]
  }
 ],
 "metadata": {
  "kernelspec": {
   "display_name": "Python 3",
   "language": "python",
   "name": "python3"
  },
  "language_info": {
   "codemirror_mode": {
    "name": "ipython",
    "version": 3
   },
   "file_extension": ".py",
   "mimetype": "text/x-python",
   "name": "python",
   "nbconvert_exporter": "python",
   "pygments_lexer": "ipython3",
   "version": "3.8.3"
  }
 },
 "nbformat": 4,
 "nbformat_minor": 4
}
