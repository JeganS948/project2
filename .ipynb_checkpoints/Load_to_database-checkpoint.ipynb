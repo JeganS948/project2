{
 "cells": [
  {
   "cell_type": "markdown",
   "metadata": {},
   "source": [
    "### Import Dependencies"
   ]
  },
  {
   "cell_type": "code",
   "execution_count": null,
   "metadata": {},
   "outputs": [],
   "source": [
    "import pandas as pd\n",
    "import os\n",
    "from sqlalchemy import create_engine\n",
    "from sqlalchemy.ext.declarative import declarative_base\n",
    "from sqlalchemy.ext.automap import automap_base\n",
    "from sqlalchemy.orm import Session\n",
    "\n",
    "from config import conn_string\n",
    "#from config_testdb import conn_string"
   ]
  },
  {
   "cell_type": "markdown",
   "metadata": {},
   "source": [
    "**get all files for loading**"
   ]
  },
  {
   "cell_type": "code",
   "execution_count": null,
   "metadata": {},
   "outputs": [],
   "source": [
    "# path\n",
    "station_path = os.path.join('.', \"station_info.csv\")\n",
    "weather_path = os.path.join('.', \"historical_weather.csv\")\n",
    "pricing_path = os.path.join('.', \"pricing_index.csv\")\n",
    "\n",
    "#bikes\n",
    "toronto_bikes = os.path.join(\"Resources/1_toronto_canada\", \"toronto_bikes.csv\")\n",
    "vancouver_bikes = os.path.join(\"Resources/2_vancouver_canada\", \"vancouver_bikes.csv\")\n",
    "boston_bikes = os.path.join(\"Resources/3_boston_us\", \"boston_bikes.csv\")\n",
    "nyc_bikes = os.path.join(\"Resources/4_NewYork_US\", \"nyc_bikes.csv\")\n",
    "\n",
    "# membertypes\n",
    "toronto_users = os.path.join(\"Resources/1_toronto_canada\", \"toronto_membertypes.csv\")\n",
    "vancouver_users = os.path.join(\"Resources/2_vancouver_canada\", \"vancouver_membertypes.csv\")\n",
    "boston_users = os.path.join(\"Resources/3_boston_us\", \"boston_membertypes.csv\")\n",
    "nyc_users = os.path.join(\"Resources/4_NewYork_US\", \"nyc_membertypes.csv\")\n",
    "\n",
    "# ridership\n",
    "toronto_ = os.path.join(\"Resources/1_toronto_canada\", \"toronto_bikeshare.csv\")\n",
    "vancouver_ = os.path.join(\"Resources/2_vancouver_canada\", \"vancouver_bikeshare.csv\")\n",
    "boston_ = os.path.join(\"Resources/3_boston_us\", \"boston_bikeshare.csv\")\n",
    "nyc_ = os.path.join(\"Resources/4_NewYork_US\", \"nyc_bikeshare.csv\")\n"
   ]
  },
  {
   "cell_type": "markdown",
   "metadata": {},
   "source": [
    "**read all files into dataframes**"
   ]
  },
  {
   "cell_type": "code",
   "execution_count": null,
   "metadata": {},
   "outputs": [],
   "source": [
    "# read files\n",
    "stns = pd.read_csv(station_path, encoding=\"utf-8\")\n",
    "weather = pd.read_csv(weather_path, encoding=\"utf-8\")\n",
    "\n",
    "# bikes\n",
    "tor_bikes = pd.read_csv(toronto_bikes, encoding=\"utf-8\")\n",
    "van_bikes = pd.read_csv(vancouver_bikes, encoding=\"utf-8\")\n",
    "bos_bikes = pd.read_csv(boston_bikes, encoding=\"utf-8\")\n",
    "nyc_bikes = pd.read_csv(nyc_bikes, encoding=\"utf-8\")\n",
    "\n",
    "# member_types\n",
    "tor_users = pd.read_csv(toronto_users, encoding=\"utf-8\")\n",
    "van_users = pd.read_csv(vancouver_users, encoding=\"utf-8\")\n",
    "bos_users = pd.read_csv(boston_users, encoding=\"utf-8\")\n",
    "nyc_users = pd.read_csv(nyc_users, encoding=\"utf-8\")\n",
    "\n",
    "# pricing index\n",
    "pricing_index = pd.read_csv(pricing_path, encoding=\"utf-8\")\n",
    "\n",
    "# ridership\n",
    "toronto = pd.read_csv(toronto_, encoding=\"utf-8\")\n",
    "vancouver = pd.read_csv(vancouver_, encoding=\"utf-8\")\n",
    "boston = pd.read_csv(boston_, encoding=\"utf-8\")\n",
    "newyork = pd.read_csv(nyc_, encoding=\"utf-8\")\n"
   ]
  },
  {
   "cell_type": "markdown",
   "metadata": {},
   "source": [
    "**Locations**"
   ]
  },
  {
   "cell_type": "code",
   "execution_count": null,
   "metadata": {},
   "outputs": [],
   "source": [
    "# create locations table\n",
    "locations = [{\"location_id\": 1,\"city\":\"Toronto\", \"country\":\"Canada\" }, \n",
    "             {\"location_id\": 2,\"city\":\"Vancouver\", \"country\":\"Canada\"},\n",
    "             {\"location_id\": 3,\"city\":\"Boston\", \"country\":\"USA\"},\n",
    "             {\"location_id\": 4,\"city\":\"New York\", \"country\":\"USA\"}\n",
    "            ]\n",
    "\n",
    "df = pd.DataFrame(locations)\n",
    "df.set_index(\"location_id\", inplace=True)\n",
    "df\n"
   ]
  },
  {
   "cell_type": "markdown",
   "metadata": {},
   "source": [
    "**Stations**"
   ]
  },
  {
   "cell_type": "code",
   "execution_count": null,
   "metadata": {},
   "outputs": [],
   "source": [
    "stns.head()"
   ]
  },
  {
   "cell_type": "markdown",
   "metadata": {},
   "source": [
    "**Historical Weather**"
   ]
  },
  {
   "cell_type": "code",
   "execution_count": null,
   "metadata": {},
   "outputs": [],
   "source": [
    "weather.head()"
   ]
  },
  {
   "cell_type": "markdown",
   "metadata": {},
   "source": [
    "**Bikes**"
   ]
  },
  {
   "cell_type": "code",
   "execution_count": null,
   "metadata": {},
   "outputs": [],
   "source": [
    "tor_bikes.head()"
   ]
  },
  {
   "cell_type": "code",
   "execution_count": null,
   "metadata": {},
   "outputs": [],
   "source": [
    "van_bikes.head()"
   ]
  },
  {
   "cell_type": "code",
   "execution_count": null,
   "metadata": {},
   "outputs": [],
   "source": [
    "bos_bikes.head()"
   ]
  },
  {
   "cell_type": "code",
   "execution_count": null,
   "metadata": {},
   "outputs": [],
   "source": [
    "nyc_bikes.head()"
   ]
  },
  {
   "cell_type": "markdown",
   "metadata": {},
   "source": [
    "**Member Types**"
   ]
  },
  {
   "cell_type": "code",
   "execution_count": null,
   "metadata": {},
   "outputs": [],
   "source": [
    "tor_users.head()"
   ]
  },
  {
   "cell_type": "code",
   "execution_count": null,
   "metadata": {},
   "outputs": [],
   "source": [
    "van_users.head()"
   ]
  },
  {
   "cell_type": "code",
   "execution_count": null,
   "metadata": {},
   "outputs": [],
   "source": [
    "bos_users.head()"
   ]
  },
  {
   "cell_type": "code",
   "execution_count": null,
   "metadata": {},
   "outputs": [],
   "source": [
    "nyc_users.head()"
   ]
  },
  {
   "cell_type": "markdown",
   "metadata": {},
   "source": [
    "**Pricing Index**"
   ]
  },
  {
   "cell_type": "code",
   "execution_count": null,
   "metadata": {},
   "outputs": [],
   "source": [
    "pricing_index.head()"
   ]
  },
  {
   "cell_type": "markdown",
   "metadata": {},
   "source": [
    "**Ridership**"
   ]
  },
  {
   "cell_type": "code",
   "execution_count": null,
   "metadata": {},
   "outputs": [],
   "source": [
    "# Toronto\n",
    "toronto.head()"
   ]
  },
  {
   "cell_type": "code",
   "execution_count": null,
   "metadata": {},
   "outputs": [],
   "source": [
    "# Vancouver\n",
    "vancouver.head()"
   ]
  },
  {
   "cell_type": "code",
   "execution_count": null,
   "metadata": {},
   "outputs": [],
   "source": [
    "# Boston\n",
    "boston.head()"
   ]
  },
  {
   "cell_type": "code",
   "execution_count": null,
   "metadata": {},
   "outputs": [],
   "source": [
    "# New York\n",
    "newyork.head()"
   ]
  },
  {
   "cell_type": "markdown",
   "metadata": {},
   "source": [
    "### Load data"
   ]
  },
  {
   "cell_type": "markdown",
   "metadata": {},
   "source": [
    "#### Connect to database"
   ]
  },
  {
   "cell_type": "code",
   "execution_count": null,
   "metadata": {},
   "outputs": [],
   "source": [
    "# connect to database\n",
    "cnx = f'postgresql://{conn_string}'\n",
    "engine = create_engine(cnx)"
   ]
  },
  {
   "cell_type": "code",
   "execution_count": null,
   "metadata": {},
   "outputs": [],
   "source": [
    "# confirm tables\n",
    "engine.table_names()"
   ]
  },
  {
   "cell_type": "markdown",
   "metadata": {},
   "source": [
    "***Locations***"
   ]
  },
  {
   "cell_type": "code",
   "execution_count": null,
   "metadata": {},
   "outputs": [],
   "source": [
    "# load locations into database\n",
    "df.to_sql(name='locations', con=engine, if_exists='append', index=True)\n",
    "print(\"locations\")"
   ]
  },
  {
   "cell_type": "markdown",
   "metadata": {},
   "source": [
    "***Stations***"
   ]
  },
  {
   "cell_type": "code",
   "execution_count": null,
   "metadata": {},
   "outputs": [],
   "source": [
    "# load stations into database\n",
    "stns.to_sql(name='stations', con=engine, if_exists='append', index=False)\n",
    "print(\"stations\")"
   ]
  },
  {
   "cell_type": "markdown",
   "metadata": {},
   "source": [
    "***Historical Weather***"
   ]
  },
  {
   "cell_type": "code",
   "execution_count": null,
   "metadata": {},
   "outputs": [],
   "source": [
    "# load historical weather into database\n",
    "weather.to_sql(name='historicalweather', con=engine, if_exists='append', index=False)\n",
    "print(\"weather\")"
   ]
  },
  {
   "cell_type": "markdown",
   "metadata": {},
   "source": [
    "***Bikes***"
   ]
  },
  {
   "cell_type": "code",
   "execution_count": null,
   "metadata": {},
   "outputs": [],
   "source": [
    "# load toronto bikes into database\n",
    "tor_bikes.to_sql(name='bikes', con=engine, if_exists='append', index=False)\n",
    "print(\"tor_bikes\")"
   ]
  },
  {
   "cell_type": "code",
   "execution_count": null,
   "metadata": {},
   "outputs": [],
   "source": [
    "# load vancouver bikes into database\n",
    "van_bikes.to_sql(name='bikes', con=engine, if_exists='append', index=False)\n",
    "print(\"van_bikes\")"
   ]
  },
  {
   "cell_type": "code",
   "execution_count": null,
   "metadata": {},
   "outputs": [],
   "source": [
    "# load boston bikes into database\n",
    "bos_bikes.to_sql(name='bikes', con=engine, if_exists='append', index=False)\n",
    "print(\"bos_bikes\")"
   ]
  },
  {
   "cell_type": "code",
   "execution_count": null,
   "metadata": {},
   "outputs": [],
   "source": [
    "# load new york bikes into database\n",
    "nyc_bikes.to_sql(name='bikes', con=engine, if_exists='append', index=False)\n",
    "print(\"nyc_bikes\")"
   ]
  },
  {
   "cell_type": "markdown",
   "metadata": {},
   "source": [
    "***Member Types***"
   ]
  },
  {
   "cell_type": "code",
   "execution_count": null,
   "metadata": {},
   "outputs": [],
   "source": [
    "# load toronto member types\n",
    "tor_users.to_sql(name='membertypes', con=engine, if_exists='append', index=False)\n",
    "print(\"tor_users\")"
   ]
  },
  {
   "cell_type": "code",
   "execution_count": null,
   "metadata": {},
   "outputs": [],
   "source": [
    "# load vancouver member types\n",
    "van_users.to_sql(name='membertypes', con=engine, if_exists='append', index=False)\n",
    "print(\"van_users\")"
   ]
  },
  {
   "cell_type": "code",
   "execution_count": null,
   "metadata": {},
   "outputs": [],
   "source": [
    "# load boston member types\n",
    "bos_users.to_sql(name='membertypes', con=engine, if_exists='append', index=False)\n",
    "print(\"bos_users\")"
   ]
  },
  {
   "cell_type": "code",
   "execution_count": null,
   "metadata": {},
   "outputs": [],
   "source": [
    "# load new york member types\n",
    "nyc_users.to_sql(name='membertypes', con=engine, if_exists='append', index=False)\n",
    "print(\"nyc_users\")"
   ]
  },
  {
   "cell_type": "markdown",
   "metadata": {},
   "source": [
    "***Pricing Index***"
   ]
  },
  {
   "cell_type": "code",
   "execution_count": null,
   "metadata": {},
   "outputs": [],
   "source": [
    "# load pricing index\n",
    "pricing_index.to_sql(name='pricing', con=engine, if_exists='append',index=False, index_label='price_id')\n",
    "print(\"pricing_index\")"
   ]
  },
  {
   "cell_type": "markdown",
   "metadata": {},
   "source": [
    "### Load Ridership"
   ]
  },
  {
   "cell_type": "markdown",
   "metadata": {},
   "source": [
    "#### check reference to stations table"
   ]
  },
  {
   "cell_type": "code",
   "execution_count": null,
   "metadata": {},
   "outputs": [],
   "source": [
    "# create session\n",
    "session = Session(bind=engine)\n",
    "# declare a base using automap_base\n",
    "Base = automap_base()\n",
    "# use the Base class to reflect the database tables\n",
    "Base.prepare(engine, reflect=True)\n",
    "Base.classes.keys()\n",
    "Stations = Base.classes.stations"
   ]
  },
  {
   "cell_type": "code",
   "execution_count": null,
   "metadata": {},
   "outputs": [],
   "source": [
    "Base.classes.keys()"
   ]
  },
  {
   "cell_type": "markdown",
   "metadata": {},
   "source": [
    "***Verify that all station_ids used in bikeshare exists in Stations table***"
   ]
  },
  {
   "cell_type": "code",
   "execution_count": null,
   "metadata": {},
   "outputs": [],
   "source": [
    "# get all stations\n",
    "all_stations = session.query(Stations.station_id).all()\n",
    "all_stns_df = pd.DataFrame(all_stations)\n",
    "all_stns_df"
   ]
  },
  {
   "cell_type": "markdown",
   "metadata": {},
   "source": [
    "### ***Toronto***"
   ]
  },
  {
   "cell_type": "code",
   "execution_count": null,
   "metadata": {},
   "outputs": [],
   "source": [
    "# check for Toronto records with start_station_id not in stations table\n",
    "missing_start = toronto[-toronto[\"start_station_id\"].isin(all_stns_df[\"station_id\"])]\n",
    "missing_start = missing_start.rename(columns={\"start_station_id\":\"station_id\"})"
   ]
  },
  {
   "cell_type": "code",
   "execution_count": null,
   "metadata": {},
   "outputs": [],
   "source": [
    "missing_start"
   ]
  },
  {
   "cell_type": "code",
   "execution_count": null,
   "metadata": {},
   "outputs": [],
   "source": [
    "# check for Toronto records with end_station_id not in stations table\n",
    "missing_end = toronto[-toronto[\"end_station_id\"].isin(all_stns_df[\"station_id\"])]\n",
    "missing_end = missing_end.rename(columns={\"start_station_id\":\"station_id\"})\n"
   ]
  },
  {
   "cell_type": "code",
   "execution_count": null,
   "metadata": {},
   "outputs": [],
   "source": [
    "missing_end"
   ]
  },
  {
   "cell_type": "markdown",
   "metadata": {},
   "source": [
    "*Load rows with station_id existing in stations table*"
   ]
  },
  {
   "cell_type": "code",
   "execution_count": null,
   "metadata": {},
   "outputs": [],
   "source": [
    "toronto = toronto[toronto[\"start_station_id\"].isin(all_stns_df[\"station_id\"])]\n",
    "toronto = toronto[toronto[\"end_station_id\"].isin(all_stns_df[\"station_id\"])]"
   ]
  },
  {
   "cell_type": "code",
   "execution_count": null,
   "metadata": {},
   "outputs": [],
   "source": [
    "toronto"
   ]
  },
  {
   "cell_type": "code",
   "execution_count": null,
   "metadata": {},
   "outputs": [],
   "source": [
    "# get all Toronto stations\n",
    "stns_toronto = session.query(Stations.station_id).filter(Stations.location_id==1).all()\n",
    "stns_toronto = pd.DataFrame(stns_toronto)\n",
    "stns_toronto = stns_toronto.rename(columns={\"station_id\": \"start_station_id\"})\n",
    "stns_toronto"
   ]
  },
  {
   "cell_type": "code",
   "execution_count": null,
   "metadata": {},
   "outputs": [],
   "source": [
    "# remove Toronto records with start_station_id not in stations table\n",
    "tor_df = pd.merge(toronto, stns_toronto, how='inner', on='start_station_id')"
   ]
  },
  {
   "cell_type": "code",
   "execution_count": null,
   "metadata": {},
   "outputs": [],
   "source": [
    "tor_df"
   ]
  },
  {
   "cell_type": "code",
   "execution_count": null,
   "metadata": {},
   "outputs": [],
   "source": [
    "# rename Toronto station column to check if end_station_id exists in stations table\n",
    "stns_toronto = stns_toronto.rename(columns={\"start_station_id\": \"end_station_id\"})\n",
    "stns_toronto"
   ]
  },
  {
   "cell_type": "code",
   "execution_count": null,
   "metadata": {},
   "outputs": [],
   "source": [
    "#remove Toronto records with end_station_id not in stations table\n",
    "toronto = pd.merge(tor_df, stns_toronto, how='inner', on='end_station_id')"
   ]
  },
  {
   "cell_type": "code",
   "execution_count": null,
   "metadata": {},
   "outputs": [],
   "source": [
    "# count number of records for insert to ridership table\n",
    "print(toronto.count())"
   ]
  },
  {
   "cell_type": "code",
   "execution_count": null,
   "metadata": {},
   "outputs": [],
   "source": [
    "# Load Toronto bikeshare data to ridership table\n",
    "toronto.to_sql(name='ridership', con=engine, if_exists='append', index=False, index_label='id')"
   ]
  },
  {
   "cell_type": "markdown",
   "metadata": {},
   "source": [
    "### ***Vancouver***"
   ]
  },
  {
   "cell_type": "code",
   "execution_count": null,
   "metadata": {},
   "outputs": [],
   "source": [
    "# check for Vancouver records with start_station_id missing in stations table\n",
    "missing_start = vancouver[-vancouver[\"start_station_id\"].isin(all_stns_df[\"station_id\"])]\n",
    "missing_start = missing_start.rename(columns={\"start_station_id\":\"station_id\"})\n"
   ]
  },
  {
   "cell_type": "code",
   "execution_count": null,
   "metadata": {},
   "outputs": [],
   "source": [
    "missing_start"
   ]
  },
  {
   "cell_type": "code",
   "execution_count": null,
   "metadata": {},
   "outputs": [],
   "source": [
    "# check for Vancouver records with end_station_id missing in stations table\n",
    "missing_end = vancouver[-vancouver[\"end_station_id\"].isin(all_stns_df[\"station_id\"])]\n",
    "missing_end = missing_end.rename(columns={\"start_station_id\":\"station_id\"})\n"
   ]
  },
  {
   "cell_type": "code",
   "execution_count": null,
   "metadata": {},
   "outputs": [],
   "source": [
    "missing_end"
   ]
  },
  {
   "cell_type": "code",
   "execution_count": null,
   "metadata": {},
   "outputs": [],
   "source": [
    "# check Vancouver records with start_station_id and end_station_id existing in stations table\n",
    "vancouver = vancouver[vancouver[\"start_station_id\"].isin(all_stns_df[\"station_id\"])]\n",
    "vancouver = vancouver[vancouver[\"end_station_id\"].isin(all_stns_df[\"station_id\"])]"
   ]
  },
  {
   "cell_type": "code",
   "execution_count": null,
   "metadata": {},
   "outputs": [],
   "source": [
    "vancouver"
   ]
  },
  {
   "cell_type": "code",
   "execution_count": null,
   "metadata": {},
   "outputs": [],
   "source": [
    "# get all Vancouver stations\n",
    "stns_vancouver = session.query(Stations.station_id).filter(Stations.location_id==2).all()\n",
    "stns_vancouver = pd.DataFrame(stns_vancouver)\n",
    "stns_vancouver = stns_vancouver.rename(columns={\"station_id\": \"start_station_id\"})\n",
    "stns_vancouver"
   ]
  },
  {
   "cell_type": "code",
   "execution_count": null,
   "metadata": {},
   "outputs": [],
   "source": [
    "# remove Vancouver records with start_station_id not in stations table\n",
    "vancouver_df = pd.merge(vancouver, stns_vancouver, how='inner', on='start_station_id')"
   ]
  },
  {
   "cell_type": "code",
   "execution_count": null,
   "metadata": {},
   "outputs": [],
   "source": [
    "# rename Vancouver station column to end_station_id\n",
    "stns_vancouver = stns_vancouver.rename(columns={\"start_station_id\": \"end_station_id\"})\n",
    "stns_vancouver.head()"
   ]
  },
  {
   "cell_type": "code",
   "execution_count": null,
   "metadata": {},
   "outputs": [],
   "source": [
    "#remove Vancouver records with end_station_id not in stations table\n",
    "vancouver = pd.merge(vancouver_df, stns_vancouver, how='inner', on='end_station_id')"
   ]
  },
  {
   "cell_type": "code",
   "execution_count": null,
   "metadata": {},
   "outputs": [],
   "source": [
    "# check number of records for insert to database\n",
    "vancouver.count()\n",
    "print(vancouver.count())"
   ]
  },
  {
   "cell_type": "code",
   "execution_count": null,
   "metadata": {},
   "outputs": [],
   "source": [
    "# Load Vancouver bikeshare data to ridership table\n",
    "vancouver.to_sql(name='ridership', con=engine, if_exists='append', index=False, index_label='id')"
   ]
  },
  {
   "cell_type": "markdown",
   "metadata": {},
   "source": [
    "### ***Boston***"
   ]
  },
  {
   "cell_type": "code",
   "execution_count": null,
   "metadata": {},
   "outputs": [],
   "source": [
    "# check Boston data for missing start_station_id\n",
    "missing_start = boston[-boston[\"start_station_id\"].isin(all_stns_df[\"station_id\"])]\n",
    "missing_start"
   ]
  },
  {
   "cell_type": "code",
   "execution_count": null,
   "metadata": {},
   "outputs": [],
   "source": [
    "# check for missing end_station_id\n",
    "missing_end = boston[-boston[\"end_station_id\"].isin(all_stns_df[\"station_id\"])]\n",
    "missing_end"
   ]
  },
  {
   "cell_type": "code",
   "execution_count": null,
   "metadata": {},
   "outputs": [],
   "source": [
    "boston = boston[boston[\"start_station_id\"].isin(all_stns_df[\"station_id\"])]\n",
    "boston = boston[boston[\"end_station_id\"].isin(all_stns_df[\"station_id\"])]\n",
    "boston"
   ]
  },
  {
   "cell_type": "code",
   "execution_count": null,
   "metadata": {},
   "outputs": [],
   "source": [
    "# get all Boston stations\n",
    "stns_boston = session.query(Stations.station_id).filter(Stations.location_id==3).all()\n",
    "stns_boston = pd.DataFrame(stns_boston)\n",
    "stns_boston = stns_boston.rename(columns={\"station_id\": \"start_station_id\"})\n",
    "stns_boston"
   ]
  },
  {
   "cell_type": "code",
   "execution_count": null,
   "metadata": {},
   "outputs": [],
   "source": [
    "# remove Boston records with start_station_id not in stations table\n",
    "df = pd.merge(boston, stns_boston, how='inner', on='start_station_id')"
   ]
  },
  {
   "cell_type": "code",
   "execution_count": null,
   "metadata": {},
   "outputs": [],
   "source": [
    "# rename Boston station column to end_station_id\n",
    "stns_boston = stns_boston.rename(columns={\"start_station_id\": \"end_station_id\"})\n",
    "stns_boston.head()"
   ]
  },
  {
   "cell_type": "code",
   "execution_count": null,
   "metadata": {},
   "outputs": [],
   "source": [
    "#remove Boston records with end_station_id not in stations table\n",
    "boston_df = pd.merge(df, stns_boston, how='inner', on='end_station_id')"
   ]
  },
  {
   "cell_type": "code",
   "execution_count": null,
   "metadata": {},
   "outputs": [],
   "source": [
    "# count number of Boston records for insert to ridership table\n",
    "boston_df.count()\n",
    "print(boston_df.count())"
   ]
  },
  {
   "cell_type": "code",
   "execution_count": null,
   "metadata": {},
   "outputs": [],
   "source": [
    "# load Boston records to ridership table\n",
    "boston_df.to_sql(name='ridership', con=engine, if_exists='append', index=False, index_label='id')"
   ]
  },
  {
   "cell_type": "markdown",
   "metadata": {},
   "source": [
    "### ***New York***"
   ]
  },
  {
   "cell_type": "code",
   "execution_count": null,
   "metadata": {},
   "outputs": [],
   "source": [
    "# check for New York records with missing start_station_id in stations table\n",
    "missing_start = newyork[-newyork[\"start_station_id\"].isin(all_stns_df[\"station_id\"])]\n",
    "missing_start"
   ]
  },
  {
   "cell_type": "code",
   "execution_count": null,
   "metadata": {},
   "outputs": [],
   "source": [
    "# check for New York records with missing end_station_id in stations table\n",
    "missing_end = newyork[-newyork[\"end_station_id\"].isin(all_stns_df[\"station_id\"])]\n",
    "missing_end"
   ]
  },
  {
   "cell_type": "code",
   "execution_count": null,
   "metadata": {},
   "outputs": [],
   "source": [
    "# check New York records with start_station_id and end_station_id both in stations table\n",
    "newyork = newyork[newyork[\"start_station_id\"].isin(all_stns_df[\"station_id\"])]\n",
    "newyork = newyork[newyork[\"end_station_id\"].isin(all_stns_df[\"station_id\"])]\n",
    "newyork"
   ]
  },
  {
   "cell_type": "code",
   "execution_count": null,
   "metadata": {},
   "outputs": [],
   "source": [
    "# get New York stations data\n",
    "stns_newyork = session.query(Stations.station_id).filter(Stations.location_id==4).all()\n",
    "stns_newyork = pd.DataFrame(stns_newyork)\n",
    "stns_newyork = stns_newyork.rename(columns={\"station_id\": \"start_station_id\"})\n",
    "stns_newyork"
   ]
  },
  {
   "cell_type": "code",
   "execution_count": null,
   "metadata": {},
   "outputs": [],
   "source": [
    "# remove New York records with start_station_id not existing in stations table\n",
    "ny_df = pd.merge(newyork, stns_newyork, how='inner', on='start_station_id')"
   ]
  },
  {
   "cell_type": "code",
   "execution_count": null,
   "metadata": {},
   "outputs": [],
   "source": [
    "# rename New Yorks stations column to end_station_id\n",
    "stns_newyork = stns_newyork.rename(columns={\"start_station_id\": \"end_station_id\"})\n",
    "stns_newyork.head()"
   ]
  },
  {
   "cell_type": "code",
   "execution_count": null,
   "metadata": {},
   "outputs": [],
   "source": [
    "# remove New York records with end_station_id not existing in stations table\n",
    "newyork_df = pd.merge(ny_df, stns_newyork, how='inner', on='end_station_id')"
   ]
  },
  {
   "cell_type": "code",
   "execution_count": null,
   "metadata": {},
   "outputs": [],
   "source": [
    "# count number of New York records for insert to ridership table\n",
    "newyork_df.count()\n",
    "print(newyork_df.count())"
   ]
  },
  {
   "cell_type": "code",
   "execution_count": null,
   "metadata": {},
   "outputs": [],
   "source": [
    "newyork_df.to_sql(name='ridership', con=engine, if_exists='append', index=False, index_label='id')"
   ]
  },
  {
   "cell_type": "markdown",
   "metadata": {},
   "source": [
    "**Close session**"
   ]
  },
  {
   "cell_type": "code",
   "execution_count": null,
   "metadata": {},
   "outputs": [],
   "source": [
    "session.close()"
   ]
  },
  {
   "cell_type": "code",
   "execution_count": null,
   "metadata": {},
   "outputs": [],
   "source": []
  }
 ],
 "metadata": {
  "kernelspec": {
   "display_name": "Python 3",
   "language": "python",
   "name": "python3"
  },
  "language_info": {
   "codemirror_mode": {
    "name": "ipython",
    "version": 3
   },
   "file_extension": ".py",
   "mimetype": "text/x-python",
   "name": "python",
   "nbconvert_exporter": "python",
   "pygments_lexer": "ipython3",
   "version": "3.8.3"
  }
 },
 "nbformat": 4,
 "nbformat_minor": 4
}
