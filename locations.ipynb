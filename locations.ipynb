{
 "cells": [
  {
   "cell_type": "code",
   "execution_count": 1,
   "metadata": {},
   "outputs": [],
   "source": [
    "import pandas as pd\n",
    "import os\n",
    "from sqlalchemy import create_engine\n",
    "from config import conn_string"
   ]
  },
  {
   "cell_type": "markdown",
   "metadata": {},
   "source": [
    "**read all files**"
   ]
  },
  {
   "cell_type": "code",
   "execution_count": 2,
   "metadata": {},
   "outputs": [],
   "source": [
    "# path\n",
    "station_path = os.path.join('.', \"station_info.csv\")\n",
    "weather_path = os.path.join('.', \"historical_weather.csv\")\n",
    "\n",
    "#bikes\n",
    "toronto_bikes = os.path.join(\"Resources/1_toronto_canada\", \"toronto_bikes.csv\")\n",
    "vancouver_bikes = os.path.join(\"Resources/2_vancouver_canada\", \"vancouver_bikes.csv\")\n",
    "boston_bikes = os.path.join(\"Resources/3_boston_us\", \"boston_bikes.csv\")\n",
    "nyc_bikes = os.path.join(\"Resources/4_NewYork_US\", \"nyc_bikes.csv\")\n",
    "\n",
    "# membertypes\n",
    "toronto_users = os.path.join(\"Resources/1_toronto_canada\", \"toronto_membertypes.csv\")\n",
    "vancouver_users = os.path.join(\"Resources/2_vancouver_canada\", \"vancouver_membertypes.csv\")\n",
    "boston_users = os.path.join(\"Resources/3_boston_us\", \"boston_membertypes.csv\")\n",
    "nyc_users = os.path.join(\"Resources/4_NewYork_US\", \"nyc_membertypes.csv\")\n",
    "\n",
    "# ridership\n",
    "toronto_ = os.path.join(\"Resources/1_toronto_canada\", \"toronto_bikeshare.csv\")\n",
    "vancouver_ = os.path.join(\"Resources/2_vancouver_canada\", \"vancouver_bikeshare.csv\")\n",
    "boston_ = os.path.join(\"Resources/3_boston_us\", \"boston_bikeshare.csv\")\n",
    "nyc_ = os.path.join(\"Resources/4_NewYork_US\", \"nyc_bikeshare.csv\")\n"
   ]
  },
  {
   "cell_type": "code",
   "execution_count": 3,
   "metadata": {},
   "outputs": [],
   "source": [
    "# read files\n",
    "stns = pd.read_csv(station_path, encoding=\"utf-8\")\n",
    "weather = pd.read_csv(weather_path, encoding=\"utf-8\")\n",
    "\n",
    "# bikes\n",
    "tor_bikes = pd.read_csv(toronto_bikes, encoding=\"utf-8\")\n",
    "van_bikes = pd.read_csv(vancouver_bikes, encoding=\"utf-8\")\n",
    "bos_bikes = pd.read_csv(boston_bikes, encoding=\"utf-8\")\n",
    "nyc_bikes = pd.read_csv(nyc_bikes, encoding=\"utf-8\")\n",
    "\n",
    "# member_types\n",
    "tor_users = pd.read_csv(toronto_users, encoding=\"utf-8\")\n",
    "van_users = pd.read_csv(vancouver_users, encoding=\"utf-8\")\n",
    "bos_users = pd.read_csv(boston_users, encoding=\"utf-8\")\n",
    "nyc_users = pd.read_csv(nyc_users, encoding=\"utf-8\")\n",
    "\n",
    "# pricing index\n",
    "\n",
    "\n",
    "# ridership\n",
    "toronto = pd.read_csv(toronto_, encoding=\"utf-8\")\n",
    "vancouver = pd.read_csv(vancouver_, encoding=\"utf-8\")\n",
    "boston = pd.read_csv(boston_, encoding=\"utf-8\")\n",
    "newyork = pd.read_csv(nyc_, encoding=\"utf-8\")\n"
   ]
  },
  {
   "cell_type": "code",
   "execution_count": null,
   "metadata": {},
   "outputs": [],
   "source": [
    "boston = pd.read_csv(boston_, encoding=\"utf-8\")"
   ]
  },
  {
   "cell_type": "code",
   "execution_count": null,
   "metadata": {},
   "outputs": [],
   "source": [
    "boston.count()"
   ]
  },
  {
   "cell_type": "markdown",
   "metadata": {},
   "source": [
    "**Locations**"
   ]
  },
  {
   "cell_type": "code",
   "execution_count": null,
   "metadata": {},
   "outputs": [],
   "source": [
    "locations = [{\"location_id\": 1,\"city\":\"Toronto\", \"country\":\"Canada\" }, \n",
    "             {\"location_id\": 2,\"city\":\"Vancouver\", \"country\":\"Canada\"},\n",
    "             {\"location_id\": 3,\"city\":\"Boston\", \"country\":\"USA\"},\n",
    "             {\"location_id\": 4,\"city\":\"New York\", \"country\":\"USA\"}\n",
    "            ]\n",
    "\n",
    "df = pd.DataFrame(locations)\n",
    "df.set_index(\"location_id\", inplace=True)\n",
    "df\n"
   ]
  },
  {
   "cell_type": "markdown",
   "metadata": {},
   "source": [
    "**Stations**"
   ]
  },
  {
   "cell_type": "code",
   "execution_count": null,
   "metadata": {},
   "outputs": [],
   "source": [
    "stns.head()"
   ]
  },
  {
   "cell_type": "markdown",
   "metadata": {},
   "source": [
    "**Historical Weather**"
   ]
  },
  {
   "cell_type": "code",
   "execution_count": null,
   "metadata": {},
   "outputs": [],
   "source": [
    "weather.head()"
   ]
  },
  {
   "cell_type": "markdown",
   "metadata": {},
   "source": [
    "**Bikes**"
   ]
  },
  {
   "cell_type": "code",
   "execution_count": null,
   "metadata": {},
   "outputs": [],
   "source": [
    "tor_bikes.head()"
   ]
  },
  {
   "cell_type": "code",
   "execution_count": null,
   "metadata": {},
   "outputs": [],
   "source": [
    "van_bikes.head()"
   ]
  },
  {
   "cell_type": "code",
   "execution_count": null,
   "metadata": {},
   "outputs": [],
   "source": [
    "bos_bikes.head()"
   ]
  },
  {
   "cell_type": "code",
   "execution_count": null,
   "metadata": {},
   "outputs": [],
   "source": [
    "nyc_bikes.head()"
   ]
  },
  {
   "cell_type": "markdown",
   "metadata": {},
   "source": [
    "**Member Types**"
   ]
  },
  {
   "cell_type": "code",
   "execution_count": null,
   "metadata": {},
   "outputs": [],
   "source": [
    "tor_users.head()"
   ]
  },
  {
   "cell_type": "code",
   "execution_count": null,
   "metadata": {},
   "outputs": [],
   "source": [
    "van_users.head()"
   ]
  },
  {
   "cell_type": "code",
   "execution_count": null,
   "metadata": {},
   "outputs": [],
   "source": [
    "bos_users.head()"
   ]
  },
  {
   "cell_type": "code",
   "execution_count": null,
   "metadata": {},
   "outputs": [],
   "source": [
    "nyc_users.head()"
   ]
  },
  {
   "cell_type": "markdown",
   "metadata": {},
   "source": [
    "**Pricing Index**"
   ]
  },
  {
   "cell_type": "code",
   "execution_count": null,
   "metadata": {},
   "outputs": [],
   "source": []
  },
  {
   "cell_type": "markdown",
   "metadata": {},
   "source": [
    "**Ridership**"
   ]
  },
  {
   "cell_type": "code",
   "execution_count": null,
   "metadata": {},
   "outputs": [],
   "source": [
    "# Toronto\n",
    "\n",
    "toronto.head()"
   ]
  },
  {
   "cell_type": "markdown",
   "metadata": {},
   "source": [
    "### Load data"
   ]
  },
  {
   "cell_type": "code",
   "execution_count": 4,
   "metadata": {},
   "outputs": [],
   "source": [
    "cnx = f'postgresql://{conn_string}'\n",
    "engine = create_engine(cnx)"
   ]
  },
  {
   "cell_type": "code",
   "execution_count": 5,
   "metadata": {},
   "outputs": [
    {
     "data": {
      "text/plain": [
       "['locations',\n",
       " 'membertypes',\n",
       " 'stations',\n",
       " 'bikes',\n",
       " 'ridership',\n",
       " 'pricing',\n",
       " 'historicalweather']"
      ]
     },
     "execution_count": 5,
     "metadata": {},
     "output_type": "execute_result"
    }
   ],
   "source": [
    "# confirm tables\n",
    "engine.table_names()"
   ]
  },
  {
   "cell_type": "code",
   "execution_count": null,
   "metadata": {},
   "outputs": [],
   "source": [
    "# load locations into database\n",
    "df.to_sql(name='locations', con=engine, if_exists='append', index=True)"
   ]
  },
  {
   "cell_type": "code",
   "execution_count": null,
   "metadata": {},
   "outputs": [],
   "source": [
    "# load stations into database\n",
    "stns.to_sql(name='stations', con=engine, if_exists='append', index=False)\n"
   ]
  },
  {
   "cell_type": "code",
   "execution_count": null,
   "metadata": {},
   "outputs": [],
   "source": [
    "# load historical weather into database\n",
    "weather.to_sql(name='historicalweather', con=engine, if_exists='append', index=False)"
   ]
  },
  {
   "cell_type": "code",
   "execution_count": null,
   "metadata": {},
   "outputs": [],
   "source": [
    "# load toronto bikes into database\n",
    "tor_bikes.to_sql(name='bikes', con=engine, if_exists='append', index=False)"
   ]
  },
  {
   "cell_type": "code",
   "execution_count": null,
   "metadata": {},
   "outputs": [],
   "source": [
    "# load vancouver bikes into database\n",
    "van_bikes.to_sql(name='bikes', con=engine, if_exists='append', index=False)"
   ]
  },
  {
   "cell_type": "code",
   "execution_count": null,
   "metadata": {},
   "outputs": [],
   "source": [
    "# load boston bikes into database\n",
    "bos_bikes.to_sql(name='bikes', con=engine, if_exists='append', index=False)"
   ]
  },
  {
   "cell_type": "code",
   "execution_count": null,
   "metadata": {},
   "outputs": [],
   "source": [
    "# load new york bikes into database\n",
    "nyc_bikes.to_sql(name='bikes', con=engine, if_exists='append', index=False)"
   ]
  },
  {
   "cell_type": "code",
   "execution_count": null,
   "metadata": {},
   "outputs": [],
   "source": [
    "# load toronto member types\n",
    "tor_users.to_sql(name='membertypes', con=engine, if_exists='append', index=False)"
   ]
  },
  {
   "cell_type": "code",
   "execution_count": null,
   "metadata": {},
   "outputs": [],
   "source": [
    "# load vancouver member types\n",
    "van_users.to_sql(name='membertypes', con=engine, if_exists='append', index=False)"
   ]
  },
  {
   "cell_type": "code",
   "execution_count": null,
   "metadata": {},
   "outputs": [],
   "source": [
    "# load boston member types\n",
    "bos_users.to_sql(name='membertypes', con=engine, if_exists='append', index=False)"
   ]
  },
  {
   "cell_type": "code",
   "execution_count": null,
   "metadata": {},
   "outputs": [],
   "source": [
    "# load new york member types\n",
    "nyc_users.to_sql(name='membertypes', con=engine, if_exists='append', index=False)"
   ]
  },
  {
   "cell_type": "markdown",
   "metadata": {},
   "source": [
    "**Load Ridership**"
   ]
  },
  {
   "cell_type": "code",
   "execution_count": 6,
   "metadata": {},
   "outputs": [],
   "source": [
    "from sqlalchemy.ext.declarative import declarative_base\n",
    "from sqlalchemy.ext.automap import automap_base\n",
    "from sqlalchemy.orm import Session\n",
    "\n",
    "# check reference to stations table\n",
    "# create session\n",
    "session = Session(bind=engine)\n",
    "# declare a base using automap_base\n",
    "Base = automap_base()\n",
    "# use the Base class to reflect the database tables\n",
    "Base.prepare(engine, reflect=True)\n",
    "Base.classes.keys()\n",
    "Stations = Base.classes.stations"
   ]
  },
  {
   "cell_type": "markdown",
   "metadata": {},
   "source": [
    "*Verify that all station_ids used in bikeshare exists in Stations table*"
   ]
  },
  {
   "cell_type": "code",
   "execution_count": 7,
   "metadata": {},
   "outputs": [
    {
     "data": {
      "text/html": [
       "<div>\n",
       "<style scoped>\n",
       "    .dataframe tbody tr th:only-of-type {\n",
       "        vertical-align: middle;\n",
       "    }\n",
       "\n",
       "    .dataframe tbody tr th {\n",
       "        vertical-align: top;\n",
       "    }\n",
       "\n",
       "    .dataframe thead th {\n",
       "        text-align: right;\n",
       "    }\n",
       "</style>\n",
       "<table border=\"1\" class=\"dataframe\">\n",
       "  <thead>\n",
       "    <tr style=\"text-align: right;\">\n",
       "      <th></th>\n",
       "      <th>station_id</th>\n",
       "    </tr>\n",
       "  </thead>\n",
       "  <tbody>\n",
       "    <tr>\n",
       "      <th>0</th>\n",
       "      <td>7000</td>\n",
       "    </tr>\n",
       "    <tr>\n",
       "      <th>1</th>\n",
       "      <td>7001</td>\n",
       "    </tr>\n",
       "    <tr>\n",
       "      <th>2</th>\n",
       "      <td>7002</td>\n",
       "    </tr>\n",
       "    <tr>\n",
       "      <th>3</th>\n",
       "      <td>7003</td>\n",
       "    </tr>\n",
       "    <tr>\n",
       "      <th>4</th>\n",
       "      <td>7004</td>\n",
       "    </tr>\n",
       "    <tr>\n",
       "      <th>...</th>\n",
       "      <td>...</td>\n",
       "    </tr>\n",
       "    <tr>\n",
       "      <th>2396</th>\n",
       "      <td>4248</td>\n",
       "    </tr>\n",
       "    <tr>\n",
       "      <th>2397</th>\n",
       "      <td>4249</td>\n",
       "    </tr>\n",
       "    <tr>\n",
       "      <th>2398</th>\n",
       "      <td>4250</td>\n",
       "    </tr>\n",
       "    <tr>\n",
       "      <th>2399</th>\n",
       "      <td>4252</td>\n",
       "    </tr>\n",
       "    <tr>\n",
       "      <th>2400</th>\n",
       "      <td>4253</td>\n",
       "    </tr>\n",
       "  </tbody>\n",
       "</table>\n",
       "<p>2401 rows × 1 columns</p>\n",
       "</div>"
      ],
      "text/plain": [
       "      station_id\n",
       "0           7000\n",
       "1           7001\n",
       "2           7002\n",
       "3           7003\n",
       "4           7004\n",
       "...          ...\n",
       "2396        4248\n",
       "2397        4249\n",
       "2398        4250\n",
       "2399        4252\n",
       "2400        4253\n",
       "\n",
       "[2401 rows x 1 columns]"
      ]
     },
     "execution_count": 7,
     "metadata": {},
     "output_type": "execute_result"
    }
   ],
   "source": [
    "all_stations = session.query(Stations.station_id).all()\n",
    "all_stns_df = pd.DataFrame(all_stations)\n",
    "all_stns_df"
   ]
  },
  {
   "cell_type": "markdown",
   "metadata": {},
   "source": [
    "***Toronto***"
   ]
  },
  {
   "cell_type": "code",
   "execution_count": null,
   "metadata": {},
   "outputs": [],
   "source": [
    "missing_start = toronto[-toronto[\"start_station_id\"].isin(all_stns_df[\"station_id\"])]\n",
    "missing_start = missing_start.rename(columns={\"start_station_id\":\"station_id\"})\n"
   ]
  },
  {
   "cell_type": "code",
   "execution_count": null,
   "metadata": {},
   "outputs": [],
   "source": [
    "missing_start"
   ]
  },
  {
   "cell_type": "code",
   "execution_count": null,
   "metadata": {},
   "outputs": [],
   "source": [
    "missing_end = toronto[-toronto[\"end_station_id\"].isin(all_stns_df[\"station_id\"])]\n",
    "missing_end = missing_end.rename(columns={\"start_station_id\":\"station_id\"})\n"
   ]
  },
  {
   "cell_type": "code",
   "execution_count": null,
   "metadata": {},
   "outputs": [],
   "source": [
    "missing_end"
   ]
  },
  {
   "cell_type": "markdown",
   "metadata": {},
   "source": [
    "*Load rows with station_id existing in stations table*"
   ]
  },
  {
   "cell_type": "code",
   "execution_count": null,
   "metadata": {},
   "outputs": [],
   "source": [
    "toronto = toronto[toronto[\"start_station_id\"].isin(all_stns_df[\"station_id\"])]\n",
    "toronto = toronto[toronto[\"end_station_id\"].isin(all_stns_df[\"station_id\"])]"
   ]
  },
  {
   "cell_type": "code",
   "execution_count": null,
   "metadata": {},
   "outputs": [],
   "source": [
    "toronto"
   ]
  },
  {
   "cell_type": "code",
   "execution_count": null,
   "metadata": {},
   "outputs": [],
   "source": [
    "toronto.to_sql(name='ridership', con=engine, if_exists='append', index=False, index_label='id')"
   ]
  },
  {
   "cell_type": "markdown",
   "metadata": {},
   "source": [
    "***Vancouver***"
   ]
  },
  {
   "cell_type": "code",
   "execution_count": null,
   "metadata": {},
   "outputs": [],
   "source": [
    "missing_start = vancouver[-vancouver[\"start_station_id\"].isin(all_stns_df[\"station_id\"])]\n",
    "missing_start = missing_start.rename(columns={\"start_station_id\":\"station_id\"})\n"
   ]
  },
  {
   "cell_type": "code",
   "execution_count": null,
   "metadata": {},
   "outputs": [],
   "source": [
    "missing_start"
   ]
  },
  {
   "cell_type": "code",
   "execution_count": null,
   "metadata": {},
   "outputs": [],
   "source": [
    "missing_end = vancouver[-vancouver[\"end_station_id\"].isin(all_stns_df[\"station_id\"])]\n",
    "missing_end = missing_end.rename(columns={\"start_station_id\":\"station_id\"})\n"
   ]
  },
  {
   "cell_type": "code",
   "execution_count": null,
   "metadata": {},
   "outputs": [],
   "source": [
    "missing_end"
   ]
  },
  {
   "cell_type": "markdown",
   "metadata": {},
   "source": [
    "*Load rows with station_id existing in stations table*"
   ]
  },
  {
   "cell_type": "code",
   "execution_count": null,
   "metadata": {},
   "outputs": [],
   "source": [
    "vancouver = vancouver[vancouver[\"start_station_id\"].isin(all_stns_df[\"station_id\"])]\n",
    "vancouver = vancouver[vancouver[\"end_station_id\"].isin(all_stns_df[\"station_id\"])]"
   ]
  },
  {
   "cell_type": "code",
   "execution_count": null,
   "metadata": {},
   "outputs": [],
   "source": [
    "vancouver"
   ]
  },
  {
   "cell_type": "code",
   "execution_count": null,
   "metadata": {},
   "outputs": [],
   "source": [
    "vancouver.to_sql(name='ridership', con=engine, if_exists='append', index=False, index_label='id')"
   ]
  },
  {
   "cell_type": "markdown",
   "metadata": {},
   "source": [
    "***Boston***"
   ]
  },
  {
   "cell_type": "code",
   "execution_count": null,
   "metadata": {},
   "outputs": [],
   "source": [
    "missing_start = boston[-boston[\"start_station_id\"].isin(all_stns_df[\"station_id\"])]\n",
    "missing_start"
   ]
  },
  {
   "cell_type": "code",
   "execution_count": null,
   "metadata": {},
   "outputs": [],
   "source": [
    "boston.loc[boston['start_station_id']==88]"
   ]
  },
  {
   "cell_type": "code",
   "execution_count": null,
   "metadata": {},
   "outputs": [],
   "source": [
    "missing_end = boston[-boston[\"end_station_id\"].isin(all_stns_df[\"station_id\"])]\n",
    "missing_end"
   ]
  },
  {
   "cell_type": "code",
   "execution_count": null,
   "metadata": {},
   "outputs": [],
   "source": [
    "boston = boston[boston[\"start_station_id\"].isin(all_stns_df[\"station_id\"])]\n",
    "boston = boston[boston[\"end_station_id\"].isin(all_stns_df[\"station_id\"])]\n",
    "boston"
   ]
  },
  {
   "cell_type": "code",
   "execution_count": null,
   "metadata": {},
   "outputs": [],
   "source": [
    "# intersection_df = pd.merge(d1, d2, how ='inner', on =['start_station_id', 'station_id'])"
   ]
  },
  {
   "cell_type": "code",
   "execution_count": null,
   "metadata": {},
   "outputs": [],
   "source": [
    "print(2522771-(14129+15948))"
   ]
  },
  {
   "cell_type": "code",
   "execution_count": null,
   "metadata": {},
   "outputs": [],
   "source": [
    "boston.count()"
   ]
  },
  {
   "cell_type": "code",
   "execution_count": null,
   "metadata": {},
   "outputs": [],
   "source": [
    "stns_boston = session.query(Stations.station_id).filter(Stations.location_id==3).all()\n",
    "stns_boston = pd.DataFrame(stns_boston)\n",
    "stns_boston = stns_boston.rename(columns={\"station_id\": \"start_station_id\"})\n",
    "stns_boston"
   ]
  },
  {
   "cell_type": "code",
   "execution_count": null,
   "metadata": {},
   "outputs": [],
   "source": [
    "df = pd.merge(boston, stns_boston, how='inner', on='start_station_id')"
   ]
  },
  {
   "cell_type": "code",
   "execution_count": null,
   "metadata": {},
   "outputs": [],
   "source": [
    "stns_boston = stns_boston.rename(columns={\"start_station_id\": \"end_station_id\"})\n",
    "stns_boston"
   ]
  },
  {
   "cell_type": "code",
   "execution_count": null,
   "metadata": {},
   "outputs": [],
   "source": [
    "boston_df = pd.merge(df, stns_boston, how='inner', on='end_station_id')"
   ]
  },
  {
   "cell_type": "code",
   "execution_count": null,
   "metadata": {},
   "outputs": [],
   "source": [
    "boston_df "
   ]
  },
  {
   "cell_type": "code",
   "execution_count": null,
   "metadata": {},
   "outputs": [],
   "source": [
    "boston_df.to_sql(name='ridership', con=engine, if_exists='append', index=False, index_label='id')"
   ]
  },
  {
   "cell_type": "markdown",
   "metadata": {},
   "source": [
    "***New York***"
   ]
  },
  {
   "cell_type": "code",
   "execution_count": 8,
   "metadata": {},
   "outputs": [
    {
     "data": {
      "text/html": [
       "<div>\n",
       "<style scoped>\n",
       "    .dataframe tbody tr th:only-of-type {\n",
       "        vertical-align: middle;\n",
       "    }\n",
       "\n",
       "    .dataframe tbody tr th {\n",
       "        vertical-align: top;\n",
       "    }\n",
       "\n",
       "    .dataframe thead th {\n",
       "        text-align: right;\n",
       "    }\n",
       "</style>\n",
       "<table border=\"1\" class=\"dataframe\">\n",
       "  <thead>\n",
       "    <tr style=\"text-align: right;\">\n",
       "      <th></th>\n",
       "      <th>trip_duration</th>\n",
       "      <th>start_date</th>\n",
       "      <th>end_date</th>\n",
       "      <th>start_station_id</th>\n",
       "      <th>end_station_id</th>\n",
       "      <th>bike_id</th>\n",
       "      <th>member_type</th>\n",
       "      <th>location_id</th>\n",
       "    </tr>\n",
       "  </thead>\n",
       "  <tbody>\n",
       "    <tr>\n",
       "      <th>6</th>\n",
       "      <td>280</td>\n",
       "      <td>2019-01-01 00:09:21.0060</td>\n",
       "      <td>2019-01-01 00:14:01.1510</td>\n",
       "      <td>3675.0</td>\n",
       "      <td>3288.0</td>\n",
       "      <td>35391</td>\n",
       "      <td>Subscriber</td>\n",
       "      <td>4</td>\n",
       "    </tr>\n",
       "    <tr>\n",
       "      <th>72</th>\n",
       "      <td>740</td>\n",
       "      <td>2019-01-01 00:42:16.3560</td>\n",
       "      <td>2019-01-01 00:54:36.8120</td>\n",
       "      <td>524.0</td>\n",
       "      <td>526.0</td>\n",
       "      <td>34089</td>\n",
       "      <td>Subscriber</td>\n",
       "      <td>4</td>\n",
       "    </tr>\n",
       "    <tr>\n",
       "      <th>97</th>\n",
       "      <td>967</td>\n",
       "      <td>2019-01-01 00:50:10.0810</td>\n",
       "      <td>2019-01-01 01:06:17.7230</td>\n",
       "      <td>524.0</td>\n",
       "      <td>236.0</td>\n",
       "      <td>35052</td>\n",
       "      <td>Subscriber</td>\n",
       "      <td>4</td>\n",
       "    </tr>\n",
       "    <tr>\n",
       "      <th>138</th>\n",
       "      <td>207</td>\n",
       "      <td>2019-01-01 01:00:48.7520</td>\n",
       "      <td>2019-01-01 01:04:15.8860</td>\n",
       "      <td>3360.0</td>\n",
       "      <td>3434.0</td>\n",
       "      <td>25854</td>\n",
       "      <td>Subscriber</td>\n",
       "      <td>4</td>\n",
       "    </tr>\n",
       "    <tr>\n",
       "      <th>143</th>\n",
       "      <td>642</td>\n",
       "      <td>2019-01-01 01:01:34.8600</td>\n",
       "      <td>2019-01-01 01:12:17.7070</td>\n",
       "      <td>3341.0</td>\n",
       "      <td>3529.0</td>\n",
       "      <td>28933</td>\n",
       "      <td>Subscriber</td>\n",
       "      <td>4</td>\n",
       "    </tr>\n",
       "    <tr>\n",
       "      <th>...</th>\n",
       "      <td>...</td>\n",
       "      <td>...</td>\n",
       "      <td>...</td>\n",
       "      <td>...</td>\n",
       "      <td>...</td>\n",
       "      <td>...</td>\n",
       "      <td>...</td>\n",
       "      <td>...</td>\n",
       "    </tr>\n",
       "    <tr>\n",
       "      <th>20551371</th>\n",
       "      <td>754</td>\n",
       "      <td>2019-12-31 23:32:32.5780</td>\n",
       "      <td>2019-12-31 23:45:06.6020</td>\n",
       "      <td>3295.0</td>\n",
       "      <td>3501.0</td>\n",
       "      <td>28831</td>\n",
       "      <td>Subscriber</td>\n",
       "      <td>4</td>\n",
       "    </tr>\n",
       "    <tr>\n",
       "      <th>20551377</th>\n",
       "      <td>1273</td>\n",
       "      <td>2019-12-31 23:33:03.5930</td>\n",
       "      <td>2019-12-31 23:54:17.2570</td>\n",
       "      <td>520.0</td>\n",
       "      <td>3387.0</td>\n",
       "      <td>27358</td>\n",
       "      <td>Subscriber</td>\n",
       "      <td>4</td>\n",
       "    </tr>\n",
       "    <tr>\n",
       "      <th>20551385</th>\n",
       "      <td>610</td>\n",
       "      <td>2019-12-31 23:33:33.7010</td>\n",
       "      <td>2019-12-31 23:43:44.1560</td>\n",
       "      <td>3341.0</td>\n",
       "      <td>3810.0</td>\n",
       "      <td>40091</td>\n",
       "      <td>Subscriber</td>\n",
       "      <td>4</td>\n",
       "    </tr>\n",
       "    <tr>\n",
       "      <th>20551454</th>\n",
       "      <td>399</td>\n",
       "      <td>2019-12-31 23:44:34.4320</td>\n",
       "      <td>2019-12-31 23:51:13.7680</td>\n",
       "      <td>3320.0</td>\n",
       "      <td>3307.0</td>\n",
       "      <td>33907</td>\n",
       "      <td>Subscriber</td>\n",
       "      <td>4</td>\n",
       "    </tr>\n",
       "    <tr>\n",
       "      <th>20551482</th>\n",
       "      <td>334</td>\n",
       "      <td>2019-12-31 23:49:43.3500</td>\n",
       "      <td>2019-12-31 23:55:18.0870</td>\n",
       "      <td>3360.0</td>\n",
       "      <td>422.0</td>\n",
       "      <td>30575</td>\n",
       "      <td>Subscriber</td>\n",
       "      <td>4</td>\n",
       "    </tr>\n",
       "  </tbody>\n",
       "</table>\n",
       "<p>963839 rows × 8 columns</p>\n",
       "</div>"
      ],
      "text/plain": [
       "          trip_duration                start_date                  end_date  \\\n",
       "6                   280  2019-01-01 00:09:21.0060  2019-01-01 00:14:01.1510   \n",
       "72                  740  2019-01-01 00:42:16.3560  2019-01-01 00:54:36.8120   \n",
       "97                  967  2019-01-01 00:50:10.0810  2019-01-01 01:06:17.7230   \n",
       "138                 207  2019-01-01 01:00:48.7520  2019-01-01 01:04:15.8860   \n",
       "143                 642  2019-01-01 01:01:34.8600  2019-01-01 01:12:17.7070   \n",
       "...                 ...                       ...                       ...   \n",
       "20551371            754  2019-12-31 23:32:32.5780  2019-12-31 23:45:06.6020   \n",
       "20551377           1273  2019-12-31 23:33:03.5930  2019-12-31 23:54:17.2570   \n",
       "20551385            610  2019-12-31 23:33:33.7010  2019-12-31 23:43:44.1560   \n",
       "20551454            399  2019-12-31 23:44:34.4320  2019-12-31 23:51:13.7680   \n",
       "20551482            334  2019-12-31 23:49:43.3500  2019-12-31 23:55:18.0870   \n",
       "\n",
       "          start_station_id  end_station_id  bike_id member_type  location_id  \n",
       "6                   3675.0          3288.0    35391  Subscriber            4  \n",
       "72                   524.0           526.0    34089  Subscriber            4  \n",
       "97                   524.0           236.0    35052  Subscriber            4  \n",
       "138                 3360.0          3434.0    25854  Subscriber            4  \n",
       "143                 3341.0          3529.0    28933  Subscriber            4  \n",
       "...                    ...             ...      ...         ...          ...  \n",
       "20551371            3295.0          3501.0    28831  Subscriber            4  \n",
       "20551377             520.0          3387.0    27358  Subscriber            4  \n",
       "20551385            3341.0          3810.0    40091  Subscriber            4  \n",
       "20551454            3320.0          3307.0    33907  Subscriber            4  \n",
       "20551482            3360.0           422.0    30575  Subscriber            4  \n",
       "\n",
       "[963839 rows x 8 columns]"
      ]
     },
     "execution_count": 8,
     "metadata": {},
     "output_type": "execute_result"
    }
   ],
   "source": [
    "missing_start = newyork[-newyork[\"start_station_id\"].isin(all_stns_df[\"station_id\"])]\n",
    "missing_start"
   ]
  },
  {
   "cell_type": "code",
   "execution_count": 9,
   "metadata": {},
   "outputs": [
    {
     "data": {
      "text/html": [
       "<div>\n",
       "<style scoped>\n",
       "    .dataframe tbody tr th:only-of-type {\n",
       "        vertical-align: middle;\n",
       "    }\n",
       "\n",
       "    .dataframe tbody tr th {\n",
       "        vertical-align: top;\n",
       "    }\n",
       "\n",
       "    .dataframe thead th {\n",
       "        text-align: right;\n",
       "    }\n",
       "</style>\n",
       "<table border=\"1\" class=\"dataframe\">\n",
       "  <thead>\n",
       "    <tr style=\"text-align: right;\">\n",
       "      <th></th>\n",
       "      <th>trip_duration</th>\n",
       "      <th>start_date</th>\n",
       "      <th>end_date</th>\n",
       "      <th>start_station_id</th>\n",
       "      <th>end_station_id</th>\n",
       "      <th>bike_id</th>\n",
       "      <th>member_type</th>\n",
       "      <th>location_id</th>\n",
       "    </tr>\n",
       "  </thead>\n",
       "  <tbody>\n",
       "    <tr>\n",
       "      <th>1</th>\n",
       "      <td>316</td>\n",
       "      <td>2019-01-01 00:04:43.7360</td>\n",
       "      <td>2019-01-01 00:10:00.6080</td>\n",
       "      <td>519.0</td>\n",
       "      <td>518.0</td>\n",
       "      <td>32723</td>\n",
       "      <td>Subscriber</td>\n",
       "      <td>4</td>\n",
       "    </tr>\n",
       "    <tr>\n",
       "      <th>18</th>\n",
       "      <td>829</td>\n",
       "      <td>2019-01-01 00:19:08.1030</td>\n",
       "      <td>2019-01-01 00:32:57.3880</td>\n",
       "      <td>3165.0</td>\n",
       "      <td>3295.0</td>\n",
       "      <td>32106</td>\n",
       "      <td>Subscriber</td>\n",
       "      <td>4</td>\n",
       "    </tr>\n",
       "    <tr>\n",
       "      <th>20</th>\n",
       "      <td>736</td>\n",
       "      <td>2019-01-01 00:21:02.9570</td>\n",
       "      <td>2019-01-01 00:33:19.4110</td>\n",
       "      <td>3165.0</td>\n",
       "      <td>3295.0</td>\n",
       "      <td>16761</td>\n",
       "      <td>Customer</td>\n",
       "      <td>4</td>\n",
       "    </tr>\n",
       "    <tr>\n",
       "      <th>28</th>\n",
       "      <td>1068</td>\n",
       "      <td>2019-01-01 00:25:13.8750</td>\n",
       "      <td>2019-01-01 00:43:01.9350</td>\n",
       "      <td>394.0</td>\n",
       "      <td>3431.0</td>\n",
       "      <td>32042</td>\n",
       "      <td>Subscriber</td>\n",
       "      <td>4</td>\n",
       "    </tr>\n",
       "    <tr>\n",
       "      <th>58</th>\n",
       "      <td>187</td>\n",
       "      <td>2019-01-01 00:35:03.5980</td>\n",
       "      <td>2019-01-01 00:38:10.6250</td>\n",
       "      <td>484.0</td>\n",
       "      <td>524.0</td>\n",
       "      <td>34089</td>\n",
       "      <td>Subscriber</td>\n",
       "      <td>4</td>\n",
       "    </tr>\n",
       "    <tr>\n",
       "      <th>...</th>\n",
       "      <td>...</td>\n",
       "      <td>...</td>\n",
       "      <td>...</td>\n",
       "      <td>...</td>\n",
       "      <td>...</td>\n",
       "      <td>...</td>\n",
       "      <td>...</td>\n",
       "      <td>...</td>\n",
       "    </tr>\n",
       "    <tr>\n",
       "      <th>20551335</th>\n",
       "      <td>986</td>\n",
       "      <td>2019-12-31 23:29:28.0850</td>\n",
       "      <td>2019-12-31 23:45:54.6670</td>\n",
       "      <td>3725.0</td>\n",
       "      <td>518.0</td>\n",
       "      <td>39903</td>\n",
       "      <td>Subscriber</td>\n",
       "      <td>4</td>\n",
       "    </tr>\n",
       "    <tr>\n",
       "      <th>20551382</th>\n",
       "      <td>1039</td>\n",
       "      <td>2019-12-31 23:33:21.6760</td>\n",
       "      <td>2019-12-31 23:50:41.0580</td>\n",
       "      <td>3141.0</td>\n",
       "      <td>520.0</td>\n",
       "      <td>19596</td>\n",
       "      <td>Subscriber</td>\n",
       "      <td>4</td>\n",
       "    </tr>\n",
       "    <tr>\n",
       "      <th>20551385</th>\n",
       "      <td>610</td>\n",
       "      <td>2019-12-31 23:33:33.7010</td>\n",
       "      <td>2019-12-31 23:43:44.1560</td>\n",
       "      <td>3341.0</td>\n",
       "      <td>3810.0</td>\n",
       "      <td>40091</td>\n",
       "      <td>Subscriber</td>\n",
       "      <td>4</td>\n",
       "    </tr>\n",
       "    <tr>\n",
       "      <th>20551434</th>\n",
       "      <td>418</td>\n",
       "      <td>2019-12-31 23:40:58.3430</td>\n",
       "      <td>2019-12-31 23:47:56.9030</td>\n",
       "      <td>545.0</td>\n",
       "      <td>518.0</td>\n",
       "      <td>16971</td>\n",
       "      <td>Subscriber</td>\n",
       "      <td>4</td>\n",
       "    </tr>\n",
       "    <tr>\n",
       "      <th>20551465</th>\n",
       "      <td>1992</td>\n",
       "      <td>2019-12-31 23:45:30.2390</td>\n",
       "      <td>2020-01-01 00:18:42.7860</td>\n",
       "      <td>254.0</td>\n",
       "      <td>3788.0</td>\n",
       "      <td>41291</td>\n",
       "      <td>Subscriber</td>\n",
       "      <td>4</td>\n",
       "    </tr>\n",
       "  </tbody>\n",
       "</table>\n",
       "<p>956034 rows × 8 columns</p>\n",
       "</div>"
      ],
      "text/plain": [
       "          trip_duration                start_date                  end_date  \\\n",
       "1                   316  2019-01-01 00:04:43.7360  2019-01-01 00:10:00.6080   \n",
       "18                  829  2019-01-01 00:19:08.1030  2019-01-01 00:32:57.3880   \n",
       "20                  736  2019-01-01 00:21:02.9570  2019-01-01 00:33:19.4110   \n",
       "28                 1068  2019-01-01 00:25:13.8750  2019-01-01 00:43:01.9350   \n",
       "58                  187  2019-01-01 00:35:03.5980  2019-01-01 00:38:10.6250   \n",
       "...                 ...                       ...                       ...   \n",
       "20551335            986  2019-12-31 23:29:28.0850  2019-12-31 23:45:54.6670   \n",
       "20551382           1039  2019-12-31 23:33:21.6760  2019-12-31 23:50:41.0580   \n",
       "20551385            610  2019-12-31 23:33:33.7010  2019-12-31 23:43:44.1560   \n",
       "20551434            418  2019-12-31 23:40:58.3430  2019-12-31 23:47:56.9030   \n",
       "20551465           1992  2019-12-31 23:45:30.2390  2020-01-01 00:18:42.7860   \n",
       "\n",
       "          start_station_id  end_station_id  bike_id member_type  location_id  \n",
       "1                    519.0           518.0    32723  Subscriber            4  \n",
       "18                  3165.0          3295.0    32106  Subscriber            4  \n",
       "20                  3165.0          3295.0    16761    Customer            4  \n",
       "28                   394.0          3431.0    32042  Subscriber            4  \n",
       "58                   484.0           524.0    34089  Subscriber            4  \n",
       "...                    ...             ...      ...         ...          ...  \n",
       "20551335            3725.0           518.0    39903  Subscriber            4  \n",
       "20551382            3141.0           520.0    19596  Subscriber            4  \n",
       "20551385            3341.0          3810.0    40091  Subscriber            4  \n",
       "20551434             545.0           518.0    16971  Subscriber            4  \n",
       "20551465             254.0          3788.0    41291  Subscriber            4  \n",
       "\n",
       "[956034 rows x 8 columns]"
      ]
     },
     "execution_count": 9,
     "metadata": {},
     "output_type": "execute_result"
    }
   ],
   "source": [
    "missing_end = newyork[-newyork[\"end_station_id\"].isin(all_stns_df[\"station_id\"])]\n",
    "missing_end"
   ]
  },
  {
   "cell_type": "code",
   "execution_count": 10,
   "metadata": {},
   "outputs": [
    {
     "data": {
      "text/plain": [
       "trip_duration       20551517\n",
       "start_date          20551517\n",
       "end_date            20551517\n",
       "start_station_id    20551517\n",
       "end_station_id      20551517\n",
       "bike_id             20551517\n",
       "member_type         20551517\n",
       "location_id         20551517\n",
       "dtype: int64"
      ]
     },
     "execution_count": 10,
     "metadata": {},
     "output_type": "execute_result"
    }
   ],
   "source": [
    "newyork.count()"
   ]
  },
  {
   "cell_type": "code",
   "execution_count": 12,
   "metadata": {},
   "outputs": [
    {
     "data": {
      "text/html": [
       "<div>\n",
       "<style scoped>\n",
       "    .dataframe tbody tr th:only-of-type {\n",
       "        vertical-align: middle;\n",
       "    }\n",
       "\n",
       "    .dataframe tbody tr th {\n",
       "        vertical-align: top;\n",
       "    }\n",
       "\n",
       "    .dataframe thead th {\n",
       "        text-align: right;\n",
       "    }\n",
       "</style>\n",
       "<table border=\"1\" class=\"dataframe\">\n",
       "  <thead>\n",
       "    <tr style=\"text-align: right;\">\n",
       "      <th></th>\n",
       "      <th>trip_duration</th>\n",
       "      <th>start_date</th>\n",
       "      <th>end_date</th>\n",
       "      <th>start_station_id</th>\n",
       "      <th>end_station_id</th>\n",
       "      <th>bike_id</th>\n",
       "      <th>member_type</th>\n",
       "      <th>location_id</th>\n",
       "    </tr>\n",
       "  </thead>\n",
       "  <tbody>\n",
       "    <tr>\n",
       "      <th>0</th>\n",
       "      <td>320</td>\n",
       "      <td>2019-01-01 00:01:47.4010</td>\n",
       "      <td>2019-01-01 00:07:07.5810</td>\n",
       "      <td>3160.0</td>\n",
       "      <td>3283.0</td>\n",
       "      <td>15839</td>\n",
       "      <td>Subscriber</td>\n",
       "      <td>4</td>\n",
       "    </tr>\n",
       "    <tr>\n",
       "      <th>2</th>\n",
       "      <td>591</td>\n",
       "      <td>2019-01-01 00:06:03.9970</td>\n",
       "      <td>2019-01-01 00:15:55.4380</td>\n",
       "      <td>3171.0</td>\n",
       "      <td>3154.0</td>\n",
       "      <td>27451</td>\n",
       "      <td>Subscriber</td>\n",
       "      <td>4</td>\n",
       "    </tr>\n",
       "    <tr>\n",
       "      <th>3</th>\n",
       "      <td>2719</td>\n",
       "      <td>2019-01-01 00:07:03.5450</td>\n",
       "      <td>2019-01-01 00:52:22.6500</td>\n",
       "      <td>504.0</td>\n",
       "      <td>3709.0</td>\n",
       "      <td>21579</td>\n",
       "      <td>Subscriber</td>\n",
       "      <td>4</td>\n",
       "    </tr>\n",
       "    <tr>\n",
       "      <th>4</th>\n",
       "      <td>303</td>\n",
       "      <td>2019-01-01 00:07:35.9450</td>\n",
       "      <td>2019-01-01 00:12:39.5020</td>\n",
       "      <td>229.0</td>\n",
       "      <td>503.0</td>\n",
       "      <td>35379</td>\n",
       "      <td>Subscriber</td>\n",
       "      <td>4</td>\n",
       "    </tr>\n",
       "    <tr>\n",
       "      <th>5</th>\n",
       "      <td>535</td>\n",
       "      <td>2019-01-01 00:08:33.1790</td>\n",
       "      <td>2019-01-01 00:17:28.3540</td>\n",
       "      <td>3630.0</td>\n",
       "      <td>3529.0</td>\n",
       "      <td>30315</td>\n",
       "      <td>Subscriber</td>\n",
       "      <td>4</td>\n",
       "    </tr>\n",
       "    <tr>\n",
       "      <th>...</th>\n",
       "      <td>...</td>\n",
       "      <td>...</td>\n",
       "      <td>...</td>\n",
       "      <td>...</td>\n",
       "      <td>...</td>\n",
       "      <td>...</td>\n",
       "      <td>...</td>\n",
       "      <td>...</td>\n",
       "    </tr>\n",
       "    <tr>\n",
       "      <th>20551512</th>\n",
       "      <td>93</td>\n",
       "      <td>2019-12-31 23:58:18.0160</td>\n",
       "      <td>2019-12-31 23:59:51.6360</td>\n",
       "      <td>3141.0</td>\n",
       "      <td>3142.0</td>\n",
       "      <td>28734</td>\n",
       "      <td>Subscriber</td>\n",
       "      <td>4</td>\n",
       "    </tr>\n",
       "    <tr>\n",
       "      <th>20551513</th>\n",
       "      <td>786</td>\n",
       "      <td>2019-12-31 23:58:59.8960</td>\n",
       "      <td>2020-01-01 00:12:06.3460</td>\n",
       "      <td>490.0</td>\n",
       "      <td>513.0</td>\n",
       "      <td>41418</td>\n",
       "      <td>Subscriber</td>\n",
       "      <td>4</td>\n",
       "    </tr>\n",
       "    <tr>\n",
       "      <th>20551514</th>\n",
       "      <td>351</td>\n",
       "      <td>2019-12-31 23:59:03.6950</td>\n",
       "      <td>2020-01-01 00:04:54.8730</td>\n",
       "      <td>3349.0</td>\n",
       "      <td>3368.0</td>\n",
       "      <td>27746</td>\n",
       "      <td>Subscriber</td>\n",
       "      <td>4</td>\n",
       "    </tr>\n",
       "    <tr>\n",
       "      <th>20551515</th>\n",
       "      <td>1571</td>\n",
       "      <td>2019-12-31 23:59:21.3610</td>\n",
       "      <td>2020-01-01 00:25:32.9420</td>\n",
       "      <td>252.0</td>\n",
       "      <td>366.0</td>\n",
       "      <td>28506</td>\n",
       "      <td>Subscriber</td>\n",
       "      <td>4</td>\n",
       "    </tr>\n",
       "    <tr>\n",
       "      <th>20551516</th>\n",
       "      <td>310</td>\n",
       "      <td>2019-12-31 23:59:55.2960</td>\n",
       "      <td>2020-01-01 00:05:05.7270</td>\n",
       "      <td>3351.0</td>\n",
       "      <td>3379.0</td>\n",
       "      <td>21013</td>\n",
       "      <td>Subscriber</td>\n",
       "      <td>4</td>\n",
       "    </tr>\n",
       "  </tbody>\n",
       "</table>\n",
       "<p>18727352 rows × 8 columns</p>\n",
       "</div>"
      ],
      "text/plain": [
       "          trip_duration                start_date                  end_date  \\\n",
       "0                   320  2019-01-01 00:01:47.4010  2019-01-01 00:07:07.5810   \n",
       "2                   591  2019-01-01 00:06:03.9970  2019-01-01 00:15:55.4380   \n",
       "3                  2719  2019-01-01 00:07:03.5450  2019-01-01 00:52:22.6500   \n",
       "4                   303  2019-01-01 00:07:35.9450  2019-01-01 00:12:39.5020   \n",
       "5                   535  2019-01-01 00:08:33.1790  2019-01-01 00:17:28.3540   \n",
       "...                 ...                       ...                       ...   \n",
       "20551512             93  2019-12-31 23:58:18.0160  2019-12-31 23:59:51.6360   \n",
       "20551513            786  2019-12-31 23:58:59.8960  2020-01-01 00:12:06.3460   \n",
       "20551514            351  2019-12-31 23:59:03.6950  2020-01-01 00:04:54.8730   \n",
       "20551515           1571  2019-12-31 23:59:21.3610  2020-01-01 00:25:32.9420   \n",
       "20551516            310  2019-12-31 23:59:55.2960  2020-01-01 00:05:05.7270   \n",
       "\n",
       "          start_station_id  end_station_id  bike_id member_type  location_id  \n",
       "0                   3160.0          3283.0    15839  Subscriber            4  \n",
       "2                   3171.0          3154.0    27451  Subscriber            4  \n",
       "3                    504.0          3709.0    21579  Subscriber            4  \n",
       "4                    229.0           503.0    35379  Subscriber            4  \n",
       "5                   3630.0          3529.0    30315  Subscriber            4  \n",
       "...                    ...             ...      ...         ...          ...  \n",
       "20551512            3141.0          3142.0    28734  Subscriber            4  \n",
       "20551513             490.0           513.0    41418  Subscriber            4  \n",
       "20551514            3349.0          3368.0    27746  Subscriber            4  \n",
       "20551515             252.0           366.0    28506  Subscriber            4  \n",
       "20551516            3351.0          3379.0    21013  Subscriber            4  \n",
       "\n",
       "[18727352 rows x 8 columns]"
      ]
     },
     "execution_count": 12,
     "metadata": {},
     "output_type": "execute_result"
    }
   ],
   "source": [
    "newyork = newyork[newyork[\"start_station_id\"].isin(all_stns_df[\"station_id\"])]\n",
    "newyork = newyork[newyork[\"end_station_id\"].isin(all_stns_df[\"station_id\"])]\n",
    "newyork"
   ]
  },
  {
   "cell_type": "code",
   "execution_count": 13,
   "metadata": {},
   "outputs": [
    {
     "ename": "IntegrityError",
     "evalue": "(psycopg2.errors.ForeignKeyViolation) insert or update on table \"ridership\" violates foreign key constraint \"fk_rides_stations_end\"\nDETAIL:  Key (end_station_id, location_id)=(195, 4) is not present in table \"stations\".\n\n[SQL: INSERT INTO ridership (trip_duration, start_date, end_date, start_station_id, end_station_id, bike_id, member_type, location_id) VALUES (%(trip_duration)s, %(start_date)s, %(end_date)s, %(start_station_id)s, %(end_station_id)s, %(bike_id)s, %(member_type)s, %(location_id)s)]\n[parameters: ({'trip_duration': 320, 'start_date': '2019-01-01 00:01:47.4010', 'end_date': '2019-01-01 00:07:07.5810', 'start_station_id': 3160.0, 'end_station_id': 3283.0, 'bike_id': 15839, 'member_type': 'Subscriber', 'location_id': 4}, {'trip_duration': 591, 'start_date': '2019-01-01 00:06:03.9970', 'end_date': '2019-01-01 00:15:55.4380', 'start_station_id': 3171.0, 'end_station_id': 3154.0, 'bike_id': 27451, 'member_type': 'Subscriber', 'location_id': 4}, {'trip_duration': 2719, 'start_date': '2019-01-01 00:07:03.5450', 'end_date': '2019-01-01 00:52:22.6500', 'start_station_id': 504.0, 'end_station_id': 3709.0, 'bike_id': 21579, 'member_type': 'Subscriber', 'location_id': 4}, {'trip_duration': 303, 'start_date': '2019-01-01 00:07:35.9450', 'end_date': '2019-01-01 00:12:39.5020', 'start_station_id': 229.0, 'end_station_id': 503.0, 'bike_id': 35379, 'member_type': 'Subscriber', 'location_id': 4}, {'trip_duration': 535, 'start_date': '2019-01-01 00:08:33.1790', 'end_date': '2019-01-01 00:17:28.3540', 'start_station_id': 3630.0, 'end_station_id': 3529.0, 'bike_id': 30315, 'member_type': 'Subscriber', 'location_id': 4}, {'trip_duration': 1547, 'start_date': '2019-01-01 00:11:22.9070', 'end_date': '2019-01-01 00:37:10.0550', 'start_station_id': 285.0, 'end_station_id': 3358.0, 'bike_id': 35551, 'member_type': 'Subscriber', 'location_id': 4}, {'trip_duration': 300, 'start_date': '2019-01-01 00:12:17.9310', 'end_date': '2019-01-01 00:17:18.8300', 'start_station_id': 3394.0, 'end_station_id': 3398.0, 'bike_id': 18636, 'member_type': 'Subscriber', 'location_id': 4}, {'trip_duration': 123, 'start_date': '2019-01-01 00:12:19.6030', 'end_date': '2019-01-01 00:14:23.1040', 'start_station_id': 432.0, 'end_station_id': 3656.0, 'bike_id': 35206, 'member_type': 'Subscriber', 'location_id': 4}  ... displaying 10 of 18727352 total bound parameter sets ...  {'trip_duration': 1571, 'start_date': '2019-12-31 23:59:21.3610', 'end_date': '2020-01-01 00:25:32.9420', 'start_station_id': 252.0, 'end_station_id': 366.0, 'bike_id': 28506, 'member_type': 'Subscriber', 'location_id': 4}, {'trip_duration': 310, 'start_date': '2019-12-31 23:59:55.2960', 'end_date': '2020-01-01 00:05:05.7270', 'start_station_id': 3351.0, 'end_station_id': 3379.0, 'bike_id': 21013, 'member_type': 'Subscriber', 'location_id': 4})]\n(Background on this error at: http://sqlalche.me/e/13/gkpj)",
     "output_type": "error",
     "traceback": [
      "\u001b[0;31m---------------------------------------------------------------------------\u001b[0m",
      "\u001b[0;31mForeignKeyViolation\u001b[0m                       Traceback (most recent call last)",
      "\u001b[0;32m~/opt/anaconda3/lib/python3.8/site-packages/sqlalchemy/engine/base.py\u001b[0m in \u001b[0;36m_execute_context\u001b[0;34m(self, dialect, constructor, statement, parameters, *args)\u001b[0m\n\u001b[1;32m   1256\u001b[0m                 \u001b[0;32mif\u001b[0m \u001b[0;32mnot\u001b[0m \u001b[0mevt_handled\u001b[0m\u001b[0;34m:\u001b[0m\u001b[0;34m\u001b[0m\u001b[0;34m\u001b[0m\u001b[0m\n\u001b[0;32m-> 1257\u001b[0;31m                     self.dialect.do_executemany(\n\u001b[0m\u001b[1;32m   1258\u001b[0m                         \u001b[0mcursor\u001b[0m\u001b[0;34m,\u001b[0m \u001b[0mstatement\u001b[0m\u001b[0;34m,\u001b[0m \u001b[0mparameters\u001b[0m\u001b[0;34m,\u001b[0m \u001b[0mcontext\u001b[0m\u001b[0;34m\u001b[0m\u001b[0;34m\u001b[0m\u001b[0m\n",
      "\u001b[0;32m~/opt/anaconda3/lib/python3.8/site-packages/sqlalchemy/dialects/postgresql/psycopg2.py\u001b[0m in \u001b[0;36mdo_executemany\u001b[0;34m(self, cursor, statement, parameters, context)\u001b[0m\n\u001b[1;32m    872\u001b[0m         \u001b[0;32mif\u001b[0m \u001b[0mself\u001b[0m\u001b[0;34m.\u001b[0m\u001b[0mexecutemany_mode\u001b[0m \u001b[0;32mis\u001b[0m \u001b[0mEXECUTEMANY_DEFAULT\u001b[0m\u001b[0;34m:\u001b[0m\u001b[0;34m\u001b[0m\u001b[0;34m\u001b[0m\u001b[0m\n\u001b[0;32m--> 873\u001b[0;31m             \u001b[0mcursor\u001b[0m\u001b[0;34m.\u001b[0m\u001b[0mexecutemany\u001b[0m\u001b[0;34m(\u001b[0m\u001b[0mstatement\u001b[0m\u001b[0;34m,\u001b[0m \u001b[0mparameters\u001b[0m\u001b[0;34m)\u001b[0m\u001b[0;34m\u001b[0m\u001b[0;34m\u001b[0m\u001b[0m\n\u001b[0m\u001b[1;32m    874\u001b[0m             \u001b[0;32mreturn\u001b[0m\u001b[0;34m\u001b[0m\u001b[0;34m\u001b[0m\u001b[0m\n",
      "\u001b[0;31mForeignKeyViolation\u001b[0m: insert or update on table \"ridership\" violates foreign key constraint \"fk_rides_stations_end\"\nDETAIL:  Key (end_station_id, location_id)=(195, 4) is not present in table \"stations\".\n",
      "\nThe above exception was the direct cause of the following exception:\n",
      "\u001b[0;31mIntegrityError\u001b[0m                            Traceback (most recent call last)",
      "\u001b[0;32m<ipython-input-13-3e3dcee57b49>\u001b[0m in \u001b[0;36m<module>\u001b[0;34m\u001b[0m\n\u001b[0;32m----> 1\u001b[0;31m \u001b[0mnewyork\u001b[0m\u001b[0;34m.\u001b[0m\u001b[0mto_sql\u001b[0m\u001b[0;34m(\u001b[0m\u001b[0mname\u001b[0m\u001b[0;34m=\u001b[0m\u001b[0;34m'ridership'\u001b[0m\u001b[0;34m,\u001b[0m \u001b[0mcon\u001b[0m\u001b[0;34m=\u001b[0m\u001b[0mengine\u001b[0m\u001b[0;34m,\u001b[0m \u001b[0mif_exists\u001b[0m\u001b[0;34m=\u001b[0m\u001b[0;34m'append'\u001b[0m\u001b[0;34m,\u001b[0m \u001b[0mindex\u001b[0m\u001b[0;34m=\u001b[0m\u001b[0;32mFalse\u001b[0m\u001b[0;34m,\u001b[0m \u001b[0mindex_label\u001b[0m\u001b[0;34m=\u001b[0m\u001b[0;34m'id'\u001b[0m\u001b[0;34m)\u001b[0m\u001b[0;34m\u001b[0m\u001b[0;34m\u001b[0m\u001b[0m\n\u001b[0m",
      "\u001b[0;32m~/opt/anaconda3/lib/python3.8/site-packages/pandas/core/generic.py\u001b[0m in \u001b[0;36mto_sql\u001b[0;34m(self, name, con, schema, if_exists, index, index_label, chunksize, dtype, method)\u001b[0m\n\u001b[1;32m   2651\u001b[0m         \u001b[0;32mfrom\u001b[0m \u001b[0mpandas\u001b[0m\u001b[0;34m.\u001b[0m\u001b[0mio\u001b[0m \u001b[0;32mimport\u001b[0m \u001b[0msql\u001b[0m\u001b[0;34m\u001b[0m\u001b[0;34m\u001b[0m\u001b[0m\n\u001b[1;32m   2652\u001b[0m \u001b[0;34m\u001b[0m\u001b[0m\n\u001b[0;32m-> 2653\u001b[0;31m         sql.to_sql(\n\u001b[0m\u001b[1;32m   2654\u001b[0m             \u001b[0mself\u001b[0m\u001b[0;34m,\u001b[0m\u001b[0;34m\u001b[0m\u001b[0;34m\u001b[0m\u001b[0m\n\u001b[1;32m   2655\u001b[0m             \u001b[0mname\u001b[0m\u001b[0;34m,\u001b[0m\u001b[0;34m\u001b[0m\u001b[0;34m\u001b[0m\u001b[0m\n",
      "\u001b[0;32m~/opt/anaconda3/lib/python3.8/site-packages/pandas/io/sql.py\u001b[0m in \u001b[0;36mto_sql\u001b[0;34m(frame, name, con, schema, if_exists, index, index_label, chunksize, dtype, method)\u001b[0m\n\u001b[1;32m    510\u001b[0m         )\n\u001b[1;32m    511\u001b[0m \u001b[0;34m\u001b[0m\u001b[0m\n\u001b[0;32m--> 512\u001b[0;31m     pandas_sql.to_sql(\n\u001b[0m\u001b[1;32m    513\u001b[0m         \u001b[0mframe\u001b[0m\u001b[0;34m,\u001b[0m\u001b[0;34m\u001b[0m\u001b[0;34m\u001b[0m\u001b[0m\n\u001b[1;32m    514\u001b[0m         \u001b[0mname\u001b[0m\u001b[0;34m,\u001b[0m\u001b[0;34m\u001b[0m\u001b[0;34m\u001b[0m\u001b[0m\n",
      "\u001b[0;32m~/opt/anaconda3/lib/python3.8/site-packages/pandas/io/sql.py\u001b[0m in \u001b[0;36mto_sql\u001b[0;34m(self, frame, name, if_exists, index, index_label, schema, chunksize, dtype, method)\u001b[0m\n\u001b[1;32m   1315\u001b[0m         )\n\u001b[1;32m   1316\u001b[0m         \u001b[0mtable\u001b[0m\u001b[0;34m.\u001b[0m\u001b[0mcreate\u001b[0m\u001b[0;34m(\u001b[0m\u001b[0;34m)\u001b[0m\u001b[0;34m\u001b[0m\u001b[0;34m\u001b[0m\u001b[0m\n\u001b[0;32m-> 1317\u001b[0;31m         \u001b[0mtable\u001b[0m\u001b[0;34m.\u001b[0m\u001b[0minsert\u001b[0m\u001b[0;34m(\u001b[0m\u001b[0mchunksize\u001b[0m\u001b[0;34m,\u001b[0m \u001b[0mmethod\u001b[0m\u001b[0;34m=\u001b[0m\u001b[0mmethod\u001b[0m\u001b[0;34m)\u001b[0m\u001b[0;34m\u001b[0m\u001b[0;34m\u001b[0m\u001b[0m\n\u001b[0m\u001b[1;32m   1318\u001b[0m         \u001b[0;32mif\u001b[0m \u001b[0;32mnot\u001b[0m \u001b[0mname\u001b[0m\u001b[0;34m.\u001b[0m\u001b[0misdigit\u001b[0m\u001b[0;34m(\u001b[0m\u001b[0;34m)\u001b[0m \u001b[0;32mand\u001b[0m \u001b[0;32mnot\u001b[0m \u001b[0mname\u001b[0m\u001b[0;34m.\u001b[0m\u001b[0mislower\u001b[0m\u001b[0;34m(\u001b[0m\u001b[0;34m)\u001b[0m\u001b[0;34m:\u001b[0m\u001b[0;34m\u001b[0m\u001b[0;34m\u001b[0m\u001b[0m\n\u001b[1;32m   1319\u001b[0m             \u001b[0;31m# check for potentially case sensitivity issues (GH7815)\u001b[0m\u001b[0;34m\u001b[0m\u001b[0;34m\u001b[0m\u001b[0;34m\u001b[0m\u001b[0m\n",
      "\u001b[0;32m~/opt/anaconda3/lib/python3.8/site-packages/pandas/io/sql.py\u001b[0m in \u001b[0;36minsert\u001b[0;34m(self, chunksize, method)\u001b[0m\n\u001b[1;32m    753\u001b[0m \u001b[0;34m\u001b[0m\u001b[0m\n\u001b[1;32m    754\u001b[0m                 \u001b[0mchunk_iter\u001b[0m \u001b[0;34m=\u001b[0m \u001b[0mzip\u001b[0m\u001b[0;34m(\u001b[0m\u001b[0;34m*\u001b[0m\u001b[0;34m[\u001b[0m\u001b[0marr\u001b[0m\u001b[0;34m[\u001b[0m\u001b[0mstart_i\u001b[0m\u001b[0;34m:\u001b[0m\u001b[0mend_i\u001b[0m\u001b[0;34m]\u001b[0m \u001b[0;32mfor\u001b[0m \u001b[0marr\u001b[0m \u001b[0;32min\u001b[0m \u001b[0mdata_list\u001b[0m\u001b[0;34m]\u001b[0m\u001b[0;34m)\u001b[0m\u001b[0;34m\u001b[0m\u001b[0;34m\u001b[0m\u001b[0m\n\u001b[0;32m--> 755\u001b[0;31m                 \u001b[0mexec_insert\u001b[0m\u001b[0;34m(\u001b[0m\u001b[0mconn\u001b[0m\u001b[0;34m,\u001b[0m \u001b[0mkeys\u001b[0m\u001b[0;34m,\u001b[0m \u001b[0mchunk_iter\u001b[0m\u001b[0;34m)\u001b[0m\u001b[0;34m\u001b[0m\u001b[0;34m\u001b[0m\u001b[0m\n\u001b[0m\u001b[1;32m    756\u001b[0m \u001b[0;34m\u001b[0m\u001b[0m\n\u001b[1;32m    757\u001b[0m     def _query_iterator(\n",
      "\u001b[0;32m~/opt/anaconda3/lib/python3.8/site-packages/pandas/io/sql.py\u001b[0m in \u001b[0;36m_execute_insert\u001b[0;34m(self, conn, keys, data_iter)\u001b[0m\n\u001b[1;32m    667\u001b[0m         \"\"\"\n\u001b[1;32m    668\u001b[0m         \u001b[0mdata\u001b[0m \u001b[0;34m=\u001b[0m \u001b[0;34m[\u001b[0m\u001b[0mdict\u001b[0m\u001b[0;34m(\u001b[0m\u001b[0mzip\u001b[0m\u001b[0;34m(\u001b[0m\u001b[0mkeys\u001b[0m\u001b[0;34m,\u001b[0m \u001b[0mrow\u001b[0m\u001b[0;34m)\u001b[0m\u001b[0;34m)\u001b[0m \u001b[0;32mfor\u001b[0m \u001b[0mrow\u001b[0m \u001b[0;32min\u001b[0m \u001b[0mdata_iter\u001b[0m\u001b[0;34m]\u001b[0m\u001b[0;34m\u001b[0m\u001b[0;34m\u001b[0m\u001b[0m\n\u001b[0;32m--> 669\u001b[0;31m         \u001b[0mconn\u001b[0m\u001b[0;34m.\u001b[0m\u001b[0mexecute\u001b[0m\u001b[0;34m(\u001b[0m\u001b[0mself\u001b[0m\u001b[0;34m.\u001b[0m\u001b[0mtable\u001b[0m\u001b[0;34m.\u001b[0m\u001b[0minsert\u001b[0m\u001b[0;34m(\u001b[0m\u001b[0;34m)\u001b[0m\u001b[0;34m,\u001b[0m \u001b[0mdata\u001b[0m\u001b[0;34m)\u001b[0m\u001b[0;34m\u001b[0m\u001b[0;34m\u001b[0m\u001b[0m\n\u001b[0m\u001b[1;32m    670\u001b[0m \u001b[0;34m\u001b[0m\u001b[0m\n\u001b[1;32m    671\u001b[0m     \u001b[0;32mdef\u001b[0m \u001b[0m_execute_insert_multi\u001b[0m\u001b[0;34m(\u001b[0m\u001b[0mself\u001b[0m\u001b[0;34m,\u001b[0m \u001b[0mconn\u001b[0m\u001b[0;34m,\u001b[0m \u001b[0mkeys\u001b[0m\u001b[0;34m,\u001b[0m \u001b[0mdata_iter\u001b[0m\u001b[0;34m)\u001b[0m\u001b[0;34m:\u001b[0m\u001b[0;34m\u001b[0m\u001b[0;34m\u001b[0m\u001b[0m\n",
      "\u001b[0;32m~/opt/anaconda3/lib/python3.8/site-packages/sqlalchemy/engine/base.py\u001b[0m in \u001b[0;36mexecute\u001b[0;34m(self, object_, *multiparams, **params)\u001b[0m\n\u001b[1;32m   1012\u001b[0m             )\n\u001b[1;32m   1013\u001b[0m         \u001b[0;32melse\u001b[0m\u001b[0;34m:\u001b[0m\u001b[0;34m\u001b[0m\u001b[0;34m\u001b[0m\u001b[0m\n\u001b[0;32m-> 1014\u001b[0;31m             \u001b[0;32mreturn\u001b[0m \u001b[0mmeth\u001b[0m\u001b[0;34m(\u001b[0m\u001b[0mself\u001b[0m\u001b[0;34m,\u001b[0m \u001b[0mmultiparams\u001b[0m\u001b[0;34m,\u001b[0m \u001b[0mparams\u001b[0m\u001b[0;34m)\u001b[0m\u001b[0;34m\u001b[0m\u001b[0;34m\u001b[0m\u001b[0m\n\u001b[0m\u001b[1;32m   1015\u001b[0m \u001b[0;34m\u001b[0m\u001b[0m\n\u001b[1;32m   1016\u001b[0m     \u001b[0;32mdef\u001b[0m \u001b[0m_execute_function\u001b[0m\u001b[0;34m(\u001b[0m\u001b[0mself\u001b[0m\u001b[0;34m,\u001b[0m \u001b[0mfunc\u001b[0m\u001b[0;34m,\u001b[0m \u001b[0mmultiparams\u001b[0m\u001b[0;34m,\u001b[0m \u001b[0mparams\u001b[0m\u001b[0;34m)\u001b[0m\u001b[0;34m:\u001b[0m\u001b[0;34m\u001b[0m\u001b[0;34m\u001b[0m\u001b[0m\n",
      "\u001b[0;32m~/opt/anaconda3/lib/python3.8/site-packages/sqlalchemy/sql/elements.py\u001b[0m in \u001b[0;36m_execute_on_connection\u001b[0;34m(self, connection, multiparams, params)\u001b[0m\n\u001b[1;32m    296\u001b[0m     \u001b[0;32mdef\u001b[0m \u001b[0m_execute_on_connection\u001b[0m\u001b[0;34m(\u001b[0m\u001b[0mself\u001b[0m\u001b[0;34m,\u001b[0m \u001b[0mconnection\u001b[0m\u001b[0;34m,\u001b[0m \u001b[0mmultiparams\u001b[0m\u001b[0;34m,\u001b[0m \u001b[0mparams\u001b[0m\u001b[0;34m)\u001b[0m\u001b[0;34m:\u001b[0m\u001b[0;34m\u001b[0m\u001b[0;34m\u001b[0m\u001b[0m\n\u001b[1;32m    297\u001b[0m         \u001b[0;32mif\u001b[0m \u001b[0mself\u001b[0m\u001b[0;34m.\u001b[0m\u001b[0msupports_execution\u001b[0m\u001b[0;34m:\u001b[0m\u001b[0;34m\u001b[0m\u001b[0;34m\u001b[0m\u001b[0m\n\u001b[0;32m--> 298\u001b[0;31m             \u001b[0;32mreturn\u001b[0m \u001b[0mconnection\u001b[0m\u001b[0;34m.\u001b[0m\u001b[0m_execute_clauseelement\u001b[0m\u001b[0;34m(\u001b[0m\u001b[0mself\u001b[0m\u001b[0;34m,\u001b[0m \u001b[0mmultiparams\u001b[0m\u001b[0;34m,\u001b[0m \u001b[0mparams\u001b[0m\u001b[0;34m)\u001b[0m\u001b[0;34m\u001b[0m\u001b[0;34m\u001b[0m\u001b[0m\n\u001b[0m\u001b[1;32m    299\u001b[0m         \u001b[0;32melse\u001b[0m\u001b[0;34m:\u001b[0m\u001b[0;34m\u001b[0m\u001b[0;34m\u001b[0m\u001b[0m\n\u001b[1;32m    300\u001b[0m             \u001b[0;32mraise\u001b[0m \u001b[0mexc\u001b[0m\u001b[0;34m.\u001b[0m\u001b[0mObjectNotExecutableError\u001b[0m\u001b[0;34m(\u001b[0m\u001b[0mself\u001b[0m\u001b[0;34m)\u001b[0m\u001b[0;34m\u001b[0m\u001b[0;34m\u001b[0m\u001b[0m\n",
      "\u001b[0;32m~/opt/anaconda3/lib/python3.8/site-packages/sqlalchemy/engine/base.py\u001b[0m in \u001b[0;36m_execute_clauseelement\u001b[0;34m(self, elem, multiparams, params)\u001b[0m\n\u001b[1;32m   1125\u001b[0m             )\n\u001b[1;32m   1126\u001b[0m \u001b[0;34m\u001b[0m\u001b[0m\n\u001b[0;32m-> 1127\u001b[0;31m         ret = self._execute_context(\n\u001b[0m\u001b[1;32m   1128\u001b[0m             \u001b[0mdialect\u001b[0m\u001b[0;34m,\u001b[0m\u001b[0;34m\u001b[0m\u001b[0;34m\u001b[0m\u001b[0m\n\u001b[1;32m   1129\u001b[0m             \u001b[0mdialect\u001b[0m\u001b[0;34m.\u001b[0m\u001b[0mexecution_ctx_cls\u001b[0m\u001b[0;34m.\u001b[0m\u001b[0m_init_compiled\u001b[0m\u001b[0;34m,\u001b[0m\u001b[0;34m\u001b[0m\u001b[0;34m\u001b[0m\u001b[0m\n",
      "\u001b[0;32m~/opt/anaconda3/lib/python3.8/site-packages/sqlalchemy/engine/base.py\u001b[0m in \u001b[0;36m_execute_context\u001b[0;34m(self, dialect, constructor, statement, parameters, *args)\u001b[0m\n\u001b[1;32m   1315\u001b[0m \u001b[0;34m\u001b[0m\u001b[0m\n\u001b[1;32m   1316\u001b[0m         \u001b[0;32mexcept\u001b[0m \u001b[0mBaseException\u001b[0m \u001b[0;32mas\u001b[0m \u001b[0me\u001b[0m\u001b[0;34m:\u001b[0m\u001b[0;34m\u001b[0m\u001b[0;34m\u001b[0m\u001b[0m\n\u001b[0;32m-> 1317\u001b[0;31m             self._handle_dbapi_exception(\n\u001b[0m\u001b[1;32m   1318\u001b[0m                 \u001b[0me\u001b[0m\u001b[0;34m,\u001b[0m \u001b[0mstatement\u001b[0m\u001b[0;34m,\u001b[0m \u001b[0mparameters\u001b[0m\u001b[0;34m,\u001b[0m \u001b[0mcursor\u001b[0m\u001b[0;34m,\u001b[0m \u001b[0mcontext\u001b[0m\u001b[0;34m\u001b[0m\u001b[0;34m\u001b[0m\u001b[0m\n\u001b[1;32m   1319\u001b[0m             )\n",
      "\u001b[0;32m~/opt/anaconda3/lib/python3.8/site-packages/sqlalchemy/engine/base.py\u001b[0m in \u001b[0;36m_handle_dbapi_exception\u001b[0;34m(self, e, statement, parameters, cursor, context)\u001b[0m\n\u001b[1;32m   1509\u001b[0m                 \u001b[0mutil\u001b[0m\u001b[0;34m.\u001b[0m\u001b[0mraise_\u001b[0m\u001b[0;34m(\u001b[0m\u001b[0mnewraise\u001b[0m\u001b[0;34m,\u001b[0m \u001b[0mwith_traceback\u001b[0m\u001b[0;34m=\u001b[0m\u001b[0mexc_info\u001b[0m\u001b[0;34m[\u001b[0m\u001b[0;36m2\u001b[0m\u001b[0;34m]\u001b[0m\u001b[0;34m,\u001b[0m \u001b[0mfrom_\u001b[0m\u001b[0;34m=\u001b[0m\u001b[0me\u001b[0m\u001b[0;34m)\u001b[0m\u001b[0;34m\u001b[0m\u001b[0;34m\u001b[0m\u001b[0m\n\u001b[1;32m   1510\u001b[0m             \u001b[0;32melif\u001b[0m \u001b[0mshould_wrap\u001b[0m\u001b[0;34m:\u001b[0m\u001b[0;34m\u001b[0m\u001b[0;34m\u001b[0m\u001b[0m\n\u001b[0;32m-> 1511\u001b[0;31m                 util.raise_(\n\u001b[0m\u001b[1;32m   1512\u001b[0m                     \u001b[0msqlalchemy_exception\u001b[0m\u001b[0;34m,\u001b[0m \u001b[0mwith_traceback\u001b[0m\u001b[0;34m=\u001b[0m\u001b[0mexc_info\u001b[0m\u001b[0;34m[\u001b[0m\u001b[0;36m2\u001b[0m\u001b[0;34m]\u001b[0m\u001b[0;34m,\u001b[0m \u001b[0mfrom_\u001b[0m\u001b[0;34m=\u001b[0m\u001b[0me\u001b[0m\u001b[0;34m\u001b[0m\u001b[0;34m\u001b[0m\u001b[0m\n\u001b[1;32m   1513\u001b[0m                 )\n",
      "\u001b[0;32m~/opt/anaconda3/lib/python3.8/site-packages/sqlalchemy/util/compat.py\u001b[0m in \u001b[0;36mraise_\u001b[0;34m(***failed resolving arguments***)\u001b[0m\n\u001b[1;32m    176\u001b[0m \u001b[0;34m\u001b[0m\u001b[0m\n\u001b[1;32m    177\u001b[0m         \u001b[0;32mtry\u001b[0m\u001b[0;34m:\u001b[0m\u001b[0;34m\u001b[0m\u001b[0;34m\u001b[0m\u001b[0m\n\u001b[0;32m--> 178\u001b[0;31m             \u001b[0;32mraise\u001b[0m \u001b[0mexception\u001b[0m\u001b[0;34m\u001b[0m\u001b[0;34m\u001b[0m\u001b[0m\n\u001b[0m\u001b[1;32m    179\u001b[0m         \u001b[0;32mfinally\u001b[0m\u001b[0;34m:\u001b[0m\u001b[0;34m\u001b[0m\u001b[0;34m\u001b[0m\u001b[0m\n\u001b[1;32m    180\u001b[0m             \u001b[0;31m# credit to\u001b[0m\u001b[0;34m\u001b[0m\u001b[0;34m\u001b[0m\u001b[0;34m\u001b[0m\u001b[0m\n",
      "\u001b[0;32m~/opt/anaconda3/lib/python3.8/site-packages/sqlalchemy/engine/base.py\u001b[0m in \u001b[0;36m_execute_context\u001b[0;34m(self, dialect, constructor, statement, parameters, *args)\u001b[0m\n\u001b[1;32m   1255\u001b[0m                             \u001b[0;32mbreak\u001b[0m\u001b[0;34m\u001b[0m\u001b[0;34m\u001b[0m\u001b[0m\n\u001b[1;32m   1256\u001b[0m                 \u001b[0;32mif\u001b[0m \u001b[0;32mnot\u001b[0m \u001b[0mevt_handled\u001b[0m\u001b[0;34m:\u001b[0m\u001b[0;34m\u001b[0m\u001b[0;34m\u001b[0m\u001b[0m\n\u001b[0;32m-> 1257\u001b[0;31m                     self.dialect.do_executemany(\n\u001b[0m\u001b[1;32m   1258\u001b[0m                         \u001b[0mcursor\u001b[0m\u001b[0;34m,\u001b[0m \u001b[0mstatement\u001b[0m\u001b[0;34m,\u001b[0m \u001b[0mparameters\u001b[0m\u001b[0;34m,\u001b[0m \u001b[0mcontext\u001b[0m\u001b[0;34m\u001b[0m\u001b[0;34m\u001b[0m\u001b[0m\n\u001b[1;32m   1259\u001b[0m                     )\n",
      "\u001b[0;32m~/opt/anaconda3/lib/python3.8/site-packages/sqlalchemy/dialects/postgresql/psycopg2.py\u001b[0m in \u001b[0;36mdo_executemany\u001b[0;34m(self, cursor, statement, parameters, context)\u001b[0m\n\u001b[1;32m    871\u001b[0m     \u001b[0;32mdef\u001b[0m \u001b[0mdo_executemany\u001b[0m\u001b[0;34m(\u001b[0m\u001b[0mself\u001b[0m\u001b[0;34m,\u001b[0m \u001b[0mcursor\u001b[0m\u001b[0;34m,\u001b[0m \u001b[0mstatement\u001b[0m\u001b[0;34m,\u001b[0m \u001b[0mparameters\u001b[0m\u001b[0;34m,\u001b[0m \u001b[0mcontext\u001b[0m\u001b[0;34m=\u001b[0m\u001b[0;32mNone\u001b[0m\u001b[0;34m)\u001b[0m\u001b[0;34m:\u001b[0m\u001b[0;34m\u001b[0m\u001b[0;34m\u001b[0m\u001b[0m\n\u001b[1;32m    872\u001b[0m         \u001b[0;32mif\u001b[0m \u001b[0mself\u001b[0m\u001b[0;34m.\u001b[0m\u001b[0mexecutemany_mode\u001b[0m \u001b[0;32mis\u001b[0m \u001b[0mEXECUTEMANY_DEFAULT\u001b[0m\u001b[0;34m:\u001b[0m\u001b[0;34m\u001b[0m\u001b[0;34m\u001b[0m\u001b[0m\n\u001b[0;32m--> 873\u001b[0;31m             \u001b[0mcursor\u001b[0m\u001b[0;34m.\u001b[0m\u001b[0mexecutemany\u001b[0m\u001b[0;34m(\u001b[0m\u001b[0mstatement\u001b[0m\u001b[0;34m,\u001b[0m \u001b[0mparameters\u001b[0m\u001b[0;34m)\u001b[0m\u001b[0;34m\u001b[0m\u001b[0;34m\u001b[0m\u001b[0m\n\u001b[0m\u001b[1;32m    874\u001b[0m             \u001b[0;32mreturn\u001b[0m\u001b[0;34m\u001b[0m\u001b[0;34m\u001b[0m\u001b[0m\n\u001b[1;32m    875\u001b[0m \u001b[0;34m\u001b[0m\u001b[0m\n",
      "\u001b[0;31mIntegrityError\u001b[0m: (psycopg2.errors.ForeignKeyViolation) insert or update on table \"ridership\" violates foreign key constraint \"fk_rides_stations_end\"\nDETAIL:  Key (end_station_id, location_id)=(195, 4) is not present in table \"stations\".\n\n[SQL: INSERT INTO ridership (trip_duration, start_date, end_date, start_station_id, end_station_id, bike_id, member_type, location_id) VALUES (%(trip_duration)s, %(start_date)s, %(end_date)s, %(start_station_id)s, %(end_station_id)s, %(bike_id)s, %(member_type)s, %(location_id)s)]\n[parameters: ({'trip_duration': 320, 'start_date': '2019-01-01 00:01:47.4010', 'end_date': '2019-01-01 00:07:07.5810', 'start_station_id': 3160.0, 'end_station_id': 3283.0, 'bike_id': 15839, 'member_type': 'Subscriber', 'location_id': 4}, {'trip_duration': 591, 'start_date': '2019-01-01 00:06:03.9970', 'end_date': '2019-01-01 00:15:55.4380', 'start_station_id': 3171.0, 'end_station_id': 3154.0, 'bike_id': 27451, 'member_type': 'Subscriber', 'location_id': 4}, {'trip_duration': 2719, 'start_date': '2019-01-01 00:07:03.5450', 'end_date': '2019-01-01 00:52:22.6500', 'start_station_id': 504.0, 'end_station_id': 3709.0, 'bike_id': 21579, 'member_type': 'Subscriber', 'location_id': 4}, {'trip_duration': 303, 'start_date': '2019-01-01 00:07:35.9450', 'end_date': '2019-01-01 00:12:39.5020', 'start_station_id': 229.0, 'end_station_id': 503.0, 'bike_id': 35379, 'member_type': 'Subscriber', 'location_id': 4}, {'trip_duration': 535, 'start_date': '2019-01-01 00:08:33.1790', 'end_date': '2019-01-01 00:17:28.3540', 'start_station_id': 3630.0, 'end_station_id': 3529.0, 'bike_id': 30315, 'member_type': 'Subscriber', 'location_id': 4}, {'trip_duration': 1547, 'start_date': '2019-01-01 00:11:22.9070', 'end_date': '2019-01-01 00:37:10.0550', 'start_station_id': 285.0, 'end_station_id': 3358.0, 'bike_id': 35551, 'member_type': 'Subscriber', 'location_id': 4}, {'trip_duration': 300, 'start_date': '2019-01-01 00:12:17.9310', 'end_date': '2019-01-01 00:17:18.8300', 'start_station_id': 3394.0, 'end_station_id': 3398.0, 'bike_id': 18636, 'member_type': 'Subscriber', 'location_id': 4}, {'trip_duration': 123, 'start_date': '2019-01-01 00:12:19.6030', 'end_date': '2019-01-01 00:14:23.1040', 'start_station_id': 432.0, 'end_station_id': 3656.0, 'bike_id': 35206, 'member_type': 'Subscriber', 'location_id': 4}  ... displaying 10 of 18727352 total bound parameter sets ...  {'trip_duration': 1571, 'start_date': '2019-12-31 23:59:21.3610', 'end_date': '2020-01-01 00:25:32.9420', 'start_station_id': 252.0, 'end_station_id': 366.0, 'bike_id': 28506, 'member_type': 'Subscriber', 'location_id': 4}, {'trip_duration': 310, 'start_date': '2019-12-31 23:59:55.2960', 'end_date': '2020-01-01 00:05:05.7270', 'start_station_id': 3351.0, 'end_station_id': 3379.0, 'bike_id': 21013, 'member_type': 'Subscriber', 'location_id': 4})]\n(Background on this error at: http://sqlalche.me/e/13/gkpj)"
     ]
    }
   ],
   "source": [
    "newyork.to_sql(name='ridership', con=engine, if_exists='append', index=False, index_label='id')"
   ]
  },
  {
   "cell_type": "code",
   "execution_count": 15,
   "metadata": {},
   "outputs": [
    {
     "data": {
      "text/html": [
       "<div>\n",
       "<style scoped>\n",
       "    .dataframe tbody tr th:only-of-type {\n",
       "        vertical-align: middle;\n",
       "    }\n",
       "\n",
       "    .dataframe tbody tr th {\n",
       "        vertical-align: top;\n",
       "    }\n",
       "\n",
       "    .dataframe thead th {\n",
       "        text-align: right;\n",
       "    }\n",
       "</style>\n",
       "<table border=\"1\" class=\"dataframe\">\n",
       "  <thead>\n",
       "    <tr style=\"text-align: right;\">\n",
       "      <th></th>\n",
       "      <th>start_station_id</th>\n",
       "    </tr>\n",
       "  </thead>\n",
       "  <tbody>\n",
       "    <tr>\n",
       "      <th>0</th>\n",
       "      <td>3477</td>\n",
       "    </tr>\n",
       "    <tr>\n",
       "      <th>1</th>\n",
       "      <td>72</td>\n",
       "    </tr>\n",
       "    <tr>\n",
       "      <th>2</th>\n",
       "      <td>79</td>\n",
       "    </tr>\n",
       "    <tr>\n",
       "      <th>3</th>\n",
       "      <td>82</td>\n",
       "    </tr>\n",
       "    <tr>\n",
       "      <th>4</th>\n",
       "      <td>83</td>\n",
       "    </tr>\n",
       "    <tr>\n",
       "      <th>...</th>\n",
       "      <td>...</td>\n",
       "    </tr>\n",
       "    <tr>\n",
       "      <th>1209</th>\n",
       "      <td>4248</td>\n",
       "    </tr>\n",
       "    <tr>\n",
       "      <th>1210</th>\n",
       "      <td>4249</td>\n",
       "    </tr>\n",
       "    <tr>\n",
       "      <th>1211</th>\n",
       "      <td>4250</td>\n",
       "    </tr>\n",
       "    <tr>\n",
       "      <th>1212</th>\n",
       "      <td>4252</td>\n",
       "    </tr>\n",
       "    <tr>\n",
       "      <th>1213</th>\n",
       "      <td>4253</td>\n",
       "    </tr>\n",
       "  </tbody>\n",
       "</table>\n",
       "<p>1214 rows × 1 columns</p>\n",
       "</div>"
      ],
      "text/plain": [
       "      start_station_id\n",
       "0                 3477\n",
       "1                   72\n",
       "2                   79\n",
       "3                   82\n",
       "4                   83\n",
       "...                ...\n",
       "1209              4248\n",
       "1210              4249\n",
       "1211              4250\n",
       "1212              4252\n",
       "1213              4253\n",
       "\n",
       "[1214 rows x 1 columns]"
      ]
     },
     "execution_count": 15,
     "metadata": {},
     "output_type": "execute_result"
    }
   ],
   "source": [
    "stns_newyork = session.query(Stations.station_id).filter(Stations.location_id==4).all()\n",
    "stns_newyork = pd.DataFrame(stns_newyork)\n",
    "stns_newyork = stns_newyork.rename(columns={\"station_id\": \"start_station_id\"})\n",
    "stns_newyork"
   ]
  },
  {
   "cell_type": "code",
   "execution_count": 16,
   "metadata": {},
   "outputs": [],
   "source": [
    "ny_df = pd.merge(newyork, stns_newyork, how='inner', on='start_station_id')"
   ]
  },
  {
   "cell_type": "code",
   "execution_count": 17,
   "metadata": {},
   "outputs": [
    {
     "data": {
      "text/html": [
       "<div>\n",
       "<style scoped>\n",
       "    .dataframe tbody tr th:only-of-type {\n",
       "        vertical-align: middle;\n",
       "    }\n",
       "\n",
       "    .dataframe tbody tr th {\n",
       "        vertical-align: top;\n",
       "    }\n",
       "\n",
       "    .dataframe thead th {\n",
       "        text-align: right;\n",
       "    }\n",
       "</style>\n",
       "<table border=\"1\" class=\"dataframe\">\n",
       "  <thead>\n",
       "    <tr style=\"text-align: right;\">\n",
       "      <th></th>\n",
       "      <th>end_station_id</th>\n",
       "    </tr>\n",
       "  </thead>\n",
       "  <tbody>\n",
       "    <tr>\n",
       "      <th>0</th>\n",
       "      <td>3477</td>\n",
       "    </tr>\n",
       "    <tr>\n",
       "      <th>1</th>\n",
       "      <td>72</td>\n",
       "    </tr>\n",
       "    <tr>\n",
       "      <th>2</th>\n",
       "      <td>79</td>\n",
       "    </tr>\n",
       "    <tr>\n",
       "      <th>3</th>\n",
       "      <td>82</td>\n",
       "    </tr>\n",
       "    <tr>\n",
       "      <th>4</th>\n",
       "      <td>83</td>\n",
       "    </tr>\n",
       "    <tr>\n",
       "      <th>...</th>\n",
       "      <td>...</td>\n",
       "    </tr>\n",
       "    <tr>\n",
       "      <th>1209</th>\n",
       "      <td>4248</td>\n",
       "    </tr>\n",
       "    <tr>\n",
       "      <th>1210</th>\n",
       "      <td>4249</td>\n",
       "    </tr>\n",
       "    <tr>\n",
       "      <th>1211</th>\n",
       "      <td>4250</td>\n",
       "    </tr>\n",
       "    <tr>\n",
       "      <th>1212</th>\n",
       "      <td>4252</td>\n",
       "    </tr>\n",
       "    <tr>\n",
       "      <th>1213</th>\n",
       "      <td>4253</td>\n",
       "    </tr>\n",
       "  </tbody>\n",
       "</table>\n",
       "<p>1214 rows × 1 columns</p>\n",
       "</div>"
      ],
      "text/plain": [
       "      end_station_id\n",
       "0               3477\n",
       "1                 72\n",
       "2                 79\n",
       "3                 82\n",
       "4                 83\n",
       "...              ...\n",
       "1209            4248\n",
       "1210            4249\n",
       "1211            4250\n",
       "1212            4252\n",
       "1213            4253\n",
       "\n",
       "[1214 rows x 1 columns]"
      ]
     },
     "execution_count": 17,
     "metadata": {},
     "output_type": "execute_result"
    }
   ],
   "source": [
    "stns_newyork = stns_newyork.rename(columns={\"start_station_id\": \"end_station_id\"})\n",
    "stns_newyork"
   ]
  },
  {
   "cell_type": "code",
   "execution_count": 18,
   "metadata": {},
   "outputs": [],
   "source": [
    "newyork_df = pd.merge(ny_df, stns_newyork, how='inner', on='end_station_id')"
   ]
  },
  {
   "cell_type": "code",
   "execution_count": 19,
   "metadata": {},
   "outputs": [
    {
     "data": {
      "text/html": [
       "<div>\n",
       "<style scoped>\n",
       "    .dataframe tbody tr th:only-of-type {\n",
       "        vertical-align: middle;\n",
       "    }\n",
       "\n",
       "    .dataframe tbody tr th {\n",
       "        vertical-align: top;\n",
       "    }\n",
       "\n",
       "    .dataframe thead th {\n",
       "        text-align: right;\n",
       "    }\n",
       "</style>\n",
       "<table border=\"1\" class=\"dataframe\">\n",
       "  <thead>\n",
       "    <tr style=\"text-align: right;\">\n",
       "      <th></th>\n",
       "      <th>trip_duration</th>\n",
       "      <th>start_date</th>\n",
       "      <th>end_date</th>\n",
       "      <th>start_station_id</th>\n",
       "      <th>end_station_id</th>\n",
       "      <th>bike_id</th>\n",
       "      <th>member_type</th>\n",
       "      <th>location_id</th>\n",
       "    </tr>\n",
       "  </thead>\n",
       "  <tbody>\n",
       "    <tr>\n",
       "      <th>0</th>\n",
       "      <td>320</td>\n",
       "      <td>2019-01-01 00:01:47.4010</td>\n",
       "      <td>2019-01-01 00:07:07.5810</td>\n",
       "      <td>3160.0</td>\n",
       "      <td>3283.0</td>\n",
       "      <td>15839</td>\n",
       "      <td>Subscriber</td>\n",
       "      <td>4</td>\n",
       "    </tr>\n",
       "    <tr>\n",
       "      <th>1</th>\n",
       "      <td>353</td>\n",
       "      <td>2019-01-03 16:21:31.0120</td>\n",
       "      <td>2019-01-03 16:27:24.3650</td>\n",
       "      <td>3160.0</td>\n",
       "      <td>3283.0</td>\n",
       "      <td>32547</td>\n",
       "      <td>Subscriber</td>\n",
       "      <td>4</td>\n",
       "    </tr>\n",
       "    <tr>\n",
       "      <th>2</th>\n",
       "      <td>427</td>\n",
       "      <td>2019-01-08 17:14:19.8670</td>\n",
       "      <td>2019-01-08 17:21:27.6760</td>\n",
       "      <td>3160.0</td>\n",
       "      <td>3283.0</td>\n",
       "      <td>33767</td>\n",
       "      <td>Subscriber</td>\n",
       "      <td>4</td>\n",
       "    </tr>\n",
       "    <tr>\n",
       "      <th>3</th>\n",
       "      <td>436</td>\n",
       "      <td>2019-01-10 17:33:18.0890</td>\n",
       "      <td>2019-01-10 17:40:34.1690</td>\n",
       "      <td>3160.0</td>\n",
       "      <td>3283.0</td>\n",
       "      <td>20155</td>\n",
       "      <td>Subscriber</td>\n",
       "      <td>4</td>\n",
       "    </tr>\n",
       "    <tr>\n",
       "      <th>4</th>\n",
       "      <td>440</td>\n",
       "      <td>2019-01-15 17:22:49.7350</td>\n",
       "      <td>2019-01-15 17:30:10.4370</td>\n",
       "      <td>3160.0</td>\n",
       "      <td>3283.0</td>\n",
       "      <td>20203</td>\n",
       "      <td>Subscriber</td>\n",
       "      <td>4</td>\n",
       "    </tr>\n",
       "    <tr>\n",
       "      <th>...</th>\n",
       "      <td>...</td>\n",
       "      <td>...</td>\n",
       "      <td>...</td>\n",
       "      <td>...</td>\n",
       "      <td>...</td>\n",
       "      <td>...</td>\n",
       "      <td>...</td>\n",
       "      <td>...</td>\n",
       "    </tr>\n",
       "    <tr>\n",
       "      <th>17742183</th>\n",
       "      <td>528</td>\n",
       "      <td>2019-12-21 11:08:16.1030</td>\n",
       "      <td>2019-12-21 11:17:04.1250</td>\n",
       "      <td>3874.0</td>\n",
       "      <td>3884.0</td>\n",
       "      <td>30672</td>\n",
       "      <td>Subscriber</td>\n",
       "      <td>4</td>\n",
       "    </tr>\n",
       "    <tr>\n",
       "      <th>17742184</th>\n",
       "      <td>62</td>\n",
       "      <td>2019-12-24 04:28:00.4850</td>\n",
       "      <td>2019-12-24 04:29:02.4870</td>\n",
       "      <td>3875.0</td>\n",
       "      <td>3884.0</td>\n",
       "      <td>29924</td>\n",
       "      <td>Subscriber</td>\n",
       "      <td>4</td>\n",
       "    </tr>\n",
       "    <tr>\n",
       "      <th>17742185</th>\n",
       "      <td>193</td>\n",
       "      <td>2019-12-20 04:29:18.8340</td>\n",
       "      <td>2019-12-20 04:32:31.9060</td>\n",
       "      <td>3896.0</td>\n",
       "      <td>3884.0</td>\n",
       "      <td>40415</td>\n",
       "      <td>Subscriber</td>\n",
       "      <td>4</td>\n",
       "    </tr>\n",
       "    <tr>\n",
       "      <th>17742186</th>\n",
       "      <td>2861</td>\n",
       "      <td>2019-12-24 16:41:21.7110</td>\n",
       "      <td>2019-12-24 17:29:03.0580</td>\n",
       "      <td>3884.0</td>\n",
       "      <td>3884.0</td>\n",
       "      <td>29924</td>\n",
       "      <td>Customer</td>\n",
       "      <td>4</td>\n",
       "    </tr>\n",
       "    <tr>\n",
       "      <th>17742187</th>\n",
       "      <td>1608</td>\n",
       "      <td>2019-11-17 20:52:16.2850</td>\n",
       "      <td>2019-11-17 21:19:04.3870</td>\n",
       "      <td>250.0</td>\n",
       "      <td>3187.0</td>\n",
       "      <td>20015</td>\n",
       "      <td>Subscriber</td>\n",
       "      <td>4</td>\n",
       "    </tr>\n",
       "  </tbody>\n",
       "</table>\n",
       "<p>17742188 rows × 8 columns</p>\n",
       "</div>"
      ],
      "text/plain": [
       "          trip_duration                start_date                  end_date  \\\n",
       "0                   320  2019-01-01 00:01:47.4010  2019-01-01 00:07:07.5810   \n",
       "1                   353  2019-01-03 16:21:31.0120  2019-01-03 16:27:24.3650   \n",
       "2                   427  2019-01-08 17:14:19.8670  2019-01-08 17:21:27.6760   \n",
       "3                   436  2019-01-10 17:33:18.0890  2019-01-10 17:40:34.1690   \n",
       "4                   440  2019-01-15 17:22:49.7350  2019-01-15 17:30:10.4370   \n",
       "...                 ...                       ...                       ...   \n",
       "17742183            528  2019-12-21 11:08:16.1030  2019-12-21 11:17:04.1250   \n",
       "17742184             62  2019-12-24 04:28:00.4850  2019-12-24 04:29:02.4870   \n",
       "17742185            193  2019-12-20 04:29:18.8340  2019-12-20 04:32:31.9060   \n",
       "17742186           2861  2019-12-24 16:41:21.7110  2019-12-24 17:29:03.0580   \n",
       "17742187           1608  2019-11-17 20:52:16.2850  2019-11-17 21:19:04.3870   \n",
       "\n",
       "          start_station_id  end_station_id  bike_id member_type  location_id  \n",
       "0                   3160.0          3283.0    15839  Subscriber            4  \n",
       "1                   3160.0          3283.0    32547  Subscriber            4  \n",
       "2                   3160.0          3283.0    33767  Subscriber            4  \n",
       "3                   3160.0          3283.0    20155  Subscriber            4  \n",
       "4                   3160.0          3283.0    20203  Subscriber            4  \n",
       "...                    ...             ...      ...         ...          ...  \n",
       "17742183            3874.0          3884.0    30672  Subscriber            4  \n",
       "17742184            3875.0          3884.0    29924  Subscriber            4  \n",
       "17742185            3896.0          3884.0    40415  Subscriber            4  \n",
       "17742186            3884.0          3884.0    29924    Customer            4  \n",
       "17742187             250.0          3187.0    20015  Subscriber            4  \n",
       "\n",
       "[17742188 rows x 8 columns]"
      ]
     },
     "execution_count": 19,
     "metadata": {},
     "output_type": "execute_result"
    }
   ],
   "source": [
    "newyork_df"
   ]
  },
  {
   "cell_type": "code",
   "execution_count": null,
   "metadata": {},
   "outputs": [],
   "source": [
    "newyork_df.to_sql(name='ridership', con=engine, if_exists='append', index=False, index_label='id')"
   ]
  },
  {
   "cell_type": "code",
   "execution_count": null,
   "metadata": {},
   "outputs": [],
   "source": [
    "pricestr = 'Annual Membership $99'\n"
   ]
  }
 ],
 "metadata": {
  "kernelspec": {
   "display_name": "Python 3",
   "language": "python",
   "name": "python3"
  },
  "language_info": {
   "codemirror_mode": {
    "name": "ipython",
    "version": 3
   },
   "file_extension": ".py",
   "mimetype": "text/x-python",
   "name": "python",
   "nbconvert_exporter": "python",
   "pygments_lexer": "ipython3",
   "version": "3.8.3"
  }
 },
 "nbformat": 4,
 "nbformat_minor": 4
}
