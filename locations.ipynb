{
 "cells": [
  {
   "cell_type": "code",
   "execution_count": 1,
   "metadata": {},
   "outputs": [],
   "source": [
    "import pandas as pd\n",
    "import os\n",
    "from sqlalchemy import create_engine\n",
    "from config import conn_string"
   ]
  },
  {
   "cell_type": "markdown",
   "metadata": {},
   "source": [
    "**read all files**"
   ]
  },
  {
   "cell_type": "code",
   "execution_count": 2,
   "metadata": {},
   "outputs": [],
   "source": [
    "# path\n",
    "station_path = os.path.join('.', \"station_info.csv\")\n",
    "weather_path = os.path.join('.', \"historical_weather.csv\")\n",
    "\n",
    "#bikes\n",
    "toronto_bikes = os.path.join(\"Resources/1_toronto_canada\", \"toronto_bikes.csv\")\n",
    "vancouver_bikes = os.path.join(\"Resources/2_vancouver_canada\", \"vancouver_bikes.csv\")\n",
    "boston_bikes = os.path.join(\"Resources/3_boston_us\", \"boston_bikes.csv\")\n",
    "nyc_bikes = os.path.join(\"Resources/4_NewYork_US\", \"nyc_bikes.csv\")\n",
    "\n",
    "# membertypes\n",
    "toronto_users = os.path.join(\"Resources/1_toronto_canada\", \"toronto_membertypes.csv\")\n",
    "vancouver_users = os.path.join(\"Resources/2_vancouver_canada\", \"vancouver_membertypes.csv\")\n",
    "boston_users = os.path.join(\"Resources/3_boston_us\", \"boston_membertypes.csv\")\n",
    "nyc_users = os.path.join(\"Resources/4_NewYork_US\", \"nyc_membertypes.csv\")\n",
    "\n",
    "# ridership\n",
    "toronto_ = os.path.join(\"Resources/1_toronto_canada\", \"toronto_bikeshare.csv\")\n",
    "vancouver_ = os.path.join(\"Resources/2_vancouver_canada\", \"vancouver_bikeshare.csv\")\n",
    "boston_ = os.path.join(\"Resources/3_boston_us\", \"boston_bikeshare.csv\")\n",
    "nyc_ = os.path.join(\"Resources/4_NewYork_US\", \"nyc_bikeshare.csv\")\n"
   ]
  },
  {
   "cell_type": "code",
   "execution_count": 3,
   "metadata": {},
   "outputs": [],
   "source": [
    "# read files\n",
    "stns = pd.read_csv(station_path, encoding=\"utf-8\")\n",
    "weather = pd.read_csv(weather_path, encoding=\"utf-8\")\n",
    "\n",
    "# bikes\n",
    "tor_bikes = pd.read_csv(toronto_bikes, encoding=\"utf-8\")\n",
    "van_bikes = pd.read_csv(vancouver_bikes, encoding=\"utf-8\")\n",
    "bos_bikes = pd.read_csv(boston_bikes, encoding=\"utf-8\")\n",
    "nyc_bikes = pd.read_csv(nyc_bikes, encoding=\"utf-8\")\n",
    "\n",
    "# member_types\n",
    "tor_users = pd.read_csv(toronto_users, encoding=\"utf-8\")\n",
    "van_users = pd.read_csv(vancouver_users, encoding=\"utf-8\")\n",
    "bos_users = pd.read_csv(boston_users, encoding=\"utf-8\")\n",
    "nyc_users = pd.read_csv(nyc_users, encoding=\"utf-8\")\n",
    "\n",
    "# pricing index\n",
    "\n",
    "\n",
    "# ridership\n",
    "toronto = pd.read_csv(toronto_, encoding=\"utf-8\")\n",
    "vancouver = pd.read_csv(vancouver_, encoding=\"utf-8\")\n",
    "boston = pd.read_csv(boston_, encoding=\"utf-8\")\n",
    "newyork = pd.read_csv(nyc_, encoding=\"utf-8\")\n"
   ]
  },
  {
   "cell_type": "code",
   "execution_count": 28,
   "metadata": {},
   "outputs": [],
   "source": [
    "boston = pd.read_csv(boston_, encoding=\"utf-8\")"
   ]
  },
  {
   "cell_type": "code",
   "execution_count": 29,
   "metadata": {},
   "outputs": [
    {
     "data": {
      "text/plain": [
       "trip_duration       2522771\n",
       "start_date          2522771\n",
       "end_date            2522771\n",
       "start_station_id    2522771\n",
       "end_station_id      2522771\n",
       "bike_id             2522771\n",
       "member_type         2522771\n",
       "location_id         2522771\n",
       "dtype: int64"
      ]
     },
     "execution_count": 29,
     "metadata": {},
     "output_type": "execute_result"
    }
   ],
   "source": [
    "boston.count()"
   ]
  },
  {
   "cell_type": "markdown",
   "metadata": {},
   "source": [
    "**Locations**"
   ]
  },
  {
   "cell_type": "code",
   "execution_count": null,
   "metadata": {},
   "outputs": [],
   "source": [
    "locations = [{\"location_id\": 1,\"city\":\"Toronto\", \"country\":\"Canada\" }, \n",
    "             {\"location_id\": 2,\"city\":\"Vancouver\", \"country\":\"Canada\"},\n",
    "             {\"location_id\": 3,\"city\":\"Boston\", \"country\":\"USA\"},\n",
    "             {\"location_id\": 4,\"city\":\"New York\", \"country\":\"USA\"}\n",
    "            ]\n",
    "\n",
    "df = pd.DataFrame(locations)\n",
    "df.set_index(\"location_id\", inplace=True)\n",
    "df\n"
   ]
  },
  {
   "cell_type": "markdown",
   "metadata": {},
   "source": [
    "**Stations**"
   ]
  },
  {
   "cell_type": "code",
   "execution_count": null,
   "metadata": {},
   "outputs": [],
   "source": [
    "stns.head()"
   ]
  },
  {
   "cell_type": "markdown",
   "metadata": {},
   "source": [
    "**Historical Weather**"
   ]
  },
  {
   "cell_type": "code",
   "execution_count": null,
   "metadata": {},
   "outputs": [],
   "source": [
    "weather.head()"
   ]
  },
  {
   "cell_type": "markdown",
   "metadata": {},
   "source": [
    "**Bikes**"
   ]
  },
  {
   "cell_type": "code",
   "execution_count": null,
   "metadata": {},
   "outputs": [],
   "source": [
    "tor_bikes.head()"
   ]
  },
  {
   "cell_type": "code",
   "execution_count": null,
   "metadata": {},
   "outputs": [],
   "source": [
    "van_bikes.head()"
   ]
  },
  {
   "cell_type": "code",
   "execution_count": null,
   "metadata": {},
   "outputs": [],
   "source": [
    "bos_bikes.head()"
   ]
  },
  {
   "cell_type": "code",
   "execution_count": null,
   "metadata": {},
   "outputs": [],
   "source": [
    "nyc_bikes.head()"
   ]
  },
  {
   "cell_type": "markdown",
   "metadata": {},
   "source": [
    "**Member Types**"
   ]
  },
  {
   "cell_type": "code",
   "execution_count": null,
   "metadata": {},
   "outputs": [],
   "source": [
    "tor_users.head()"
   ]
  },
  {
   "cell_type": "code",
   "execution_count": null,
   "metadata": {},
   "outputs": [],
   "source": [
    "van_users.head()"
   ]
  },
  {
   "cell_type": "code",
   "execution_count": null,
   "metadata": {},
   "outputs": [],
   "source": [
    "bos_users.head()"
   ]
  },
  {
   "cell_type": "code",
   "execution_count": null,
   "metadata": {},
   "outputs": [],
   "source": [
    "nyc_users.head()"
   ]
  },
  {
   "cell_type": "markdown",
   "metadata": {},
   "source": [
    "**Pricing Index**"
   ]
  },
  {
   "cell_type": "code",
   "execution_count": null,
   "metadata": {},
   "outputs": [],
   "source": []
  },
  {
   "cell_type": "markdown",
   "metadata": {},
   "source": [
    "**Ridership**"
   ]
  },
  {
   "cell_type": "code",
   "execution_count": null,
   "metadata": {},
   "outputs": [],
   "source": [
    "# Toronto\n",
    "\n",
    "toronto.head()"
   ]
  },
  {
   "cell_type": "markdown",
   "metadata": {},
   "source": [
    "### Load data"
   ]
  },
  {
   "cell_type": "code",
   "execution_count": 4,
   "metadata": {},
   "outputs": [],
   "source": [
    "cnx = f'postgresql://{conn_string}'\n",
    "engine = create_engine(cnx)"
   ]
  },
  {
   "cell_type": "code",
   "execution_count": 5,
   "metadata": {},
   "outputs": [
    {
     "data": {
      "text/plain": [
       "['locations',\n",
       " 'membertypes',\n",
       " 'stations',\n",
       " 'bikes',\n",
       " 'ridership',\n",
       " 'pricing',\n",
       " 'historicalweather']"
      ]
     },
     "execution_count": 5,
     "metadata": {},
     "output_type": "execute_result"
    }
   ],
   "source": [
    "# confirm tables\n",
    "engine.table_names()"
   ]
  },
  {
   "cell_type": "code",
   "execution_count": null,
   "metadata": {},
   "outputs": [],
   "source": [
    "# load locations into database\n",
    "df.to_sql(name='locations', con=engine, if_exists='append', index=True)"
   ]
  },
  {
   "cell_type": "code",
   "execution_count": null,
   "metadata": {},
   "outputs": [],
   "source": [
    "# load stations into database\n",
    "stns.to_sql(name='stations', con=engine, if_exists='append', index=False)\n"
   ]
  },
  {
   "cell_type": "code",
   "execution_count": null,
   "metadata": {},
   "outputs": [],
   "source": [
    "# load historical weather into database\n",
    "weather.to_sql(name='historicalweather', con=engine, if_exists='append', index=False)"
   ]
  },
  {
   "cell_type": "code",
   "execution_count": null,
   "metadata": {},
   "outputs": [],
   "source": [
    "# load toronto bikes into database\n",
    "tor_bikes.to_sql(name='bikes', con=engine, if_exists='append', index=False)"
   ]
  },
  {
   "cell_type": "code",
   "execution_count": null,
   "metadata": {},
   "outputs": [],
   "source": [
    "# load vancouver bikes into database\n",
    "van_bikes.to_sql(name='bikes', con=engine, if_exists='append', index=False)"
   ]
  },
  {
   "cell_type": "code",
   "execution_count": null,
   "metadata": {},
   "outputs": [],
   "source": [
    "# load boston bikes into database\n",
    "bos_bikes.to_sql(name='bikes', con=engine, if_exists='append', index=False)"
   ]
  },
  {
   "cell_type": "code",
   "execution_count": null,
   "metadata": {},
   "outputs": [],
   "source": [
    "# load new york bikes into database\n",
    "nyc_bikes.to_sql(name='bikes', con=engine, if_exists='append', index=False)"
   ]
  },
  {
   "cell_type": "code",
   "execution_count": null,
   "metadata": {},
   "outputs": [],
   "source": [
    "# load toronto member types\n",
    "tor_users.to_sql(name='membertypes', con=engine, if_exists='append', index=False)"
   ]
  },
  {
   "cell_type": "code",
   "execution_count": null,
   "metadata": {},
   "outputs": [],
   "source": [
    "# load vancouver member types\n",
    "van_users.to_sql(name='membertypes', con=engine, if_exists='append', index=False)"
   ]
  },
  {
   "cell_type": "code",
   "execution_count": null,
   "metadata": {},
   "outputs": [],
   "source": [
    "# load boston member types\n",
    "bos_users.to_sql(name='membertypes', con=engine, if_exists='append', index=False)"
   ]
  },
  {
   "cell_type": "code",
   "execution_count": null,
   "metadata": {},
   "outputs": [],
   "source": [
    "# load new york member types\n",
    "nyc_users.to_sql(name='membertypes', con=engine, if_exists='append', index=False)"
   ]
  },
  {
   "cell_type": "markdown",
   "metadata": {},
   "source": [
    "**Load Ridership**"
   ]
  },
  {
   "cell_type": "code",
   "execution_count": 6,
   "metadata": {},
   "outputs": [],
   "source": [
    "from sqlalchemy.ext.declarative import declarative_base\n",
    "from sqlalchemy.ext.automap import automap_base\n",
    "from sqlalchemy.orm import Session\n",
    "\n",
    "# check reference to stations table\n",
    "# create session\n",
    "session = Session(bind=engine)\n",
    "# declare a base using automap_base\n",
    "Base = automap_base()\n",
    "# use the Base class to reflect the database tables\n",
    "Base.prepare(engine, reflect=True)\n",
    "Base.classes.keys()\n",
    "Stations = Base.classes.stations"
   ]
  },
  {
   "cell_type": "markdown",
   "metadata": {},
   "source": [
    "*Verify that all station_ids used in bikeshare exists in Stations table*"
   ]
  },
  {
   "cell_type": "code",
   "execution_count": 7,
   "metadata": {},
   "outputs": [
    {
     "data": {
      "text/html": [
       "<div>\n",
       "<style scoped>\n",
       "    .dataframe tbody tr th:only-of-type {\n",
       "        vertical-align: middle;\n",
       "    }\n",
       "\n",
       "    .dataframe tbody tr th {\n",
       "        vertical-align: top;\n",
       "    }\n",
       "\n",
       "    .dataframe thead th {\n",
       "        text-align: right;\n",
       "    }\n",
       "</style>\n",
       "<table border=\"1\" class=\"dataframe\">\n",
       "  <thead>\n",
       "    <tr style=\"text-align: right;\">\n",
       "      <th></th>\n",
       "      <th>station_id</th>\n",
       "    </tr>\n",
       "  </thead>\n",
       "  <tbody>\n",
       "    <tr>\n",
       "      <th>0</th>\n",
       "      <td>7000</td>\n",
       "    </tr>\n",
       "    <tr>\n",
       "      <th>1</th>\n",
       "      <td>7001</td>\n",
       "    </tr>\n",
       "    <tr>\n",
       "      <th>2</th>\n",
       "      <td>7002</td>\n",
       "    </tr>\n",
       "    <tr>\n",
       "      <th>3</th>\n",
       "      <td>7003</td>\n",
       "    </tr>\n",
       "    <tr>\n",
       "      <th>4</th>\n",
       "      <td>7004</td>\n",
       "    </tr>\n",
       "    <tr>\n",
       "      <th>...</th>\n",
       "      <td>...</td>\n",
       "    </tr>\n",
       "    <tr>\n",
       "      <th>2396</th>\n",
       "      <td>4248</td>\n",
       "    </tr>\n",
       "    <tr>\n",
       "      <th>2397</th>\n",
       "      <td>4249</td>\n",
       "    </tr>\n",
       "    <tr>\n",
       "      <th>2398</th>\n",
       "      <td>4250</td>\n",
       "    </tr>\n",
       "    <tr>\n",
       "      <th>2399</th>\n",
       "      <td>4252</td>\n",
       "    </tr>\n",
       "    <tr>\n",
       "      <th>2400</th>\n",
       "      <td>4253</td>\n",
       "    </tr>\n",
       "  </tbody>\n",
       "</table>\n",
       "<p>2401 rows × 1 columns</p>\n",
       "</div>"
      ],
      "text/plain": [
       "      station_id\n",
       "0           7000\n",
       "1           7001\n",
       "2           7002\n",
       "3           7003\n",
       "4           7004\n",
       "...          ...\n",
       "2396        4248\n",
       "2397        4249\n",
       "2398        4250\n",
       "2399        4252\n",
       "2400        4253\n",
       "\n",
       "[2401 rows x 1 columns]"
      ]
     },
     "execution_count": 7,
     "metadata": {},
     "output_type": "execute_result"
    }
   ],
   "source": [
    "all_stations = session.query(Stations.station_id).all()\n",
    "all_stns_df = pd.DataFrame(all_stations)\n",
    "all_stns_df"
   ]
  },
  {
   "cell_type": "markdown",
   "metadata": {},
   "source": [
    "***Toronto***"
   ]
  },
  {
   "cell_type": "code",
   "execution_count": null,
   "metadata": {},
   "outputs": [],
   "source": [
    "missing_start = toronto[-toronto[\"start_station_id\"].isin(all_stns_df[\"station_id\"])]\n",
    "missing_start = missing_start.rename(columns={\"start_station_id\":\"station_id\"})\n"
   ]
  },
  {
   "cell_type": "code",
   "execution_count": null,
   "metadata": {},
   "outputs": [],
   "source": [
    "missing_start"
   ]
  },
  {
   "cell_type": "code",
   "execution_count": null,
   "metadata": {},
   "outputs": [],
   "source": [
    "missing_end = toronto[-toronto[\"end_station_id\"].isin(all_stns_df[\"station_id\"])]\n",
    "missing_end = missing_end.rename(columns={\"start_station_id\":\"station_id\"})\n"
   ]
  },
  {
   "cell_type": "code",
   "execution_count": null,
   "metadata": {},
   "outputs": [],
   "source": [
    "missing_end"
   ]
  },
  {
   "cell_type": "markdown",
   "metadata": {},
   "source": [
    "*Load rows with station_id existing in stations table*"
   ]
  },
  {
   "cell_type": "code",
   "execution_count": null,
   "metadata": {},
   "outputs": [],
   "source": [
    "toronto = toronto[toronto[\"start_station_id\"].isin(all_stns_df[\"station_id\"])]\n",
    "toronto = toronto[toronto[\"end_station_id\"].isin(all_stns_df[\"station_id\"])]"
   ]
  },
  {
   "cell_type": "code",
   "execution_count": null,
   "metadata": {},
   "outputs": [],
   "source": [
    "toronto"
   ]
  },
  {
   "cell_type": "code",
   "execution_count": null,
   "metadata": {},
   "outputs": [],
   "source": [
    "toronto.to_sql(name='ridership', con=engine, if_exists='append', index=False, index_label='id')"
   ]
  },
  {
   "cell_type": "markdown",
   "metadata": {},
   "source": [
    "***Vancouver***"
   ]
  },
  {
   "cell_type": "code",
   "execution_count": null,
   "metadata": {},
   "outputs": [],
   "source": [
    "missing_start = vancouver[-vancouver[\"start_station_id\"].isin(all_stns_df[\"station_id\"])]\n",
    "missing_start = missing_start.rename(columns={\"start_station_id\":\"station_id\"})\n"
   ]
  },
  {
   "cell_type": "code",
   "execution_count": null,
   "metadata": {},
   "outputs": [],
   "source": [
    "missing_start"
   ]
  },
  {
   "cell_type": "code",
   "execution_count": null,
   "metadata": {},
   "outputs": [],
   "source": [
    "missing_end = vancouver[-vancouver[\"end_station_id\"].isin(all_stns_df[\"station_id\"])]\n",
    "missing_end = missing_end.rename(columns={\"start_station_id\":\"station_id\"})\n"
   ]
  },
  {
   "cell_type": "code",
   "execution_count": null,
   "metadata": {},
   "outputs": [],
   "source": [
    "missing_end"
   ]
  },
  {
   "cell_type": "markdown",
   "metadata": {},
   "source": [
    "*Load rows with station_id existing in stations table*"
   ]
  },
  {
   "cell_type": "code",
   "execution_count": null,
   "metadata": {},
   "outputs": [],
   "source": [
    "vancouver = vancouver[vancouver[\"start_station_id\"].isin(all_stns_df[\"station_id\"])]\n",
    "vancouver = vancouver[vancouver[\"end_station_id\"].isin(all_stns_df[\"station_id\"])]"
   ]
  },
  {
   "cell_type": "code",
   "execution_count": null,
   "metadata": {},
   "outputs": [],
   "source": [
    "vancouver"
   ]
  },
  {
   "cell_type": "code",
   "execution_count": null,
   "metadata": {},
   "outputs": [],
   "source": [
    "vancouver.to_sql(name='ridership', con=engine, if_exists='append', index=False, index_label='id')"
   ]
  },
  {
   "cell_type": "markdown",
   "metadata": {},
   "source": [
    "***Boston***"
   ]
  },
  {
   "cell_type": "code",
   "execution_count": 30,
   "metadata": {},
   "outputs": [
    {
     "data": {
      "text/html": [
       "<div>\n",
       "<style scoped>\n",
       "    .dataframe tbody tr th:only-of-type {\n",
       "        vertical-align: middle;\n",
       "    }\n",
       "\n",
       "    .dataframe tbody tr th {\n",
       "        vertical-align: top;\n",
       "    }\n",
       "\n",
       "    .dataframe thead th {\n",
       "        text-align: right;\n",
       "    }\n",
       "</style>\n",
       "<table border=\"1\" class=\"dataframe\">\n",
       "  <thead>\n",
       "    <tr style=\"text-align: right;\">\n",
       "      <th></th>\n",
       "      <th>trip_duration</th>\n",
       "      <th>start_date</th>\n",
       "      <th>end_date</th>\n",
       "      <th>start_station_id</th>\n",
       "      <th>end_station_id</th>\n",
       "      <th>bike_id</th>\n",
       "      <th>member_type</th>\n",
       "      <th>location_id</th>\n",
       "    </tr>\n",
       "  </thead>\n",
       "  <tbody>\n",
       "    <tr>\n",
       "      <th>215</th>\n",
       "      <td>610</td>\n",
       "      <td>2019-01-01 11:05:52.2480</td>\n",
       "      <td>2019-01-01 11:16:02.6380</td>\n",
       "      <td>42</td>\n",
       "      <td>40</td>\n",
       "      <td>2648</td>\n",
       "      <td>Subscriber</td>\n",
       "      <td>3</td>\n",
       "    </tr>\n",
       "    <tr>\n",
       "      <th>302</th>\n",
       "      <td>1657</td>\n",
       "      <td>2019-01-01 11:59:53.3000</td>\n",
       "      <td>2019-01-01 12:27:30.3620</td>\n",
       "      <td>42</td>\n",
       "      <td>65</td>\n",
       "      <td>3553</td>\n",
       "      <td>Customer</td>\n",
       "      <td>3</td>\n",
       "    </tr>\n",
       "    <tr>\n",
       "      <th>306</th>\n",
       "      <td>1509</td>\n",
       "      <td>2019-01-01 12:02:14.3990</td>\n",
       "      <td>2019-01-01 12:27:24.3260</td>\n",
       "      <td>42</td>\n",
       "      <td>65</td>\n",
       "      <td>2790</td>\n",
       "      <td>Customer</td>\n",
       "      <td>3</td>\n",
       "    </tr>\n",
       "    <tr>\n",
       "      <th>486</th>\n",
       "      <td>1874</td>\n",
       "      <td>2019-01-01 13:13:17.7800</td>\n",
       "      <td>2019-01-01 13:44:32.1500</td>\n",
       "      <td>42</td>\n",
       "      <td>42</td>\n",
       "      <td>4118</td>\n",
       "      <td>Customer</td>\n",
       "      <td>3</td>\n",
       "    </tr>\n",
       "    <tr>\n",
       "      <th>488</th>\n",
       "      <td>1854</td>\n",
       "      <td>2019-01-01 13:13:35.4750</td>\n",
       "      <td>2019-01-01 13:44:29.5620</td>\n",
       "      <td>42</td>\n",
       "      <td>42</td>\n",
       "      <td>4441</td>\n",
       "      <td>Customer</td>\n",
       "      <td>3</td>\n",
       "    </tr>\n",
       "    <tr>\n",
       "      <th>...</th>\n",
       "      <td>...</td>\n",
       "      <td>...</td>\n",
       "      <td>...</td>\n",
       "      <td>...</td>\n",
       "      <td>...</td>\n",
       "      <td>...</td>\n",
       "      <td>...</td>\n",
       "      <td>...</td>\n",
       "    </tr>\n",
       "    <tr>\n",
       "      <th>2519857</th>\n",
       "      <td>1224</td>\n",
       "      <td>2019-12-29 17:04:24.2110</td>\n",
       "      <td>2019-12-29 17:24:49.1520</td>\n",
       "      <td>42</td>\n",
       "      <td>342</td>\n",
       "      <td>2124</td>\n",
       "      <td>Subscriber</td>\n",
       "      <td>3</td>\n",
       "    </tr>\n",
       "    <tr>\n",
       "      <th>2520099</th>\n",
       "      <td>1791</td>\n",
       "      <td>2019-12-29 19:21:01.0570</td>\n",
       "      <td>2019-12-29 19:50:52.5650</td>\n",
       "      <td>42</td>\n",
       "      <td>41</td>\n",
       "      <td>4082</td>\n",
       "      <td>Subscriber</td>\n",
       "      <td>3</td>\n",
       "    </tr>\n",
       "    <tr>\n",
       "      <th>2521348</th>\n",
       "      <td>166</td>\n",
       "      <td>2019-12-31 11:41:20.5730</td>\n",
       "      <td>2019-12-31 11:44:07.3100</td>\n",
       "      <td>42</td>\n",
       "      <td>399</td>\n",
       "      <td>4723</td>\n",
       "      <td>Subscriber</td>\n",
       "      <td>3</td>\n",
       "    </tr>\n",
       "    <tr>\n",
       "      <th>2522391</th>\n",
       "      <td>3522</td>\n",
       "      <td>2019-12-31 18:20:43.0640</td>\n",
       "      <td>2019-12-31 19:19:25.4720</td>\n",
       "      <td>42</td>\n",
       "      <td>370</td>\n",
       "      <td>4000</td>\n",
       "      <td>Subscriber</td>\n",
       "      <td>3</td>\n",
       "    </tr>\n",
       "    <tr>\n",
       "      <th>2522461</th>\n",
       "      <td>1699</td>\n",
       "      <td>2019-12-31 18:48:18.3370</td>\n",
       "      <td>2019-12-31 19:16:38.2370</td>\n",
       "      <td>42</td>\n",
       "      <td>36</td>\n",
       "      <td>3361</td>\n",
       "      <td>Subscriber</td>\n",
       "      <td>3</td>\n",
       "    </tr>\n",
       "  </tbody>\n",
       "</table>\n",
       "<p>14129 rows × 8 columns</p>\n",
       "</div>"
      ],
      "text/plain": [
       "         trip_duration                start_date                  end_date  \\\n",
       "215                610  2019-01-01 11:05:52.2480  2019-01-01 11:16:02.6380   \n",
       "302               1657  2019-01-01 11:59:53.3000  2019-01-01 12:27:30.3620   \n",
       "306               1509  2019-01-01 12:02:14.3990  2019-01-01 12:27:24.3260   \n",
       "486               1874  2019-01-01 13:13:17.7800  2019-01-01 13:44:32.1500   \n",
       "488               1854  2019-01-01 13:13:35.4750  2019-01-01 13:44:29.5620   \n",
       "...                ...                       ...                       ...   \n",
       "2519857           1224  2019-12-29 17:04:24.2110  2019-12-29 17:24:49.1520   \n",
       "2520099           1791  2019-12-29 19:21:01.0570  2019-12-29 19:50:52.5650   \n",
       "2521348            166  2019-12-31 11:41:20.5730  2019-12-31 11:44:07.3100   \n",
       "2522391           3522  2019-12-31 18:20:43.0640  2019-12-31 19:19:25.4720   \n",
       "2522461           1699  2019-12-31 18:48:18.3370  2019-12-31 19:16:38.2370   \n",
       "\n",
       "         start_station_id  end_station_id  bike_id member_type  location_id  \n",
       "215                    42              40     2648  Subscriber            3  \n",
       "302                    42              65     3553    Customer            3  \n",
       "306                    42              65     2790    Customer            3  \n",
       "486                    42              42     4118    Customer            3  \n",
       "488                    42              42     4441    Customer            3  \n",
       "...                   ...             ...      ...         ...          ...  \n",
       "2519857                42             342     2124  Subscriber            3  \n",
       "2520099                42              41     4082  Subscriber            3  \n",
       "2521348                42             399     4723  Subscriber            3  \n",
       "2522391                42             370     4000  Subscriber            3  \n",
       "2522461                42              36     3361  Subscriber            3  \n",
       "\n",
       "[14129 rows x 8 columns]"
      ]
     },
     "execution_count": 30,
     "metadata": {},
     "output_type": "execute_result"
    }
   ],
   "source": [
    "missing_start = boston[-boston[\"start_station_id\"].isin(all_stns_df[\"station_id\"])]\n",
    "missing_start"
   ]
  },
  {
   "cell_type": "code",
   "execution_count": null,
   "metadata": {},
   "outputs": [],
   "source": [
    "boston.loc[boston['start_station_id']==88]"
   ]
  },
  {
   "cell_type": "code",
   "execution_count": 31,
   "metadata": {},
   "outputs": [
    {
     "data": {
      "text/html": [
       "<div>\n",
       "<style scoped>\n",
       "    .dataframe tbody tr th:only-of-type {\n",
       "        vertical-align: middle;\n",
       "    }\n",
       "\n",
       "    .dataframe tbody tr th {\n",
       "        vertical-align: top;\n",
       "    }\n",
       "\n",
       "    .dataframe thead th {\n",
       "        text-align: right;\n",
       "    }\n",
       "</style>\n",
       "<table border=\"1\" class=\"dataframe\">\n",
       "  <thead>\n",
       "    <tr style=\"text-align: right;\">\n",
       "      <th></th>\n",
       "      <th>trip_duration</th>\n",
       "      <th>start_date</th>\n",
       "      <th>end_date</th>\n",
       "      <th>start_station_id</th>\n",
       "      <th>end_station_id</th>\n",
       "      <th>bike_id</th>\n",
       "      <th>member_type</th>\n",
       "      <th>location_id</th>\n",
       "    </tr>\n",
       "  </thead>\n",
       "  <tbody>\n",
       "    <tr>\n",
       "      <th>44</th>\n",
       "      <td>622</td>\n",
       "      <td>2019-01-01 06:06:01.8390</td>\n",
       "      <td>2019-01-01 06:16:24.1470</td>\n",
       "      <td>157</td>\n",
       "      <td>42</td>\n",
       "      <td>4553</td>\n",
       "      <td>Subscriber</td>\n",
       "      <td>3</td>\n",
       "    </tr>\n",
       "    <tr>\n",
       "      <th>226</th>\n",
       "      <td>1646</td>\n",
       "      <td>2019-01-01 11:11:29.5610</td>\n",
       "      <td>2019-01-01 11:38:55.9730</td>\n",
       "      <td>356</td>\n",
       "      <td>42</td>\n",
       "      <td>2423</td>\n",
       "      <td>Customer</td>\n",
       "      <td>3</td>\n",
       "    </tr>\n",
       "    <tr>\n",
       "      <th>227</th>\n",
       "      <td>1596</td>\n",
       "      <td>2019-01-01 11:11:43.6340</td>\n",
       "      <td>2019-01-01 11:38:20.4030</td>\n",
       "      <td>356</td>\n",
       "      <td>42</td>\n",
       "      <td>2790</td>\n",
       "      <td>Customer</td>\n",
       "      <td>3</td>\n",
       "    </tr>\n",
       "    <tr>\n",
       "      <th>261</th>\n",
       "      <td>959</td>\n",
       "      <td>2019-01-01 11:31:57.0740</td>\n",
       "      <td>2019-01-01 11:47:56.1730</td>\n",
       "      <td>105</td>\n",
       "      <td>42</td>\n",
       "      <td>3955</td>\n",
       "      <td>Subscriber</td>\n",
       "      <td>3</td>\n",
       "    </tr>\n",
       "    <tr>\n",
       "      <th>316</th>\n",
       "      <td>1043</td>\n",
       "      <td>2019-01-01 12:08:56.8120</td>\n",
       "      <td>2019-01-01 12:26:20.0560</td>\n",
       "      <td>178</td>\n",
       "      <td>42</td>\n",
       "      <td>4371</td>\n",
       "      <td>Customer</td>\n",
       "      <td>3</td>\n",
       "    </tr>\n",
       "    <tr>\n",
       "      <th>...</th>\n",
       "      <td>...</td>\n",
       "      <td>...</td>\n",
       "      <td>...</td>\n",
       "      <td>...</td>\n",
       "      <td>...</td>\n",
       "      <td>...</td>\n",
       "      <td>...</td>\n",
       "      <td>...</td>\n",
       "    </tr>\n",
       "    <tr>\n",
       "      <th>2522337</th>\n",
       "      <td>2414</td>\n",
       "      <td>2019-12-31 17:57:17.2330</td>\n",
       "      <td>2019-12-31 18:37:31.9600</td>\n",
       "      <td>54</td>\n",
       "      <td>42</td>\n",
       "      <td>3361</td>\n",
       "      <td>Subscriber</td>\n",
       "      <td>3</td>\n",
       "    </tr>\n",
       "    <tr>\n",
       "      <th>2522350</th>\n",
       "      <td>700</td>\n",
       "      <td>2019-12-31 18:01:52.0070</td>\n",
       "      <td>2019-12-31 18:13:32.9020</td>\n",
       "      <td>72</td>\n",
       "      <td>42</td>\n",
       "      <td>4401</td>\n",
       "      <td>Subscriber</td>\n",
       "      <td>3</td>\n",
       "    </tr>\n",
       "    <tr>\n",
       "      <th>2522492</th>\n",
       "      <td>1118</td>\n",
       "      <td>2019-12-31 19:04:43.5650</td>\n",
       "      <td>2019-12-31 19:23:21.5790</td>\n",
       "      <td>3</td>\n",
       "      <td>42</td>\n",
       "      <td>4739</td>\n",
       "      <td>Subscriber</td>\n",
       "      <td>3</td>\n",
       "    </tr>\n",
       "    <tr>\n",
       "      <th>2522682</th>\n",
       "      <td>1150</td>\n",
       "      <td>2019-12-31 21:46:51.4280</td>\n",
       "      <td>2019-12-31 22:06:01.9680</td>\n",
       "      <td>107</td>\n",
       "      <td>42</td>\n",
       "      <td>5091</td>\n",
       "      <td>Subscriber</td>\n",
       "      <td>3</td>\n",
       "    </tr>\n",
       "    <tr>\n",
       "      <th>2522683</th>\n",
       "      <td>1138</td>\n",
       "      <td>2019-12-31 21:47:02.7690</td>\n",
       "      <td>2019-12-31 22:06:01.3980</td>\n",
       "      <td>107</td>\n",
       "      <td>42</td>\n",
       "      <td>5671</td>\n",
       "      <td>Subscriber</td>\n",
       "      <td>3</td>\n",
       "    </tr>\n",
       "  </tbody>\n",
       "</table>\n",
       "<p>15948 rows × 8 columns</p>\n",
       "</div>"
      ],
      "text/plain": [
       "         trip_duration                start_date                  end_date  \\\n",
       "44                 622  2019-01-01 06:06:01.8390  2019-01-01 06:16:24.1470   \n",
       "226               1646  2019-01-01 11:11:29.5610  2019-01-01 11:38:55.9730   \n",
       "227               1596  2019-01-01 11:11:43.6340  2019-01-01 11:38:20.4030   \n",
       "261                959  2019-01-01 11:31:57.0740  2019-01-01 11:47:56.1730   \n",
       "316               1043  2019-01-01 12:08:56.8120  2019-01-01 12:26:20.0560   \n",
       "...                ...                       ...                       ...   \n",
       "2522337           2414  2019-12-31 17:57:17.2330  2019-12-31 18:37:31.9600   \n",
       "2522350            700  2019-12-31 18:01:52.0070  2019-12-31 18:13:32.9020   \n",
       "2522492           1118  2019-12-31 19:04:43.5650  2019-12-31 19:23:21.5790   \n",
       "2522682           1150  2019-12-31 21:46:51.4280  2019-12-31 22:06:01.9680   \n",
       "2522683           1138  2019-12-31 21:47:02.7690  2019-12-31 22:06:01.3980   \n",
       "\n",
       "         start_station_id  end_station_id  bike_id member_type  location_id  \n",
       "44                    157              42     4553  Subscriber            3  \n",
       "226                   356              42     2423    Customer            3  \n",
       "227                   356              42     2790    Customer            3  \n",
       "261                   105              42     3955  Subscriber            3  \n",
       "316                   178              42     4371    Customer            3  \n",
       "...                   ...             ...      ...         ...          ...  \n",
       "2522337                54              42     3361  Subscriber            3  \n",
       "2522350                72              42     4401  Subscriber            3  \n",
       "2522492                 3              42     4739  Subscriber            3  \n",
       "2522682               107              42     5091  Subscriber            3  \n",
       "2522683               107              42     5671  Subscriber            3  \n",
       "\n",
       "[15948 rows x 8 columns]"
      ]
     },
     "execution_count": 31,
     "metadata": {},
     "output_type": "execute_result"
    }
   ],
   "source": [
    "missing_end = boston[-boston[\"end_station_id\"].isin(all_stns_df[\"station_id\"])]\n",
    "missing_end"
   ]
  },
  {
   "cell_type": "code",
   "execution_count": null,
   "metadata": {},
   "outputs": [],
   "source": [
    "boston = boston[boston[\"start_station_id\"].isin(all_stns_df[\"station_id\"])]\n",
    "boston = boston[boston[\"end_station_id\"].isin(all_stns_df[\"station_id\"])]\n",
    "boston"
   ]
  },
  {
   "cell_type": "code",
   "execution_count": null,
   "metadata": {},
   "outputs": [],
   "source": [
    "# intersection_df = pd.merge(d1, d2, how ='inner', on =['start_station_id', 'station_id'])"
   ]
  },
  {
   "cell_type": "code",
   "execution_count": 32,
   "metadata": {},
   "outputs": [
    {
     "name": "stdout",
     "output_type": "stream",
     "text": [
      "2492694\n"
     ]
    }
   ],
   "source": [
    "print(2522771-(14129+15948))"
   ]
  },
  {
   "cell_type": "code",
   "execution_count": 26,
   "metadata": {},
   "outputs": [
    {
     "data": {
      "text/plain": [
       "trip_duration       2522771\n",
       "start_date          2522771\n",
       "end_date            2522771\n",
       "start_station_id    2522771\n",
       "end_station_id      2522771\n",
       "bike_id             2522771\n",
       "member_type         2522771\n",
       "location_id         2522771\n",
       "dtype: int64"
      ]
     },
     "execution_count": 26,
     "metadata": {},
     "output_type": "execute_result"
    }
   ],
   "source": [
    "boston.count()"
   ]
  },
  {
   "cell_type": "code",
   "execution_count": 23,
   "metadata": {},
   "outputs": [
    {
     "data": {
      "text/html": [
       "<div>\n",
       "<style scoped>\n",
       "    .dataframe tbody tr th:only-of-type {\n",
       "        vertical-align: middle;\n",
       "    }\n",
       "\n",
       "    .dataframe tbody tr th {\n",
       "        vertical-align: top;\n",
       "    }\n",
       "\n",
       "    .dataframe thead th {\n",
       "        text-align: right;\n",
       "    }\n",
       "</style>\n",
       "<table border=\"1\" class=\"dataframe\">\n",
       "  <thead>\n",
       "    <tr style=\"text-align: right;\">\n",
       "      <th></th>\n",
       "      <th>start_station_id</th>\n",
       "    </tr>\n",
       "  </thead>\n",
       "  <tbody>\n",
       "    <tr>\n",
       "      <th>0</th>\n",
       "      <td>3</td>\n",
       "    </tr>\n",
       "    <tr>\n",
       "      <th>1</th>\n",
       "      <td>4</td>\n",
       "    </tr>\n",
       "    <tr>\n",
       "      <th>2</th>\n",
       "      <td>5</td>\n",
       "    </tr>\n",
       "    <tr>\n",
       "      <th>3</th>\n",
       "      <td>6</td>\n",
       "    </tr>\n",
       "    <tr>\n",
       "      <th>4</th>\n",
       "      <td>7</td>\n",
       "    </tr>\n",
       "    <tr>\n",
       "      <th>...</th>\n",
       "      <td>...</td>\n",
       "    </tr>\n",
       "    <tr>\n",
       "      <th>373</th>\n",
       "      <td>495</td>\n",
       "    </tr>\n",
       "    <tr>\n",
       "      <th>374</th>\n",
       "      <td>496</td>\n",
       "    </tr>\n",
       "    <tr>\n",
       "      <th>375</th>\n",
       "      <td>497</td>\n",
       "    </tr>\n",
       "    <tr>\n",
       "      <th>376</th>\n",
       "      <td>498</td>\n",
       "    </tr>\n",
       "    <tr>\n",
       "      <th>377</th>\n",
       "      <td>499</td>\n",
       "    </tr>\n",
       "  </tbody>\n",
       "</table>\n",
       "<p>378 rows × 1 columns</p>\n",
       "</div>"
      ],
      "text/plain": [
       "     start_station_id\n",
       "0                   3\n",
       "1                   4\n",
       "2                   5\n",
       "3                   6\n",
       "4                   7\n",
       "..                ...\n",
       "373               495\n",
       "374               496\n",
       "375               497\n",
       "376               498\n",
       "377               499\n",
       "\n",
       "[378 rows x 1 columns]"
      ]
     },
     "execution_count": 23,
     "metadata": {},
     "output_type": "execute_result"
    }
   ],
   "source": [
    "stns_boston = session.query(Stations.station_id).filter(Stations.location_id==3).all()\n",
    "stns_boston = pd.DataFrame(stns_boston)\n",
    "stns_boston = stns_boston.rename(columns={\"station_id\": \"start_station_id\"})\n",
    "stns_boston"
   ]
  },
  {
   "cell_type": "code",
   "execution_count": 24,
   "metadata": {},
   "outputs": [],
   "source": [
    "df = pd.merge(boston, stns_boston, how='inner', on='start_station_id')"
   ]
  },
  {
   "cell_type": "code",
   "execution_count": 33,
   "metadata": {},
   "outputs": [
    {
     "data": {
      "text/html": [
       "<div>\n",
       "<style scoped>\n",
       "    .dataframe tbody tr th:only-of-type {\n",
       "        vertical-align: middle;\n",
       "    }\n",
       "\n",
       "    .dataframe tbody tr th {\n",
       "        vertical-align: top;\n",
       "    }\n",
       "\n",
       "    .dataframe thead th {\n",
       "        text-align: right;\n",
       "    }\n",
       "</style>\n",
       "<table border=\"1\" class=\"dataframe\">\n",
       "  <thead>\n",
       "    <tr style=\"text-align: right;\">\n",
       "      <th></th>\n",
       "      <th>end_station_id</th>\n",
       "    </tr>\n",
       "  </thead>\n",
       "  <tbody>\n",
       "    <tr>\n",
       "      <th>0</th>\n",
       "      <td>3</td>\n",
       "    </tr>\n",
       "    <tr>\n",
       "      <th>1</th>\n",
       "      <td>4</td>\n",
       "    </tr>\n",
       "    <tr>\n",
       "      <th>2</th>\n",
       "      <td>5</td>\n",
       "    </tr>\n",
       "    <tr>\n",
       "      <th>3</th>\n",
       "      <td>6</td>\n",
       "    </tr>\n",
       "    <tr>\n",
       "      <th>4</th>\n",
       "      <td>7</td>\n",
       "    </tr>\n",
       "    <tr>\n",
       "      <th>...</th>\n",
       "      <td>...</td>\n",
       "    </tr>\n",
       "    <tr>\n",
       "      <th>373</th>\n",
       "      <td>495</td>\n",
       "    </tr>\n",
       "    <tr>\n",
       "      <th>374</th>\n",
       "      <td>496</td>\n",
       "    </tr>\n",
       "    <tr>\n",
       "      <th>375</th>\n",
       "      <td>497</td>\n",
       "    </tr>\n",
       "    <tr>\n",
       "      <th>376</th>\n",
       "      <td>498</td>\n",
       "    </tr>\n",
       "    <tr>\n",
       "      <th>377</th>\n",
       "      <td>499</td>\n",
       "    </tr>\n",
       "  </tbody>\n",
       "</table>\n",
       "<p>378 rows × 1 columns</p>\n",
       "</div>"
      ],
      "text/plain": [
       "     end_station_id\n",
       "0                 3\n",
       "1                 4\n",
       "2                 5\n",
       "3                 6\n",
       "4                 7\n",
       "..              ...\n",
       "373             495\n",
       "374             496\n",
       "375             497\n",
       "376             498\n",
       "377             499\n",
       "\n",
       "[378 rows x 1 columns]"
      ]
     },
     "execution_count": 33,
     "metadata": {},
     "output_type": "execute_result"
    }
   ],
   "source": [
    "stns_boston = stns_boston.rename(columns={\"start_station_id\": \"end_station_id\"})\n",
    "stns_boston"
   ]
  },
  {
   "cell_type": "code",
   "execution_count": 35,
   "metadata": {},
   "outputs": [],
   "source": [
    "boston_df = pd.merge(df, stns_boston, how='inner', on='end_station_id')"
   ]
  },
  {
   "cell_type": "code",
   "execution_count": 36,
   "metadata": {},
   "outputs": [
    {
     "data": {
      "text/html": [
       "<div>\n",
       "<style scoped>\n",
       "    .dataframe tbody tr th:only-of-type {\n",
       "        vertical-align: middle;\n",
       "    }\n",
       "\n",
       "    .dataframe tbody tr th {\n",
       "        vertical-align: top;\n",
       "    }\n",
       "\n",
       "    .dataframe thead th {\n",
       "        text-align: right;\n",
       "    }\n",
       "</style>\n",
       "<table border=\"1\" class=\"dataframe\">\n",
       "  <thead>\n",
       "    <tr style=\"text-align: right;\">\n",
       "      <th></th>\n",
       "      <th>trip_duration</th>\n",
       "      <th>start_date</th>\n",
       "      <th>end_date</th>\n",
       "      <th>start_station_id</th>\n",
       "      <th>end_station_id</th>\n",
       "      <th>bike_id</th>\n",
       "      <th>member_type</th>\n",
       "      <th>location_id</th>\n",
       "    </tr>\n",
       "  </thead>\n",
       "  <tbody>\n",
       "    <tr>\n",
       "      <th>0</th>\n",
       "      <td>371</td>\n",
       "      <td>2019-01-01 00:09:13.7980</td>\n",
       "      <td>2019-01-01 00:15:25.3360</td>\n",
       "      <td>80</td>\n",
       "      <td>179</td>\n",
       "      <td>3689</td>\n",
       "      <td>Subscriber</td>\n",
       "      <td>3</td>\n",
       "    </tr>\n",
       "    <tr>\n",
       "      <th>1</th>\n",
       "      <td>304</td>\n",
       "      <td>2019-01-01 00:54:48.9310</td>\n",
       "      <td>2019-01-01 00:59:53.5810</td>\n",
       "      <td>80</td>\n",
       "      <td>179</td>\n",
       "      <td>3861</td>\n",
       "      <td>Subscriber</td>\n",
       "      <td>3</td>\n",
       "    </tr>\n",
       "    <tr>\n",
       "      <th>2</th>\n",
       "      <td>354</td>\n",
       "      <td>2019-01-01 17:54:32.7970</td>\n",
       "      <td>2019-01-01 18:00:26.8420</td>\n",
       "      <td>80</td>\n",
       "      <td>179</td>\n",
       "      <td>4053</td>\n",
       "      <td>Subscriber</td>\n",
       "      <td>3</td>\n",
       "    </tr>\n",
       "    <tr>\n",
       "      <th>3</th>\n",
       "      <td>397</td>\n",
       "      <td>2019-01-01 17:57:05.5680</td>\n",
       "      <td>2019-01-01 18:03:43.0000</td>\n",
       "      <td>80</td>\n",
       "      <td>179</td>\n",
       "      <td>4160</td>\n",
       "      <td>Subscriber</td>\n",
       "      <td>3</td>\n",
       "    </tr>\n",
       "    <tr>\n",
       "      <th>4</th>\n",
       "      <td>320</td>\n",
       "      <td>2019-01-01 18:33:41.3500</td>\n",
       "      <td>2019-01-01 18:39:01.9270</td>\n",
       "      <td>80</td>\n",
       "      <td>179</td>\n",
       "      <td>2893</td>\n",
       "      <td>Subscriber</td>\n",
       "      <td>3</td>\n",
       "    </tr>\n",
       "    <tr>\n",
       "      <th>...</th>\n",
       "      <td>...</td>\n",
       "      <td>...</td>\n",
       "      <td>...</td>\n",
       "      <td>...</td>\n",
       "      <td>...</td>\n",
       "      <td>...</td>\n",
       "      <td>...</td>\n",
       "      <td>...</td>\n",
       "    </tr>\n",
       "    <tr>\n",
       "      <th>2480339</th>\n",
       "      <td>2156</td>\n",
       "      <td>2019-09-22 14:36:12.3820</td>\n",
       "      <td>2019-09-22 15:12:08.6720</td>\n",
       "      <td>430</td>\n",
       "      <td>430</td>\n",
       "      <td>4882</td>\n",
       "      <td>Customer</td>\n",
       "      <td>3</td>\n",
       "    </tr>\n",
       "    <tr>\n",
       "      <th>2480340</th>\n",
       "      <td>5288</td>\n",
       "      <td>2019-10-17 06:43:00.1410</td>\n",
       "      <td>2019-10-17 08:11:09.0090</td>\n",
       "      <td>430</td>\n",
       "      <td>430</td>\n",
       "      <td>2179</td>\n",
       "      <td>Customer</td>\n",
       "      <td>3</td>\n",
       "    </tr>\n",
       "    <tr>\n",
       "      <th>2480341</th>\n",
       "      <td>1734</td>\n",
       "      <td>2019-10-26 16:00:40.9080</td>\n",
       "      <td>2019-10-26 16:29:35.1080</td>\n",
       "      <td>430</td>\n",
       "      <td>430</td>\n",
       "      <td>5871</td>\n",
       "      <td>Customer</td>\n",
       "      <td>3</td>\n",
       "    </tr>\n",
       "    <tr>\n",
       "      <th>2480342</th>\n",
       "      <td>1719</td>\n",
       "      <td>2019-10-26 16:00:47.4760</td>\n",
       "      <td>2019-10-26 16:29:26.5250</td>\n",
       "      <td>430</td>\n",
       "      <td>430</td>\n",
       "      <td>2179</td>\n",
       "      <td>Customer</td>\n",
       "      <td>3</td>\n",
       "    </tr>\n",
       "    <tr>\n",
       "      <th>2480343</th>\n",
       "      <td>204</td>\n",
       "      <td>2019-09-10 15:19:09.6850</td>\n",
       "      <td>2019-09-10 15:22:34.1220</td>\n",
       "      <td>435</td>\n",
       "      <td>430</td>\n",
       "      <td>2932</td>\n",
       "      <td>Subscriber</td>\n",
       "      <td>3</td>\n",
       "    </tr>\n",
       "  </tbody>\n",
       "</table>\n",
       "<p>2480344 rows × 8 columns</p>\n",
       "</div>"
      ],
      "text/plain": [
       "         trip_duration                start_date                  end_date  \\\n",
       "0                  371  2019-01-01 00:09:13.7980  2019-01-01 00:15:25.3360   \n",
       "1                  304  2019-01-01 00:54:48.9310  2019-01-01 00:59:53.5810   \n",
       "2                  354  2019-01-01 17:54:32.7970  2019-01-01 18:00:26.8420   \n",
       "3                  397  2019-01-01 17:57:05.5680  2019-01-01 18:03:43.0000   \n",
       "4                  320  2019-01-01 18:33:41.3500  2019-01-01 18:39:01.9270   \n",
       "...                ...                       ...                       ...   \n",
       "2480339           2156  2019-09-22 14:36:12.3820  2019-09-22 15:12:08.6720   \n",
       "2480340           5288  2019-10-17 06:43:00.1410  2019-10-17 08:11:09.0090   \n",
       "2480341           1734  2019-10-26 16:00:40.9080  2019-10-26 16:29:35.1080   \n",
       "2480342           1719  2019-10-26 16:00:47.4760  2019-10-26 16:29:26.5250   \n",
       "2480343            204  2019-09-10 15:19:09.6850  2019-09-10 15:22:34.1220   \n",
       "\n",
       "         start_station_id  end_station_id  bike_id member_type  location_id  \n",
       "0                      80             179     3689  Subscriber            3  \n",
       "1                      80             179     3861  Subscriber            3  \n",
       "2                      80             179     4053  Subscriber            3  \n",
       "3                      80             179     4160  Subscriber            3  \n",
       "4                      80             179     2893  Subscriber            3  \n",
       "...                   ...             ...      ...         ...          ...  \n",
       "2480339               430             430     4882    Customer            3  \n",
       "2480340               430             430     2179    Customer            3  \n",
       "2480341               430             430     5871    Customer            3  \n",
       "2480342               430             430     2179    Customer            3  \n",
       "2480343               435             430     2932  Subscriber            3  \n",
       "\n",
       "[2480344 rows x 8 columns]"
      ]
     },
     "execution_count": 36,
     "metadata": {},
     "output_type": "execute_result"
    }
   ],
   "source": [
    "boston_df "
   ]
  },
  {
   "cell_type": "code",
   "execution_count": 37,
   "metadata": {},
   "outputs": [],
   "source": [
    "boston_df.to_sql(name='ridership', con=engine, if_exists='append', index=False, index_label='id')"
   ]
  },
  {
   "cell_type": "markdown",
   "metadata": {},
   "source": []
  }
 ],
 "metadata": {
  "kernelspec": {
   "display_name": "Python 3",
   "language": "python",
   "name": "python3"
  },
  "language_info": {
   "codemirror_mode": {
    "name": "ipython",
    "version": 3
   },
   "file_extension": ".py",
   "mimetype": "text/x-python",
   "name": "python",
   "nbconvert_exporter": "python",
   "pygments_lexer": "ipython3",
   "version": "3.8.3"
  }
 },
 "nbformat": 4,
 "nbformat_minor": 4
}
