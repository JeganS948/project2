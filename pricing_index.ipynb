{
 "cells": [
  {
   "cell_type": "markdown",
   "metadata": {},
   "source": [
    "<b>Initial Setup<b>"
   ]
  },
  {
   "cell_type": "code",
   "execution_count": 1,
   "metadata": {},
   "outputs": [],
   "source": [
    "# import dependencies\n",
    "import pandas as pd\n",
    "import requests\n",
    "from bs4 import BeautifulSoup as bs\n",
    "from webdriver_manager.chrome import ChromeDriverManager"
   ]
  },
  {
   "cell_type": "markdown",
   "metadata": {},
   "source": [
    "<b>Web Scrape From Each City Bike Share Program Site<b>"
   ]
  },
  {
   "cell_type": "markdown",
   "metadata": {},
   "source": [
    "*Toronto Price Index*"
   ]
  },
  {
   "cell_type": "code",
   "execution_count": 2,
   "metadata": {},
   "outputs": [],
   "source": [
    "# Get URL\n",
    "url = 'https://bikesharetoronto.com/pricing/'\n",
    "response1 = requests.get(url)"
   ]
  },
  {
   "cell_type": "code",
   "execution_count": 3,
   "metadata": {},
   "outputs": [],
   "source": [
    "# Parse Info with BeautifulSoup\n",
    "response1 = requests.get(url)\n",
    "soup = bs(response1.content, 'lxml')\n",
    "divs = soup.find_all('div', class_='fl-rich-text')"
   ]
  },
  {
   "cell_type": "code",
   "execution_count": 4,
   "metadata": {},
   "outputs": [
    {
     "name": "stdout",
     "output_type": "stream",
     "text": [
      "Pricing\n",
      "Annual Membership $99 \n",
      "72 HOUR ACCESS PASS $15\n",
      "24 HOUR ACCESS PASS $7\n",
      "Single Trip For $3.25\n",
      "OVERAGE FEES: $4 for every extra 30 minutes.\n"
     ]
    }
   ],
   "source": [
    "# Create loop to scrape pricing index\n",
    "for i in divs:\n",
    "    try:\n",
    "        print(i.find('h1').text)\n",
    "    except:\n",
    "        pass"
   ]
  },
  {
   "cell_type": "markdown",
   "metadata": {},
   "source": [
    "*Vancouver Price Index*"
   ]
  },
  {
   "cell_type": "code",
   "execution_count": 5,
   "metadata": {},
   "outputs": [],
   "source": [
    "# Get URL\n",
    "url = 'https://www.mobibikes.ca/en/offers-subscription'\n",
    "response2 = requests.get(url)"
   ]
  },
  {
   "cell_type": "code",
   "execution_count": 6,
   "metadata": {},
   "outputs": [],
   "source": [
    "# Parse Info with BeautifulSoup\n",
    "response2 = requests.get(url)\n",
    "soup = bs(response2.content, 'lxml')\n",
    "divs = soup.find_all('span', class_='prix')"
   ]
  },
  {
   "cell_type": "code",
   "execution_count": null,
   "metadata": {},
   "outputs": [],
   "source": [
    "divs"
   ]
  },
  {
   "cell_type": "code",
   "execution_count": null,
   "metadata": {},
   "outputs": [],
   "source": [
    "price_info2 = divs[0].text\n",
    "price_info2"
   ]
  },
  {
   "cell_type": "code",
   "execution_count": null,
   "metadata": {},
   "outputs": [],
   "source": [
    "# Create loop to scrape pricing index\n",
    "for i in divs:\n",
    "    try:\n",
    "        print(i.find(span).text)\n",
    "    except:\n",
    "        pass"
   ]
  },
  {
   "cell_type": "markdown",
   "metadata": {},
   "source": [
    "*Boston*"
   ]
  },
  {
   "cell_type": "code",
   "execution_count": 7,
   "metadata": {},
   "outputs": [],
   "source": [
    "# Get URL\n",
    "url = 'https://www.bluebikes.com/pricing'\n",
    "response3 = requests.get(url)"
   ]
  },
  {
   "cell_type": "code",
   "execution_count": 21,
   "metadata": {},
   "outputs": [],
   "source": [
    "# Parse Info with BeautifulSoup\n",
    "response3 = requests.get(url)\n",
    "soup = bs(response3.content, 'lxml')\n",
    "divs = soup.find_all('div', class_='spacing--one-and-half--above-xlarge')"
   ]
  },
  {
   "cell_type": "code",
   "execution_count": 22,
   "metadata": {},
   "outputs": [
    {
     "data": {
      "text/plain": [
       "[<div class=\"spacing--one-and-half--above-xlarge\">\n",
       " <div class=\"section__pricing-hero--spacediv\"></div>\n",
       " <h2 class=\"type-alpha--l text-color--white\">Monthly Membership</h2>\n",
       " <div class=\"spacing--half\">\n",
       " <p class=\"type-alpha--m text-color--white\">$20/month</p>\n",
       " <p class=\"type-alpha--s text-color--white\">Paid monthly, cancel any time</p>\n",
       " </div> <!-- /.spacing--half -->\n",
       " </div>,\n",
       " <div class=\"spacing--one-and-half--above-xlarge\">\n",
       " <div class=\"section__pricing-hero--spacediv\"></div>\n",
       " <h2 class=\"type-alpha--l text-color--white\">Annual Membership</h2>\n",
       " <div class=\"spacing--half\">\n",
       " <p class=\"type-alpha--m text-color--white\">$10/month</p>\n",
       " <p class=\"type-alpha--s text-color--white\">Paid monthly, 1 year commitment</p>\n",
       " </div> <!-- /.spacing--half -->\n",
       " </div>,\n",
       " <div class=\"spacing--one-and-half--above-xlarge\">\n",
       " <div class=\"section__pricing-hero--spacediv\"></div>\n",
       " <h2 class=\"type-alpha--l text-color--alpha\">Annual Membership</h2>\n",
       " <div class=\"spacing--half\">\n",
       " <p class=\"type-alpha--m text-color--alpha\">$8.25/month</p>\n",
       " <p class=\"type-alpha--s text-color--alpha\">Paid in full ($99)</p>\n",
       " </div> <!-- /.spacing--half -->\n",
       " </div>]"
      ]
     },
     "execution_count": 22,
     "metadata": {},
     "output_type": "execute_result"
    }
   ],
   "source": [
    "divs"
   ]
  },
  {
   "cell_type": "code",
   "execution_count": 24,
   "metadata": {},
   "outputs": [
    {
     "ename": "AttributeError",
     "evalue": "'function' object has no attribute 'all'",
     "output_type": "error",
     "traceback": [
      "\u001b[1;31m---------------------------------------------------------------------------\u001b[0m",
      "\u001b[1;31mAttributeError\u001b[0m                            Traceback (most recent call last)",
      "\u001b[1;32m<ipython-input-24-34c687622ad0>\u001b[0m in \u001b[0;36m<module>\u001b[1;34m\u001b[0m\n\u001b[1;32m----> 1\u001b[1;33m \u001b[0mmemebrship_type\u001b[0m \u001b[1;33m=\u001b[0m \u001b[0msoup\u001b[0m\u001b[1;33m.\u001b[0m\u001b[0mfind\u001b[0m\u001b[1;33m.\u001b[0m\u001b[0mall\u001b[0m\u001b[1;33m(\u001b[0m\u001b[1;34m'h2'\u001b[0m\u001b[1;33m,\u001b[0m \u001b[0mclass_\u001b[0m\u001b[1;33m=\u001b[0m\u001b[1;34m'type-alpha'\u001b[0m\u001b[1;33m)\u001b[0m\u001b[1;33m\u001b[0m\u001b[1;33m\u001b[0m\u001b[0m\n\u001b[0m",
      "\u001b[1;31mAttributeError\u001b[0m: 'function' object has no attribute 'all'"
     ]
    }
   ],
   "source": [
    "memebrship_type = soup.find.all('h2', class_='type-alpha')"
   ]
  },
  {
   "cell_type": "code",
   "execution_count": null,
   "metadata": {},
   "outputs": [],
   "source": [
    "pricing = soup.find.all('p', class_='type-alpha--m')"
   ]
  },
  {
   "cell_type": "code",
   "execution_count": 23,
   "metadata": {},
   "outputs": [],
   "source": [
    "# Create loop to scrape pricing index\n",
    "for i in divs:\n",
    "    try:\n",
    "        print(i.find(h2).text)\n",
    "    except:\n",
    "        pass"
   ]
  },
  {
   "cell_type": "markdown",
   "metadata": {},
   "source": [
    "*New York*"
   ]
  },
  {
   "cell_type": "code",
   "execution_count": null,
   "metadata": {},
   "outputs": [],
   "source": [
    "# Get URL\n",
    "url = 'https://www.citibikenyc.com/pricing'\n",
    "response4 = requests.get(url)"
   ]
  },
  {
   "cell_type": "code",
   "execution_count": null,
   "metadata": {},
   "outputs": [],
   "source": [
    "# Parse Info with BeautifulSoup\n",
    "response4 = requests.get(url)\n",
    "soup = bs(response4.content, 'lxml')\n",
    "divs = soup.find_all('div', class_='fl-rich-text')"
   ]
  },
  {
   "cell_type": "code",
   "execution_count": null,
   "metadata": {},
   "outputs": [],
   "source": [
    "# Create loop to scrape pricing index\n",
    "for i in divs:\n",
    "    try:\n",
    "        print(i.find('h2').text)\n",
    "    except:\n",
    "        pass"
   ]
  },
  {
   "cell_type": "markdown",
   "metadata": {},
   "source": [
    "<b>Dataframe for each City Price Index<b>"
   ]
  },
  {
   "cell_type": "code",
   "execution_count": null,
   "metadata": {},
   "outputs": [],
   "source": [
    "price_index = pd.DataFrame"
   ]
  }
 ],
 "metadata": {
  "kernelspec": {
   "display_name": "Python 3",
   "language": "python",
   "name": "python3"
  },
  "language_info": {
   "codemirror_mode": {
    "name": "ipython",
    "version": 3
   },
   "file_extension": ".py",
   "mimetype": "text/x-python",
   "name": "python",
   "nbconvert_exporter": "python",
   "pygments_lexer": "ipython3",
   "version": "3.8.3"
  }
 },
 "nbformat": 4,
 "nbformat_minor": 4
}
