{
 "cells": [
  {
   "cell_type": "markdown",
   "metadata": {},
   "source": [
    "<b>Initial Setup<b>"
   ]
  },
  {
   "cell_type": "code",
   "execution_count": 16,
   "metadata": {},
   "outputs": [],
   "source": [
    "# import dependencies\n",
    "import pandas as pd\n",
    "import requests\n",
    "from bs4 import BeautifulSoup as bs\n",
    "from webdriver_manager.chrome import ChromeDriverManager"
   ]
  },
  {
   "cell_type": "markdown",
   "metadata": {},
   "source": [
    "<b>Web Scrape From Each City Bike Share Program Site<b>"
   ]
  },
  {
   "cell_type": "markdown",
   "metadata": {},
   "source": [
    "# *Toronto Price Index*"
   ]
  },
  {
   "cell_type": "code",
   "execution_count": 17,
   "metadata": {},
   "outputs": [],
   "source": [
    "# Get URL\n",
    "url = 'https://bikesharetoronto.com/pricing/'\n",
    "response1 = requests.get(url)"
   ]
  },
  {
   "cell_type": "code",
   "execution_count": 18,
   "metadata": {},
   "outputs": [],
   "source": [
    "# Parse Info with BeautifulSoup\n",
    "response1 = requests.get(url)\n",
    "soup = bs(response1.content, 'lxml')\n",
    "divs = soup.find_all('div', class_='fl-rich-text')\n"
   ]
  },
  {
   "cell_type": "code",
   "execution_count": 19,
   "metadata": {},
   "outputs": [
    {
     "name": "stdout",
     "output_type": "stream",
     "text": [
      "Pricing\n",
      "Annual Membership $99 \n",
      "72 HOUR ACCESS PASS $15\n",
      "24 HOUR ACCESS PASS $7\n",
      "Single Trip For $3.25\n",
      "OVERAGE FEES: $4 for every extra 30 minutes.\n"
     ]
    },
    {
     "data": {
      "text/plain": [
       "['Pricing',\n",
       " 'Annual Membership $99\\xa0',\n",
       " '72 HOUR ACCESS PASS $15',\n",
       " '24 HOUR ACCESS PASS $7',\n",
       " 'Single Trip For $3.25',\n",
       " 'OVERAGE FEES: $4 for every extra 30 minutes.']"
      ]
     },
     "execution_count": 19,
     "metadata": {},
     "output_type": "execute_result"
    }
   ],
   "source": [
    "# Create loop to scrape pricing index and memebership type\n",
    "ls= []\n",
    "for i in divs:\n",
    "    try:\n",
    "        print(i.find('h1').text)\n",
    "        ls.append(i.find('h1').text)\n",
    "        \n",
    "    except:\n",
    "        pass\n",
    "ls"
   ]
  },
  {
   "cell_type": "code",
   "execution_count": 60,
   "metadata": {},
   "outputs": [],
   "source": [
    "Toronto =Toronto_df.drop([0])\n",
    "Toronto =Toronto_df.drop([5])"
   ]
  },
  {
   "cell_type": "code",
   "execution_count": 61,
   "metadata": {},
   "outputs": [],
   "source": [
    "price =Toronto[0].str.rsplit(n=1)"
   ]
  },
  {
   "cell_type": "code",
   "execution_count": 62,
   "metadata": {},
   "outputs": [
    {
     "data": {
      "text/plain": [
       "0                     [Pricing]\n",
       "1      [Annual Membership, $99]\n",
       "2    [72 HOUR ACCESS PASS, $15]\n",
       "3     [24 HOUR ACCESS PASS, $7]\n",
       "4      [Single Trip For, $3.25]\n",
       "Name: 0, dtype: object"
      ]
     },
     "execution_count": 62,
     "metadata": {},
     "output_type": "execute_result"
    }
   ],
   "source": [
    "price"
   ]
  },
  {
   "cell_type": "code",
   "execution_count": 56,
   "metadata": {},
   "outputs": [
    {
     "data": {
      "text/plain": [
       "'72 HOUR ACCESS PASS'"
      ]
     },
     "execution_count": 56,
     "metadata": {},
     "output_type": "execute_result"
    }
   ],
   "source": [
    "price[2][0]"
   ]
  },
  {
   "cell_type": "code",
   "execution_count": 64,
   "metadata": {},
   "outputs": [
    {
     "data": {
      "text/plain": [
       "'$15'"
      ]
     },
     "execution_count": 64,
     "metadata": {},
     "output_type": "execute_result"
    }
   ],
   "source": [
    "price[2][1]"
   ]
  },
  {
   "cell_type": "markdown",
   "metadata": {},
   "source": [
    "# *Vancouver Price Index*"
   ]
  },
  {
   "cell_type": "code",
   "execution_count": null,
   "metadata": {},
   "outputs": [],
   "source": [
    "# Get URL\n",
    "url = 'https://www.mobibikes.ca/en/offers-subscription'\n",
    "response2 = requests.get(url)"
   ]
  },
  {
   "cell_type": "code",
   "execution_count": null,
   "metadata": {},
   "outputs": [],
   "source": [
    "# Parse Info with BeautifulSoup\n",
    "response2 = requests.get(url)\n",
    "soup = bs(response2.content, 'lxml')\n",
    "span1 = soup.find_all('span', class_='prix')"
   ]
  },
  {
   "cell_type": "code",
   "execution_count": null,
   "metadata": {},
   "outputs": [],
   "source": [
    "span2 = soup.find_all('div', class_='views-field views-field-title')"
   ]
  },
  {
   "cell_type": "code",
   "execution_count": null,
   "metadata": {},
   "outputs": [],
   "source": [
    "# Create loop to scrape pricing index for membership type\n",
    "for i in span1:\n",
    "    try:\n",
    "        print(i.text)\n",
    "    except:\n",
    "        pass"
   ]
  },
  {
   "cell_type": "code",
   "execution_count": null,
   "metadata": {},
   "outputs": [],
   "source": [
    "# Create loop to scrape pricing index\n",
    "ls= []\n",
    "\n",
    "for i in span2:\n",
    "    try:\n",
    "        print(i.text)\n",
    "        ls.append(i.text)\n",
    "    except:\n",
    "        pass\n",
    "    \n",
    "ls"
   ]
  },
  {
   "cell_type": "code",
   "execution_count": null,
   "metadata": {},
   "outputs": [],
   "source": [
    "#Creating Vancouver Dataframe\n",
    "Vancouver_df = pd.DataFrame(ls)\n",
    "Vancouver_df "
   ]
  },
  {
   "cell_type": "markdown",
   "metadata": {},
   "source": [
    "# *Boston Price Index*"
   ]
  },
  {
   "cell_type": "code",
   "execution_count": null,
   "metadata": {},
   "outputs": [],
   "source": [
    "# Get URL\n",
    "url = 'https://www.bluebikes.com/pricing'\n",
    "response3 = requests.get(url)"
   ]
  },
  {
   "cell_type": "code",
   "execution_count": null,
   "metadata": {},
   "outputs": [],
   "source": [
    "# Parse Info with BeautifulSoup\n",
    "response3 = requests.get(url)\n",
    "soup = bs(response3.content, 'lxml')\n",
    "divs = soup.find_all('div', class_='spacing--one-and-half--above-xlarge')"
   ]
  },
  {
   "cell_type": "code",
   "execution_count": null,
   "metadata": {},
   "outputs": [],
   "source": [
    "membership_type = soup.find_all('h2')\n",
    "membership_type[1].text"
   ]
  },
  {
   "cell_type": "code",
   "execution_count": null,
   "metadata": {},
   "outputs": [],
   "source": [
    "pricing = soup.find_all('p', class_='type-alpha--m')\n",
    "pricing[1].text"
   ]
  },
  {
   "cell_type": "code",
   "execution_count": null,
   "metadata": {},
   "outputs": [],
   "source": [
    "# Create loop to scrape pricing index for membership type\n",
    "for i in membership_type:\n",
    "    try:\n",
    "        print(i.text)\n",
    "    except:\n",
    "        pass\n"
   ]
  },
  {
   "cell_type": "code",
   "execution_count": null,
   "metadata": {},
   "outputs": [],
   "source": [
    "# Create loop to scrape pricing index\n",
    "ls= []\n",
    "for i in pricing:\n",
    "    try:\n",
    "        print(i.text)\n",
    "        ls.append(i.text)\n",
    "    except:\n",
    "        pass\n",
    "ls"
   ]
  },
  {
   "cell_type": "code",
   "execution_count": null,
   "metadata": {},
   "outputs": [],
   "source": [
    "#Creating Boston Dataframe\n",
    "Boston_df = pd.DataFrame(ls)\n",
    "Boston_df "
   ]
  },
  {
   "cell_type": "markdown",
   "metadata": {},
   "source": [
    "# *New York Price Index*"
   ]
  },
  {
   "cell_type": "code",
   "execution_count": null,
   "metadata": {},
   "outputs": [],
   "source": [
    "# Get URL\n",
    "url = 'https://www.citibikenyc.com/pricing'\n",
    "response4 = requests.get(url)"
   ]
  },
  {
   "cell_type": "code",
   "execution_count": null,
   "metadata": {},
   "outputs": [],
   "source": [
    "# Parse Info with BeautifulSoup\n",
    "response4 = requests.get(url)\n",
    "soup = bs(response4.content, 'lxml')\n",
    "divs = soup.find_all('div', class_='spacing--one-and-half--above-xlarge')"
   ]
  },
  {
   "cell_type": "code",
   "execution_count": null,
   "metadata": {},
   "outputs": [],
   "source": [
    "membership_type = soup.find_all('h2')\n",
    "membership_type[1].text"
   ]
  },
  {
   "cell_type": "code",
   "execution_count": null,
   "metadata": {},
   "outputs": [],
   "source": [
    "pricing = soup.find_all('p', class_='type-alpha--m text-color--white')\n",
    "pricing[1].text"
   ]
  },
  {
   "cell_type": "code",
   "execution_count": null,
   "metadata": {},
   "outputs": [],
   "source": [
    "# Create loop to scrape pricing index for membership type\n",
    "for i in membership_type:\n",
    "    try:\n",
    "        print(i.text)\n",
    "    except:\n",
    "        pass"
   ]
  },
  {
   "cell_type": "code",
   "execution_count": null,
   "metadata": {},
   "outputs": [],
   "source": [
    "# Create loop to scrape pricing index\n",
    "ls=[]\n",
    "for i in pricing:\n",
    "    try:\n",
    "        print(i.text)\n",
    "        ls.append(i.text)\n",
    "    except:\n",
    "        pass\n",
    "ls"
   ]
  },
  {
   "cell_type": "code",
   "execution_count": null,
   "metadata": {},
   "outputs": [],
   "source": [
    "#Creating Boston Dataframe\n",
    "NewYork_df = pd.DataFrame(ls)\n",
    "NewYork_df "
   ]
  },
  {
   "cell_type": "markdown",
   "metadata": {},
   "source": [
    "<b>Dataframe for each City Price Index<b>"
   ]
  },
  {
   "cell_type": "code",
   "execution_count": null,
   "metadata": {},
   "outputs": [],
   "source": [
    "# Create a DF of Toronto, Vancouver, Boston, & New York\n",
    "price_index = pd.DataFrame({})\n",
    "price_index"
   ]
  },
  {
   "cell_type": "code",
   "execution_count": null,
   "metadata": {},
   "outputs": [],
   "source": []
  }
 ],
 "metadata": {
  "kernelspec": {
   "display_name": "Python 3",
   "language": "python",
   "name": "python3"
  },
  "language_info": {
   "codemirror_mode": {
    "name": "ipython",
    "version": 3
   },
   "file_extension": ".py",
   "mimetype": "text/x-python",
   "name": "python",
   "nbconvert_exporter": "python",
   "pygments_lexer": "ipython3",
   "version": "3.8.3"
  }
 },
 "nbformat": 4,
 "nbformat_minor": 4
}
