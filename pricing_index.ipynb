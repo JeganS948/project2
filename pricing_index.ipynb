{
 "cells": [
  {
   "cell_type": "markdown",
   "metadata": {},
   "source": [
    "<b>Initial Setup<b>"
   ]
  },
  {
   "cell_type": "code",
   "execution_count": 1,
   "metadata": {},
   "outputs": [],
   "source": [
    "# import dependencies\n",
    "import pandas as pd\n",
    "import requests\n",
    "from bs4 import BeautifulSoup as bs\n",
    "from webdriver_manager.chrome import ChromeDriverManager"
   ]
  },
  {
   "cell_type": "markdown",
   "metadata": {},
   "source": [
    "<b>Web Scrape From Each City Bike Share Program Site<b>"
   ]
  },
  {
   "cell_type": "markdown",
   "metadata": {},
   "source": [
    "# *Toronto Price Index*"
   ]
  },
  {
   "cell_type": "code",
   "execution_count": 2,
   "metadata": {},
   "outputs": [],
   "source": [
    "# Get URL\n",
    "url = 'https://bikesharetoronto.com/pricing/'\n",
    "response1 = requests.get(url)"
   ]
  },
  {
   "cell_type": "code",
   "execution_count": 3,
   "metadata": {},
   "outputs": [],
   "source": [
    "# Parse Info with BeautifulSoup\n",
    "response1 = requests.get(url)\n",
    "soup = bs(response1.content, 'lxml')\n",
    "divs = soup.find_all('div', class_='fl-rich-text')\n"
   ]
  },
  {
   "cell_type": "code",
   "execution_count": 4,
   "metadata": {},
   "outputs": [
    {
     "name": "stdout",
     "output_type": "stream",
     "text": [
      "Pricing\n",
      "Annual Membership $99 \n",
      "72 HOUR ACCESS PASS $15\n",
      "24 HOUR ACCESS PASS $7\n",
      "Single Trip For $3.25\n",
      "OVERAGE FEES: $4 for every extra 30 minutes.\n"
     ]
    },
    {
     "data": {
      "text/plain": [
       "['Pricing',\n",
       " 'Annual Membership $99\\xa0',\n",
       " '72 HOUR ACCESS PASS $15',\n",
       " '24 HOUR ACCESS PASS $7',\n",
       " 'Single Trip For $3.25',\n",
       " 'OVERAGE FEES: $4 for every extra 30 minutes.']"
      ]
     },
     "execution_count": 4,
     "metadata": {},
     "output_type": "execute_result"
    }
   ],
   "source": [
    "# Create loop to scrape pricing index and memebership type\n",
    "ls= []\n",
    "for i in divs:\n",
    "    try:\n",
    "        print(i.find('h1').text)\n",
    "        ls.append(i.find('h1').text)\n",
    "        \n",
    "    except:\n",
    "        pass\n",
    "ls"
   ]
  },
  {
   "cell_type": "code",
   "execution_count": 5,
   "metadata": {},
   "outputs": [],
   "source": [
    "#Creating Toronto Dataframe\n",
    "Toronto_df = pd.DataFrame(ls)"
   ]
  },
  {
   "cell_type": "code",
   "execution_count": 6,
   "metadata": {},
   "outputs": [],
   "source": [
    "Toronto =Toronto_df.drop([0])"
   ]
  },
  {
   "cell_type": "code",
   "execution_count": 7,
   "metadata": {},
   "outputs": [],
   "source": [
    "# Extract amount\n",
    "Toronto['Price'] = Toronto[0].str.extract('(\\$[0-9,.]+)')\n",
    "Toronto[0] = Toronto[0].str.replace('(\\$[0-9,.]+)', '')\n",
    "Toronto = Toronto.rename(columns={0:'plan', 'Price':'amount'})\n"
   ]
  },
  {
   "cell_type": "code",
   "execution_count": 8,
   "metadata": {},
   "outputs": [],
   "source": [
    "#Adding Columns\n",
    "Toronto = Toronto.assign(location_id=1)\n",
    "x =[\"Annual Member\",\"Casual Member\",\"Casual Member\",\"Casual Member\",\"Casual Member\"]\n",
    "Toronto[\"member_type\"]=x"
   ]
  },
  {
   "cell_type": "code",
   "execution_count": 9,
   "metadata": {},
   "outputs": [
    {
     "data": {
      "text/html": [
       "<div>\n",
       "<style scoped>\n",
       "    .dataframe tbody tr th:only-of-type {\n",
       "        vertical-align: middle;\n",
       "    }\n",
       "\n",
       "    .dataframe tbody tr th {\n",
       "        vertical-align: top;\n",
       "    }\n",
       "\n",
       "    .dataframe thead th {\n",
       "        text-align: right;\n",
       "    }\n",
       "</style>\n",
       "<table border=\"1\" class=\"dataframe\">\n",
       "  <thead>\n",
       "    <tr style=\"text-align: right;\">\n",
       "      <th></th>\n",
       "      <th>location_id</th>\n",
       "      <th>member_type</th>\n",
       "      <th>plan</th>\n",
       "      <th>amount</th>\n",
       "    </tr>\n",
       "  </thead>\n",
       "  <tbody>\n",
       "    <tr>\n",
       "      <th>1</th>\n",
       "      <td>1</td>\n",
       "      <td>Annual Member</td>\n",
       "      <td>Annual Membership</td>\n",
       "      <td>$99</td>\n",
       "    </tr>\n",
       "    <tr>\n",
       "      <th>2</th>\n",
       "      <td>1</td>\n",
       "      <td>Casual Member</td>\n",
       "      <td>72 HOUR ACCESS PASS</td>\n",
       "      <td>$15</td>\n",
       "    </tr>\n",
       "    <tr>\n",
       "      <th>3</th>\n",
       "      <td>1</td>\n",
       "      <td>Casual Member</td>\n",
       "      <td>24 HOUR ACCESS PASS</td>\n",
       "      <td>$7</td>\n",
       "    </tr>\n",
       "    <tr>\n",
       "      <th>4</th>\n",
       "      <td>1</td>\n",
       "      <td>Casual Member</td>\n",
       "      <td>Single Trip For</td>\n",
       "      <td>$3.25</td>\n",
       "    </tr>\n",
       "    <tr>\n",
       "      <th>5</th>\n",
       "      <td>1</td>\n",
       "      <td>Casual Member</td>\n",
       "      <td>OVERAGE FEES:  for every extra 30 minutes.</td>\n",
       "      <td>$4</td>\n",
       "    </tr>\n",
       "  </tbody>\n",
       "</table>\n",
       "</div>"
      ],
      "text/plain": [
       "   location_id    member_type                                        plan  \\\n",
       "1            1  Annual Member                         Annual Membership     \n",
       "2            1  Casual Member                        72 HOUR ACCESS PASS    \n",
       "3            1  Casual Member                        24 HOUR ACCESS PASS    \n",
       "4            1  Casual Member                            Single Trip For    \n",
       "5            1  Casual Member  OVERAGE FEES:  for every extra 30 minutes.   \n",
       "\n",
       "  amount  \n",
       "1    $99  \n",
       "2    $15  \n",
       "3     $7  \n",
       "4  $3.25  \n",
       "5     $4  "
      ]
     },
     "execution_count": 9,
     "metadata": {},
     "output_type": "execute_result"
    }
   ],
   "source": [
    "# Rearranging columns\n",
    "Toronto= Toronto[[\"location_id\",\"member_type\",\"plan\",\"amount\"]]\n",
    "Toronto"
   ]
  },
  {
   "cell_type": "markdown",
   "metadata": {},
   "source": [
    "# *Vancouver Price Index*"
   ]
  },
  {
   "cell_type": "code",
   "execution_count": 75,
   "metadata": {},
   "outputs": [],
   "source": [
    "# Get URL\n",
    "url = 'https://www.mobibikes.ca/en/offers-subscription'\n",
    "response2 = requests.get(url)"
   ]
  },
  {
   "cell_type": "code",
   "execution_count": 76,
   "metadata": {},
   "outputs": [],
   "source": [
    "# Parse Info with BeautifulSoup\n",
    "response2 = requests.get(url)\n",
    "soup = bs(response2.content, 'lxml')\n",
    "span1 = soup.find_all('span', class_='prix')"
   ]
  },
  {
   "cell_type": "code",
   "execution_count": 77,
   "metadata": {},
   "outputs": [],
   "source": [
    "span2 = soup.find_all('div', class_='views-field views-field-title')"
   ]
  },
  {
   "cell_type": "code",
   "execution_count": 78,
   "metadata": {},
   "outputs": [
    {
     "name": "stdout",
     "output_type": "stream",
     "text": [
      "$12\n",
      "$25\n",
      "$129\n",
      "$159\n",
      "$\n",
      "$\n"
     ]
    },
    {
     "data": {
      "text/plain": [
       "['$12', '$25', '$129', '$159', '$', '$']"
      ]
     },
     "execution_count": 78,
     "metadata": {},
     "output_type": "execute_result"
    }
   ],
   "source": [
    "# Create loop to scrape pricing index for membership type\n",
    "price =[]\n",
    "for i in span1:\n",
    "    try:\n",
    "        print(i.text)\n",
    "        price.append(i.text)\n",
    "    \n",
    "    except:\n",
    "        pass\n",
    "price"
   ]
  },
  {
   "cell_type": "code",
   "execution_count": 79,
   "metadata": {},
   "outputs": [
    {
     "name": "stdout",
     "output_type": "stream",
     "text": [
      " 24 Hour Pass \n",
      " 30 Day Pass \n",
      " 365 Day Pass Standard \n",
      " 365 Day Pass Plus \n",
      " 365 Day Corporate Pass Standard \n",
      " 365 Day Corporate Pass Plus \n"
     ]
    },
    {
     "data": {
      "text/plain": [
       "[' 24 Hour Pass ',\n",
       " ' 30 Day Pass ',\n",
       " ' 365 Day Pass Standard ',\n",
       " ' 365 Day Pass Plus ',\n",
       " ' 365 Day Corporate Pass Standard ',\n",
       " ' 365 Day Corporate Pass Plus ']"
      ]
     },
     "execution_count": 79,
     "metadata": {},
     "output_type": "execute_result"
    }
   ],
   "source": [
    "# Create loop to scrape pricing index\n",
    "ls= []\n",
    "\n",
    "for i in span2:\n",
    "    try:\n",
    "        print(i.text)\n",
    "        ls.append(i.text)\n",
    "    except:\n",
    "        pass\n",
    "    \n",
    "ls"
   ]
  },
  {
   "cell_type": "code",
   "execution_count": 80,
   "metadata": {},
   "outputs": [],
   "source": [
    "#Creating Vancouver Dataframe\n",
    "Vancouver_df = pd.DataFrame({\"member_type\":ls,\"plan\":ls,\"amount\":price})\n",
    "Vancouver_df = Vancouver_df.assign(location_id=2)"
   ]
  },
  {
   "cell_type": "code",
   "execution_count": 81,
   "metadata": {},
   "outputs": [
    {
     "data": {
      "text/html": [
       "<div>\n",
       "<style scoped>\n",
       "    .dataframe tbody tr th:only-of-type {\n",
       "        vertical-align: middle;\n",
       "    }\n",
       "\n",
       "    .dataframe tbody tr th {\n",
       "        vertical-align: top;\n",
       "    }\n",
       "\n",
       "    .dataframe thead th {\n",
       "        text-align: right;\n",
       "    }\n",
       "</style>\n",
       "<table border=\"1\" class=\"dataframe\">\n",
       "  <thead>\n",
       "    <tr style=\"text-align: right;\">\n",
       "      <th></th>\n",
       "      <th>location_id</th>\n",
       "      <th>member_type</th>\n",
       "      <th>plan</th>\n",
       "      <th>amount</th>\n",
       "    </tr>\n",
       "  </thead>\n",
       "  <tbody>\n",
       "    <tr>\n",
       "      <th>0</th>\n",
       "      <td>2</td>\n",
       "      <td>24 Hour Pass</td>\n",
       "      <td>24 Hour Pass</td>\n",
       "      <td>$12</td>\n",
       "    </tr>\n",
       "    <tr>\n",
       "      <th>1</th>\n",
       "      <td>2</td>\n",
       "      <td>30 Day Pass</td>\n",
       "      <td>30 Day Pass</td>\n",
       "      <td>$25</td>\n",
       "    </tr>\n",
       "    <tr>\n",
       "      <th>2</th>\n",
       "      <td>2</td>\n",
       "      <td>365 Day Pass Standard</td>\n",
       "      <td>365 Day Pass Standard</td>\n",
       "      <td>$129</td>\n",
       "    </tr>\n",
       "    <tr>\n",
       "      <th>3</th>\n",
       "      <td>2</td>\n",
       "      <td>365 Day Pass Plus</td>\n",
       "      <td>365 Day Pass Plus</td>\n",
       "      <td>$159</td>\n",
       "    </tr>\n",
       "    <tr>\n",
       "      <th>4</th>\n",
       "      <td>2</td>\n",
       "      <td>365 Day Corporate Pass Standard</td>\n",
       "      <td>365 Day Corporate Pass Standard</td>\n",
       "      <td>$</td>\n",
       "    </tr>\n",
       "    <tr>\n",
       "      <th>5</th>\n",
       "      <td>2</td>\n",
       "      <td>365 Day Corporate Pass Plus</td>\n",
       "      <td>365 Day Corporate Pass Plus</td>\n",
       "      <td>$</td>\n",
       "    </tr>\n",
       "  </tbody>\n",
       "</table>\n",
       "</div>"
      ],
      "text/plain": [
       "   location_id                        member_type  \\\n",
       "0            2                      24 Hour Pass    \n",
       "1            2                       30 Day Pass    \n",
       "2            2             365 Day Pass Standard    \n",
       "3            2                 365 Day Pass Plus    \n",
       "4            2   365 Day Corporate Pass Standard    \n",
       "5            2       365 Day Corporate Pass Plus    \n",
       "\n",
       "                                plan amount  \n",
       "0                      24 Hour Pass     $12  \n",
       "1                       30 Day Pass     $25  \n",
       "2             365 Day Pass Standard    $129  \n",
       "3                 365 Day Pass Plus    $159  \n",
       "4   365 Day Corporate Pass Standard       $  \n",
       "5       365 Day Corporate Pass Plus       $  "
      ]
     },
     "execution_count": 81,
     "metadata": {},
     "output_type": "execute_result"
    }
   ],
   "source": [
    "# Rearranging columns\n",
    "Vancouver_df = Vancouver_df [[\"location_id\",\"member_type\",\"plan\",\"amount\"]]\n",
    "Vancouver_df "
   ]
  },
  {
   "cell_type": "code",
   "execution_count": null,
   "metadata": {},
   "outputs": [],
   "source": [
    "\n"
   ]
  },
  {
   "cell_type": "markdown",
   "metadata": {},
   "source": [
    "# *Boston Price Index*"
   ]
  },
  {
   "cell_type": "code",
   "execution_count": 17,
   "metadata": {},
   "outputs": [],
   "source": [
    "# Get URL\n",
    "url = 'https://www.bluebikes.com/pricing'\n",
    "response3 = requests.get(url)"
   ]
  },
  {
   "cell_type": "code",
   "execution_count": 18,
   "metadata": {},
   "outputs": [],
   "source": [
    "# Parse Info with BeautifulSoup\n",
    "response3 = requests.get(url)\n",
    "soup = bs(response3.content, 'lxml')\n",
    "divs = soup.find_all('div', class_='spacing--one-and-half--above-xlarge')"
   ]
  },
  {
   "cell_type": "code",
   "execution_count": 19,
   "metadata": {},
   "outputs": [
    {
     "data": {
      "text/plain": [
       "'Annual Membership'"
      ]
     },
     "execution_count": 19,
     "metadata": {},
     "output_type": "execute_result"
    }
   ],
   "source": [
    "membership_type = soup.find_all('h2')\n",
    "membership_type[1].text"
   ]
  },
  {
   "cell_type": "code",
   "execution_count": 20,
   "metadata": {},
   "outputs": [
    {
     "data": {
      "text/plain": [
       "'$10/month'"
      ]
     },
     "execution_count": 20,
     "metadata": {},
     "output_type": "execute_result"
    }
   ],
   "source": [
    "pricing = soup.find_all('p', class_='type-alpha--m')\n",
    "pricing[1].text"
   ]
  },
  {
   "cell_type": "code",
   "execution_count": 21,
   "metadata": {},
   "outputs": [
    {
     "name": "stdout",
     "output_type": "stream",
     "text": [
      "Monthly Membership\n",
      "Annual Membership\n",
      "Annual Membership\n",
      "More Options\n"
     ]
    },
    {
     "data": {
      "text/plain": [
       "['Monthly Membership',\n",
       " 'Annual Membership',\n",
       " 'Annual Membership',\n",
       " 'More Options']"
      ]
     },
     "execution_count": 21,
     "metadata": {},
     "output_type": "execute_result"
    }
   ],
   "source": [
    "# Create loop to scrape pricing index for membership type\n",
    "bm=[]\n",
    "\n",
    "for i in membership_type:\n",
    "    try:\n",
    "        print(i.text)\n",
    "        bm.append(i.text)\n",
    "    except:\n",
    "        pass\n",
    "    \n",
    "bm"
   ]
  },
  {
   "cell_type": "code",
   "execution_count": 35,
   "metadata": {},
   "outputs": [
    {
     "name": "stdout",
     "output_type": "stream",
     "text": [
      "$20/month\n",
      "$10/month\n",
      "$8.25/month\n"
     ]
    },
    {
     "data": {
      "text/plain": [
       "['$20/month', '$10/month', '$8.25/month']"
      ]
     },
     "execution_count": 35,
     "metadata": {},
     "output_type": "execute_result"
    }
   ],
   "source": [
    "# Create loop to scrape pricing index\n",
    "bw= []\n",
    "\n",
    "for i in pricing:\n",
    "    try:\n",
    "        print(i.text)\n",
    "        bw.append(i.text)\n",
    "    except:\n",
    "        pass\n",
    "    \n",
    "bw"
   ]
  },
  {
   "cell_type": "code",
   "execution_count": 40,
   "metadata": {},
   "outputs": [
    {
     "data": {
      "text/html": [
       "<div>\n",
       "<style scoped>\n",
       "    .dataframe tbody tr th:only-of-type {\n",
       "        vertical-align: middle;\n",
       "    }\n",
       "\n",
       "    .dataframe tbody tr th {\n",
       "        vertical-align: top;\n",
       "    }\n",
       "\n",
       "    .dataframe thead th {\n",
       "        text-align: right;\n",
       "    }\n",
       "</style>\n",
       "<table border=\"1\" class=\"dataframe\">\n",
       "  <thead>\n",
       "    <tr style=\"text-align: right;\">\n",
       "      <th></th>\n",
       "      <th>plan</th>\n",
       "      <th>location_id</th>\n",
       "    </tr>\n",
       "  </thead>\n",
       "  <tbody>\n",
       "    <tr>\n",
       "      <th>0</th>\n",
       "      <td>Monthly Membership</td>\n",
       "      <td>3</td>\n",
       "    </tr>\n",
       "    <tr>\n",
       "      <th>1</th>\n",
       "      <td>Annual Membership</td>\n",
       "      <td>3</td>\n",
       "    </tr>\n",
       "    <tr>\n",
       "      <th>2</th>\n",
       "      <td>Annual Membership</td>\n",
       "      <td>3</td>\n",
       "    </tr>\n",
       "    <tr>\n",
       "      <th>3</th>\n",
       "      <td>More Options</td>\n",
       "      <td>3</td>\n",
       "    </tr>\n",
       "  </tbody>\n",
       "</table>\n",
       "</div>"
      ],
      "text/plain": [
       "                 plan  location_id\n",
       "0  Monthly Membership            3\n",
       "1   Annual Membership            3\n",
       "2   Annual Membership            3\n",
       "3        More Options            3"
      ]
     },
     "execution_count": 40,
     "metadata": {},
     "output_type": "execute_result"
    }
   ],
   "source": [
    "#Creating Boston Dataframe\n",
    "\n",
    "# y =[\"Customer\",\"Subscriber\",\"Subscriber,\"Subscriber\"]\n",
    "# Boston_df[\"member_type\"]=y\n",
    "# Boston_df = pd.DataFrame({\"member_type\",\"plan\":bm,\"amount\":bw})\n",
    "Boston_df = pd.DataFrame({\"plan\":bm})\n",
    "Boston_df = Boston_df.assign(location_id=3)\n",
    "Boston_df"
   ]
  },
  {
   "cell_type": "markdown",
   "metadata": {},
   "source": [
    "# *New York Price Index*"
   ]
  },
  {
   "cell_type": "code",
   "execution_count": 83,
   "metadata": {},
   "outputs": [],
   "source": [
    "# Get URL\n",
    "url = 'https://www.citibikenyc.com/pricing'\n",
    "response4 = requests.get(url)"
   ]
  },
  {
   "cell_type": "code",
   "execution_count": 84,
   "metadata": {},
   "outputs": [],
   "source": [
    "# Parse Info with BeautifulSoup\n",
    "response4 = requests.get(url)\n",
    "soup = bs(response4.content, 'lxml')\n",
    "divs = soup.find_all('div', class_='spacing--one-and-half--above-xlarge')"
   ]
  },
  {
   "cell_type": "code",
   "execution_count": 85,
   "metadata": {},
   "outputs": [
    {
     "data": {
      "text/plain": [
       "'Day Pass'"
      ]
     },
     "execution_count": 85,
     "metadata": {},
     "output_type": "execute_result"
    }
   ],
   "source": [
    "membership_type = soup.find_all('h2')\n",
    "membership_type[1].text"
   ]
  },
  {
   "cell_type": "code",
   "execution_count": 86,
   "metadata": {},
   "outputs": [
    {
     "data": {
      "text/plain": [
       "'$15/day'"
      ]
     },
     "execution_count": 86,
     "metadata": {},
     "output_type": "execute_result"
    }
   ],
   "source": [
    "pricing = soup.find_all('p', class_='type-alpha--m text-color--white')\n",
    "pricing[1].text"
   ]
  },
  {
   "cell_type": "code",
   "execution_count": 87,
   "metadata": {},
   "outputs": [
    {
     "name": "stdout",
     "output_type": "stream",
     "text": [
      "Single Ride\n",
      "Day Pass\n",
      "Annual Membership\n",
      "More Options\n"
     ]
    },
    {
     "data": {
      "text/plain": [
       "['Single Ride', 'Day Pass', 'Annual Membership', 'More Options']"
      ]
     },
     "execution_count": 87,
     "metadata": {},
     "output_type": "execute_result"
    }
   ],
   "source": [
    "# Create loop to scrape pricing index for membership type\n",
    "nn=[]\n",
    "\n",
    "for i in membership_type:\n",
    "    try:\n",
    "        print(i.text)\n",
    "        nn.append(i.text)\n",
    "    except:\n",
    "        pass\n",
    "nn"
   ]
  },
  {
   "cell_type": "code",
   "execution_count": 88,
   "metadata": {},
   "outputs": [
    {
     "name": "stdout",
     "output_type": "stream",
     "text": [
      "$3/trip\n",
      "$15/day\n"
     ]
    },
    {
     "data": {
      "text/plain": [
       "['$3/trip', '$15/day']"
      ]
     },
     "execution_count": 88,
     "metadata": {},
     "output_type": "execute_result"
    }
   ],
   "source": [
    "# Create loop to scrape pricing index\n",
    "ns=[]\n",
    "for i in pricing:\n",
    "    try:\n",
    "        print(i.text)\n",
    "        ns.append(i.text)\n",
    "    except:\n",
    "        pass\n",
    "ns"
   ]
  },
  {
   "cell_type": "code",
   "execution_count": 89,
   "metadata": {},
   "outputs": [
    {
     "data": {
      "text/html": [
       "<div>\n",
       "<style scoped>\n",
       "    .dataframe tbody tr th:only-of-type {\n",
       "        vertical-align: middle;\n",
       "    }\n",
       "\n",
       "    .dataframe tbody tr th {\n",
       "        vertical-align: top;\n",
       "    }\n",
       "\n",
       "    .dataframe thead th {\n",
       "        text-align: right;\n",
       "    }\n",
       "</style>\n",
       "<table border=\"1\" class=\"dataframe\">\n",
       "  <thead>\n",
       "    <tr style=\"text-align: right;\">\n",
       "      <th></th>\n",
       "      <th>plan</th>\n",
       "      <th>location_id</th>\n",
       "    </tr>\n",
       "  </thead>\n",
       "  <tbody>\n",
       "    <tr>\n",
       "      <th>0</th>\n",
       "      <td>Single Ride</td>\n",
       "      <td>4</td>\n",
       "    </tr>\n",
       "    <tr>\n",
       "      <th>1</th>\n",
       "      <td>Day Pass</td>\n",
       "      <td>4</td>\n",
       "    </tr>\n",
       "    <tr>\n",
       "      <th>2</th>\n",
       "      <td>Annual Membership</td>\n",
       "      <td>4</td>\n",
       "    </tr>\n",
       "    <tr>\n",
       "      <th>3</th>\n",
       "      <td>More Options</td>\n",
       "      <td>4</td>\n",
       "    </tr>\n",
       "  </tbody>\n",
       "</table>\n",
       "</div>"
      ],
      "text/plain": [
       "                plan  location_id\n",
       "0        Single Ride            4\n",
       "1           Day Pass            4\n",
       "2  Annual Membership            4\n",
       "3       More Options            4"
      ]
     },
     "execution_count": 89,
     "metadata": {},
     "output_type": "execute_result"
    }
   ],
   "source": [
    "#Creating New_york Dataframe\n",
    "\n",
    "# z =[\"Customer\",\"Customer\",\"Subscriber,\"Customer\"]\n",
    "# Newyork_df[\"member_type\"]=z\n",
    "# NewYork_df = pd.DataFrame({\"member_type\",\"plan\":nn,\"amount\":ns})\n",
    "\n",
    "Newyork_df = pd.DataFrame({\"plan\":nn})\n",
    "Newyork_df = Newyork_df.assign(location_id=4)\n",
    "Newyork_df"
   ]
  },
  {
   "cell_type": "markdown",
   "metadata": {},
   "source": [
    "<b>Dataframe for each City Price Index<b>"
   ]
  },
  {
   "cell_type": "code",
   "execution_count": 91,
   "metadata": {},
   "outputs": [
    {
     "data": {
      "text/html": [
       "<div>\n",
       "<style scoped>\n",
       "    .dataframe tbody tr th:only-of-type {\n",
       "        vertical-align: middle;\n",
       "    }\n",
       "\n",
       "    .dataframe tbody tr th {\n",
       "        vertical-align: top;\n",
       "    }\n",
       "\n",
       "    .dataframe thead th {\n",
       "        text-align: right;\n",
       "    }\n",
       "</style>\n",
       "<table border=\"1\" class=\"dataframe\">\n",
       "  <thead>\n",
       "    <tr style=\"text-align: right;\">\n",
       "      <th></th>\n",
       "      <th>location_id</th>\n",
       "      <th>member_type</th>\n",
       "      <th>plan</th>\n",
       "      <th>amount</th>\n",
       "    </tr>\n",
       "  </thead>\n",
       "  <tbody>\n",
       "    <tr>\n",
       "      <th>1</th>\n",
       "      <td>1</td>\n",
       "      <td>Annual Member</td>\n",
       "      <td>Annual Membership</td>\n",
       "      <td>$99</td>\n",
       "    </tr>\n",
       "    <tr>\n",
       "      <th>2</th>\n",
       "      <td>1</td>\n",
       "      <td>Casual Member</td>\n",
       "      <td>72 HOUR ACCESS PASS</td>\n",
       "      <td>$15</td>\n",
       "    </tr>\n",
       "    <tr>\n",
       "      <th>3</th>\n",
       "      <td>1</td>\n",
       "      <td>Casual Member</td>\n",
       "      <td>24 HOUR ACCESS PASS</td>\n",
       "      <td>$7</td>\n",
       "    </tr>\n",
       "    <tr>\n",
       "      <th>4</th>\n",
       "      <td>1</td>\n",
       "      <td>Casual Member</td>\n",
       "      <td>Single Trip For</td>\n",
       "      <td>$3.25</td>\n",
       "    </tr>\n",
       "    <tr>\n",
       "      <th>5</th>\n",
       "      <td>1</td>\n",
       "      <td>Casual Member</td>\n",
       "      <td>OVERAGE FEES:  for every extra 30 minutes.</td>\n",
       "      <td>$4</td>\n",
       "    </tr>\n",
       "    <tr>\n",
       "      <th>0</th>\n",
       "      <td>2</td>\n",
       "      <td>24 Hour Pass</td>\n",
       "      <td>24 Hour Pass</td>\n",
       "      <td>$12</td>\n",
       "    </tr>\n",
       "    <tr>\n",
       "      <th>1</th>\n",
       "      <td>2</td>\n",
       "      <td>30 Day Pass</td>\n",
       "      <td>30 Day Pass</td>\n",
       "      <td>$25</td>\n",
       "    </tr>\n",
       "    <tr>\n",
       "      <th>2</th>\n",
       "      <td>2</td>\n",
       "      <td>365 Day Pass Standard</td>\n",
       "      <td>365 Day Pass Standard</td>\n",
       "      <td>$129</td>\n",
       "    </tr>\n",
       "    <tr>\n",
       "      <th>3</th>\n",
       "      <td>2</td>\n",
       "      <td>365 Day Pass Plus</td>\n",
       "      <td>365 Day Pass Plus</td>\n",
       "      <td>$159</td>\n",
       "    </tr>\n",
       "    <tr>\n",
       "      <th>4</th>\n",
       "      <td>2</td>\n",
       "      <td>365 Day Corporate Pass Standard</td>\n",
       "      <td>365 Day Corporate Pass Standard</td>\n",
       "      <td>$</td>\n",
       "    </tr>\n",
       "    <tr>\n",
       "      <th>5</th>\n",
       "      <td>2</td>\n",
       "      <td>365 Day Corporate Pass Plus</td>\n",
       "      <td>365 Day Corporate Pass Plus</td>\n",
       "      <td>$</td>\n",
       "    </tr>\n",
       "    <tr>\n",
       "      <th>0</th>\n",
       "      <td>3</td>\n",
       "      <td>NaN</td>\n",
       "      <td>Monthly Membership</td>\n",
       "      <td>NaN</td>\n",
       "    </tr>\n",
       "    <tr>\n",
       "      <th>1</th>\n",
       "      <td>3</td>\n",
       "      <td>NaN</td>\n",
       "      <td>Annual Membership</td>\n",
       "      <td>NaN</td>\n",
       "    </tr>\n",
       "    <tr>\n",
       "      <th>2</th>\n",
       "      <td>3</td>\n",
       "      <td>NaN</td>\n",
       "      <td>Annual Membership</td>\n",
       "      <td>NaN</td>\n",
       "    </tr>\n",
       "    <tr>\n",
       "      <th>3</th>\n",
       "      <td>3</td>\n",
       "      <td>NaN</td>\n",
       "      <td>More Options</td>\n",
       "      <td>NaN</td>\n",
       "    </tr>\n",
       "    <tr>\n",
       "      <th>0</th>\n",
       "      <td>4</td>\n",
       "      <td>NaN</td>\n",
       "      <td>Single Ride</td>\n",
       "      <td>NaN</td>\n",
       "    </tr>\n",
       "    <tr>\n",
       "      <th>1</th>\n",
       "      <td>4</td>\n",
       "      <td>NaN</td>\n",
       "      <td>Day Pass</td>\n",
       "      <td>NaN</td>\n",
       "    </tr>\n",
       "    <tr>\n",
       "      <th>2</th>\n",
       "      <td>4</td>\n",
       "      <td>NaN</td>\n",
       "      <td>Annual Membership</td>\n",
       "      <td>NaN</td>\n",
       "    </tr>\n",
       "    <tr>\n",
       "      <th>3</th>\n",
       "      <td>4</td>\n",
       "      <td>NaN</td>\n",
       "      <td>More Options</td>\n",
       "      <td>NaN</td>\n",
       "    </tr>\n",
       "  </tbody>\n",
       "</table>\n",
       "</div>"
      ],
      "text/plain": [
       "   location_id                        member_type  \\\n",
       "1            1                      Annual Member   \n",
       "2            1                      Casual Member   \n",
       "3            1                      Casual Member   \n",
       "4            1                      Casual Member   \n",
       "5            1                      Casual Member   \n",
       "0            2                      24 Hour Pass    \n",
       "1            2                       30 Day Pass    \n",
       "2            2             365 Day Pass Standard    \n",
       "3            2                 365 Day Pass Plus    \n",
       "4            2   365 Day Corporate Pass Standard    \n",
       "5            2       365 Day Corporate Pass Plus    \n",
       "0            3                                NaN   \n",
       "1            3                                NaN   \n",
       "2            3                                NaN   \n",
       "3            3                                NaN   \n",
       "0            4                                NaN   \n",
       "1            4                                NaN   \n",
       "2            4                                NaN   \n",
       "3            4                                NaN   \n",
       "\n",
       "                                         plan amount  \n",
       "1                         Annual Membership      $99  \n",
       "2                        72 HOUR ACCESS PASS     $15  \n",
       "3                        24 HOUR ACCESS PASS      $7  \n",
       "4                            Single Trip For   $3.25  \n",
       "5  OVERAGE FEES:  for every extra 30 minutes.     $4  \n",
       "0                               24 Hour Pass     $12  \n",
       "1                                30 Day Pass     $25  \n",
       "2                      365 Day Pass Standard    $129  \n",
       "3                          365 Day Pass Plus    $159  \n",
       "4            365 Day Corporate Pass Standard       $  \n",
       "5                365 Day Corporate Pass Plus       $  \n",
       "0                          Monthly Membership    NaN  \n",
       "1                           Annual Membership    NaN  \n",
       "2                           Annual Membership    NaN  \n",
       "3                                More Options    NaN  \n",
       "0                                 Single Ride    NaN  \n",
       "1                                    Day Pass    NaN  \n",
       "2                           Annual Membership    NaN  \n",
       "3                                More Options    NaN  "
      ]
     },
     "execution_count": 91,
     "metadata": {},
     "output_type": "execute_result"
    }
   ],
   "source": [
    "# Create a DF of Toronto, Vancouver, Boston, & New York\n",
    "city_bike = [Toronto,Vancouver_df,Boston_df,Newyork_df]\n",
    "bike_share = pd.concat(city_bike)\n",
    "bike_share"
   ]
  },
  {
   "cell_type": "code",
   "execution_count": null,
   "metadata": {},
   "outputs": [],
   "source": []
  }
 ],
 "metadata": {
  "kernelspec": {
   "display_name": "Python 3",
   "language": "python",
   "name": "python3"
  },
  "language_info": {
   "codemirror_mode": {
    "name": "ipython",
    "version": 3
   },
   "file_extension": ".py",
   "mimetype": "text/x-python",
   "name": "python",
   "nbconvert_exporter": "python",
   "pygments_lexer": "ipython3",
   "version": "3.8.3"
  }
 },
 "nbformat": 4,
 "nbformat_minor": 4
}
