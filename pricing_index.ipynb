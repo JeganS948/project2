{
 "cells": [
  {
   "cell_type": "markdown",
   "metadata": {},
   "source": [
    "<b>Initial Setup<b>"
   ]
  },
  {
   "cell_type": "code",
   "execution_count": 115,
   "metadata": {},
   "outputs": [],
   "source": [
    "# import dependencies\n",
    "import pandas as pd\n",
    "import requests\n",
    "from bs4 import BeautifulSoup as bs\n",
    "from webdriver_manager.chrome import ChromeDriverManager"
   ]
  },
  {
   "cell_type": "markdown",
   "metadata": {},
   "source": [
    "<b>Web Scrape From Each City Bike Share Program Site<b>"
   ]
  },
  {
   "cell_type": "markdown",
   "metadata": {},
   "source": [
    "# *Toronto Price Index*"
   ]
  },
  {
   "cell_type": "code",
   "execution_count": 116,
   "metadata": {},
   "outputs": [],
   "source": [
    "# Get URL\n",
    "url = 'https://bikesharetoronto.com/pricing/'\n",
    "response1 = requests.get(url)"
   ]
  },
  {
   "cell_type": "code",
   "execution_count": 117,
   "metadata": {},
   "outputs": [],
   "source": [
    "# Parse Info with BeautifulSoup\n",
    "response1 = requests.get(url)\n",
    "soup = bs(response1.content, 'lxml')\n",
    "divs = soup.find_all('div', class_='fl-rich-text')\n"
   ]
  },
  {
   "cell_type": "code",
   "execution_count": 118,
   "metadata": {},
   "outputs": [
    {
     "name": "stdout",
     "output_type": "stream",
     "text": [
      "Pricing\n",
      "Annual Membership $99 \n",
      "72 HOUR ACCESS PASS $15\n",
      "24 HOUR ACCESS PASS $7\n",
      "Single Trip For $3.25\n",
      "OVERAGE FEES: $4 for every extra 30 minutes.\n"
     ]
    },
    {
     "data": {
      "text/plain": [
       "['Pricing',\n",
       " 'Annual Membership $99\\xa0',\n",
       " '72 HOUR ACCESS PASS $15',\n",
       " '24 HOUR ACCESS PASS $7',\n",
       " 'Single Trip For $3.25',\n",
       " 'OVERAGE FEES: $4 for every extra 30 minutes.']"
      ]
     },
     "execution_count": 118,
     "metadata": {},
     "output_type": "execute_result"
    }
   ],
   "source": [
    "# Create loop to scrape pricing index and memebership type\n",
    "ls= []\n",
    "for i in divs:\n",
    "    try:\n",
    "        print(i.find('h1').text)\n",
    "        ls.append(i.find('h1').text)\n",
    "        \n",
    "    except:\n",
    "        pass\n",
    "ls"
   ]
  },
  {
   "cell_type": "code",
   "execution_count": 119,
   "metadata": {},
   "outputs": [
    {
     "data": {
      "text/html": [
       "<div>\n",
       "<style scoped>\n",
       "    .dataframe tbody tr th:only-of-type {\n",
       "        vertical-align: middle;\n",
       "    }\n",
       "\n",
       "    .dataframe tbody tr th {\n",
       "        vertical-align: top;\n",
       "    }\n",
       "\n",
       "    .dataframe thead th {\n",
       "        text-align: right;\n",
       "    }\n",
       "</style>\n",
       "<table border=\"1\" class=\"dataframe\">\n",
       "  <thead>\n",
       "    <tr style=\"text-align: right;\">\n",
       "      <th></th>\n",
       "      <th>0</th>\n",
       "    </tr>\n",
       "  </thead>\n",
       "  <tbody>\n",
       "    <tr>\n",
       "      <th>0</th>\n",
       "      <td>Pricing</td>\n",
       "    </tr>\n",
       "    <tr>\n",
       "      <th>1</th>\n",
       "      <td>Annual Membership $99</td>\n",
       "    </tr>\n",
       "    <tr>\n",
       "      <th>2</th>\n",
       "      <td>72 HOUR ACCESS PASS $15</td>\n",
       "    </tr>\n",
       "    <tr>\n",
       "      <th>3</th>\n",
       "      <td>24 HOUR ACCESS PASS $7</td>\n",
       "    </tr>\n",
       "    <tr>\n",
       "      <th>4</th>\n",
       "      <td>Single Trip For $3.25</td>\n",
       "    </tr>\n",
       "    <tr>\n",
       "      <th>5</th>\n",
       "      <td>OVERAGE FEES: $4 for every extra 30 minutes.</td>\n",
       "    </tr>\n",
       "  </tbody>\n",
       "</table>\n",
       "</div>"
      ],
      "text/plain": [
       "                                              0\n",
       "0                                       Pricing\n",
       "1                        Annual Membership $99 \n",
       "2                       72 HOUR ACCESS PASS $15\n",
       "3                        24 HOUR ACCESS PASS $7\n",
       "4                         Single Trip For $3.25\n",
       "5  OVERAGE FEES: $4 for every extra 30 minutes."
      ]
     },
     "execution_count": 119,
     "metadata": {},
     "output_type": "execute_result"
    }
   ],
   "source": [
    "#Creating Toronto Dataframe\n",
    "Toronto_df = pd.DataFrame(ls)\n",
    "Toronto_df"
   ]
  },
  {
   "cell_type": "code",
   "execution_count": 120,
   "metadata": {},
   "outputs": [],
   "source": [
    "Toronto =Toronto_df.drop([0])"
   ]
  },
  {
   "cell_type": "code",
   "execution_count": 121,
   "metadata": {},
   "outputs": [
    {
     "data": {
      "text/html": [
       "<div>\n",
       "<style scoped>\n",
       "    .dataframe tbody tr th:only-of-type {\n",
       "        vertical-align: middle;\n",
       "    }\n",
       "\n",
       "    .dataframe tbody tr th {\n",
       "        vertical-align: top;\n",
       "    }\n",
       "\n",
       "    .dataframe thead th {\n",
       "        text-align: right;\n",
       "    }\n",
       "</style>\n",
       "<table border=\"1\" class=\"dataframe\">\n",
       "  <thead>\n",
       "    <tr style=\"text-align: right;\">\n",
       "      <th></th>\n",
       "      <th>Plan</th>\n",
       "      <th>Price</th>\n",
       "    </tr>\n",
       "  </thead>\n",
       "  <tbody>\n",
       "    <tr>\n",
       "      <th>1</th>\n",
       "      <td>Annual Membership</td>\n",
       "      <td>$99</td>\n",
       "    </tr>\n",
       "    <tr>\n",
       "      <th>2</th>\n",
       "      <td>72 HOUR ACCESS PASS</td>\n",
       "      <td>$15</td>\n",
       "    </tr>\n",
       "    <tr>\n",
       "      <th>3</th>\n",
       "      <td>24 HOUR ACCESS PASS</td>\n",
       "      <td>$7</td>\n",
       "    </tr>\n",
       "    <tr>\n",
       "      <th>4</th>\n",
       "      <td>Single Trip For</td>\n",
       "      <td>$3.25</td>\n",
       "    </tr>\n",
       "    <tr>\n",
       "      <th>5</th>\n",
       "      <td>OVERAGE FEES:  for every extra 30 minutes.</td>\n",
       "      <td>$4</td>\n",
       "    </tr>\n",
       "  </tbody>\n",
       "</table>\n",
       "</div>"
      ],
      "text/plain": [
       "                                         Plan  Price\n",
       "1                         Annual Membership      $99\n",
       "2                        72 HOUR ACCESS PASS     $15\n",
       "3                        24 HOUR ACCESS PASS      $7\n",
       "4                            Single Trip For   $3.25\n",
       "5  OVERAGE FEES:  for every extra 30 minutes.     $4"
      ]
     },
     "execution_count": 121,
     "metadata": {},
     "output_type": "execute_result"
    }
   ],
   "source": [
    "Toronto['Price'] = Toronto[0].str.extract('(\\$[0-9,.]+)')\n",
    "Toronto[0] = Toronto[0].str.replace('(\\$[0-9,.]+)', '')\n",
    "Toronto = Toronto.rename(columns={0:'Plan', 'amount':'Price'})\n",
    "Toronto"
   ]
  },
  {
   "cell_type": "code",
   "execution_count": 123,
   "metadata": {},
   "outputs": [
    {
     "data": {
      "text/html": [
       "<div>\n",
       "<style scoped>\n",
       "    .dataframe tbody tr th:only-of-type {\n",
       "        vertical-align: middle;\n",
       "    }\n",
       "\n",
       "    .dataframe tbody tr th {\n",
       "        vertical-align: top;\n",
       "    }\n",
       "\n",
       "    .dataframe thead th {\n",
       "        text-align: right;\n",
       "    }\n",
       "</style>\n",
       "<table border=\"1\" class=\"dataframe\">\n",
       "  <thead>\n",
       "    <tr style=\"text-align: right;\">\n",
       "      <th></th>\n",
       "      <th>Plan</th>\n",
       "      <th>Price</th>\n",
       "      <th>location_id</th>\n",
       "      <th>member_type</th>\n",
       "    </tr>\n",
       "  </thead>\n",
       "  <tbody>\n",
       "    <tr>\n",
       "      <th>1</th>\n",
       "      <td>Annual Membership</td>\n",
       "      <td>$99</td>\n",
       "      <td>1</td>\n",
       "      <td>Annual Member</td>\n",
       "    </tr>\n",
       "    <tr>\n",
       "      <th>2</th>\n",
       "      <td>72 HOUR ACCESS PASS</td>\n",
       "      <td>$15</td>\n",
       "      <td>1</td>\n",
       "      <td>Casual Member</td>\n",
       "    </tr>\n",
       "    <tr>\n",
       "      <th>3</th>\n",
       "      <td>24 HOUR ACCESS PASS</td>\n",
       "      <td>$7</td>\n",
       "      <td>1</td>\n",
       "      <td>Casual Member</td>\n",
       "    </tr>\n",
       "    <tr>\n",
       "      <th>4</th>\n",
       "      <td>Single Trip For</td>\n",
       "      <td>$3.25</td>\n",
       "      <td>1</td>\n",
       "      <td>Casual Member</td>\n",
       "    </tr>\n",
       "    <tr>\n",
       "      <th>5</th>\n",
       "      <td>OVERAGE FEES:  for every extra 30 minutes.</td>\n",
       "      <td>$4</td>\n",
       "      <td>1</td>\n",
       "      <td>Casual Member</td>\n",
       "    </tr>\n",
       "  </tbody>\n",
       "</table>\n",
       "</div>"
      ],
      "text/plain": [
       "                                         Plan  Price  location_id  \\\n",
       "1                         Annual Membership      $99            1   \n",
       "2                        72 HOUR ACCESS PASS     $15            1   \n",
       "3                        24 HOUR ACCESS PASS      $7            1   \n",
       "4                            Single Trip For   $3.25            1   \n",
       "5  OVERAGE FEES:  for every extra 30 minutes.     $4            1   \n",
       "\n",
       "     member_type  \n",
       "1  Annual Member  \n",
       "2  Casual Member  \n",
       "3  Casual Member  \n",
       "4  Casual Member  \n",
       "5  Casual Member  "
      ]
     },
     "execution_count": 123,
     "metadata": {},
     "output_type": "execute_result"
    }
   ],
   "source": [
    "Toronto = Toronto.assign(location_id=1)\n",
    "x =[\"Annual Member\",\"Casual Member\",\"Casual Member\",\"Casual Member\",\"Casual Member\"]\n",
    "Toronto[\"member_type\"]=x\n",
    "Toronto.head()"
   ]
  },
  {
   "cell_type": "code",
   "execution_count": null,
   "metadata": {},
   "outputs": [],
   "source": []
  },
  {
   "cell_type": "code",
   "execution_count": null,
   "metadata": {},
   "outputs": [],
   "source": [
    "#.replace()\n",
    "q1=q1.replace({\"Member_type\":{\"Annual Membership\": \"Annual Member\", \n",
    "               \"72 HOUR ACCESS PASS\": \"Annual Member\", \n",
    "               \"24 HOUR ACCESS PASS\": \"Annual Member\", \n",
    "               \""
   ]
  },
  {
   "cell_type": "markdown",
   "metadata": {},
   "source": [
    "# *Vancouver Price Index*"
   ]
  },
  {
   "cell_type": "code",
   "execution_count": 108,
   "metadata": {},
   "outputs": [],
   "source": [
    "# Get URL\n",
    "url = 'https://www.mobibikes.ca/en/offers-subscription'\n",
    "response2 = requests.get(url)"
   ]
  },
  {
   "cell_type": "code",
   "execution_count": 109,
   "metadata": {},
   "outputs": [],
   "source": [
    "# Parse Info with BeautifulSoup\n",
    "response2 = requests.get(url)\n",
    "soup = bs(response2.content, 'lxml')\n",
    "span1 = soup.find_all('span', class_='prix')"
   ]
  },
  {
   "cell_type": "code",
   "execution_count": 110,
   "metadata": {},
   "outputs": [],
   "source": [
    "span2 = soup.find_all('div', class_='views-field views-field-title')"
   ]
  },
  {
   "cell_type": "code",
   "execution_count": 124,
   "metadata": {},
   "outputs": [
    {
     "name": "stdout",
     "output_type": "stream",
     "text": [
      "$12\n",
      "$25\n",
      "$129\n",
      "$159\n",
      "$\n",
      "$\n"
     ]
    },
    {
     "data": {
      "text/plain": [
       "['$12', '$25', '$129', '$159', '$', '$']"
      ]
     },
     "execution_count": 124,
     "metadata": {},
     "output_type": "execute_result"
    }
   ],
   "source": [
    "# Create loop to scrape pricing index for membership type\n",
    "\n",
    "price =[]\n",
    "for i in span1:\n",
    "    try:\n",
    "        print(i.text)\n",
    "        price.append(i.text)\n",
    "    \n",
    "    except:\n",
    "        pass\n",
    "price"
   ]
  },
  {
   "cell_type": "code",
   "execution_count": 125,
   "metadata": {},
   "outputs": [
    {
     "name": "stdout",
     "output_type": "stream",
     "text": [
      " 24 Hour Pass \n",
      " 30 Day Pass \n",
      " 365 Day Pass Standard \n",
      " 365 Day Pass Plus \n",
      " 365 Day Corporate Pass Standard \n",
      " 365 Day Corporate Pass Plus \n"
     ]
    },
    {
     "data": {
      "text/plain": [
       "[' 24 Hour Pass ',\n",
       " ' 30 Day Pass ',\n",
       " ' 365 Day Pass Standard ',\n",
       " ' 365 Day Pass Plus ',\n",
       " ' 365 Day Corporate Pass Standard ',\n",
       " ' 365 Day Corporate Pass Plus ']"
      ]
     },
     "execution_count": 125,
     "metadata": {},
     "output_type": "execute_result"
    }
   ],
   "source": [
    "# Create loop to scrape pricing index\n",
    "ls= []\n",
    "\n",
    "for i in span2:\n",
    "    try:\n",
    "        print(i.text)\n",
    "        ls.append(i.text)\n",
    "    except:\n",
    "        pass\n",
    "    \n",
    "ls"
   ]
  },
  {
   "cell_type": "code",
   "execution_count": 131,
   "metadata": {},
   "outputs": [
    {
     "data": {
      "text/html": [
       "<div>\n",
       "<style scoped>\n",
       "    .dataframe tbody tr th:only-of-type {\n",
       "        vertical-align: middle;\n",
       "    }\n",
       "\n",
       "    .dataframe tbody tr th {\n",
       "        vertical-align: top;\n",
       "    }\n",
       "\n",
       "    .dataframe thead th {\n",
       "        text-align: right;\n",
       "    }\n",
       "</style>\n",
       "<table border=\"1\" class=\"dataframe\">\n",
       "  <thead>\n",
       "    <tr style=\"text-align: right;\">\n",
       "      <th></th>\n",
       "      <th>member_type</th>\n",
       "      <th>plan</th>\n",
       "      <th>amount</th>\n",
       "      <th>location_id</th>\n",
       "    </tr>\n",
       "  </thead>\n",
       "  <tbody>\n",
       "    <tr>\n",
       "      <th>0</th>\n",
       "      <td>24 Hour Pass</td>\n",
       "      <td>24 Hour Pass</td>\n",
       "      <td>$12</td>\n",
       "      <td>2</td>\n",
       "    </tr>\n",
       "    <tr>\n",
       "      <th>1</th>\n",
       "      <td>30 Day Pass</td>\n",
       "      <td>30 Day Pass</td>\n",
       "      <td>$25</td>\n",
       "      <td>2</td>\n",
       "    </tr>\n",
       "    <tr>\n",
       "      <th>2</th>\n",
       "      <td>365 Day Pass Standard</td>\n",
       "      <td>365 Day Pass Standard</td>\n",
       "      <td>$129</td>\n",
       "      <td>2</td>\n",
       "    </tr>\n",
       "    <tr>\n",
       "      <th>3</th>\n",
       "      <td>365 Day Pass Plus</td>\n",
       "      <td>365 Day Pass Plus</td>\n",
       "      <td>$159</td>\n",
       "      <td>2</td>\n",
       "    </tr>\n",
       "    <tr>\n",
       "      <th>4</th>\n",
       "      <td>365 Day Corporate Pass Standard</td>\n",
       "      <td>365 Day Corporate Pass Standard</td>\n",
       "      <td>$</td>\n",
       "      <td>2</td>\n",
       "    </tr>\n",
       "    <tr>\n",
       "      <th>5</th>\n",
       "      <td>365 Day Corporate Pass Plus</td>\n",
       "      <td>365 Day Corporate Pass Plus</td>\n",
       "      <td>$</td>\n",
       "      <td>2</td>\n",
       "    </tr>\n",
       "  </tbody>\n",
       "</table>\n",
       "</div>"
      ],
      "text/plain": [
       "                         member_type                               plan  \\\n",
       "0                      24 Hour Pass                       24 Hour Pass    \n",
       "1                       30 Day Pass                        30 Day Pass    \n",
       "2             365 Day Pass Standard              365 Day Pass Standard    \n",
       "3                 365 Day Pass Plus                  365 Day Pass Plus    \n",
       "4   365 Day Corporate Pass Standard    365 Day Corporate Pass Standard    \n",
       "5       365 Day Corporate Pass Plus        365 Day Corporate Pass Plus    \n",
       "\n",
       "  amount  location_id  \n",
       "0    $12            2  \n",
       "1    $25            2  \n",
       "2   $129            2  \n",
       "3   $159            2  \n",
       "4      $            2  \n",
       "5      $            2  "
      ]
     },
     "execution_count": 131,
     "metadata": {},
     "output_type": "execute_result"
    }
   ],
   "source": [
    "#Creating Vancouver Dataframe\n",
    "\n",
    "Vancouver_df = pd.DataFrame({\"member_type\":ls,\"plan\":ls,\"amount\":price})\n",
    "Vancouver_df = Vancouver_df.assign(location_id=2)\n",
    "Vancouver_df \n"
   ]
  },
  {
   "cell_type": "markdown",
   "metadata": {},
   "source": [
    "# *Boston Price Index*"
   ]
  },
  {
   "cell_type": "code",
   "execution_count": 39,
   "metadata": {},
   "outputs": [],
   "source": [
    "# Get URL\n",
    "url = 'https://www.bluebikes.com/pricing'\n",
    "response3 = requests.get(url)"
   ]
  },
  {
   "cell_type": "code",
   "execution_count": 40,
   "metadata": {},
   "outputs": [],
   "source": [
    "# Parse Info with BeautifulSoup\n",
    "response3 = requests.get(url)\n",
    "soup = bs(response3.content, 'lxml')\n",
    "divs = soup.find_all('div', class_='spacing--one-and-half--above-xlarge')"
   ]
  },
  {
   "cell_type": "code",
   "execution_count": 41,
   "metadata": {},
   "outputs": [
    {
     "data": {
      "text/plain": [
       "'Annual Membership'"
      ]
     },
     "execution_count": 41,
     "metadata": {},
     "output_type": "execute_result"
    }
   ],
   "source": [
    "membership_type = soup.find_all('h2')\n",
    "membership_type[1].text"
   ]
  },
  {
   "cell_type": "code",
   "execution_count": 42,
   "metadata": {},
   "outputs": [
    {
     "data": {
      "text/plain": [
       "'$10/month'"
      ]
     },
     "execution_count": 42,
     "metadata": {},
     "output_type": "execute_result"
    }
   ],
   "source": [
    "pricing = soup.find_all('p', class_='type-alpha--m')\n",
    "pricing[1].text"
   ]
  },
  {
   "cell_type": "code",
   "execution_count": 43,
   "metadata": {},
   "outputs": [
    {
     "name": "stdout",
     "output_type": "stream",
     "text": [
      "Monthly Membership\n",
      "Annual Membership\n",
      "Annual Membership\n",
      "More Options\n"
     ]
    }
   ],
   "source": [
    "# Create loop to scrape pricing index for membership type\n",
    "for i in membership_type:\n",
    "    try:\n",
    "        print(i.text)\n",
    "    except:\n",
    "        pass\n"
   ]
  },
  {
   "cell_type": "code",
   "execution_count": 44,
   "metadata": {},
   "outputs": [
    {
     "name": "stdout",
     "output_type": "stream",
     "text": [
      "$20/month\n",
      "$10/month\n",
      "$8.25/month\n"
     ]
    },
    {
     "data": {
      "text/plain": [
       "['$20/month', '$10/month', '$8.25/month']"
      ]
     },
     "execution_count": 44,
     "metadata": {},
     "output_type": "execute_result"
    }
   ],
   "source": [
    "# Create loop to scrape pricing index\n",
    "ls= []\n",
    "for i in pricing:\n",
    "    try:\n",
    "        print(i.text)\n",
    "        ls.append(i.text)\n",
    "    except:\n",
    "        pass\n",
    "ls"
   ]
  },
  {
   "cell_type": "code",
   "execution_count": 45,
   "metadata": {},
   "outputs": [
    {
     "data": {
      "text/html": [
       "<div>\n",
       "<style scoped>\n",
       "    .dataframe tbody tr th:only-of-type {\n",
       "        vertical-align: middle;\n",
       "    }\n",
       "\n",
       "    .dataframe tbody tr th {\n",
       "        vertical-align: top;\n",
       "    }\n",
       "\n",
       "    .dataframe thead th {\n",
       "        text-align: right;\n",
       "    }\n",
       "</style>\n",
       "<table border=\"1\" class=\"dataframe\">\n",
       "  <thead>\n",
       "    <tr style=\"text-align: right;\">\n",
       "      <th></th>\n",
       "      <th>0</th>\n",
       "    </tr>\n",
       "  </thead>\n",
       "  <tbody>\n",
       "    <tr>\n",
       "      <th>0</th>\n",
       "      <td>$20/month</td>\n",
       "    </tr>\n",
       "    <tr>\n",
       "      <th>1</th>\n",
       "      <td>$10/month</td>\n",
       "    </tr>\n",
       "    <tr>\n",
       "      <th>2</th>\n",
       "      <td>$8.25/month</td>\n",
       "    </tr>\n",
       "  </tbody>\n",
       "</table>\n",
       "</div>"
      ],
      "text/plain": [
       "             0\n",
       "0    $20/month\n",
       "1    $10/month\n",
       "2  $8.25/month"
      ]
     },
     "execution_count": 45,
     "metadata": {},
     "output_type": "execute_result"
    }
   ],
   "source": [
    "#Creating Boston Dataframe\n",
    "Boston_df = pd.DataFrame(ls)\n",
    "Boston_df "
   ]
  },
  {
   "cell_type": "markdown",
   "metadata": {},
   "source": [
    "# *New York Price Index*"
   ]
  },
  {
   "cell_type": "code",
   "execution_count": 46,
   "metadata": {},
   "outputs": [],
   "source": [
    "# Get URL\n",
    "url = 'https://www.citibikenyc.com/pricing'\n",
    "response4 = requests.get(url)"
   ]
  },
  {
   "cell_type": "code",
   "execution_count": 47,
   "metadata": {},
   "outputs": [],
   "source": [
    "# Parse Info with BeautifulSoup\n",
    "response4 = requests.get(url)\n",
    "soup = bs(response4.content, 'lxml')\n",
    "divs = soup.find_all('div', class_='spacing--one-and-half--above-xlarge')"
   ]
  },
  {
   "cell_type": "code",
   "execution_count": 48,
   "metadata": {},
   "outputs": [
    {
     "data": {
      "text/plain": [
       "'Day Pass'"
      ]
     },
     "execution_count": 48,
     "metadata": {},
     "output_type": "execute_result"
    }
   ],
   "source": [
    "membership_type = soup.find_all('h2')\n",
    "membership_type[1].text"
   ]
  },
  {
   "cell_type": "code",
   "execution_count": 49,
   "metadata": {},
   "outputs": [
    {
     "data": {
      "text/plain": [
       "'$15/day'"
      ]
     },
     "execution_count": 49,
     "metadata": {},
     "output_type": "execute_result"
    }
   ],
   "source": [
    "pricing = soup.find_all('p', class_='type-alpha--m text-color--white')\n",
    "pricing[1].text"
   ]
  },
  {
   "cell_type": "code",
   "execution_count": 50,
   "metadata": {},
   "outputs": [
    {
     "name": "stdout",
     "output_type": "stream",
     "text": [
      "Single Ride\n",
      "Day Pass\n",
      "Annual Membership\n",
      "More Options\n"
     ]
    }
   ],
   "source": [
    "# Create loop to scrape pricing index for membership type\n",
    "for i in membership_type:\n",
    "    try:\n",
    "        print(i.text)\n",
    "    except:\n",
    "        pass"
   ]
  },
  {
   "cell_type": "code",
   "execution_count": 51,
   "metadata": {},
   "outputs": [
    {
     "name": "stdout",
     "output_type": "stream",
     "text": [
      "$3/trip\n",
      "$15/day\n"
     ]
    },
    {
     "data": {
      "text/plain": [
       "['$3/trip', '$15/day']"
      ]
     },
     "execution_count": 51,
     "metadata": {},
     "output_type": "execute_result"
    }
   ],
   "source": [
    "# Create loop to scrape pricing index\n",
    "ls=[]\n",
    "for i in pricing:\n",
    "    try:\n",
    "        print(i.text)\n",
    "        ls.append(i.text)\n",
    "    except:\n",
    "        pass\n",
    "ls"
   ]
  },
  {
   "cell_type": "code",
   "execution_count": 52,
   "metadata": {},
   "outputs": [
    {
     "data": {
      "text/html": [
       "<div>\n",
       "<style scoped>\n",
       "    .dataframe tbody tr th:only-of-type {\n",
       "        vertical-align: middle;\n",
       "    }\n",
       "\n",
       "    .dataframe tbody tr th {\n",
       "        vertical-align: top;\n",
       "    }\n",
       "\n",
       "    .dataframe thead th {\n",
       "        text-align: right;\n",
       "    }\n",
       "</style>\n",
       "<table border=\"1\" class=\"dataframe\">\n",
       "  <thead>\n",
       "    <tr style=\"text-align: right;\">\n",
       "      <th></th>\n",
       "      <th>0</th>\n",
       "    </tr>\n",
       "  </thead>\n",
       "  <tbody>\n",
       "    <tr>\n",
       "      <th>0</th>\n",
       "      <td>$3/trip</td>\n",
       "    </tr>\n",
       "    <tr>\n",
       "      <th>1</th>\n",
       "      <td>$15/day</td>\n",
       "    </tr>\n",
       "  </tbody>\n",
       "</table>\n",
       "</div>"
      ],
      "text/plain": [
       "         0\n",
       "0  $3/trip\n",
       "1  $15/day"
      ]
     },
     "execution_count": 52,
     "metadata": {},
     "output_type": "execute_result"
    }
   ],
   "source": [
    "#Creating Boston Dataframe\n",
    "NewYork_df = pd.DataFrame(ls)\n",
    "NewYork_df "
   ]
  },
  {
   "cell_type": "markdown",
   "metadata": {},
   "source": [
    "<b>Dataframe for each City Price Index<b>"
   ]
  },
  {
   "cell_type": "code",
   "execution_count": 90,
   "metadata": {},
   "outputs": [
    {
     "data": {
      "text/html": [
       "<div>\n",
       "<style scoped>\n",
       "    .dataframe tbody tr th:only-of-type {\n",
       "        vertical-align: middle;\n",
       "    }\n",
       "\n",
       "    .dataframe tbody tr th {\n",
       "        vertical-align: top;\n",
       "    }\n",
       "\n",
       "    .dataframe thead th {\n",
       "        text-align: right;\n",
       "    }\n",
       "</style>\n",
       "<table border=\"1\" class=\"dataframe\">\n",
       "  <thead>\n",
       "    <tr style=\"text-align: right;\">\n",
       "      <th></th>\n",
       "      <th>0</th>\n",
       "      <th>Member_type</th>\n",
       "      <th>Price</th>\n",
       "      <th>location_id</th>\n",
       "    </tr>\n",
       "  </thead>\n",
       "  <tbody>\n",
       "    <tr>\n",
       "      <th>1</th>\n",
       "      <td>NaN</td>\n",
       "      <td>Annual Membership</td>\n",
       "      <td>$99</td>\n",
       "      <td>1.0</td>\n",
       "    </tr>\n",
       "    <tr>\n",
       "      <th>2</th>\n",
       "      <td>NaN</td>\n",
       "      <td>72 HOUR ACCESS PASS</td>\n",
       "      <td>$15</td>\n",
       "      <td>1.0</td>\n",
       "    </tr>\n",
       "    <tr>\n",
       "      <th>3</th>\n",
       "      <td>NaN</td>\n",
       "      <td>24 HOUR ACCESS PASS</td>\n",
       "      <td>$7</td>\n",
       "      <td>1.0</td>\n",
       "    </tr>\n",
       "    <tr>\n",
       "      <th>4</th>\n",
       "      <td>NaN</td>\n",
       "      <td>Single Trip For</td>\n",
       "      <td>$3.25</td>\n",
       "      <td>1.0</td>\n",
       "    </tr>\n",
       "    <tr>\n",
       "      <th>5</th>\n",
       "      <td>NaN</td>\n",
       "      <td>OVERAGE FEES:  for every extra 30 minutes.</td>\n",
       "      <td>$4</td>\n",
       "      <td>1.0</td>\n",
       "    </tr>\n",
       "    <tr>\n",
       "      <th>0</th>\n",
       "      <td>$20/month</td>\n",
       "      <td>NaN</td>\n",
       "      <td>NaN</td>\n",
       "      <td>NaN</td>\n",
       "    </tr>\n",
       "    <tr>\n",
       "      <th>1</th>\n",
       "      <td>$10/month</td>\n",
       "      <td>NaN</td>\n",
       "      <td>NaN</td>\n",
       "      <td>NaN</td>\n",
       "    </tr>\n",
       "    <tr>\n",
       "      <th>2</th>\n",
       "      <td>$8.25/month</td>\n",
       "      <td>NaN</td>\n",
       "      <td>NaN</td>\n",
       "      <td>NaN</td>\n",
       "    </tr>\n",
       "    <tr>\n",
       "      <th>0</th>\n",
       "      <td>$3/trip</td>\n",
       "      <td>NaN</td>\n",
       "      <td>NaN</td>\n",
       "      <td>NaN</td>\n",
       "    </tr>\n",
       "    <tr>\n",
       "      <th>1</th>\n",
       "      <td>$15/day</td>\n",
       "      <td>NaN</td>\n",
       "      <td>NaN</td>\n",
       "      <td>NaN</td>\n",
       "    </tr>\n",
       "    <tr>\n",
       "      <th>0</th>\n",
       "      <td>24 Hour Pass</td>\n",
       "      <td>NaN</td>\n",
       "      <td>NaN</td>\n",
       "      <td>NaN</td>\n",
       "    </tr>\n",
       "    <tr>\n",
       "      <th>1</th>\n",
       "      <td>30 Day Pass</td>\n",
       "      <td>NaN</td>\n",
       "      <td>NaN</td>\n",
       "      <td>NaN</td>\n",
       "    </tr>\n",
       "    <tr>\n",
       "      <th>2</th>\n",
       "      <td>365 Day Pass Standard</td>\n",
       "      <td>NaN</td>\n",
       "      <td>NaN</td>\n",
       "      <td>NaN</td>\n",
       "    </tr>\n",
       "    <tr>\n",
       "      <th>3</th>\n",
       "      <td>365 Day Pass Plus</td>\n",
       "      <td>NaN</td>\n",
       "      <td>NaN</td>\n",
       "      <td>NaN</td>\n",
       "    </tr>\n",
       "    <tr>\n",
       "      <th>4</th>\n",
       "      <td>365 Day Corporate Pass Standard</td>\n",
       "      <td>NaN</td>\n",
       "      <td>NaN</td>\n",
       "      <td>NaN</td>\n",
       "    </tr>\n",
       "    <tr>\n",
       "      <th>5</th>\n",
       "      <td>365 Day Corporate Pass Plus</td>\n",
       "      <td>NaN</td>\n",
       "      <td>NaN</td>\n",
       "      <td>NaN</td>\n",
       "    </tr>\n",
       "  </tbody>\n",
       "</table>\n",
       "</div>"
      ],
      "text/plain": [
       "                                   0  \\\n",
       "1                                NaN   \n",
       "2                                NaN   \n",
       "3                                NaN   \n",
       "4                                NaN   \n",
       "5                                NaN   \n",
       "0                          $20/month   \n",
       "1                          $10/month   \n",
       "2                        $8.25/month   \n",
       "0                            $3/trip   \n",
       "1                            $15/day   \n",
       "0                      24 Hour Pass    \n",
       "1                       30 Day Pass    \n",
       "2             365 Day Pass Standard    \n",
       "3                 365 Day Pass Plus    \n",
       "4   365 Day Corporate Pass Standard    \n",
       "5       365 Day Corporate Pass Plus    \n",
       "\n",
       "                                  Member_type  Price  location_id  \n",
       "1                         Annual Membership      $99          1.0  \n",
       "2                        72 HOUR ACCESS PASS     $15          1.0  \n",
       "3                        24 HOUR ACCESS PASS      $7          1.0  \n",
       "4                            Single Trip For   $3.25          1.0  \n",
       "5  OVERAGE FEES:  for every extra 30 minutes.     $4          1.0  \n",
       "0                                         NaN    NaN          NaN  \n",
       "1                                         NaN    NaN          NaN  \n",
       "2                                         NaN    NaN          NaN  \n",
       "0                                         NaN    NaN          NaN  \n",
       "1                                         NaN    NaN          NaN  \n",
       "0                                         NaN    NaN          NaN  \n",
       "1                                         NaN    NaN          NaN  \n",
       "2                                         NaN    NaN          NaN  \n",
       "3                                         NaN    NaN          NaN  \n",
       "4                                         NaN    NaN          NaN  \n",
       "5                                         NaN    NaN          NaN  "
      ]
     },
     "execution_count": 90,
     "metadata": {},
     "output_type": "execute_result"
    }
   ],
   "source": [
    "# Create a DF of Toronto, Vancouver, Boston, & New York\n",
    "city_bike = [Toronto,Boston_df,NewYork_df,Vancouver_df]\n",
    "bike_share = pd.concat(city_bike)\n",
    "bike_share"
   ]
  },
  {
   "cell_type": "code",
   "execution_count": null,
   "metadata": {},
   "outputs": [],
   "source": []
  }
 ],
 "metadata": {
  "kernelspec": {
   "display_name": "Python 3",
   "language": "python",
   "name": "python3"
  },
  "language_info": {
   "codemirror_mode": {
    "name": "ipython",
    "version": 3
   },
   "file_extension": ".py",
   "mimetype": "text/x-python",
   "name": "python",
   "nbconvert_exporter": "python",
   "pygments_lexer": "ipython3",
   "version": "3.8.3"
  }
 },
 "nbformat": 4,
 "nbformat_minor": 4
}
